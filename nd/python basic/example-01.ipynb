{
 "cells": [
  {
   "cell_type": "code",
   "execution_count": 1,
   "metadata": {},
   "outputs": [
    {
     "name": "stdout",
     "output_type": "stream",
     "text": [
      "hello python\n"
     ]
    }
   ],
   "source": [
    "print(\"hello python\")"
   ]
  },
  {
   "cell_type": "code",
   "execution_count": 4,
   "metadata": {},
   "outputs": [],
   "source": [
    "y = int(input())"
   ]
  },
  {
   "cell_type": "code",
   "execution_count": 5,
   "metadata": {},
   "outputs": [
    {
     "data": {
      "text/plain": [
       "19"
      ]
     },
     "execution_count": 5,
     "metadata": {},
     "output_type": "execute_result"
    }
   ],
   "source": [
    "y"
   ]
  },
  {
   "cell_type": "code",
   "execution_count": 6,
   "metadata": {},
   "outputs": [],
   "source": [
    "numbers = [1, 2, 3, 4, 5, 6, 7, 8, 9, 10]"
   ]
  },
  {
   "cell_type": "code",
   "execution_count": 8,
   "metadata": {},
   "outputs": [],
   "source": [
    "n2 = [i * 10 for i in numbers]"
   ]
  },
  {
   "cell_type": "code",
   "execution_count": 9,
   "metadata": {},
   "outputs": [
    {
     "name": "stdout",
     "output_type": "stream",
     "text": [
      "[10, 20, 30, 40, 50, 60, 70, 80, 90, 100]\n"
     ]
    }
   ],
   "source": [
    "print(n2)"
   ]
  },
  {
   "cell_type": "code",
   "execution_count": 10,
   "metadata": {},
   "outputs": [],
   "source": [
    "#로또번호추출기\n",
    "# 1 - 45 사이\n",
    "# 중복 x\n",
    "# 6개\n",
    "# 6개의 평균 10만번반복 -> 20 - 26사이에 나오게 추출"
   ]
  },
  {
   "cell_type": "code",
   "execution_count": 11,
   "metadata": {},
   "outputs": [],
   "source": [
    "import random"
   ]
  },
  {
   "cell_type": "code",
   "execution_count": 12,
   "metadata": {},
   "outputs": [
    {
     "data": {
      "text/plain": [
       "11"
      ]
     },
     "execution_count": 12,
     "metadata": {},
     "output_type": "execute_result"
    }
   ],
   "source": [
    "random.randint(1, 46)"
   ]
  },
  {
   "cell_type": "code",
   "execution_count": 13,
   "metadata": {},
   "outputs": [],
   "source": [
    "a = random.randint(1,46)"
   ]
  },
  {
   "cell_type": "code",
   "execution_count": 14,
   "metadata": {},
   "outputs": [
    {
     "data": {
      "text/plain": [
       "23"
      ]
     },
     "execution_count": 14,
     "metadata": {},
     "output_type": "execute_result"
    }
   ],
   "source": [
    "a"
   ]
  },
  {
   "cell_type": "code",
   "execution_count": 53,
   "metadata": {},
   "outputs": [
    {
     "name": "stdout",
     "output_type": "stream",
     "text": [
      "9\n",
      "[0, 13, 46, 38, 15, 9]\n"
     ]
    }
   ],
   "source": [
    "a = 0\n",
    "b = [0, 1, 2, 3, 4, 5]\n",
    "\n",
    "for i in range(6):\n",
    "    a = random.randint(1, 46)\n",
    "    if a in b:\n",
    "        a = random.randint(1, 46)\n",
    "    else:\n",
    "        b[i] = a\n",
    "print(a)\n",
    "print(b)"
   ]
  },
  {
   "cell_type": "code",
   "execution_count": 62,
   "metadata": {},
   "outputs": [
    {
     "name": "stdout",
     "output_type": "stream",
     "text": [
      "[21, 20, 23, 24, 19, 24, 22, 23, 18, 21]\n"
     ]
    }
   ],
   "source": [
    "a = 0\n",
    "b = [0, 1, 2, 3, 4, 5]\n",
    "c = [0, 1, 2, 3, 4, 5, 6, 7, 8, 9]\n",
    "\n",
    "for i in range(10):\n",
    "    for j in range(6):\n",
    "        a = random.randint(1, 46)\n",
    "        if a in b:\n",
    "            a = random.randint(1, 46)\n",
    "        else:\n",
    "            b[j] = a\n",
    "    c[i] = int(sum(b)/6)\n",
    "\n",
    "print(c)\n"
   ]
  },
  {
   "cell_type": "code",
   "execution_count": 69,
   "metadata": {},
   "outputs": [
    {
     "name": "stdout",
     "output_type": "stream",
     "text": [
      "[24, 28, 23, 28, 17, 28, 27, 13, 21, 28]\n"
     ]
    }
   ],
   "source": [
    "a = 0\n",
    "b = [0, 1, 2, 3, 4, 5]\n",
    "c = []\n",
    "\n",
    "for i in range(10):\n",
    "    for j in range(6):\n",
    "        a = random.randint(1, 46)\n",
    "        if a in b:\n",
    "            continue\n",
    "        else:\n",
    "            b[j] = a\n",
    "    c.append(int(sum(b)/6))\n",
    "print(c)\n"
   ]
  },
  {
   "cell_type": "code",
   "execution_count": 73,
   "metadata": {},
   "outputs": [
    {
     "name": "stdout",
     "output_type": "stream",
     "text": [
      "[35, 11, 46, 37, 29, 7]\n",
      "[26, 42, 33, 3, 25, 45]\n",
      "[9, 30, 44, 29, 27, 22]\n",
      "[46, 39, 33, 8, 29, 6]\n",
      "[10, 45, 14, 33, 3, 35]\n",
      "[37, 13, 31, 39, 21, 42]\n",
      "[30, 13, 33, 2, 31, 15]\n",
      "[26, 46, 18, 8, 16, 17]\n",
      "[32, 7, 11, 37, 21, 4]\n",
      "[32, 41, 28, 37, 33, 34]\n",
      "[26, 26, 23, 20, 21]\n"
     ]
    }
   ],
   "source": [
    "a = 0\n",
    "b = [0, 1, 2, 3, 4, 5]\n",
    "c = []\n",
    "\n",
    "for i in range(10):\n",
    "    for j in range(6):\n",
    "        a = random.randint(1, 46)\n",
    "        if a in b:\n",
    "            continue\n",
    "        else:\n",
    "            b[j] = a\n",
    "    print(b)\n",
    "    if 26 >= int(sum(b)/6) >= 20:\n",
    "        c.append(int(sum(b)/6))\n",
    "print(c)\n"
   ]
  },
  {
   "cell_type": "code",
   "execution_count": 74,
   "metadata": {},
   "outputs": [
    {
     "name": "stdout",
     "output_type": "stream",
     "text": [
      "[6, 40, 38, 46, 29, 38]\n"
     ]
    }
   ],
   "source": [
    "import random\n",
    "\n",
    "numbers = []\n",
    "for idx in range(6):\n",
    "    number = random.randint(1, 46)\n",
    "    numbers.append(number)\n",
    "print(numbers)"
   ]
  },
  {
   "cell_type": "code",
   "execution_count": 75,
   "metadata": {},
   "outputs": [
    {
     "name": "stdout",
     "output_type": "stream",
     "text": [
      "[34, 31, 33, 14, 41, 42]\n"
     ]
    }
   ],
   "source": [
    "import random\n",
    "\n",
    "numbers = []\n",
    "while True:\n",
    "\n",
    "    number = random.randint(1, 46)\n",
    "    if number not in numbers:\n",
    "        numbers.append(number)\n",
    "    if len(numbers) == 6:\n",
    "        break\n",
    "print(numbers)"
   ]
  },
  {
   "cell_type": "code",
   "execution_count": 76,
   "metadata": {},
   "outputs": [
    {
     "name": "stdout",
     "output_type": "stream",
     "text": [
      "[36, 39, 33, 16, 4, 40]\n"
     ]
    }
   ],
   "source": [
    "import random\n",
    "\n",
    "numbers = []\n",
    "while True:\n",
    "\n",
    "    number = random.randint(1, 46)\n",
    "    if number not in numbers:\n",
    "        numbers.append(number)\n",
    "# 중복발생시 처음부터 다시뽑기\n",
    "#    else:\n",
    "#        numbers = []\n",
    "\n",
    "    if len(numbers) == 6:\n",
    "        break\n",
    "print(numbers)"
   ]
  },
  {
   "cell_type": "code",
   "execution_count": 88,
   "metadata": {},
   "outputs": [
    {
     "name": "stdout",
     "output_type": "stream",
     "text": [
      "[1, 20, 29, 34, 36, 40] 26\n"
     ]
    }
   ],
   "source": [
    "import random\n",
    "\n",
    "numbers = []\n",
    "while True:\n",
    "    while True:\n",
    "\n",
    "        number = random.randint(1, 45)\n",
    "        if number not in numbers:\n",
    "            numbers.append(number)\n",
    "\n",
    "    # 중복발생시 처음부터 다시뽑기\n",
    "    #    else:\n",
    "    #        numbers = []\n",
    "\n",
    "        if len(numbers) == 6:\n",
    "            break\n",
    "    mean = sum(numbers) // len(numbers)\n",
    "    if mean >= 20 and mean <= 26:\n",
    "        break\n",
    "    numbers = []\n",
    "numbers.sort()\n",
    "print(numbers, mean)\n",
    "\n"
   ]
  },
  {
   "cell_type": "code",
   "execution_count": null,
   "metadata": {},
   "outputs": [],
   "source": [
    "import random\n",
    "\n",
    "numbers = []\n",
    "while True:\n",
    "    while True:\n",
    "\n",
    "        number = random.randint(1, 45)\n",
    "        if number not in numbers:\n",
    "            numbers.append(number)\n",
    "\n",
    "    # 중복발생시 처음부터 다시뽑기\n",
    "    #    else:\n",
    "    #        numbers = []\n",
    "\n",
    "        if len(numbers) == 6:\n",
    "            break\n",
    "    mean = sum(numbers) // len(numbers)\n",
    "    if mean >= 20 and mean <= 26:\n",
    "        break\n",
    "    numbers = []\n",
    "numbers.sort()\n",
    "print(numbers, mean)\n",
    "\n"
   ]
  },
  {
   "cell_type": "code",
   "execution_count": 92,
   "metadata": {},
   "outputs": [],
   "source": [
    "import random\n",
    "\n",
    "def select_basic_numbers():\n",
    "    numbers = []\n",
    "    while True:\n",
    "        number = random.randint(1, 45)\n",
    "        if number not in numbers:\n",
    "            numbers.append(number)\n",
    "        if len(numbers) == 6:\n",
    "              break\n",
    "    return numbers"
   ]
  },
  {
   "cell_type": "code",
   "execution_count": 95,
   "metadata": {},
   "outputs": [
    {
     "name": "stdout",
     "output_type": "stream",
     "text": [
      "[7, 19, 20, 26, 31, 32] 22.5\n"
     ]
    }
   ],
   "source": [
    "import random\n",
    "\n",
    "numbers = None\n",
    "while True:\n",
    "    numbers = select_basic_numbers()\n",
    "    mean = sum(numbers) / len(numbers)\n",
    "    if mean >= 20 and mean <= 26:\n",
    "        break\n",
    "\n",
    "    \n",
    "numbers.sort()\n",
    "print(numbers, mean)\n",
    "\n"
   ]
  },
  {
   "cell_type": "code",
   "execution_count": null,
   "metadata": {},
   "outputs": [],
   "source": []
  }
 ],
 "metadata": {
  "kernelspec": {
   "display_name": "human-da-env",
   "language": "python",
   "name": "python3"
  },
  "language_info": {
   "codemirror_mode": {
    "name": "ipython",
    "version": 3
   },
   "file_extension": ".py",
   "mimetype": "text/x-python",
   "name": "python",
   "nbconvert_exporter": "python",
   "pygments_lexer": "ipython3",
   "version": "3.12.7"
  }
 },
 "nbformat": 4,
 "nbformat_minor": 2
}
