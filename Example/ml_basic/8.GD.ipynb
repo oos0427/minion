{
 "cells": [
  {
   "cell_type": "code",
   "execution_count": 22,
   "metadata": {},
   "outputs": [],
   "source": [
    "import pandas as pd\n",
    "import numpy as np\n",
    "import matplotlib.pyplot as plt\n",
    "from sklearn.datasets import load_wine, load_iris"
   ]
  },
  {
   "cell_type": "code",
   "execution_count": 23,
   "metadata": {},
   "outputs": [],
   "source": [
    "class GD:\n",
    "\n",
    "    def __init__(self, eta, n_iter): # 초기화함수 : 개체 생성할 때 자동 호출\n",
    "        self.eta = eta #가중치 갱신 비율\n",
    "        self.n_iter = n_iter # 학습 반복 횟수\n",
    "        \n",
    "    def net_input(self, x):\n",
    "        return np.dot(x, self.w[1:] ) + self.w[0] # x1 * w1 ..... xn * wn + b(w0)\n",
    "        \n",
    "\n",
    "    def activation(self, x):\n",
    "        return self.net_input(x) # 항등함수 : 입력값 그대로 활성화 출력\n",
    "    \n",
    "    def predict(self, x):\n",
    "        output = self.activation(x)\n",
    "        return np.where(output > 0, 1, -1)\n",
    "    \n",
    "    def fit(self, x, y):\n",
    "            self.w = np.zeros(x.shape[1] + 1) # X.shape : 2차원 배열의 열 갯수\n",
    "            self.cost = [] # 오차배열 만들기 (오차로그용)\n",
    "\n",
    "            for idx in np.arange(self.n_iter): # 학습 반복\n",
    "                output = self.activation(x) # net_input + activation -> 1 or -1 반환\n",
    "                errors = y - output      # 오차 계산 (실제값 - 출력값)\n",
    "                delta = self.eta * x.T.dot(errors)     # 학습률 * 기울기(편미분)\n",
    "                self.w[1:] += delta     # 가중치 업데이트\n",
    "                self.w[0] += self.eta * errors.sum()      # 가중치(편향) 업데이트\n",
    "                self.cost.append( (errors**2).sum() )\n",
    "                \n",
    "            return self\n",
    "               \n"
   ]
  },
  {
   "cell_type": "code",
   "execution_count": 24,
   "metadata": {},
   "outputs": [],
   "source": [
    "model = GD(eta= 0.00001, n_iter= 5000) # GD객체(인스턴스) 만들기"
   ]
  },
  {
   "cell_type": "code",
   "execution_count": 25,
   "metadata": {},
   "outputs": [
    {
     "data": {
      "text/plain": [
       "array([ 1,  1,  1,  1,  1,  1,  1,  1,  1,  1,  1,  1,  1,  1,  1,  1,  1,\n",
       "        1,  1,  1,  1,  1,  1,  1,  1,  1,  1,  1,  1,  1,  1,  1,  1,  1,\n",
       "        1,  1,  1,  1,  1,  1,  1,  1,  1,  1,  1,  1,  1,  1,  1,  1, -1,\n",
       "       -1, -1, -1, -1, -1, -1, -1, -1, -1, -1, -1, -1, -1, -1, -1, -1, -1,\n",
       "       -1, -1, -1, -1, -1, -1, -1, -1, -1, -1, -1, -1, -1, -1, -1, -1, -1,\n",
       "       -1, -1, -1, -1, -1, -1, -1, -1, -1, -1, -1, -1, -1, -1, -1])"
      ]
     },
     "execution_count": 25,
     "metadata": {},
     "output_type": "execute_result"
    }
   ],
   "source": [
    "df_iris = load_iris()\n",
    "x = df_iris['data'][:100]\n",
    "y = df_iris['target'][:100]\n",
    "y = np.where(y == 0, 1, -1)\n",
    "y\n"
   ]
  },
  {
   "cell_type": "code",
   "execution_count": 26,
   "metadata": {},
   "outputs": [
    {
     "data": {
      "text/plain": [
       "<__main__.GD at 0x1ca968d6510>"
      ]
     },
     "execution_count": 26,
     "metadata": {},
     "output_type": "execute_result"
    }
   ],
   "source": [
    "model.fit(x, y)"
   ]
  },
  {
   "cell_type": "code",
   "execution_count": 27,
   "metadata": {},
   "outputs": [
    {
     "data": {
      "text/plain": [
       "array([ 0.07055571,  0.10562385,  0.35424752, -0.54202746, -0.25106858])"
      ]
     },
     "execution_count": 27,
     "metadata": {},
     "output_type": "execute_result"
    }
   ],
   "source": [
    "model.w"
   ]
  },
  {
   "cell_type": "code",
   "execution_count": 30,
   "metadata": {},
   "outputs": [
    {
     "data": {
      "text/plain": [
       "([np.float64(100.0),\n",
       "  np.float64(99.48959321565404),\n",
       "  np.float64(98.99539307141738),\n",
       "  np.float64(98.51593613603924),\n",
       "  np.float64(98.0499022784305)],\n",
       " [np.float64(3.847519833782483),\n",
       "  np.float64(3.8475142231228863),\n",
       "  np.float64(3.847508612752813),\n",
       "  np.float64(3.847503002672215),\n",
       "  np.float64(3.847497392881042)])"
      ]
     },
     "execution_count": 30,
     "metadata": {},
     "output_type": "execute_result"
    }
   ],
   "source": [
    "model.cost[:5], model.cost[-5:]"
   ]
  },
  {
   "cell_type": "code",
   "execution_count": 31,
   "metadata": {},
   "outputs": [
    {
     "name": "stdout",
     "output_type": "stream",
     "text": [
      "Accuracy: 1.0\n"
     ]
    }
   ],
   "source": [
    "correct = []\n",
    "for idx in range(x.shape[0]):\n",
    "    pv = model.predict(x[idx])\n",
    "    correct.append(pv == y[idx])\n",
    "\n",
    "print( \"Accuracy: {0}\".format( np.mean(correct) ) )"
   ]
  },
  {
   "cell_type": "code",
   "execution_count": 36,
   "metadata": {},
   "outputs": [
    {
     "data": {
      "image/png": "[encoded data removed]",
      "text/plain": [
       "<Figure size 640x480 with 1 Axes>"
      ]
     },
     "metadata": {},
     "output_type": "display_data"
    }
   ],
   "source": [
    "#plt.plot(np.arange(len(model.cost)), model.cost)\n",
    "plt.plot(np.arange(0, len(model.cost[-1000:])), model.cost[-1000:])\n",
    "plt.show()"
   ]
  },
  {
   "cell_type": "code",
   "execution_count": null,
   "metadata": {},
   "outputs": [],
   "source": []
  }
 ],
 "metadata": {
  "kernelspec": {
   "display_name": "human-da-env",
   "language": "python",
   "name": "python3"
  },
  "language_info": {
   "codemirror_mode": {
    "name": "ipython",
    "version": 3
   },
   "file_extension": ".py",
   "mimetype": "text/x-python",
   "name": "python",
   "nbconvert_exporter": "python",
   "pygments_lexer": "ipython3",
   "version": "3.12.7"
  }
 },
 "nbformat": 4,
 "nbformat_minor": 2
}
