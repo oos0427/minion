{
 "cells": [
  {
   "cell_type": "code",
   "execution_count": 1,
   "metadata": {},
   "outputs": [],
   "source": [
    "import pandas as pd\n",
    "from io import StringIO"
   ]
  },
  {
   "cell_type": "code",
   "execution_count": 2,
   "metadata": {},
   "outputs": [
    {
     "data": {
      "text/html": [
       "<div>\n",
       "<style scoped>\n",
       "    .dataframe tbody tr th:only-of-type {\n",
       "        vertical-align: middle;\n",
       "    }\n",
       "\n",
       "    .dataframe tbody tr th {\n",
       "        vertical-align: top;\n",
       "    }\n",
       "\n",
       "    .dataframe thead th {\n",
       "        text-align: right;\n",
       "    }\n",
       "</style>\n",
       "<table border=\"1\" class=\"dataframe\">\n",
       "  <thead>\n",
       "    <tr style=\"text-align: right;\">\n",
       "      <th></th>\n",
       "      <th>A</th>\n",
       "      <th>B</th>\n",
       "      <th>C</th>\n",
       "      <th>D</th>\n",
       "    </tr>\n",
       "  </thead>\n",
       "  <tbody>\n",
       "    <tr>\n",
       "      <th>0</th>\n",
       "      <td>1.0</td>\n",
       "      <td>2.0</td>\n",
       "      <td>3.0</td>\n",
       "      <td>4.0</td>\n",
       "    </tr>\n",
       "    <tr>\n",
       "      <th>1</th>\n",
       "      <td>5.0</td>\n",
       "      <td>6.0</td>\n",
       "      <td>NaN</td>\n",
       "      <td>8.0</td>\n",
       "    </tr>\n",
       "    <tr>\n",
       "      <th>2</th>\n",
       "      <td>9.0</td>\n",
       "      <td>10.0</td>\n",
       "      <td>11.0</td>\n",
       "      <td>NaN</td>\n",
       "    </tr>\n",
       "  </tbody>\n",
       "</table>\n",
       "</div>"
      ],
      "text/plain": [
       "     A     B     C    D\n",
       "0  1.0   2.0   3.0  4.0\n",
       "1  5.0   6.0   NaN  8.0\n",
       "2  9.0  10.0  11.0  NaN"
      ]
     },
     "execution_count": 2,
     "metadata": {},
     "output_type": "execute_result"
    }
   ],
   "source": [
    "csv_data = \"\"\"A,B,C,D\n",
    "1.0,2.0,3.0,4.0\n",
    "5.0,6.0,,8.0\n",
    "9.0,10.0,11.0,\n",
    "\"\"\"\n",
    "df = pd.read_csv(StringIO(csv_data))\n",
    "df"
   ]
  },
  {
   "cell_type": "code",
   "execution_count": 8,
   "metadata": {},
   "outputs": [],
   "source": [
    "# df.isnull()\n",
    "# df.isna()\n",
    "# df.notnull()\n",
    "# df.notna()\n",
    "#df.isnull().sum(axis=1) # NA 데이터 포함 여부 (NA → 0)\n",
    "#df.isnull().sum(axis=1).sum() # NA 데이터 포함 여부 (NA → 0)"
   ]
  },
  {
   "cell_type": "code",
   "execution_count": 9,
   "metadata": {},
   "outputs": [
    {
     "name": "stdout",
     "output_type": "stream",
     "text": [
      "<class 'pandas.core.frame.DataFrame'>\n",
      "RangeIndex: 3 entries, 0 to 2\n",
      "Data columns (total 4 columns):\n",
      " #   Column  Non-Null Count  Dtype  \n",
      "---  ------  --------------  -----  \n",
      " 0   A       3 non-null      float64\n",
      " 1   B       3 non-null      float64\n",
      " 2   C       2 non-null      float64\n",
      " 3   D       2 non-null      float64\n",
      "dtypes: float64(4)\n",
      "memory usage: 228.0 bytes\n"
     ]
    }
   ],
   "source": [
    "df.info()"
   ]
  },
  {
   "cell_type": "code",
   "execution_count": 4,
   "metadata": {},
   "outputs": [],
   "source": [
    "# NaN 제거\n",
    "# df.dropna() # NaN이 포함된 모든 행 제거\n",
    "# df.dropna(axis=1) # NaN이 포함된 모든 열 제거\n",
    "# df.dropna(how=\"all\") # 모든 데이터가 NaN인 행 제거 (any or all)\n",
    "# df.dropna(thresh=4) # NaN이 아닌 데이터가 4개 미만인 행 제거\n",
    "# df.dropna(subset=['C']) # C 컬럼에 NaN이 포함된 행 제거"
   ]
  },
  {
   "cell_type": "code",
   "execution_count": 10,
   "metadata": {},
   "outputs": [],
   "source": [
    "from sklearn.impute import SimpleImputer\n",
    "import numpy as np"
   ]
  },
  {
   "cell_type": "code",
   "execution_count": 11,
   "metadata": {},
   "outputs": [
    {
     "name": "stderr",
     "output_type": "stream",
     "text": [
      "c:\\Dev\\Python312\\Lib\\site-packages\\sklearn\\base.py:493: UserWarning: X does not have valid feature names, but SimpleImputer was fitted with feature names\n",
      "  warnings.warn(\n"
     ]
    },
    {
     "data": {
      "text/plain": [
       "array([[  1.,   2.,   3.,   4.],\n",
       "       [  5.,   6., 100.,   8.],\n",
       "       [  9.,  10.,  11., 100.]])"
      ]
     },
     "execution_count": 11,
     "metadata": {},
     "output_type": "execute_result"
    }
   ],
   "source": [
    "simr = SimpleImputer(missing_values=np.nan, strategy=\"constant\",\n",
    "fill_value=100) # strategy : mean, most_frequent, median\n",
    "simr = simr.fit(df)\n",
    "imputed_data = simr.transform(df.values)\n",
    "imputed_data"
   ]
  },
  {
   "cell_type": "code",
   "execution_count": 18,
   "metadata": {},
   "outputs": [
    {
     "name": "stdout",
     "output_type": "stream",
     "text": [
      "Column names: Index(['fixed acidity', 'volatile acidity', 'citric acid', 'residual sugar',\n",
      "       'chlorides', 'free sulfur dioxide', 'total sulfur dioxide', 'density',\n",
      "       'pH', 'sulphates', 'alcohol', 'quality'],\n",
      "      dtype='object')\n",
      "Number of columns: 12\n",
      "Class labels: [ 3.8   3.9   4.2   4.4   4.5   4.6   4.7   4.8   4.9   5.    5.1   5.2\n",
      "  5.3   5.4   5.5   5.6   5.7   5.8   5.9   6.    6.1   6.15  6.2   6.3\n",
      "  6.4   6.45  6.5   6.6   6.7   6.8   6.9   7.    7.1   7.15  7.2   7.3\n",
      "  7.4   7.5   7.6   7.7   7.8   7.9   8.    8.1   8.2   8.3   8.4   8.5\n",
      "  8.6   8.7   8.8   8.9   9.    9.1   9.2   9.3   9.4   9.5   9.6   9.7\n",
      "  9.8   9.9  10.   10.2  10.3  10.7  11.8  14.2 ]\n"
     ]
    },
    {
     "data": {
      "text/html": [
       "<div>\n",
       "<style scoped>\n",
       "    .dataframe tbody tr th:only-of-type {\n",
       "        vertical-align: middle;\n",
       "    }\n",
       "\n",
       "    .dataframe tbody tr th {\n",
       "        vertical-align: top;\n",
       "    }\n",
       "\n",
       "    .dataframe thead th {\n",
       "        text-align: right;\n",
       "    }\n",
       "</style>\n",
       "<table border=\"1\" class=\"dataframe\">\n",
       "  <thead>\n",
       "    <tr style=\"text-align: right;\">\n",
       "      <th></th>\n",
       "      <th>Class label</th>\n",
       "      <th>Alcohol</th>\n",
       "      <th>Malic acid</th>\n",
       "      <th>Ash</th>\n",
       "      <th>Alcalinity of ash</th>\n",
       "      <th>Magnesium</th>\n",
       "      <th>Total phenols</th>\n",
       "      <th>Flavanoids</th>\n",
       "      <th>Nonflavanoid phenols</th>\n",
       "      <th>Proanthocyanins</th>\n",
       "      <th>Color intensity</th>\n",
       "      <th>Hue</th>\n",
       "    </tr>\n",
       "  </thead>\n",
       "  <tbody>\n",
       "    <tr>\n",
       "      <th>0</th>\n",
       "      <td>7.0</td>\n",
       "      <td>0.27</td>\n",
       "      <td>0.36</td>\n",
       "      <td>20.7</td>\n",
       "      <td>0.045</td>\n",
       "      <td>45.0</td>\n",
       "      <td>170.0</td>\n",
       "      <td>1.0010</td>\n",
       "      <td>3.00</td>\n",
       "      <td>0.45</td>\n",
       "      <td>8.8</td>\n",
       "      <td>6</td>\n",
       "    </tr>\n",
       "    <tr>\n",
       "      <th>1</th>\n",
       "      <td>6.3</td>\n",
       "      <td>0.30</td>\n",
       "      <td>0.34</td>\n",
       "      <td>1.6</td>\n",
       "      <td>0.049</td>\n",
       "      <td>14.0</td>\n",
       "      <td>132.0</td>\n",
       "      <td>0.9940</td>\n",
       "      <td>3.30</td>\n",
       "      <td>0.49</td>\n",
       "      <td>9.5</td>\n",
       "      <td>6</td>\n",
       "    </tr>\n",
       "    <tr>\n",
       "      <th>2</th>\n",
       "      <td>8.1</td>\n",
       "      <td>0.28</td>\n",
       "      <td>0.40</td>\n",
       "      <td>6.9</td>\n",
       "      <td>0.050</td>\n",
       "      <td>30.0</td>\n",
       "      <td>97.0</td>\n",
       "      <td>0.9951</td>\n",
       "      <td>3.26</td>\n",
       "      <td>0.44</td>\n",
       "      <td>10.1</td>\n",
       "      <td>6</td>\n",
       "    </tr>\n",
       "    <tr>\n",
       "      <th>3</th>\n",
       "      <td>7.2</td>\n",
       "      <td>0.23</td>\n",
       "      <td>0.32</td>\n",
       "      <td>8.5</td>\n",
       "      <td>0.058</td>\n",
       "      <td>47.0</td>\n",
       "      <td>186.0</td>\n",
       "      <td>0.9956</td>\n",
       "      <td>3.19</td>\n",
       "      <td>0.40</td>\n",
       "      <td>9.9</td>\n",
       "      <td>6</td>\n",
       "    </tr>\n",
       "    <tr>\n",
       "      <th>4</th>\n",
       "      <td>7.2</td>\n",
       "      <td>0.23</td>\n",
       "      <td>0.32</td>\n",
       "      <td>8.5</td>\n",
       "      <td>0.058</td>\n",
       "      <td>47.0</td>\n",
       "      <td>186.0</td>\n",
       "      <td>0.9956</td>\n",
       "      <td>3.19</td>\n",
       "      <td>0.40</td>\n",
       "      <td>9.9</td>\n",
       "      <td>6</td>\n",
       "    </tr>\n",
       "  </tbody>\n",
       "</table>\n",
       "</div>"
      ],
      "text/plain": [
       "   Class label  Alcohol  Malic acid   Ash  Alcalinity of ash  Magnesium  \\\n",
       "0          7.0     0.27        0.36  20.7              0.045       45.0   \n",
       "1          6.3     0.30        0.34   1.6              0.049       14.0   \n",
       "2          8.1     0.28        0.40   6.9              0.050       30.0   \n",
       "3          7.2     0.23        0.32   8.5              0.058       47.0   \n",
       "4          7.2     0.23        0.32   8.5              0.058       47.0   \n",
       "\n",
       "   Total phenols  Flavanoids  Nonflavanoid phenols  Proanthocyanins  \\\n",
       "0          170.0      1.0010                  3.00             0.45   \n",
       "1          132.0      0.9940                  3.30             0.49   \n",
       "2           97.0      0.9951                  3.26             0.44   \n",
       "3          186.0      0.9956                  3.19             0.40   \n",
       "4          186.0      0.9956                  3.19             0.40   \n",
       "\n",
       "   Color intensity  Hue  \n",
       "0              8.8    6  \n",
       "1              9.5    6  \n",
       "2             10.1    6  \n",
       "3              9.9    6  \n",
       "4              9.9    6  "
      ]
     },
     "execution_count": 18,
     "metadata": {},
     "output_type": "execute_result"
    }
   ],
   "source": [
    "import pandas as pd\n",
    "import numpy as np\n",
    "\n",
    "# CSV 파일을 읽어오면서 구분자를 지정\n",
    "df_wine = pd.read_csv(\"winequality-white.csv\", sep=\";\")\n",
    "\n",
    "# 실제 열 이름을 확인\n",
    "print(\"Column names:\", df_wine.columns)\n",
    "print(\"Number of columns:\", len(df_wine.columns))\n",
    "\n",
    "# 필요한 경우 열 이름 목록을 실제 열 개수에 맞게 조정\n",
    "# 예시로 12개의 열 이름을 지정한 경우:\n",
    "df_wine.columns = ['Class label', 'Alcohol', 'Malic acid', 'Ash',\n",
    "                   'Alcalinity of ash', 'Magnesium', 'Total phenols',\n",
    "                   'Flavanoids', 'Nonflavanoid phenols', 'Proanthocyanins',\n",
    "                   'Color intensity', 'Hue']  # 열 개수에 맞게 조정하세요\n",
    "\n",
    "# Class label 열의 고유값 출력\n",
    "print('Class labels:', np.unique(df_wine['Class label']))\n",
    "\n",
    "# 데이터프레임 상위 5개 행 출력\n",
    "df_wine.head()\n"
   ]
  },
  {
   "cell_type": "code",
   "execution_count": null,
   "metadata": {},
   "outputs": [
    {
     "name": "stdout",
     "output_type": "stream",
     "text": [
      "[[7.000e+00 2.700e-01 3.600e-01 2.070e+01 4.500e-02 4.500e+01 1.700e+02\n",
      "  1.001e+00 3.000e+00 4.500e-01 8.800e+00]\n",
      " [6.300e+00 3.000e-01 3.400e-01 1.600e+00 4.900e-02 1.400e+01 1.320e+02\n",
      "  9.940e-01 3.300e+00 4.900e-01 9.500e+00]\n",
      " [8.100e+00 2.800e-01 4.000e-01 6.900e+00 5.000e-02 3.000e+01 9.700e+01\n",
      "  9.951e-01 3.260e+00 4.400e-01 1.010e+01]\n",
      " [7.200e+00 2.300e-01 3.200e-01 8.500e+00 5.800e-02 4.700e+01 1.860e+02\n",
      "  9.956e-01 3.190e+00 4.000e-01 9.900e+00]\n",
      " [7.200e+00 2.300e-01 3.200e-01 8.500e+00 5.800e-02 4.700e+01 1.860e+02\n",
      "  9.956e-01 3.190e+00 4.000e-01 9.900e+00]]\n",
      "**************************************************\n",
      "[[0.30769231 0.18627451 0.21686747 0.30828221 0.10682493 0.14982578\n",
      "  0.37354988 0.26778485 0.25454545 0.26744186 0.12903226]\n",
      " [0.24038462 0.21568627 0.20481928 0.01533742 0.11869436 0.04181185\n",
      "  0.28538283 0.13283208 0.52727273 0.31395349 0.24193548]\n",
      " [0.41346154 0.19607843 0.24096386 0.09662577 0.12166172 0.09756098\n",
      "  0.20417633 0.15403894 0.49090909 0.25581395 0.33870968]\n",
      " [0.32692308 0.14705882 0.19277108 0.12116564 0.14540059 0.15679443\n",
      "  0.41067285 0.16367843 0.42727273 0.20930233 0.30645161]\n",
      " [0.32692308 0.14705882 0.19277108 0.12116564 0.14540059 0.15679443\n",
      "  0.41067285 0.16367843 0.42727273 0.20930233 0.30645161]]\n"
     ]
    }
   ],
   "source": [
    "#정규화 0 ~ 1 사이의 데이터로 변경 \n",
    "\n",
    "from sklearn.preprocessing import MinMaxScaler\n",
    "X = df_wine.iloc[:, :-1].values # 1열을 제외한 나머지 모든 데이터\n",
    "mms = MinMaxScaler()\n",
    "X2 = mms.fit_transform(X)\n",
    "print(X[:5, :])\n",
    "print(\"*\" * 50)\n",
    "print(X2[:5, :])"
   ]
  },
  {
   "cell_type": "code",
   "execution_count": null,
   "metadata": {},
   "outputs": [
    {
     "name": "stdout",
     "output_type": "stream",
     "text": [
      "평균 :  4.49710592253228e-16 1.160543463879298e-17 -1.066249307439105e-16\n",
      "표준편차 :  0.9999999999999999 1.0 0.9999999999999999\n"
     ]
    }
   ],
   "source": [
    "# 정규분포화\n",
    "#▪ 평균과 표준편차를 기준으로 변경\n",
    "#» 평균 0, 표준편차 1인 정규분포로 변경\n",
    "#» 변경후에도 이상치에 대한 유용한 정보 보존\n",
    "\n",
    "from sklearn.preprocessing import StandardScaler\n",
    "ss = StandardScaler()\n",
    "X2 = ss.fit_transform(X)\n",
    "#print(X[:5, :])\n",
    "#print(\"*\" * 50)\n",
    "#print(X2[:5, :])\n",
    "\n",
    "print(\"평균 : \",X2[:, 1].mean(), X2[:, 2].mean(), X2[:, 3].mean() )\n",
    "print(\"표준편차 : \",X2[:, 1].std(), X2[:, 2].std(), X2[:, 3].std() )\n"
   ]
  }
 ],
 "metadata": {
  "kernelspec": {
   "display_name": "Python 3",
   "language": "python",
   "name": "python3"
  },
  "language_info": {
   "codemirror_mode": {
    "name": "ipython",
    "version": 3
   },
   "file_extension": ".py",
   "mimetype": "text/x-python",
   "name": "python",
   "nbconvert_exporter": "python",
   "pygments_lexer": "ipython3",
   "version": "3.12.6"
  }
 },
 "nbformat": 4,
 "nbformat_minor": 2
}
