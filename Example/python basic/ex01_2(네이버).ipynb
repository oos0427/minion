{
 "cells": [
  {
   "cell_type": "code",
   "execution_count": null,
   "metadata": {},
   "outputs": [],
   "source": []
  },
  {
   "cell_type": "code",
   "execution_count": 2,
   "metadata": {},
   "outputs": [
    {
     "name": "stdout",
     "output_type": "stream",
     "text": [
      "{\n",
      "\t\"lastBuildDate\":\"Mon, 21 Oct 2024 17:24:52 +0900\",\n",
      "\t\"total\":1110176,\n",
      "\t\"start\":1,\n",
      "\t\"display\":10,\n",
      "\t\"items\":[\n",
      "\t\t{\n",
      "\t\t\t\"title\":\"엑셀 <b>검색<\\/b> 기능 단축키 <b>단어<\\/b> 찾기 꿀팁\",\n",
      "\t\t\t\"link\":\"https:\\/\\/blog.naver.com\\/wizsun123\\/223516318917\",\n",
      "\t\t\t\"description\":\"엑셀 <b>단어<\\/b> <b>검색<\\/b> 오류 엑셀 <b>검색할<\\/b> 때뿐만 아니라 Excel에서 작업할 때 유의해야하는 점은 바로 표시형식인데요. 데이터 형식이 일치하지 않으면 <b>검색<\\/b>이 제대로 이루어지지 않습니다. 분명 자료에 있는데... \",\n",
      "\t\t\t\"bloggername\":\"정보블로거 위즈썬\",\n",
      "\t\t\t\"bloggerlink\":\"blog.naver.com\\/wizsun123\",\n",
      "\t\t\t\"postdate\":\"20240717\"\n",
      "\t\t},\n",
      "\t\t{\n",
      "\t\t\t\"title\":\"아이폰 사파리 텍스트 찾기 <b>단어<\\/b> <b>검색<\\/b> 방법 정리\",\n",
      "\t\t\t\"link\":\"https:\\/\\/blog.naver.com\\/jhbksgi\\/222982804031\",\n",
      "\t\t\t\"description\":\"아이폰 사파리 크롬 텍스트 찾기 <b>단어<\\/b> <b>검색<\\/b> 방법 정리 글\\/사진 : 곰T 기본적으로 컴퓨터용, 모바일용 Browser에는 '<b>검색<\\/b>' 기능이 있습니다. 그냥 <b>검색<\\/b>(Search)이라고 하면 감이 잘 오지 않을 수 있겠네요. 좀 더... \",\n",
      "\t\t\t\"bloggername\":\"곰T의 IT트러블슈팅\",\n",
      "\t\t\t\"bloggerlink\":\"blog.naver.com\\/jhbksgi\",\n",
      "\t\t\t\"postdate\":\"20230112\"\n",
      "\t\t},\n",
      "\t\t{\n",
      "\t\t\t\"title\":\"웹 페이지 또는 문서에서 <b>단어<\\/b>를 <b>검색<\\/b>하는 3가지 방법\",\n",
      "\t\t\t\"link\":\"https:\\/\\/blog.naver.com\\/iexceller\\/223607573313\",\n",
      "\t\t\t\"description\":\"방법 3: 스마트폰에서 페이지의 <b>단어<\\/b> <b>검색<\\/b>하기 모바일 디바이스에서도 웹페이지나 문서에서 텍스트를 <b>검색<\\/b>하는 것은 매우 쉽습니다. 다음은 Microsoft Edge를 예로 들어 설명한 방법이지만, Chrome, Safari와... \",\n",
      "\t\t\t\"bloggername\":\"엑셀러 권현욱의 Excel & IT 정보\",\n",
      "\t\t\t\"bloggerlink\":\"blog.naver.com\\/iexceller\",\n",
      "\t\t\t\"postdate\":\"20241005\"\n",
      "\t\t},\n",
      "\t\t{\n",
      "\t\t\t\"title\":\"1년 중 ‘와인’ <b>단어<\\/b> <b>검색<\\/b>이 가장 많은 날은?\",\n",
      "\t\t\t\"link\":\"https:\\/\\/blog.naver.com\\/swallow7109\\/223607904752\",\n",
      "\t\t\t\"description\":\"‘와인’ <b>단어<\\/b> <b>검색<\\/b>이 가장 많은 날은? 와인 강의 때문에 매년 데이터를 리뉴얼 하는데 역시 매년 같습니다! 12월 24일 크리스마스 이브. 예상하실 수 있지요?ㅎㅎ 술 강의는 #전재구 #한국음료강사협의회... \",\n",
      "\t\t\t\"bloggername\":\"와인, 칵테일, 위스키 등 술 강의•컨설팅•심사\",\n",
      "\t\t\t\"bloggerlink\":\"blog.naver.com\\/swallow7109\",\n",
      "\t\t\t\"postdate\":\"20241005\"\n",
      "\t\t},\n",
      "\t\t{\n",
      "\t\t\t\"title\":\"english wrod+ disambiguation (구글 <b>검색<\\/b>으로 영어 <b>단어<\\/b>... \",\n",
      "\t\t\t\"link\":\"https:\\/\\/blog.naver.com\\/yugus\\/223525138975\",\n",
      "\t\t\t\"description\":\"한국의 초등학교 용어를 영어 <b>단어<\\/b> <b>검색<\\/b> english word + disambiguation을 해야 하는 용어의 갯수는? 한국어 교과서를 일일이 뒤지지 않아도 찾을 수있다. english word +dismabiguation으로 day 에 최대... \",\n",
      "\t\t\t\"bloggername\":\"blue sole\",\n",
      "\t\t\t\"bloggerlink\":\"blog.naver.com\\/yugus\",\n",
      "\t\t\t\"postdate\":\"20240725\"\n",
      "\t\t},\n",
      "\t\t{\n",
      "\t\t\t\"title\":\"AP. 엑셀 <b>단어<\\/b><b>검색<\\/b> 함수 SEARCH 함수, ISNUMBER 함수\",\n",
      "\t\t\t\"link\":\"https:\\/\\/blog.naver.com\\/jdkim0521\\/223321645575\",\n",
      "\t\t\t\"description\":\"'<b>검색<\\/b><b>단어<\\/b>'에 <b>검색<\\/b>을 해서 구분에 표기를 하려고 하는거에요!! SEARCH 함수 텍스트 <b>검색<\\/b>을 하는 함수는 딱 2가지를 아시면 됩니다. SEARCH 함수와 ISNUMBER함수를 잘 활용해서 찾아낼 수 있어요! (물론 출력을... \",\n",
      "\t\t\t\"bloggername\":\"발전하는삶살기(재테크,화공,MS,화학,독서)\",\n",
      "\t\t\t\"bloggerlink\":\"blog.naver.com\\/jdkim0521\",\n",
      "\t\t\t\"postdate\":\"20240113\"\n",
      "\t\t},\n",
      "\t\t{\n",
      "\t\t\t\"title\":\"영어<b>단어<\\/b> <b>검색<\\/b>은 꼭 구글을 이용하기 네이버영어사전 vs... \",\n",
      "\t\t\t\"link\":\"https:\\/\\/blog.naver.com\\/rhyrhyrhy\\/222923284547\",\n",
      "\t\t\t\"description\":\"leave 의 뜻이라고 <b>검색<\\/b>이 됩니다. 사실 이 <b>단어<\\/b> 한개 뿐만이 아니라, 이런식으로 네이버 포털<b>검색<\\/b>으로 정확한 의미를 찾을 수 없었던 <b>단어<\\/b>들이 더 있었어요. 0 점대 레벨 도서에 나와있는 <b>단어<\\/b>들, 게다가... \",\n",
      "\t\t\t\"bloggername\":\"키즈 영어서점 중고 영어 원서 전문 (ar가입지사)\",\n",
      "\t\t\t\"bloggerlink\":\"blog.naver.com\\/rhyrhyrhy\",\n",
      "\t\t\t\"postdate\":\"20221108\"\n",
      "\t\t},\n",
      "\t\t{\n",
      "\t\t\t\"title\":\"네이버 블로그 방문자수 늘리기 <b>검색<\\/b> <b>단어<\\/b> 확장 팁\",\n",
      "\t\t\t\"link\":\"https:\\/\\/blog.naver.com\\/gsamo\\/222899718641\",\n",
      "\t\t\t\"description\":\"오늘은 짧고 굵게 네이버 블로그 방문자수 늘리기 팁 <b>검색<\\/b> <b>단어<\\/b> 확장 방법을 공유하도록 하겠습니다. 블로그에 글은 점점 쌓이는데 방문자 수가 늘어나는 것이 더디다면 분명 이 글이 도움 될 테니 끝까지... \",\n",
      "\t\t\t\"bloggername\":\"가볍게 즐기는 IT 정보! 찌로에 PC쌀롱\",\n",
      "\t\t\t\"bloggerlink\":\"blog.naver.com\\/gsamo\",\n",
      "\t\t\t\"postdate\":\"20221014\"\n",
      "\t\t},\n",
      "\t\t{\n",
      "\t\t\t\"title\":\"PDF <b>단어<\\/b><b>검색<\\/b>하는법 알려드립니다\",\n",
      "\t\t\t\"link\":\"https:\\/\\/blog.naver.com\\/yuyu_e\\/223285473271\",\n",
      "\t\t\t\"description\":\"출처 : 구글이미지 Pdf 가 열린 화면에서 편집(edit) 에서 검색(find) 로 이동해주시면 아래와 같이 <b>검색할 단어<\\/b>를 타이핑할 수 있는 창이 챙긴답니다! 출처 : 구글이미지 그 다음 찾을 단어를 입력하시고... \",\n",
      "\t\t\t\"bloggername\":\"유유생각\",\n",
      "\t\t\t\"bloggerlink\":\"blog.naver.com\\/yuyu_e\",\n",
      "\t\t\t\"postdate\":\"20231207\"\n",
      "\t\t},\n",
      "\t\t{\n",
      "\t\t\t\"title\":\"한글 <b>단어<\\/b> <b>검색<\\/b> 활용하기. 단축키. 이렇게 쉬운 방법을 안쓰고... \",\n",
      "\t\t\t\"link\":\"https:\\/\\/blog.naver.com\\/zenither\\/223041954219\",\n",
      "\t\t\t\"description\":\"한글을 그렇게 오래동안 써도 <b>단어<\\/b> <b>검색<\\/b>을 해보지 않았다는 사실을 발견했네요. 바로 ctrl + F 입니다. 대소문자 구별해서 찾기, 띄어쓰기 무시 기능도 있어서 왠만한 <b>단어<\\/b>는 다 찾아집니다. 책 한권의 긴 글을... \",\n",
      "\t\t\t\"bloggername\":\"행동하는 독서\",\n",
      "\t\t\t\"bloggerlink\":\"blog.naver.com\\/zenither\",\n",
      "\t\t\t\"postdate\":\"20230312\"\n",
      "\t\t}\n",
      "\t]\n",
      "}\n"
     ]
    }
   ],
   "source": [
    "# 네이버 검색 API 예제 - 블로그 검색\n",
    "import os\n",
    "import sys\n",
    "import urllib.request\n",
    "client_id = \"kLdWbd9n2e7QikoyGuQB\"\n",
    "client_secret = \"DKU0iUtkA5\"\n",
    "encText = urllib.parse.quote(\"소년이온다\")\n",
    "url = \"https://openapi.naver.com/v1/search/book.json?query=abc&display=50\" + encText # JSON 결과\n",
    "# url = \"https://openapi.naver.com/v1/search/blog.xml?query=\" + encText # XML 결과\n",
    "request = urllib.request.Request(url)\n",
    "request.add_header(\"X-Naver-Client-Id\",client_id)\n",
    "request.add_header(\"X-Naver-Client-Secret\",client_secret)\n",
    "response = urllib.request.urlopen(request)\n",
    "rescode = response.getcode()\n",
    "if(rescode==200):\n",
    "    response_body = response.read()\n",
    "    print(response_body.decode('utf-8'))\n",
    "else:\n",
    "    print(\"Error Code:\" + rescode)"
   ]
  },
  {
   "cell_type": "code",
   "execution_count": 2,
   "metadata": {},
   "outputs": [
    {
     "name": "stdout",
     "output_type": "stream",
     "text": [
      "{\n",
      "\t\"lastBuildDate\":\"Tue, 22 Oct 2024 10:16:14 +0900\",\n",
      "\t\"total\":10,\n",
      "\t\"start\":1,\n",
      "\t\"display\":10,\n",
      "\t\"items\":[\n",
      "\t\t{\n",
      "\t\t\t\"title\":\"소년이 온다 (한강 소설 l 2024년 노벨문학상 수상작가)\",\n",
      "\t\t\t\"link\":\"https:\\/\\/search.shopping.naver.com\\/book\\/catalog\\/32491401626\",\n",
      "\t\t\t\"image\":\"https:\\/\\/shopping-phinf.pstatic.net\\/main_3249140\\/32491401626.20231004072435.jpg\",\n",
      "\t\t\t\"author\":\"한강\",\n",
      "\t\t\t\"discount\":\"13500\",\n",
      "\t\t\t\"publisher\":\"창비\",\n",
      "\t\t\t\"pubdate\":\"20140519\",\n",
      "\t\t\t\"isbn\":\"9788936434120\",\n",
      "\t\t\t\"description\":\"말라파르테 문학상, 만해문학상 수상작 \\n우리 시대의 소설 『소년이 온다』\\n\\n2014년 만해문학상, 2017년 이탈리아 말라파르테 문학상을 수상하고 전세계 20여개국에 번역 출간되며 세계를 사로잡은 우리 시대의 소설 『소년이 온다』.\\n이 작품은 『채식주의자』로 인터내셔널 부커상을 수상한 한강 작가에게 “눈을 뗄 수 없는, 보편적이며 깊은 울림”(뉴욕타임즈), “역사와 인간의 본질을 다룬 충격적이고 도발적인 소설”(가디언), “한강을 뛰어넘은 한강의 소설”(문학평론가 신형철)이라는 찬사를 선사한 작품으로, 그간 많은 독자들에게 광주의 상처를 깨우치고 함께 아파하는 문학적인 헌사로 높은 관심과 찬사를 받아왔다. \\n『소년이 온다』는 ‘상처의 구조에 대한 투시와 천착의 서사’를 통해 한강만이 풀어낼 수 있는 방식으로 1980년 5월을 새롭게 조명하며, 무고한 영혼들의 말을 대신 전하는 듯한 진심 어린 문장들로 5·18 이후를 살고 있는 우리에게 묵직한 질문을 던진다. \\n이 작품은 가장 한국적인 서사로 세계를 사로잡은 한강 문학의 지향점을 보여준다. 인간의 잔혹함과 위대함을 동시에 증언하는 이 충일한 서사는 이렇듯 시공간의 한계를 넘어 인간 역사의 보편성을 보여주며 훼손되지 말아야 할 인간성을 절박하게 복원한다.\"\n",
      "\t\t},\n",
      "\t\t{\n",
      "\t\t\t\"title\":\"소년이 온다 1(큰글자도서) (한강 소설ㅣ2024년 노벨문학상 수상작가)\",\n",
      "\t\t\t\"link\":\"https:\\/\\/search.shopping.naver.com\\/book\\/catalog\\/32497276947\",\n",
      "\t\t\t\"image\":\"https:\\/\\/shopping-phinf.pstatic.net\\/main_3249727\\/32497276947.20240815214654.jpg\",\n",
      "\t\t\t\"author\":\"한강\",\n",
      "\t\t\t\"discount\":\"18050\",\n",
      "\t\t\t\"publisher\":\"창비\",\n",
      "\t\t\t\"pubdate\":\"20170220\",\n",
      "\t\t\t\"isbn\":\"9788936473235\",\n",
      "\t\t\t\"description\":\"『소년이 온다』를 큰글자로 제작한 책으로 소설 전체 중 전반부의 내용을 담고 있습니다.\\n\\n한강을 뛰어넘은 한강의 소설\\n\\n섬세한 감수성과 치밀한 문장으로 인간 존재의 본질을 탐구해온 작가 한강의 여섯번째 장편소설 『소년이 온다』가 출간되었다. 1980년 광주의 5월을 다뤄 창비문학블로그 '창문'에 연재할 당시(2013년 11월~2014년 1월)부터 독자들의 이목을 끌었던 열다섯살 소년의 이야기는 '상처의 구조에 대한 투시와 천착의 서사'를 통해 한강만이 풀어낼 수 있는 방식으로 1980년 5월을 새롭게 조명한다. 한강은 무고한 영혼들의 말을 대신 전하는 듯한 진심 어린 문장들로 어느덧 그 시절을 잊고 무심하게 5ㆍ18 이후를 살고 있는 우리에게 묵직한 질문을 던지고, 여전히 5ㆍ18의 트라우마를 안고 힘겹게 살아가는 사람들을 위무한다. 『소년이 온다』는 광주민주화운동 당시 계엄군에 맞서 싸우던 중학생 동호를 비롯한 주변 인물들과 그후 남겨진 사람들의 고통받는 내면을 생생하게 그려내고, 당시의 처절한 장면들을 핍진하게 묘사하며 지금 \\\"우리가 '붙들어야 할' 역사적 기억이 무엇인지를 절실하게 환기하고 있다(백지연 평론가).\\\" \\\"이 소설을 피해갈 수 없었\\\"고, \\\"이 소설을 통과하지 않고는 어디로도 갈 수 없다고 느꼈\\\"다는 작가 스스로의 고백처럼 이 소설은 소설가 한강의 지금까지의 작품세계를 한단계 끌어올리는, \\\"한강을 뛰어넘은 한강의 소설(신형철 평론가)\\\"이라고 자신 있게 말할 수 있는 작품이다.\"\n",
      "\t\t},\n",
      "\t\t{\n",
      "\t\t\t\"title\":\"소년이 온다 2(큰글자도서) (2024년 노벨문학상 수상작가)\",\n",
      "\t\t\t\"link\":\"https:\\/\\/search.shopping.naver.com\\/book\\/catalog\\/32489353871\",\n",
      "\t\t\t\"image\":\"https:\\/\\/shopping-phinf.pstatic.net\\/main_3248935\\/32489353871.20230725121201.jpg\",\n",
      "\t\t\t\"author\":\"한강\",\n",
      "\t\t\t\"discount\":\"18050\",\n",
      "\t\t\t\"publisher\":\"창비\",\n",
      "\t\t\t\"pubdate\":\"20170220\",\n",
      "\t\t\t\"isbn\":\"9788936473242\",\n",
      "\t\t\t\"description\":\"『소년이 온다』를 큰글자로 제작한 책으로 소설 전체 중 후반부의 내용을 담고 있습니다.\\n\\n한강을 뛰어넘은 한강의 소설\\n\\n섬세한 감수성과 치밀한 문장으로 인간 존재의 본질을 탐구해온 작가 한강의 여섯번째 장편소설 『소년이 온다』가 출간되었다. 1980년 광주의 5월을 다뤄 창비문학블로그 '창문'에 연재할 당시(2013년 11월~2014년 1월)부터 독자들의 이목을 끌었던 열다섯살 소년의 이야기는 '상처의 구조에 대한 투시와 천착의 서사'를 통해 한강만이 풀어낼 수 있는 방식으로 1980년 5월을 새롭게 조명한다. 한강은 무고한 영혼들의 말을 대신 전하는 듯한 진심 어린 문장들로 어느덧 그 시절을 잊고 무심하게 5ㆍ18 이후를 살고 있는 우리에게 묵직한 질문을 던지고, 여전히 5ㆍ18의 트라우마를 안고 힘겹게 살아가는 사람들을 위무한다. 『소년이 온다』는 광주민주화운동 당시 계엄군에 맞서 싸우던 중학생 동호를 비롯한 주변 인물들과 그후 남겨진 사람들의 고통받는 내면을 생생하게 그려내고, 당시의 처절한 장면들을 핍진하게 묘사하며 지금 \\\"우리가 '붙들어야 할' 역사적 기억이 무엇인지를 절실하게 환기하고 있다(백지연 평론가).\\\" \\\"이 소설을 피해갈 수 없었\\\"고, \\\"이 소설을 통과하지 않고는 어디로도 갈 수 없다고 느꼈\\\"다는 작가 스스로의 고백처럼 이 소설은 소설가 한강의 지금까지의 작품세계를 한단계 끌어올리는, \\\"한강을 뛰어넘은 한강의 소설(신형철 평론가)\\\"이라고 자신 있게 말할 수 있는 작품이다.\"\n",
      "\t\t},\n",
      "\t\t{\n",
      "\t\t\t\"title\":\"Human Acts 한강 작가『소년이 온다』 영문판 (영국판) (소년이 온다)\",\n",
      "\t\t\t\"link\":\"https:\\/\\/search.shopping.naver.com\\/book\\/catalog\\/32480599219\",\n",
      "\t\t\t\"image\":\"https:\\/\\/shopping-phinf.pstatic.net\\/main_3248059\\/32480599219.20221229070927.jpg\",\n",
      "\t\t\t\"author\":\"한강\",\n",
      "\t\t\t\"discount\":\"8500\",\n",
      "\t\t\t\"publisher\":\"Granta Books\",\n",
      "\t\t\t\"pubdate\":\"20161103\",\n",
      "\t\t\t\"isbn\":\"9781846275975\",\n",
      "\t\t\t\"description\":\"WINNER OF THE 2024 NOBEL PRIZE IN LITERATURE: a riveting, poetic and unrelentingly powerful work from the author of the 2016 Man Booker International Prize-winning novel The Vegetarian\\n\\nA riveting, poetic and powerful work from the author of the International Booker Prize-winning novel The Vegetarian.\\n\\n'Exquisite, painful and deeply courageous' Philippe Sands, Best Books of the Year, Guardian\\n\\nGwangju, South Korea, 1980. Amid a violent student uprising a young boy named Dong-ho is killed. As his friend searches for Dong-ho's corpse, we also meet an editor struggling against censorship, a prisoner and a factory worker, each suffering from traumatic memories, and Dong-ho's grief-stricken mother. Through their collective heartbreak and acts of hope comes a tale of a brutalised people in search of a voice.\\n\\nA modern classic, Human Acts has been both a controversial bestseller and an award-winning book in Korea, and it confirmed Han Kang as a writer of international importance.\\n\\n'[Han Kang's] way of telling about the events of a 10-day insurgency in Gwangju, South Korea in 1980 and its psychological, spiritual and political aftermath opened my eyes' Susie Orbach, Best Books of the Year, Guardian\"\n",
      "\t\t},\n",
      "\t\t{\n",
      "\t\t\t\"title\":\"Human Acts  한강 작가『소년이 온다』 영문판 (미국판) (소년이 온다)\",\n",
      "\t\t\t\"link\":\"https:\\/\\/search.shopping.naver.com\\/book\\/catalog\\/32483273624\",\n",
      "\t\t\t\"image\":\"https:\\/\\/shopping-phinf.pstatic.net\\/main_3248327\\/32483273624.20221229071529.jpg\",\n",
      "\t\t\t\"author\":\"한강\",\n",
      "\t\t\t\"discount\":\"10000\",\n",
      "\t\t\t\"publisher\":\"Hogarth Press\",\n",
      "\t\t\t\"pubdate\":\"20171017\",\n",
      "\t\t\t\"isbn\":\"9781101906743\",\n",
      "\t\t\t\"description\":\"From the internationally bestselling author of The Vegetarian, a \\\"rare and astonishing\\\" (The Observer) portrait of political unrest and the universal struggle for justice.\\n\\nIn the midst of a violent student uprising in South Korea, a young boy named Dong-ho is shockingly killed.\\nThe story of this tragic episode unfolds in a sequence of interconnected chapters as the victims and the bereaved encounter suppression, denial, and the echoing agony of the massacre. From Dong-ho's best friend who meets his own fateful end; to an editor struggling against censorship; to a prisoner and a factory worker, each suffering from traumatic memories; and to Dong-ho's own grief-stricken mother; and through their collective heartbreak and acts of hope is the tale of a brutalized people in search of a voice.\\nAn award-winning, controversial bestseller, Human Acts is a timeless, pointillist portrait of an historic event with reverberations still being felt today, by turns tracing the harsh reality of oppression and the resounding, extraordinary poetry of humanity.\\nShortlisted for the International Dublin Literary Award\\nAmazon, 100 Best Books of 2017\\nThe Atlantic, \\\"The Best Books We Read in 2017\\\"\\nSan Francisco Chronicle, \\\"Best of 2017: 100 Recommended Books\\\"\\nNPR Book Concierge, 2017's Great Reads\\nLibrary Journal, \\\"Best Books of 2017\\\"\\nHuffington Post, \\\"Best Fiction Books of 2017\\\"\\nMedium, Kong Tsung-gan's \\\"Best Human Rights Books of 2017\\\"\"\n",
      "\t\t},\n",
      "\t\t{\n",
      "\t\t\t\"title\":\"소년이 온다(특별한정판) (한강 소설ㅣ2024년 노벨문학상 수상작가)\",\n",
      "\t\t\t\"link\":\"https:\\/\\/search.shopping.naver.com\\/book\\/catalog\\/32491820253\",\n",
      "\t\t\t\"image\":\"https:\\/\\/shopping-phinf.pstatic.net\\/main_3249182\\/32491820253.20220527025601.jpg\",\n",
      "\t\t\t\"author\":\"한강\",\n",
      "\t\t\t\"discount\":\"0\",\n",
      "\t\t\t\"publisher\":\"창비\",\n",
      "\t\t\t\"pubdate\":\"20200424\",\n",
      "\t\t\t\"isbn\":\"9788936434410\",\n",
      "\t\t\t\"description\":\"고통스럽게 되살려낸 5월 광주\\n\\n한국인 최초 맨부커상 수상작가 한강의 여섯 번째 장편소설 『소년이 온다』. 1980년 5월 18일부터 열흘간 있었던 광주민주화운동 당시의 상황과 그 이후 남겨진 사람들의 이야기를 들려주는 소설이다. 2013년 11월부터 2014년 1월까지 창비문학블로그 ‘창문’에서 연재했던 작품으로 지금까지의 작품세계를 한 단계 끌어올렸다는 평가를 받았다. 철저한 고증과 취재를 통해 저자 특유의 정교하고도 밀도 있는 문장으로 계엄군에 맞서 싸우다 죽음을 맞게 된 중학생 동호와 주변 인물들의 고통 받는 내면을 생생하게 그려냈다.\\n\\n중학교 3학년이던 소년 동호는 친구 정대의 죽음을 목격한 이후 도청 상무관에서 시신들을 관리하는 일을 돕게 된다. 매일같이 합동분향소가 있는 상무관으로 들어오는 시신들을 수습하며 주검들의 말 없는 혼을 위로하기 위해 초를 밝히던 그는 시신들 사이에서 친구 정대의 처참한 죽음을 떠올리며 괴로워한다.\\n\\n그리고 그날, 돌아오라는 엄마와 돌아가라는 형, 누나들의 말을 듣지 않고 동호는 도청에 남는다. 동호와 함께 상무관에서 일하던 형과 누나들은 5·18 이후 경찰에 연행되어 끔찍한 고문을 받으며 살아 있다는 것을 치욕스러운 고통으로 여기거나 일상을 회복할 수 없는 무력감에 빠진다. 저자는 5·18 당시 숨죽이며 고통 받았던 인물들의 숨겨진 이야기를 들려주며 그들의 아픔을 어루만진다. 2017년 이탈리아의 권위 있는 문학상인 말라파르테상 수상작으로 선정되었다.\"\n",
      "\t\t},\n",
      "\t\t{\n",
      "\t\t\t\"title\":\"少年來了【新裝紀念版】 『소년이 온다』 대만판\",\n",
      "\t\t\t\"link\":\"https:\\/\\/search.shopping.naver.com\\/book\\/catalog\\/50836523621\",\n",
      "\t\t\t\"image\":\"https:\\/\\/shopping-phinf.pstatic.net\\/main_5083652\\/50836523621.20241014145503.jpg\",\n",
      "\t\t\t\"author\":\"한강\",\n",
      "\t\t\t\"discount\":\"28900\",\n",
      "\t\t\t\"publisher\":\"漫遊者文化 AzothBooks\",\n",
      "\t\t\t\"pubdate\":\"20230619\",\n",
      "\t\t\t\"isbn\":\"9789864897865\",\n",
      "\t\t\t\"description\":\"한강을 뛰어넘은 한강의 소설\\n억울한 영혼들의 말을 대신 전하는 오월의 노래\\n\\n섬세한 감수성과 치밀한 문장으로 인간 존재의 본질을 탐구해온 작가 한강의 여섯번째 장편소설이다. 1980년 광주의 5월을 다뤄 독자들의 이목을 끌었던 열다섯살 소년의 이야기는 '상처의 구조에 대한 투시와 천착의 서사'를 통해 한강만이 풀어낼 수 있는 방식으로 1980년 5월을 새롭게 조명한다.\\n\\n한강은 무고한 영혼들의 말을 대신 전하는 듯한 진심 어린 문장들로 어느덧 그 시절을 잊고 무심하게 5·18 이후를 살고 있는 우리에게 묵직한 질문을 던지고, 여전히 5·18의 트라우마를 안고 힘겹게 살아가는 사람들을 위무한다.\"\n",
      "\t\t},\n",
      "\t\t{\n",
      "\t\t\t\"title\":\"Celui Qui Revient (한강 - 소년이 온다 프랑스어)\",\n",
      "\t\t\t\"link\":\"https:\\/\\/search.shopping.naver.com\\/book\\/catalog\\/50805045624\",\n",
      "\t\t\t\"image\":\"https:\\/\\/shopping-phinf.pstatic.net\\/main_5080504\\/50805045624.20241012082752.jpg\",\n",
      "\t\t\t\"author\":\"Han Kang\",\n",
      "\t\t\t\"discount\":\"9800\",\n",
      "\t\t\t\"publisher\":\"Points\",\n",
      "\t\t\t\"pubdate\":\"20170824\",\n",
      "\t\t\t\"isbn\":\"9782757868867\",\n",
      "\t\t\t\"description\":\"En ce printemps 1980, un vent de terreur souffle sur la Corée du Sud. La révolte de Gwangju se solde par un massacre sans nom. Dans la ville meurtrie, Tongho erre parmi les cadavres, à la recherche de son ami disparu. Dans une maison d'édition, Kim travaille sur un texte censuré. Dans l'au-delà, Chongdae part retrouver les siens. Et toutes ces âmes tourmentées ne demandent qu'à trouver la paix.\"\n",
      "\t\t},\n",
      "\t\t{\n",
      "\t\t\t\"title\":\"Atti umani (2024 노벨문학상 수상작가 한강 『소년이 온다』 이탈리아어판)\",\n",
      "\t\t\t\"link\":\"https:\\/\\/search.shopping.naver.com\\/book\\/catalog\\/46643001631\",\n",
      "\t\t\t\"image\":\"https:\\/\\/shopping-phinf.pstatic.net\\/main_4664300\\/46643001631.20241015151141.jpg\",\n",
      "\t\t\t\"author\":\"한강\",\n",
      "\t\t\t\"discount\":\"20000\",\n",
      "\t\t\t\"publisher\":\"Adelphi\",\n",
      "\t\t\t\"pubdate\":\"20230505\",\n",
      "\t\t\t\"isbn\":\"9788845937873\",\n",
      "\t\t\t\"description\":\"Una palestra comunale, decine di cadaveri che saturano l’aria di un \\\"orribile tanfo putrido\\\". Siamo a Gwangju, in Corea del Sud, nel maggio 1980: dopo il colpo di Stato di Chun Doo-hwan, in tutto il paese vige la legge marziale. Quando i militari hanno aperto il fuoco su un corteo di protesta è iniziata l’insurrezione, seguita da brutali rappresaglie; \\\"Atti umani\\\" è il coro polifonico dei vivi e dei morti di una carneficina mai veramente narrata in Occidente. Conosciamo il quindicenne Dong-ho, alla ricerca di un amico scomparso; Eun-sook, la redattrice che ha assaggiato il \\\"rullo inchiostratore\\\" della censura e i \\\"sette schiaffi\\\" di un interrogatorio; l’anonimo prigioniero che ha avuto la sfortuna di sopravvivere; la giovane operaia calpestata a sangue da un poliziotto in borghese. Dopo il massacro, ancora anni di carcere, sevizie, delazioni, dinieghi; al volgere del millennio stentate aperture, parziali ammissioni, tardive commemorazioni. Han Kang, con il terso, spietato lirismo della sua scrittura, scruta tante vite dilaniate, racconta oggi l’indicibile, le laceranti dissonanze di un passato che si voleva cancellato.\"\n",
      "\t\t},\n",
      "\t\t{\n",
      "\t\t\t\"title\":\"Human Acts 한강 작가『소년이 온다』 영문판 (영국판)\",\n",
      "\t\t\t\"link\":\"https:\\/\\/search.shopping.naver.com\\/book\\/catalog\\/50797348627\",\n",
      "\t\t\t\"image\":\"https:\\/\\/shopping-phinf.pstatic.net\\/main_5079734\\/50797348627.20241011201607.jpg\",\n",
      "\t\t\t\"author\":\"한강\",\n",
      "\t\t\t\"discount\":\"0\",\n",
      "\t\t\t\"publisher\":\"Granta Books\",\n",
      "\t\t\t\"pubdate\":\"\",\n",
      "\t\t\t\"isbn\":\"9781803512037\",\n",
      "\t\t\t\"description\":\"한강을 뛰어넘은 한강의 소설\\n억울한 영혼들의 말을 대신 전하는 오월의 노래\\n\\n섬세한 감수성과 치밀한 문장으로 인간 존재의 본질을 탐구해온 작가 한강의 여섯번째 장편소설이다. 1980년 광주의 5월을 다뤄 독자들의 이목을 끌었던 열다섯살 소년의 이야기는 '상처의 구조에 대한 투시와 천착의 서사'를 통해 한강만이 풀어낼 수 있는 방식으로 1980년 5월을 새롭게 조명한다.\\n\\n한강은 무고한 영혼들의 말을 대신 전하는 듯한 진심 어린 문장들로 어느덧 그 시절을 잊고 무심하게 5·18 이후를 살고 있는 우리에게 묵직한 질문을 던지고, 여전히 5·18의 트라우마를 안고 힘겹게 살아가는 사람들을 위무한다.\"\n",
      "\t\t}\n",
      "\t]\n",
      "}\n"
     ]
    }
   ],
   "source": [
    "# 네이버 검색 API 예제 - 블로그 검색\n",
    "import os\n",
    "import sys\n",
    "import urllib.request #웹 요청을 전송하고 응답을 수신하는 모듈 ( 브라우저 역활 )\n",
    "\n",
    "#서버로 전송하는 데이터\n",
    "client_id = \"kLdWbd9n2e7QikoyGuQB\"\n",
    "client_secret = \"DKU0iUtkA5\"\n",
    "encText = urllib.parse.quote(\"소년이온다\")\n",
    "# 주소 뒤에 붙은 ?는 데이터를 GET방식으로 보냄\n",
    "url = \"https://openapi.naver.com/v1/search/book.json?query={0}&display={1}\".format(encText, 50) + encText # JSON 결과\n",
    "# url = \"https://openapi.naver.com/v1/search/blog.xml?query=\" + encText # XML 결과\n",
    "request = urllib.request.Request(url)\n",
    "\n",
    "#헤더에 전송데이터를 저장\n",
    "request.add_header(\"X-Naver-Client-Id\",client_id)\n",
    "request.add_header(\"X-Naver-Client-Secret\",client_secret)\n",
    "response = urllib.request.urlopen(request) # 요청 보내기 + 응답 수신\n",
    "rescode = response.getcode() # 응답코드 읽기\n",
    "if(rescode==200): #정상 응답이라면\n",
    "    response_body = response.read() #응답데이터 읽기\n",
    "    print(response_body.decode('utf-8')) # binary 데이터를 utf-8데이터로 변환\n",
    "else:\n",
    "    print(\"Error Code:\" + rescode)"
   ]
  },
  {
   "cell_type": "code",
   "execution_count": 5,
   "metadata": {},
   "outputs": [
    {
     "name": "stdout",
     "output_type": "stream",
     "text": [
      "1번 테스트, 2번 연습\n"
     ]
    }
   ],
   "source": [
    "print(\"1번 {0}, 2번 {1}\".format(\"테스트\", \"연습\"))"
   ]
  },
  {
   "cell_type": "code",
   "execution_count": 1,
   "metadata": {},
   "outputs": [
    {
     "name": "stdout",
     "output_type": "stream",
     "text": [
      "1번연습, 2번테스트\n"
     ]
    }
   ],
   "source": [
    "a = \"연습\"\n",
    "b = \"테스트\"\n",
    "\n",
    "print(f\"1번{a}, 2번{b}\")"
   ]
  },
  {
   "cell_type": "code",
   "execution_count": 3,
   "metadata": {},
   "outputs": [
    {
     "data": {
      "text/plain": [
       "b'{\\n\\t\"lastBuildDate\":\"Tue, 22 Oct 2024 10:16:14 +0900\",\\n\\t\"total\":10,\\n\\t\"start\":1,\\n\\t\"display\":10,\\n\\t\"items\":[\\n\\t\\t{\\n\\t\\t\\t\"title\":\"\\xec\\x86\\x8c\\xeb\\x85\\x84\\xec\\x9d\\xb4 \\xec\\x98\\xa8\\xeb\\x8b\\xa4 (\\xed\\x95\\x9c\\xea\\xb0\\x95 \\xec\\x86\\x8c\\xec\\x84\\xa4 l 2024\\xeb\\x85\\x84 \\xeb\\x85\\xb8\\xeb\\xb2\\xa8\\xeb\\xac\\xb8\\xed\\x95\\x99\\xec\\x83\\x81 \\xec\\x88\\x98\\xec\\x83\\x81\\xec\\x9e\\x91\\xea\\xb0\\x80)\",\\n\\t\\t\\t\"link\":\"https:\\\\/\\\\/search.shopping.naver.com\\\\/book\\\\/catalog\\\\/32491401626\",\\n\\t\\t\\t\"image\":\"https:\\\\/\\\\/shopping-phinf.pstatic.net\\\\/main_3249140\\\\/32491401626.20231004072435.jpg\",\\n\\t\\t\\t\"author\":\"\\xed\\x95\\x9c\\xea\\xb0\\x95\",\\n\\t\\t\\t\"discount\":\"13500\",\\n\\t\\t\\t\"publisher\":\"\\xec\\xb0\\xbd\\xeb\\xb9\\x84\",\\n\\t\\t\\t\"pubdate\":\"20140519\",\\n\\t\\t\\t\"isbn\":\"9788936434120\",\\n\\t\\t\\t\"description\":\"\\xeb\\xa7\\x90\\xeb\\x9d\\xbc\\xed\\x8c\\x8c\\xeb\\xa5\\xb4\\xed\\x85\\x8c \\xeb\\xac\\xb8\\xed\\x95\\x99\\xec\\x83\\x81, \\xeb\\xa7\\x8c\\xed\\x95\\xb4\\xeb\\xac\\xb8\\xed\\x95\\x99\\xec\\x83\\x81 \\xec\\x88\\x98\\xec\\x83\\x81\\xec\\x9e\\x91 \\\\n\\xec\\x9a\\xb0\\xeb\\xa6\\xac \\xec\\x8b\\x9c\\xeb\\x8c\\x80\\xec\\x9d\\x98 \\xec\\x86\\x8c\\xec\\x84\\xa4 \\xe3\\x80\\x8e\\xec\\x86\\x8c\\xeb\\x85\\x84\\xec\\x9d\\xb4 \\xec\\x98\\xa8\\xeb\\x8b\\xa4\\xe3\\x80\\x8f\\\\n\\\\n2014\\xeb\\x85\\x84 \\xeb\\xa7\\x8c\\xed\\x95\\xb4\\xeb\\xac\\xb8\\xed\\x95\\x99\\xec\\x83\\x81, 2017\\xeb\\x85\\x84 \\xec\\x9d\\xb4\\xed\\x83\\x88\\xeb\\xa6\\xac\\xec\\x95\\x84 \\xeb\\xa7\\x90\\xeb\\x9d\\xbc\\xed\\x8c\\x8c\\xeb\\xa5\\xb4\\xed\\x85\\x8c \\xeb\\xac\\xb8\\xed\\x95\\x99\\xec\\x83\\x81\\xec\\x9d\\x84 \\xec\\x88\\x98\\xec\\x83\\x81\\xed\\x95\\x98\\xea\\xb3\\xa0 \\xec\\xa0\\x84\\xec\\x84\\xb8\\xea\\xb3\\x84 20\\xec\\x97\\xac\\xea\\xb0\\x9c\\xea\\xb5\\xad\\xec\\x97\\x90 \\xeb\\xb2\\x88\\xec\\x97\\xad \\xec\\xb6\\x9c\\xea\\xb0\\x84\\xeb\\x90\\x98\\xeb\\xa9\\xb0 \\xec\\x84\\xb8\\xea\\xb3\\x84\\xeb\\xa5\\xbc \\xec\\x82\\xac\\xeb\\xa1\\x9c\\xec\\x9e\\xa1\\xec\\x9d\\x80 \\xec\\x9a\\xb0\\xeb\\xa6\\xac \\xec\\x8b\\x9c\\xeb\\x8c\\x80\\xec\\x9d\\x98 \\xec\\x86\\x8c\\xec\\x84\\xa4 \\xe3\\x80\\x8e\\xec\\x86\\x8c\\xeb\\x85\\x84\\xec\\x9d\\xb4 \\xec\\x98\\xa8\\xeb\\x8b\\xa4\\xe3\\x80\\x8f.\\\\n\\xec\\x9d\\xb4 \\xec\\x9e\\x91\\xed\\x92\\x88\\xec\\x9d\\x80 \\xe3\\x80\\x8e\\xec\\xb1\\x84\\xec\\x8b\\x9d\\xec\\xa3\\xbc\\xec\\x9d\\x98\\xec\\x9e\\x90\\xe3\\x80\\x8f\\xeb\\xa1\\x9c \\xec\\x9d\\xb8\\xed\\x84\\xb0\\xeb\\x82\\xb4\\xec\\x85\\x94\\xeb\\x84\\x90 \\xeb\\xb6\\x80\\xec\\xbb\\xa4\\xec\\x83\\x81\\xec\\x9d\\x84 \\xec\\x88\\x98\\xec\\x83\\x81\\xed\\x95\\x9c \\xed\\x95\\x9c\\xea\\xb0\\x95 \\xec\\x9e\\x91\\xea\\xb0\\x80\\xec\\x97\\x90\\xea\\xb2\\x8c \\xe2\\x80\\x9c\\xeb\\x88\\x88\\xec\\x9d\\x84 \\xeb\\x97\\x84 \\xec\\x88\\x98 \\xec\\x97\\x86\\xeb\\x8a\\x94, \\xeb\\xb3\\xb4\\xed\\x8e\\xb8\\xec\\xa0\\x81\\xec\\x9d\\xb4\\xeb\\xa9\\xb0 \\xea\\xb9\\x8a\\xec\\x9d\\x80 \\xec\\x9a\\xb8\\xeb\\xa6\\xbc\\xe2\\x80\\x9d(\\xeb\\x89\\xb4\\xec\\x9a\\x95\\xed\\x83\\x80\\xec\\x9e\\x84\\xec\\xa6\\x88), \\xe2\\x80\\x9c\\xec\\x97\\xad\\xec\\x82\\xac\\xec\\x99\\x80 \\xec\\x9d\\xb8\\xea\\xb0\\x84\\xec\\x9d\\x98 \\xeb\\xb3\\xb8\\xec\\xa7\\x88\\xec\\x9d\\x84 \\xeb\\x8b\\xa4\\xeb\\xa3\\xac \\xec\\xb6\\xa9\\xea\\xb2\\xa9\\xec\\xa0\\x81\\xec\\x9d\\xb4\\xea\\xb3\\xa0 \\xeb\\x8f\\x84\\xeb\\xb0\\x9c\\xec\\xa0\\x81\\xec\\x9d\\xb8 \\xec\\x86\\x8c\\xec\\x84\\xa4\\xe2\\x80\\x9d(\\xea\\xb0\\x80\\xeb\\x94\\x94\\xec\\x96\\xb8), \\xe2\\x80\\x9c\\xed\\x95\\x9c\\xea\\xb0\\x95\\xec\\x9d\\x84 \\xeb\\x9b\\xb0\\xec\\x96\\xb4\\xeb\\x84\\x98\\xec\\x9d\\x80 \\xed\\x95\\x9c\\xea\\xb0\\x95\\xec\\x9d\\x98 \\xec\\x86\\x8c\\xec\\x84\\xa4\\xe2\\x80\\x9d(\\xeb\\xac\\xb8\\xed\\x95\\x99\\xed\\x8f\\x89\\xeb\\xa1\\xa0\\xea\\xb0\\x80 \\xec\\x8b\\xa0\\xed\\x98\\x95\\xec\\xb2\\xa0)\\xec\\x9d\\xb4\\xeb\\x9d\\xbc\\xeb\\x8a\\x94 \\xec\\xb0\\xac\\xec\\x82\\xac\\xeb\\xa5\\xbc \\xec\\x84\\xa0\\xec\\x82\\xac\\xed\\x95\\x9c \\xec\\x9e\\x91\\xed\\x92\\x88\\xec\\x9c\\xbc\\xeb\\xa1\\x9c, \\xea\\xb7\\xb8\\xea\\xb0\\x84 \\xeb\\xa7\\x8e\\xec\\x9d\\x80 \\xeb\\x8f\\x85\\xec\\x9e\\x90\\xeb\\x93\\xa4\\xec\\x97\\x90\\xea\\xb2\\x8c \\xea\\xb4\\x91\\xec\\xa3\\xbc\\xec\\x9d\\x98 \\xec\\x83\\x81\\xec\\xb2\\x98\\xeb\\xa5\\xbc \\xea\\xb9\\xa8\\xec\\x9a\\xb0\\xec\\xb9\\x98\\xea\\xb3\\xa0 \\xed\\x95\\xa8\\xea\\xbb\\x98 \\xec\\x95\\x84\\xed\\x8c\\x8c\\xed\\x95\\x98\\xeb\\x8a\\x94 \\xeb\\xac\\xb8\\xed\\x95\\x99\\xec\\xa0\\x81\\xec\\x9d\\xb8 \\xed\\x97\\x8c\\xec\\x82\\xac\\xeb\\xa1\\x9c \\xeb\\x86\\x92\\xec\\x9d\\x80 \\xea\\xb4\\x80\\xec\\x8b\\xac\\xea\\xb3\\xbc \\xec\\xb0\\xac\\xec\\x82\\xac\\xeb\\xa5\\xbc \\xeb\\xb0\\x9b\\xec\\x95\\x84\\xec\\x99\\x94\\xeb\\x8b\\xa4. \\\\n\\xe3\\x80\\x8e\\xec\\x86\\x8c\\xeb\\x85\\x84\\xec\\x9d\\xb4 \\xec\\x98\\xa8\\xeb\\x8b\\xa4\\xe3\\x80\\x8f\\xeb\\x8a\\x94 \\xe2\\x80\\x98\\xec\\x83\\x81\\xec\\xb2\\x98\\xec\\x9d\\x98 \\xea\\xb5\\xac\\xec\\xa1\\xb0\\xec\\x97\\x90 \\xeb\\x8c\\x80\\xed\\x95\\x9c \\xed\\x88\\xac\\xec\\x8b\\x9c\\xec\\x99\\x80 \\xec\\xb2\\x9c\\xec\\xb0\\xa9\\xec\\x9d\\x98 \\xec\\x84\\x9c\\xec\\x82\\xac\\xe2\\x80\\x99\\xeb\\xa5\\xbc \\xed\\x86\\xb5\\xed\\x95\\xb4 \\xed\\x95\\x9c\\xea\\xb0\\x95\\xeb\\xa7\\x8c\\xec\\x9d\\xb4 \\xed\\x92\\x80\\xec\\x96\\xb4\\xeb\\x82\\xbc \\xec\\x88\\x98 \\xec\\x9e\\x88\\xeb\\x8a\\x94 \\xeb\\xb0\\xa9\\xec\\x8b\\x9d\\xec\\x9c\\xbc\\xeb\\xa1\\x9c 1980\\xeb\\x85\\x84 5\\xec\\x9b\\x94\\xec\\x9d\\x84 \\xec\\x83\\x88\\xeb\\xa1\\xad\\xea\\xb2\\x8c \\xec\\xa1\\xb0\\xeb\\xaa\\x85\\xed\\x95\\x98\\xeb\\xa9\\xb0, \\xeb\\xac\\xb4\\xea\\xb3\\xa0\\xed\\x95\\x9c \\xec\\x98\\x81\\xed\\x98\\xbc\\xeb\\x93\\xa4\\xec\\x9d\\x98 \\xeb\\xa7\\x90\\xec\\x9d\\x84 \\xeb\\x8c\\x80\\xec\\x8b\\xa0 \\xec\\xa0\\x84\\xed\\x95\\x98\\xeb\\x8a\\x94 \\xeb\\x93\\xaf\\xed\\x95\\x9c \\xec\\xa7\\x84\\xec\\x8b\\xac \\xec\\x96\\xb4\\xeb\\xa6\\xb0 \\xeb\\xac\\xb8\\xec\\x9e\\xa5\\xeb\\x93\\xa4\\xeb\\xa1\\x9c 5\\xc2\\xb718 \\xec\\x9d\\xb4\\xed\\x9b\\x84\\xeb\\xa5\\xbc \\xec\\x82\\xb4\\xea\\xb3\\xa0 \\xec\\x9e\\x88\\xeb\\x8a\\x94 \\xec\\x9a\\xb0\\xeb\\xa6\\xac\\xec\\x97\\x90\\xea\\xb2\\x8c \\xeb\\xac\\xb5\\xec\\xa7\\x81\\xed\\x95\\x9c \\xec\\xa7\\x88\\xeb\\xac\\xb8\\xec\\x9d\\x84 \\xeb\\x8d\\x98\\xec\\xa7\\x84\\xeb\\x8b\\xa4. \\\\n\\xec\\x9d\\xb4 \\xec\\x9e\\x91\\xed\\x92\\x88\\xec\\x9d\\x80 \\xea\\xb0\\x80\\xec\\x9e\\xa5 \\xed\\x95\\x9c\\xea\\xb5\\xad\\xec\\xa0\\x81\\xec\\x9d\\xb8 \\xec\\x84\\x9c\\xec\\x82\\xac\\xeb\\xa1\\x9c \\xec\\x84\\xb8\\xea\\xb3\\x84\\xeb\\xa5\\xbc \\xec\\x82\\xac\\xeb\\xa1\\x9c\\xec\\x9e\\xa1\\xec\\x9d\\x80 \\xed\\x95\\x9c\\xea\\xb0\\x95 \\xeb\\xac\\xb8\\xed\\x95\\x99\\xec\\x9d\\x98 \\xec\\xa7\\x80\\xed\\x96\\xa5\\xec\\xa0\\x90\\xec\\x9d\\x84 \\xeb\\xb3\\xb4\\xec\\x97\\xac\\xec\\xa4\\x80\\xeb\\x8b\\xa4. \\xec\\x9d\\xb8\\xea\\xb0\\x84\\xec\\x9d\\x98 \\xec\\x9e\\x94\\xed\\x98\\xb9\\xed\\x95\\xa8\\xea\\xb3\\xbc \\xec\\x9c\\x84\\xeb\\x8c\\x80\\xed\\x95\\xa8\\xec\\x9d\\x84 \\xeb\\x8f\\x99\\xec\\x8b\\x9c\\xec\\x97\\x90 \\xec\\xa6\\x9d\\xec\\x96\\xb8\\xed\\x95\\x98\\xeb\\x8a\\x94 \\xec\\x9d\\xb4 \\xec\\xb6\\xa9\\xec\\x9d\\xbc\\xed\\x95\\x9c \\xec\\x84\\x9c\\xec\\x82\\xac\\xeb\\x8a\\x94 \\xec\\x9d\\xb4\\xeb\\xa0\\x87\\xeb\\x93\\xaf \\xec\\x8b\\x9c\\xea\\xb3\\xb5\\xea\\xb0\\x84\\xec\\x9d\\x98 \\xed\\x95\\x9c\\xea\\xb3\\x84\\xeb\\xa5\\xbc \\xeb\\x84\\x98\\xec\\x96\\xb4 \\xec\\x9d\\xb8\\xea\\xb0\\x84 \\xec\\x97\\xad\\xec\\x82\\xac\\xec\\x9d\\x98 \\xeb\\xb3\\xb4\\xed\\x8e\\xb8\\xec\\x84\\xb1\\xec\\x9d\\x84 \\xeb\\xb3\\xb4\\xec\\x97\\xac\\xec\\xa3\\xbc\\xeb\\xa9\\xb0 \\xed\\x9b\\xbc\\xec\\x86\\x90\\xeb\\x90\\x98\\xec\\xa7\\x80 \\xeb\\xa7\\x90\\xec\\x95\\x84\\xec\\x95\\xbc \\xed\\x95\\xa0 \\xec\\x9d\\xb8\\xea\\xb0\\x84\\xec\\x84\\xb1\\xec\\x9d\\x84 \\xec\\xa0\\x88\\xeb\\xb0\\x95\\xed\\x95\\x98\\xea\\xb2\\x8c \\xeb\\xb3\\xb5\\xec\\x9b\\x90\\xed\\x95\\x9c\\xeb\\x8b\\xa4.\"\\n\\t\\t},\\n\\t\\t{\\n\\t\\t\\t\"title\":\"\\xec\\x86\\x8c\\xeb\\x85\\x84\\xec\\x9d\\xb4 \\xec\\x98\\xa8\\xeb\\x8b\\xa4 1(\\xed\\x81\\xb0\\xea\\xb8\\x80\\xec\\x9e\\x90\\xeb\\x8f\\x84\\xec\\x84\\x9c) (\\xed\\x95\\x9c\\xea\\xb0\\x95 \\xec\\x86\\x8c\\xec\\x84\\xa4\\xe3\\x85\\xa32024\\xeb\\x85\\x84 \\xeb\\x85\\xb8\\xeb\\xb2\\xa8\\xeb\\xac\\xb8\\xed\\x95\\x99\\xec\\x83\\x81 \\xec\\x88\\x98\\xec\\x83\\x81\\xec\\x9e\\x91\\xea\\xb0\\x80)\",\\n\\t\\t\\t\"link\":\"https:\\\\/\\\\/search.shopping.naver.com\\\\/book\\\\/catalog\\\\/32497276947\",\\n\\t\\t\\t\"image\":\"https:\\\\/\\\\/shopping-phinf.pstatic.net\\\\/main_3249727\\\\/32497276947.20240815214654.jpg\",\\n\\t\\t\\t\"author\":\"\\xed\\x95\\x9c\\xea\\xb0\\x95\",\\n\\t\\t\\t\"discount\":\"18050\",\\n\\t\\t\\t\"publisher\":\"\\xec\\xb0\\xbd\\xeb\\xb9\\x84\",\\n\\t\\t\\t\"pubdate\":\"20170220\",\\n\\t\\t\\t\"isbn\":\"9788936473235\",\\n\\t\\t\\t\"description\":\"\\xe3\\x80\\x8e\\xec\\x86\\x8c\\xeb\\x85\\x84\\xec\\x9d\\xb4 \\xec\\x98\\xa8\\xeb\\x8b\\xa4\\xe3\\x80\\x8f\\xeb\\xa5\\xbc \\xed\\x81\\xb0\\xea\\xb8\\x80\\xec\\x9e\\x90\\xeb\\xa1\\x9c \\xec\\xa0\\x9c\\xec\\x9e\\x91\\xed\\x95\\x9c \\xec\\xb1\\x85\\xec\\x9c\\xbc\\xeb\\xa1\\x9c \\xec\\x86\\x8c\\xec\\x84\\xa4 \\xec\\xa0\\x84\\xec\\xb2\\xb4 \\xec\\xa4\\x91 \\xec\\xa0\\x84\\xeb\\xb0\\x98\\xeb\\xb6\\x80\\xec\\x9d\\x98 \\xeb\\x82\\xb4\\xec\\x9a\\xa9\\xec\\x9d\\x84 \\xeb\\x8b\\xb4\\xea\\xb3\\xa0 \\xec\\x9e\\x88\\xec\\x8a\\xb5\\xeb\\x8b\\x88\\xeb\\x8b\\xa4.\\\\n\\\\n\\xed\\x95\\x9c\\xea\\xb0\\x95\\xec\\x9d\\x84 \\xeb\\x9b\\xb0\\xec\\x96\\xb4\\xeb\\x84\\x98\\xec\\x9d\\x80 \\xed\\x95\\x9c\\xea\\xb0\\x95\\xec\\x9d\\x98 \\xec\\x86\\x8c\\xec\\x84\\xa4\\\\n\\\\n\\xec\\x84\\xac\\xec\\x84\\xb8\\xed\\x95\\x9c \\xea\\xb0\\x90\\xec\\x88\\x98\\xec\\x84\\xb1\\xea\\xb3\\xbc \\xec\\xb9\\x98\\xeb\\xb0\\x80\\xed\\x95\\x9c \\xeb\\xac\\xb8\\xec\\x9e\\xa5\\xec\\x9c\\xbc\\xeb\\xa1\\x9c \\xec\\x9d\\xb8\\xea\\xb0\\x84 \\xec\\xa1\\xb4\\xec\\x9e\\xac\\xec\\x9d\\x98 \\xeb\\xb3\\xb8\\xec\\xa7\\x88\\xec\\x9d\\x84 \\xed\\x83\\x90\\xea\\xb5\\xac\\xed\\x95\\xb4\\xec\\x98\\xa8 \\xec\\x9e\\x91\\xea\\xb0\\x80 \\xed\\x95\\x9c\\xea\\xb0\\x95\\xec\\x9d\\x98 \\xec\\x97\\xac\\xec\\x84\\xaf\\xeb\\xb2\\x88\\xec\\xa7\\xb8 \\xec\\x9e\\xa5\\xed\\x8e\\xb8\\xec\\x86\\x8c\\xec\\x84\\xa4 \\xe3\\x80\\x8e\\xec\\x86\\x8c\\xeb\\x85\\x84\\xec\\x9d\\xb4 \\xec\\x98\\xa8\\xeb\\x8b\\xa4\\xe3\\x80\\x8f\\xea\\xb0\\x80 \\xec\\xb6\\x9c\\xea\\xb0\\x84\\xeb\\x90\\x98\\xec\\x97\\x88\\xeb\\x8b\\xa4. 1980\\xeb\\x85\\x84 \\xea\\xb4\\x91\\xec\\xa3\\xbc\\xec\\x9d\\x98 5\\xec\\x9b\\x94\\xec\\x9d\\x84 \\xeb\\x8b\\xa4\\xeb\\xa4\\x84 \\xec\\xb0\\xbd\\xeb\\xb9\\x84\\xeb\\xac\\xb8\\xed\\x95\\x99\\xeb\\xb8\\x94\\xeb\\xa1\\x9c\\xea\\xb7\\xb8 \\'\\xec\\xb0\\xbd\\xeb\\xac\\xb8\\'\\xec\\x97\\x90 \\xec\\x97\\xb0\\xec\\x9e\\xac\\xed\\x95\\xa0 \\xeb\\x8b\\xb9\\xec\\x8b\\x9c(2013\\xeb\\x85\\x84 11\\xec\\x9b\\x94~2014\\xeb\\x85\\x84 1\\xec\\x9b\\x94)\\xeb\\xb6\\x80\\xed\\x84\\xb0 \\xeb\\x8f\\x85\\xec\\x9e\\x90\\xeb\\x93\\xa4\\xec\\x9d\\x98 \\xec\\x9d\\xb4\\xeb\\xaa\\xa9\\xec\\x9d\\x84 \\xeb\\x81\\x8c\\xec\\x97\\x88\\xeb\\x8d\\x98 \\xec\\x97\\xb4\\xeb\\x8b\\xa4\\xec\\x84\\xaf\\xec\\x82\\xb4 \\xec\\x86\\x8c\\xeb\\x85\\x84\\xec\\x9d\\x98 \\xec\\x9d\\xb4\\xec\\x95\\xbc\\xea\\xb8\\xb0\\xeb\\x8a\\x94 \\'\\xec\\x83\\x81\\xec\\xb2\\x98\\xec\\x9d\\x98 \\xea\\xb5\\xac\\xec\\xa1\\xb0\\xec\\x97\\x90 \\xeb\\x8c\\x80\\xed\\x95\\x9c \\xed\\x88\\xac\\xec\\x8b\\x9c\\xec\\x99\\x80 \\xec\\xb2\\x9c\\xec\\xb0\\xa9\\xec\\x9d\\x98 \\xec\\x84\\x9c\\xec\\x82\\xac\\'\\xeb\\xa5\\xbc \\xed\\x86\\xb5\\xed\\x95\\xb4 \\xed\\x95\\x9c\\xea\\xb0\\x95\\xeb\\xa7\\x8c\\xec\\x9d\\xb4 \\xed\\x92\\x80\\xec\\x96\\xb4\\xeb\\x82\\xbc \\xec\\x88\\x98 \\xec\\x9e\\x88\\xeb\\x8a\\x94 \\xeb\\xb0\\xa9\\xec\\x8b\\x9d\\xec\\x9c\\xbc\\xeb\\xa1\\x9c 1980\\xeb\\x85\\x84 5\\xec\\x9b\\x94\\xec\\x9d\\x84 \\xec\\x83\\x88\\xeb\\xa1\\xad\\xea\\xb2\\x8c \\xec\\xa1\\xb0\\xeb\\xaa\\x85\\xed\\x95\\x9c\\xeb\\x8b\\xa4. \\xed\\x95\\x9c\\xea\\xb0\\x95\\xec\\x9d\\x80 \\xeb\\xac\\xb4\\xea\\xb3\\xa0\\xed\\x95\\x9c \\xec\\x98\\x81\\xed\\x98\\xbc\\xeb\\x93\\xa4\\xec\\x9d\\x98 \\xeb\\xa7\\x90\\xec\\x9d\\x84 \\xeb\\x8c\\x80\\xec\\x8b\\xa0 \\xec\\xa0\\x84\\xed\\x95\\x98\\xeb\\x8a\\x94 \\xeb\\x93\\xaf\\xed\\x95\\x9c \\xec\\xa7\\x84\\xec\\x8b\\xac \\xec\\x96\\xb4\\xeb\\xa6\\xb0 \\xeb\\xac\\xb8\\xec\\x9e\\xa5\\xeb\\x93\\xa4\\xeb\\xa1\\x9c \\xec\\x96\\xb4\\xeb\\x8a\\x90\\xeb\\x8d\\xa7 \\xea\\xb7\\xb8 \\xec\\x8b\\x9c\\xec\\xa0\\x88\\xec\\x9d\\x84 \\xec\\x9e\\x8a\\xea\\xb3\\xa0 \\xeb\\xac\\xb4\\xec\\x8b\\xac\\xed\\x95\\x98\\xea\\xb2\\x8c 5\\xe3\\x86\\x8d18 \\xec\\x9d\\xb4\\xed\\x9b\\x84\\xeb\\xa5\\xbc \\xec\\x82\\xb4\\xea\\xb3\\xa0 \\xec\\x9e\\x88\\xeb\\x8a\\x94 \\xec\\x9a\\xb0\\xeb\\xa6\\xac\\xec\\x97\\x90\\xea\\xb2\\x8c \\xeb\\xac\\xb5\\xec\\xa7\\x81\\xed\\x95\\x9c \\xec\\xa7\\x88\\xeb\\xac\\xb8\\xec\\x9d\\x84 \\xeb\\x8d\\x98\\xec\\xa7\\x80\\xea\\xb3\\xa0, \\xec\\x97\\xac\\xec\\xa0\\x84\\xed\\x9e\\x88 5\\xe3\\x86\\x8d18\\xec\\x9d\\x98 \\xed\\x8a\\xb8\\xeb\\x9d\\xbc\\xec\\x9a\\xb0\\xeb\\xa7\\x88\\xeb\\xa5\\xbc \\xec\\x95\\x88\\xea\\xb3\\xa0 \\xed\\x9e\\x98\\xea\\xb2\\xb9\\xea\\xb2\\x8c \\xec\\x82\\xb4\\xec\\x95\\x84\\xea\\xb0\\x80\\xeb\\x8a\\x94 \\xec\\x82\\xac\\xeb\\x9e\\x8c\\xeb\\x93\\xa4\\xec\\x9d\\x84 \\xec\\x9c\\x84\\xeb\\xac\\xb4\\xed\\x95\\x9c\\xeb\\x8b\\xa4. \\xe3\\x80\\x8e\\xec\\x86\\x8c\\xeb\\x85\\x84\\xec\\x9d\\xb4 \\xec\\x98\\xa8\\xeb\\x8b\\xa4\\xe3\\x80\\x8f\\xeb\\x8a\\x94 \\xea\\xb4\\x91\\xec\\xa3\\xbc\\xeb\\xaf\\xbc\\xec\\xa3\\xbc\\xed\\x99\\x94\\xec\\x9a\\xb4\\xeb\\x8f\\x99 \\xeb\\x8b\\xb9\\xec\\x8b\\x9c \\xea\\xb3\\x84\\xec\\x97\\x84\\xea\\xb5\\xb0\\xec\\x97\\x90 \\xeb\\xa7\\x9e\\xec\\x84\\x9c \\xec\\x8b\\xb8\\xec\\x9a\\xb0\\xeb\\x8d\\x98 \\xec\\xa4\\x91\\xed\\x95\\x99\\xec\\x83\\x9d \\xeb\\x8f\\x99\\xed\\x98\\xb8\\xeb\\xa5\\xbc \\xeb\\xb9\\x84\\xeb\\xa1\\xaf\\xed\\x95\\x9c \\xec\\xa3\\xbc\\xeb\\xb3\\x80 \\xec\\x9d\\xb8\\xeb\\xac\\xbc\\xeb\\x93\\xa4\\xea\\xb3\\xbc \\xea\\xb7\\xb8\\xed\\x9b\\x84 \\xeb\\x82\\xa8\\xea\\xb2\\xa8\\xec\\xa7\\x84 \\xec\\x82\\xac\\xeb\\x9e\\x8c\\xeb\\x93\\xa4\\xec\\x9d\\x98 \\xea\\xb3\\xa0\\xed\\x86\\xb5\\xeb\\xb0\\x9b\\xeb\\x8a\\x94 \\xeb\\x82\\xb4\\xeb\\xa9\\xb4\\xec\\x9d\\x84 \\xec\\x83\\x9d\\xec\\x83\\x9d\\xed\\x95\\x98\\xea\\xb2\\x8c \\xea\\xb7\\xb8\\xeb\\xa0\\xa4\\xeb\\x82\\xb4\\xea\\xb3\\xa0, \\xeb\\x8b\\xb9\\xec\\x8b\\x9c\\xec\\x9d\\x98 \\xec\\xb2\\x98\\xec\\xa0\\x88\\xed\\x95\\x9c \\xec\\x9e\\xa5\\xeb\\xa9\\xb4\\xeb\\x93\\xa4\\xec\\x9d\\x84 \\xed\\x95\\x8d\\xec\\xa7\\x84\\xed\\x95\\x98\\xea\\xb2\\x8c \\xeb\\xac\\x98\\xec\\x82\\xac\\xed\\x95\\x98\\xeb\\xa9\\xb0 \\xec\\xa7\\x80\\xea\\xb8\\x88 \\\\\"\\xec\\x9a\\xb0\\xeb\\xa6\\xac\\xea\\xb0\\x80 \\'\\xeb\\xb6\\x99\\xeb\\x93\\xa4\\xec\\x96\\xb4\\xec\\x95\\xbc \\xed\\x95\\xa0\\' \\xec\\x97\\xad\\xec\\x82\\xac\\xec\\xa0\\x81 \\xea\\xb8\\xb0\\xec\\x96\\xb5\\xec\\x9d\\xb4 \\xeb\\xac\\xb4\\xec\\x97\\x87\\xec\\x9d\\xb8\\xec\\xa7\\x80\\xeb\\xa5\\xbc \\xec\\xa0\\x88\\xec\\x8b\\xa4\\xed\\x95\\x98\\xea\\xb2\\x8c \\xed\\x99\\x98\\xea\\xb8\\xb0\\xed\\x95\\x98\\xea\\xb3\\xa0 \\xec\\x9e\\x88\\xeb\\x8b\\xa4(\\xeb\\xb0\\xb1\\xec\\xa7\\x80\\xec\\x97\\xb0 \\xed\\x8f\\x89\\xeb\\xa1\\xa0\\xea\\xb0\\x80).\\\\\" \\\\\"\\xec\\x9d\\xb4 \\xec\\x86\\x8c\\xec\\x84\\xa4\\xec\\x9d\\x84 \\xed\\x94\\xbc\\xed\\x95\\xb4\\xea\\xb0\\x88 \\xec\\x88\\x98 \\xec\\x97\\x86\\xec\\x97\\x88\\\\\"\\xea\\xb3\\xa0, \\\\\"\\xec\\x9d\\xb4 \\xec\\x86\\x8c\\xec\\x84\\xa4\\xec\\x9d\\x84 \\xed\\x86\\xb5\\xea\\xb3\\xbc\\xed\\x95\\x98\\xec\\xa7\\x80 \\xec\\x95\\x8a\\xea\\xb3\\xa0\\xeb\\x8a\\x94 \\xec\\x96\\xb4\\xeb\\x94\\x94\\xeb\\xa1\\x9c\\xeb\\x8f\\x84 \\xea\\xb0\\x88 \\xec\\x88\\x98 \\xec\\x97\\x86\\xeb\\x8b\\xa4\\xea\\xb3\\xa0 \\xeb\\x8a\\x90\\xea\\xbc\\x88\\\\\"\\xeb\\x8b\\xa4\\xeb\\x8a\\x94 \\xec\\x9e\\x91\\xea\\xb0\\x80 \\xec\\x8a\\xa4\\xec\\x8a\\xa4\\xeb\\xa1\\x9c\\xec\\x9d\\x98 \\xea\\xb3\\xa0\\xeb\\xb0\\xb1\\xec\\xb2\\x98\\xeb\\x9f\\xbc \\xec\\x9d\\xb4 \\xec\\x86\\x8c\\xec\\x84\\xa4\\xec\\x9d\\x80 \\xec\\x86\\x8c\\xec\\x84\\xa4\\xea\\xb0\\x80 \\xed\\x95\\x9c\\xea\\xb0\\x95\\xec\\x9d\\x98 \\xec\\xa7\\x80\\xea\\xb8\\x88\\xea\\xb9\\x8c\\xec\\xa7\\x80\\xec\\x9d\\x98 \\xec\\x9e\\x91\\xed\\x92\\x88\\xec\\x84\\xb8\\xea\\xb3\\x84\\xeb\\xa5\\xbc \\xed\\x95\\x9c\\xeb\\x8b\\xa8\\xea\\xb3\\x84 \\xeb\\x81\\x8c\\xec\\x96\\xb4\\xec\\x98\\xac\\xeb\\xa6\\xac\\xeb\\x8a\\x94, \\\\\"\\xed\\x95\\x9c\\xea\\xb0\\x95\\xec\\x9d\\x84 \\xeb\\x9b\\xb0\\xec\\x96\\xb4\\xeb\\x84\\x98\\xec\\x9d\\x80 \\xed\\x95\\x9c\\xea\\xb0\\x95\\xec\\x9d\\x98 \\xec\\x86\\x8c\\xec\\x84\\xa4(\\xec\\x8b\\xa0\\xed\\x98\\x95\\xec\\xb2\\xa0 \\xed\\x8f\\x89\\xeb\\xa1\\xa0\\xea\\xb0\\x80)\\\\\"\\xec\\x9d\\xb4\\xeb\\x9d\\xbc\\xea\\xb3\\xa0 \\xec\\x9e\\x90\\xec\\x8b\\xa0 \\xec\\x9e\\x88\\xea\\xb2\\x8c \\xeb\\xa7\\x90\\xed\\x95\\xa0 \\xec\\x88\\x98 \\xec\\x9e\\x88\\xeb\\x8a\\x94 \\xec\\x9e\\x91\\xed\\x92\\x88\\xec\\x9d\\xb4\\xeb\\x8b\\xa4.\"\\n\\t\\t},\\n\\t\\t{\\n\\t\\t\\t\"title\":\"\\xec\\x86\\x8c\\xeb\\x85\\x84\\xec\\x9d\\xb4 \\xec\\x98\\xa8\\xeb\\x8b\\xa4 2(\\xed\\x81\\xb0\\xea\\xb8\\x80\\xec\\x9e\\x90\\xeb\\x8f\\x84\\xec\\x84\\x9c) (2024\\xeb\\x85\\x84 \\xeb\\x85\\xb8\\xeb\\xb2\\xa8\\xeb\\xac\\xb8\\xed\\x95\\x99\\xec\\x83\\x81 \\xec\\x88\\x98\\xec\\x83\\x81\\xec\\x9e\\x91\\xea\\xb0\\x80)\",\\n\\t\\t\\t\"link\":\"https:\\\\/\\\\/search.shopping.naver.com\\\\/book\\\\/catalog\\\\/32489353871\",\\n\\t\\t\\t\"image\":\"https:\\\\/\\\\/shopping-phinf.pstatic.net\\\\/main_3248935\\\\/32489353871.20230725121201.jpg\",\\n\\t\\t\\t\"author\":\"\\xed\\x95\\x9c\\xea\\xb0\\x95\",\\n\\t\\t\\t\"discount\":\"18050\",\\n\\t\\t\\t\"publisher\":\"\\xec\\xb0\\xbd\\xeb\\xb9\\x84\",\\n\\t\\t\\t\"pubdate\":\"20170220\",\\n\\t\\t\\t\"isbn\":\"9788936473242\",\\n\\t\\t\\t\"description\":\"\\xe3\\x80\\x8e\\xec\\x86\\x8c\\xeb\\x85\\x84\\xec\\x9d\\xb4 \\xec\\x98\\xa8\\xeb\\x8b\\xa4\\xe3\\x80\\x8f\\xeb\\xa5\\xbc \\xed\\x81\\xb0\\xea\\xb8\\x80\\xec\\x9e\\x90\\xeb\\xa1\\x9c \\xec\\xa0\\x9c\\xec\\x9e\\x91\\xed\\x95\\x9c \\xec\\xb1\\x85\\xec\\x9c\\xbc\\xeb\\xa1\\x9c \\xec\\x86\\x8c\\xec\\x84\\xa4 \\xec\\xa0\\x84\\xec\\xb2\\xb4 \\xec\\xa4\\x91 \\xed\\x9b\\x84\\xeb\\xb0\\x98\\xeb\\xb6\\x80\\xec\\x9d\\x98 \\xeb\\x82\\xb4\\xec\\x9a\\xa9\\xec\\x9d\\x84 \\xeb\\x8b\\xb4\\xea\\xb3\\xa0 \\xec\\x9e\\x88\\xec\\x8a\\xb5\\xeb\\x8b\\x88\\xeb\\x8b\\xa4.\\\\n\\\\n\\xed\\x95\\x9c\\xea\\xb0\\x95\\xec\\x9d\\x84 \\xeb\\x9b\\xb0\\xec\\x96\\xb4\\xeb\\x84\\x98\\xec\\x9d\\x80 \\xed\\x95\\x9c\\xea\\xb0\\x95\\xec\\x9d\\x98 \\xec\\x86\\x8c\\xec\\x84\\xa4\\\\n\\\\n\\xec\\x84\\xac\\xec\\x84\\xb8\\xed\\x95\\x9c \\xea\\xb0\\x90\\xec\\x88\\x98\\xec\\x84\\xb1\\xea\\xb3\\xbc \\xec\\xb9\\x98\\xeb\\xb0\\x80\\xed\\x95\\x9c \\xeb\\xac\\xb8\\xec\\x9e\\xa5\\xec\\x9c\\xbc\\xeb\\xa1\\x9c \\xec\\x9d\\xb8\\xea\\xb0\\x84 \\xec\\xa1\\xb4\\xec\\x9e\\xac\\xec\\x9d\\x98 \\xeb\\xb3\\xb8\\xec\\xa7\\x88\\xec\\x9d\\x84 \\xed\\x83\\x90\\xea\\xb5\\xac\\xed\\x95\\xb4\\xec\\x98\\xa8 \\xec\\x9e\\x91\\xea\\xb0\\x80 \\xed\\x95\\x9c\\xea\\xb0\\x95\\xec\\x9d\\x98 \\xec\\x97\\xac\\xec\\x84\\xaf\\xeb\\xb2\\x88\\xec\\xa7\\xb8 \\xec\\x9e\\xa5\\xed\\x8e\\xb8\\xec\\x86\\x8c\\xec\\x84\\xa4 \\xe3\\x80\\x8e\\xec\\x86\\x8c\\xeb\\x85\\x84\\xec\\x9d\\xb4 \\xec\\x98\\xa8\\xeb\\x8b\\xa4\\xe3\\x80\\x8f\\xea\\xb0\\x80 \\xec\\xb6\\x9c\\xea\\xb0\\x84\\xeb\\x90\\x98\\xec\\x97\\x88\\xeb\\x8b\\xa4. 1980\\xeb\\x85\\x84 \\xea\\xb4\\x91\\xec\\xa3\\xbc\\xec\\x9d\\x98 5\\xec\\x9b\\x94\\xec\\x9d\\x84 \\xeb\\x8b\\xa4\\xeb\\xa4\\x84 \\xec\\xb0\\xbd\\xeb\\xb9\\x84\\xeb\\xac\\xb8\\xed\\x95\\x99\\xeb\\xb8\\x94\\xeb\\xa1\\x9c\\xea\\xb7\\xb8 \\'\\xec\\xb0\\xbd\\xeb\\xac\\xb8\\'\\xec\\x97\\x90 \\xec\\x97\\xb0\\xec\\x9e\\xac\\xed\\x95\\xa0 \\xeb\\x8b\\xb9\\xec\\x8b\\x9c(2013\\xeb\\x85\\x84 11\\xec\\x9b\\x94~2014\\xeb\\x85\\x84 1\\xec\\x9b\\x94)\\xeb\\xb6\\x80\\xed\\x84\\xb0 \\xeb\\x8f\\x85\\xec\\x9e\\x90\\xeb\\x93\\xa4\\xec\\x9d\\x98 \\xec\\x9d\\xb4\\xeb\\xaa\\xa9\\xec\\x9d\\x84 \\xeb\\x81\\x8c\\xec\\x97\\x88\\xeb\\x8d\\x98 \\xec\\x97\\xb4\\xeb\\x8b\\xa4\\xec\\x84\\xaf\\xec\\x82\\xb4 \\xec\\x86\\x8c\\xeb\\x85\\x84\\xec\\x9d\\x98 \\xec\\x9d\\xb4\\xec\\x95\\xbc\\xea\\xb8\\xb0\\xeb\\x8a\\x94 \\'\\xec\\x83\\x81\\xec\\xb2\\x98\\xec\\x9d\\x98 \\xea\\xb5\\xac\\xec\\xa1\\xb0\\xec\\x97\\x90 \\xeb\\x8c\\x80\\xed\\x95\\x9c \\xed\\x88\\xac\\xec\\x8b\\x9c\\xec\\x99\\x80 \\xec\\xb2\\x9c\\xec\\xb0\\xa9\\xec\\x9d\\x98 \\xec\\x84\\x9c\\xec\\x82\\xac\\'\\xeb\\xa5\\xbc \\xed\\x86\\xb5\\xed\\x95\\xb4 \\xed\\x95\\x9c\\xea\\xb0\\x95\\xeb\\xa7\\x8c\\xec\\x9d\\xb4 \\xed\\x92\\x80\\xec\\x96\\xb4\\xeb\\x82\\xbc \\xec\\x88\\x98 \\xec\\x9e\\x88\\xeb\\x8a\\x94 \\xeb\\xb0\\xa9\\xec\\x8b\\x9d\\xec\\x9c\\xbc\\xeb\\xa1\\x9c 1980\\xeb\\x85\\x84 5\\xec\\x9b\\x94\\xec\\x9d\\x84 \\xec\\x83\\x88\\xeb\\xa1\\xad\\xea\\xb2\\x8c \\xec\\xa1\\xb0\\xeb\\xaa\\x85\\xed\\x95\\x9c\\xeb\\x8b\\xa4. \\xed\\x95\\x9c\\xea\\xb0\\x95\\xec\\x9d\\x80 \\xeb\\xac\\xb4\\xea\\xb3\\xa0\\xed\\x95\\x9c \\xec\\x98\\x81\\xed\\x98\\xbc\\xeb\\x93\\xa4\\xec\\x9d\\x98 \\xeb\\xa7\\x90\\xec\\x9d\\x84 \\xeb\\x8c\\x80\\xec\\x8b\\xa0 \\xec\\xa0\\x84\\xed\\x95\\x98\\xeb\\x8a\\x94 \\xeb\\x93\\xaf\\xed\\x95\\x9c \\xec\\xa7\\x84\\xec\\x8b\\xac \\xec\\x96\\xb4\\xeb\\xa6\\xb0 \\xeb\\xac\\xb8\\xec\\x9e\\xa5\\xeb\\x93\\xa4\\xeb\\xa1\\x9c \\xec\\x96\\xb4\\xeb\\x8a\\x90\\xeb\\x8d\\xa7 \\xea\\xb7\\xb8 \\xec\\x8b\\x9c\\xec\\xa0\\x88\\xec\\x9d\\x84 \\xec\\x9e\\x8a\\xea\\xb3\\xa0 \\xeb\\xac\\xb4\\xec\\x8b\\xac\\xed\\x95\\x98\\xea\\xb2\\x8c 5\\xe3\\x86\\x8d18 \\xec\\x9d\\xb4\\xed\\x9b\\x84\\xeb\\xa5\\xbc \\xec\\x82\\xb4\\xea\\xb3\\xa0 \\xec\\x9e\\x88\\xeb\\x8a\\x94 \\xec\\x9a\\xb0\\xeb\\xa6\\xac\\xec\\x97\\x90\\xea\\xb2\\x8c \\xeb\\xac\\xb5\\xec\\xa7\\x81\\xed\\x95\\x9c \\xec\\xa7\\x88\\xeb\\xac\\xb8\\xec\\x9d\\x84 \\xeb\\x8d\\x98\\xec\\xa7\\x80\\xea\\xb3\\xa0, \\xec\\x97\\xac\\xec\\xa0\\x84\\xed\\x9e\\x88 5\\xe3\\x86\\x8d18\\xec\\x9d\\x98 \\xed\\x8a\\xb8\\xeb\\x9d\\xbc\\xec\\x9a\\xb0\\xeb\\xa7\\x88\\xeb\\xa5\\xbc \\xec\\x95\\x88\\xea\\xb3\\xa0 \\xed\\x9e\\x98\\xea\\xb2\\xb9\\xea\\xb2\\x8c \\xec\\x82\\xb4\\xec\\x95\\x84\\xea\\xb0\\x80\\xeb\\x8a\\x94 \\xec\\x82\\xac\\xeb\\x9e\\x8c\\xeb\\x93\\xa4\\xec\\x9d\\x84 \\xec\\x9c\\x84\\xeb\\xac\\xb4\\xed\\x95\\x9c\\xeb\\x8b\\xa4. \\xe3\\x80\\x8e\\xec\\x86\\x8c\\xeb\\x85\\x84\\xec\\x9d\\xb4 \\xec\\x98\\xa8\\xeb\\x8b\\xa4\\xe3\\x80\\x8f\\xeb\\x8a\\x94 \\xea\\xb4\\x91\\xec\\xa3\\xbc\\xeb\\xaf\\xbc\\xec\\xa3\\xbc\\xed\\x99\\x94\\xec\\x9a\\xb4\\xeb\\x8f\\x99 \\xeb\\x8b\\xb9\\xec\\x8b\\x9c \\xea\\xb3\\x84\\xec\\x97\\x84\\xea\\xb5\\xb0\\xec\\x97\\x90 \\xeb\\xa7\\x9e\\xec\\x84\\x9c \\xec\\x8b\\xb8\\xec\\x9a\\xb0\\xeb\\x8d\\x98 \\xec\\xa4\\x91\\xed\\x95\\x99\\xec\\x83\\x9d \\xeb\\x8f\\x99\\xed\\x98\\xb8\\xeb\\xa5\\xbc \\xeb\\xb9\\x84\\xeb\\xa1\\xaf\\xed\\x95\\x9c \\xec\\xa3\\xbc\\xeb\\xb3\\x80 \\xec\\x9d\\xb8\\xeb\\xac\\xbc\\xeb\\x93\\xa4\\xea\\xb3\\xbc \\xea\\xb7\\xb8\\xed\\x9b\\x84 \\xeb\\x82\\xa8\\xea\\xb2\\xa8\\xec\\xa7\\x84 \\xec\\x82\\xac\\xeb\\x9e\\x8c\\xeb\\x93\\xa4\\xec\\x9d\\x98 \\xea\\xb3\\xa0\\xed\\x86\\xb5\\xeb\\xb0\\x9b\\xeb\\x8a\\x94 \\xeb\\x82\\xb4\\xeb\\xa9\\xb4\\xec\\x9d\\x84 \\xec\\x83\\x9d\\xec\\x83\\x9d\\xed\\x95\\x98\\xea\\xb2\\x8c \\xea\\xb7\\xb8\\xeb\\xa0\\xa4\\xeb\\x82\\xb4\\xea\\xb3\\xa0, \\xeb\\x8b\\xb9\\xec\\x8b\\x9c\\xec\\x9d\\x98 \\xec\\xb2\\x98\\xec\\xa0\\x88\\xed\\x95\\x9c \\xec\\x9e\\xa5\\xeb\\xa9\\xb4\\xeb\\x93\\xa4\\xec\\x9d\\x84 \\xed\\x95\\x8d\\xec\\xa7\\x84\\xed\\x95\\x98\\xea\\xb2\\x8c \\xeb\\xac\\x98\\xec\\x82\\xac\\xed\\x95\\x98\\xeb\\xa9\\xb0 \\xec\\xa7\\x80\\xea\\xb8\\x88 \\\\\"\\xec\\x9a\\xb0\\xeb\\xa6\\xac\\xea\\xb0\\x80 \\'\\xeb\\xb6\\x99\\xeb\\x93\\xa4\\xec\\x96\\xb4\\xec\\x95\\xbc \\xed\\x95\\xa0\\' \\xec\\x97\\xad\\xec\\x82\\xac\\xec\\xa0\\x81 \\xea\\xb8\\xb0\\xec\\x96\\xb5\\xec\\x9d\\xb4 \\xeb\\xac\\xb4\\xec\\x97\\x87\\xec\\x9d\\xb8\\xec\\xa7\\x80\\xeb\\xa5\\xbc \\xec\\xa0\\x88\\xec\\x8b\\xa4\\xed\\x95\\x98\\xea\\xb2\\x8c \\xed\\x99\\x98\\xea\\xb8\\xb0\\xed\\x95\\x98\\xea\\xb3\\xa0 \\xec\\x9e\\x88\\xeb\\x8b\\xa4(\\xeb\\xb0\\xb1\\xec\\xa7\\x80\\xec\\x97\\xb0 \\xed\\x8f\\x89\\xeb\\xa1\\xa0\\xea\\xb0\\x80).\\\\\" \\\\\"\\xec\\x9d\\xb4 \\xec\\x86\\x8c\\xec\\x84\\xa4\\xec\\x9d\\x84 \\xed\\x94\\xbc\\xed\\x95\\xb4\\xea\\xb0\\x88 \\xec\\x88\\x98 \\xec\\x97\\x86\\xec\\x97\\x88\\\\\"\\xea\\xb3\\xa0, \\\\\"\\xec\\x9d\\xb4 \\xec\\x86\\x8c\\xec\\x84\\xa4\\xec\\x9d\\x84 \\xed\\x86\\xb5\\xea\\xb3\\xbc\\xed\\x95\\x98\\xec\\xa7\\x80 \\xec\\x95\\x8a\\xea\\xb3\\xa0\\xeb\\x8a\\x94 \\xec\\x96\\xb4\\xeb\\x94\\x94\\xeb\\xa1\\x9c\\xeb\\x8f\\x84 \\xea\\xb0\\x88 \\xec\\x88\\x98 \\xec\\x97\\x86\\xeb\\x8b\\xa4\\xea\\xb3\\xa0 \\xeb\\x8a\\x90\\xea\\xbc\\x88\\\\\"\\xeb\\x8b\\xa4\\xeb\\x8a\\x94 \\xec\\x9e\\x91\\xea\\xb0\\x80 \\xec\\x8a\\xa4\\xec\\x8a\\xa4\\xeb\\xa1\\x9c\\xec\\x9d\\x98 \\xea\\xb3\\xa0\\xeb\\xb0\\xb1\\xec\\xb2\\x98\\xeb\\x9f\\xbc \\xec\\x9d\\xb4 \\xec\\x86\\x8c\\xec\\x84\\xa4\\xec\\x9d\\x80 \\xec\\x86\\x8c\\xec\\x84\\xa4\\xea\\xb0\\x80 \\xed\\x95\\x9c\\xea\\xb0\\x95\\xec\\x9d\\x98 \\xec\\xa7\\x80\\xea\\xb8\\x88\\xea\\xb9\\x8c\\xec\\xa7\\x80\\xec\\x9d\\x98 \\xec\\x9e\\x91\\xed\\x92\\x88\\xec\\x84\\xb8\\xea\\xb3\\x84\\xeb\\xa5\\xbc \\xed\\x95\\x9c\\xeb\\x8b\\xa8\\xea\\xb3\\x84 \\xeb\\x81\\x8c\\xec\\x96\\xb4\\xec\\x98\\xac\\xeb\\xa6\\xac\\xeb\\x8a\\x94, \\\\\"\\xed\\x95\\x9c\\xea\\xb0\\x95\\xec\\x9d\\x84 \\xeb\\x9b\\xb0\\xec\\x96\\xb4\\xeb\\x84\\x98\\xec\\x9d\\x80 \\xed\\x95\\x9c\\xea\\xb0\\x95\\xec\\x9d\\x98 \\xec\\x86\\x8c\\xec\\x84\\xa4(\\xec\\x8b\\xa0\\xed\\x98\\x95\\xec\\xb2\\xa0 \\xed\\x8f\\x89\\xeb\\xa1\\xa0\\xea\\xb0\\x80)\\\\\"\\xec\\x9d\\xb4\\xeb\\x9d\\xbc\\xea\\xb3\\xa0 \\xec\\x9e\\x90\\xec\\x8b\\xa0 \\xec\\x9e\\x88\\xea\\xb2\\x8c \\xeb\\xa7\\x90\\xed\\x95\\xa0 \\xec\\x88\\x98 \\xec\\x9e\\x88\\xeb\\x8a\\x94 \\xec\\x9e\\x91\\xed\\x92\\x88\\xec\\x9d\\xb4\\xeb\\x8b\\xa4.\"\\n\\t\\t},\\n\\t\\t{\\n\\t\\t\\t\"title\":\"Human Acts \\xed\\x95\\x9c\\xea\\xb0\\x95 \\xec\\x9e\\x91\\xea\\xb0\\x80\\xe3\\x80\\x8e\\xec\\x86\\x8c\\xeb\\x85\\x84\\xec\\x9d\\xb4 \\xec\\x98\\xa8\\xeb\\x8b\\xa4\\xe3\\x80\\x8f \\xec\\x98\\x81\\xeb\\xac\\xb8\\xed\\x8c\\x90 (\\xec\\x98\\x81\\xea\\xb5\\xad\\xed\\x8c\\x90) (\\xec\\x86\\x8c\\xeb\\x85\\x84\\xec\\x9d\\xb4 \\xec\\x98\\xa8\\xeb\\x8b\\xa4)\",\\n\\t\\t\\t\"link\":\"https:\\\\/\\\\/search.shopping.naver.com\\\\/book\\\\/catalog\\\\/32480599219\",\\n\\t\\t\\t\"image\":\"https:\\\\/\\\\/shopping-phinf.pstatic.net\\\\/main_3248059\\\\/32480599219.20221229070927.jpg\",\\n\\t\\t\\t\"author\":\"\\xed\\x95\\x9c\\xea\\xb0\\x95\",\\n\\t\\t\\t\"discount\":\"8500\",\\n\\t\\t\\t\"publisher\":\"Granta Books\",\\n\\t\\t\\t\"pubdate\":\"20161103\",\\n\\t\\t\\t\"isbn\":\"9781846275975\",\\n\\t\\t\\t\"description\":\"WINNER OF THE 2024 NOBEL PRIZE IN LITERATURE: a riveting, poetic and unrelentingly powerful work from the author of the 2016 Man Booker International Prize-winning novel The Vegetarian\\\\n\\\\nA riveting, poetic and powerful work from the author of the International Booker Prize-winning novel The Vegetarian.\\\\n\\\\n\\'Exquisite, painful and deeply courageous\\' Philippe Sands, Best Books of the Year, Guardian\\\\n\\\\nGwangju, South Korea, 1980. Amid a violent student uprising a young boy named Dong-ho is killed. As his friend searches for Dong-ho\\'s corpse, we also meet an editor struggling against censorship, a prisoner and a factory worker, each suffering from traumatic memories, and Dong-ho\\'s grief-stricken mother. Through their collective heartbreak and acts of hope comes a tale of a brutalised people in search of a voice.\\\\n\\\\nA modern classic, Human Acts has been both a controversial bestseller and an award-winning book in Korea, and it confirmed Han Kang as a writer of international importance.\\\\n\\\\n\\'[Han Kang\\'s] way of telling about the events of a 10-day insurgency in Gwangju, South Korea in 1980 and its psychological, spiritual and political aftermath opened my eyes\\' Susie Orbach, Best Books of the Year, Guardian\"\\n\\t\\t},\\n\\t\\t{\\n\\t\\t\\t\"title\":\"Human Acts  \\xed\\x95\\x9c\\xea\\xb0\\x95 \\xec\\x9e\\x91\\xea\\xb0\\x80\\xe3\\x80\\x8e\\xec\\x86\\x8c\\xeb\\x85\\x84\\xec\\x9d\\xb4 \\xec\\x98\\xa8\\xeb\\x8b\\xa4\\xe3\\x80\\x8f \\xec\\x98\\x81\\xeb\\xac\\xb8\\xed\\x8c\\x90 (\\xeb\\xaf\\xb8\\xea\\xb5\\xad\\xed\\x8c\\x90) (\\xec\\x86\\x8c\\xeb\\x85\\x84\\xec\\x9d\\xb4 \\xec\\x98\\xa8\\xeb\\x8b\\xa4)\",\\n\\t\\t\\t\"link\":\"https:\\\\/\\\\/search.shopping.naver.com\\\\/book\\\\/catalog\\\\/32483273624\",\\n\\t\\t\\t\"image\":\"https:\\\\/\\\\/shopping-phinf.pstatic.net\\\\/main_3248327\\\\/32483273624.20221229071529.jpg\",\\n\\t\\t\\t\"author\":\"\\xed\\x95\\x9c\\xea\\xb0\\x95\",\\n\\t\\t\\t\"discount\":\"10000\",\\n\\t\\t\\t\"publisher\":\"Hogarth Press\",\\n\\t\\t\\t\"pubdate\":\"20171017\",\\n\\t\\t\\t\"isbn\":\"9781101906743\",\\n\\t\\t\\t\"description\":\"From the internationally bestselling author of The Vegetarian, a \\\\\"rare and astonishing\\\\\" (The Observer) portrait of political unrest and the universal struggle for justice.\\\\n\\\\nIn the midst of a violent student uprising in South Korea, a young boy named Dong-ho is shockingly killed.\\\\nThe story of this tragic episode unfolds in a sequence of interconnected chapters as the victims and the bereaved encounter suppression, denial, and the echoing agony of the massacre. From Dong-ho\\'s best friend who meets his own fateful end; to an editor struggling against censorship; to a prisoner and a factory worker, each suffering from traumatic memories; and to Dong-ho\\'s own grief-stricken mother; and through their collective heartbreak and acts of hope is the tale of a brutalized people in search of a voice.\\\\nAn award-winning, controversial bestseller, Human Acts is a timeless, pointillist portrait of an historic event with reverberations still being felt today, by turns tracing the harsh reality of oppression and the resounding, extraordinary poetry of humanity.\\\\nShortlisted for the International Dublin Literary Award\\\\nAmazon, 100 Best Books of 2017\\\\nThe Atlantic, \\\\\"The Best Books We Read in 2017\\\\\"\\\\nSan Francisco Chronicle, \\\\\"Best of 2017: 100 Recommended Books\\\\\"\\\\nNPR Book Concierge, 2017\\'s Great Reads\\\\nLibrary Journal, \\\\\"Best Books of 2017\\\\\"\\\\nHuffington Post, \\\\\"Best Fiction Books of 2017\\\\\"\\\\nMedium, Kong Tsung-gan\\'s \\\\\"Best Human Rights Books of 2017\\\\\"\"\\n\\t\\t},\\n\\t\\t{\\n\\t\\t\\t\"title\":\"\\xec\\x86\\x8c\\xeb\\x85\\x84\\xec\\x9d\\xb4 \\xec\\x98\\xa8\\xeb\\x8b\\xa4(\\xed\\x8a\\xb9\\xeb\\xb3\\x84\\xed\\x95\\x9c\\xec\\xa0\\x95\\xed\\x8c\\x90) (\\xed\\x95\\x9c\\xea\\xb0\\x95 \\xec\\x86\\x8c\\xec\\x84\\xa4\\xe3\\x85\\xa32024\\xeb\\x85\\x84 \\xeb\\x85\\xb8\\xeb\\xb2\\xa8\\xeb\\xac\\xb8\\xed\\x95\\x99\\xec\\x83\\x81 \\xec\\x88\\x98\\xec\\x83\\x81\\xec\\x9e\\x91\\xea\\xb0\\x80)\",\\n\\t\\t\\t\"link\":\"https:\\\\/\\\\/search.shopping.naver.com\\\\/book\\\\/catalog\\\\/32491820253\",\\n\\t\\t\\t\"image\":\"https:\\\\/\\\\/shopping-phinf.pstatic.net\\\\/main_3249182\\\\/32491820253.20220527025601.jpg\",\\n\\t\\t\\t\"author\":\"\\xed\\x95\\x9c\\xea\\xb0\\x95\",\\n\\t\\t\\t\"discount\":\"0\",\\n\\t\\t\\t\"publisher\":\"\\xec\\xb0\\xbd\\xeb\\xb9\\x84\",\\n\\t\\t\\t\"pubdate\":\"20200424\",\\n\\t\\t\\t\"isbn\":\"9788936434410\",\\n\\t\\t\\t\"description\":\"\\xea\\xb3\\xa0\\xed\\x86\\xb5\\xec\\x8a\\xa4\\xeb\\x9f\\xbd\\xea\\xb2\\x8c \\xeb\\x90\\x98\\xec\\x82\\xb4\\xeb\\xa0\\xa4\\xeb\\x82\\xb8 5\\xec\\x9b\\x94 \\xea\\xb4\\x91\\xec\\xa3\\xbc\\\\n\\\\n\\xed\\x95\\x9c\\xea\\xb5\\xad\\xec\\x9d\\xb8 \\xec\\xb5\\x9c\\xec\\xb4\\x88 \\xeb\\xa7\\xa8\\xeb\\xb6\\x80\\xec\\xbb\\xa4\\xec\\x83\\x81 \\xec\\x88\\x98\\xec\\x83\\x81\\xec\\x9e\\x91\\xea\\xb0\\x80 \\xed\\x95\\x9c\\xea\\xb0\\x95\\xec\\x9d\\x98 \\xec\\x97\\xac\\xec\\x84\\xaf \\xeb\\xb2\\x88\\xec\\xa7\\xb8 \\xec\\x9e\\xa5\\xed\\x8e\\xb8\\xec\\x86\\x8c\\xec\\x84\\xa4 \\xe3\\x80\\x8e\\xec\\x86\\x8c\\xeb\\x85\\x84\\xec\\x9d\\xb4 \\xec\\x98\\xa8\\xeb\\x8b\\xa4\\xe3\\x80\\x8f. 1980\\xeb\\x85\\x84 5\\xec\\x9b\\x94 18\\xec\\x9d\\xbc\\xeb\\xb6\\x80\\xed\\x84\\xb0 \\xec\\x97\\xb4\\xed\\x9d\\x98\\xea\\xb0\\x84 \\xec\\x9e\\x88\\xec\\x97\\x88\\xeb\\x8d\\x98 \\xea\\xb4\\x91\\xec\\xa3\\xbc\\xeb\\xaf\\xbc\\xec\\xa3\\xbc\\xed\\x99\\x94\\xec\\x9a\\xb4\\xeb\\x8f\\x99 \\xeb\\x8b\\xb9\\xec\\x8b\\x9c\\xec\\x9d\\x98 \\xec\\x83\\x81\\xed\\x99\\xa9\\xea\\xb3\\xbc \\xea\\xb7\\xb8 \\xec\\x9d\\xb4\\xed\\x9b\\x84 \\xeb\\x82\\xa8\\xea\\xb2\\xa8\\xec\\xa7\\x84 \\xec\\x82\\xac\\xeb\\x9e\\x8c\\xeb\\x93\\xa4\\xec\\x9d\\x98 \\xec\\x9d\\xb4\\xec\\x95\\xbc\\xea\\xb8\\xb0\\xeb\\xa5\\xbc \\xeb\\x93\\xa4\\xeb\\xa0\\xa4\\xec\\xa3\\xbc\\xeb\\x8a\\x94 \\xec\\x86\\x8c\\xec\\x84\\xa4\\xec\\x9d\\xb4\\xeb\\x8b\\xa4. 2013\\xeb\\x85\\x84 11\\xec\\x9b\\x94\\xeb\\xb6\\x80\\xed\\x84\\xb0 2014\\xeb\\x85\\x84 1\\xec\\x9b\\x94\\xea\\xb9\\x8c\\xec\\xa7\\x80 \\xec\\xb0\\xbd\\xeb\\xb9\\x84\\xeb\\xac\\xb8\\xed\\x95\\x99\\xeb\\xb8\\x94\\xeb\\xa1\\x9c\\xea\\xb7\\xb8 \\xe2\\x80\\x98\\xec\\xb0\\xbd\\xeb\\xac\\xb8\\xe2\\x80\\x99\\xec\\x97\\x90\\xec\\x84\\x9c \\xec\\x97\\xb0\\xec\\x9e\\xac\\xed\\x96\\x88\\xeb\\x8d\\x98 \\xec\\x9e\\x91\\xed\\x92\\x88\\xec\\x9c\\xbc\\xeb\\xa1\\x9c \\xec\\xa7\\x80\\xea\\xb8\\x88\\xea\\xb9\\x8c\\xec\\xa7\\x80\\xec\\x9d\\x98 \\xec\\x9e\\x91\\xed\\x92\\x88\\xec\\x84\\xb8\\xea\\xb3\\x84\\xeb\\xa5\\xbc \\xed\\x95\\x9c \\xeb\\x8b\\xa8\\xea\\xb3\\x84 \\xeb\\x81\\x8c\\xec\\x96\\xb4\\xec\\x98\\xac\\xeb\\xa0\\xb8\\xeb\\x8b\\xa4\\xeb\\x8a\\x94 \\xed\\x8f\\x89\\xea\\xb0\\x80\\xeb\\xa5\\xbc \\xeb\\xb0\\x9b\\xec\\x95\\x98\\xeb\\x8b\\xa4. \\xec\\xb2\\xa0\\xec\\xa0\\x80\\xed\\x95\\x9c \\xea\\xb3\\xa0\\xec\\xa6\\x9d\\xea\\xb3\\xbc \\xec\\xb7\\xa8\\xec\\x9e\\xac\\xeb\\xa5\\xbc \\xed\\x86\\xb5\\xed\\x95\\xb4 \\xec\\xa0\\x80\\xec\\x9e\\x90 \\xed\\x8a\\xb9\\xec\\x9c\\xa0\\xec\\x9d\\x98 \\xec\\xa0\\x95\\xea\\xb5\\x90\\xed\\x95\\x98\\xea\\xb3\\xa0\\xeb\\x8f\\x84 \\xeb\\xb0\\x80\\xeb\\x8f\\x84 \\xec\\x9e\\x88\\xeb\\x8a\\x94 \\xeb\\xac\\xb8\\xec\\x9e\\xa5\\xec\\x9c\\xbc\\xeb\\xa1\\x9c \\xea\\xb3\\x84\\xec\\x97\\x84\\xea\\xb5\\xb0\\xec\\x97\\x90 \\xeb\\xa7\\x9e\\xec\\x84\\x9c \\xec\\x8b\\xb8\\xec\\x9a\\xb0\\xeb\\x8b\\xa4 \\xec\\xa3\\xbd\\xec\\x9d\\x8c\\xec\\x9d\\x84 \\xeb\\xa7\\x9e\\xea\\xb2\\x8c \\xeb\\x90\\x9c \\xec\\xa4\\x91\\xed\\x95\\x99\\xec\\x83\\x9d \\xeb\\x8f\\x99\\xed\\x98\\xb8\\xec\\x99\\x80 \\xec\\xa3\\xbc\\xeb\\xb3\\x80 \\xec\\x9d\\xb8\\xeb\\xac\\xbc\\xeb\\x93\\xa4\\xec\\x9d\\x98 \\xea\\xb3\\xa0\\xed\\x86\\xb5 \\xeb\\xb0\\x9b\\xeb\\x8a\\x94 \\xeb\\x82\\xb4\\xeb\\xa9\\xb4\\xec\\x9d\\x84 \\xec\\x83\\x9d\\xec\\x83\\x9d\\xed\\x95\\x98\\xea\\xb2\\x8c \\xea\\xb7\\xb8\\xeb\\xa0\\xa4\\xeb\\x83\\x88\\xeb\\x8b\\xa4.\\\\n\\\\n\\xec\\xa4\\x91\\xed\\x95\\x99\\xea\\xb5\\x90 3\\xed\\x95\\x99\\xeb\\x85\\x84\\xec\\x9d\\xb4\\xeb\\x8d\\x98 \\xec\\x86\\x8c\\xeb\\x85\\x84 \\xeb\\x8f\\x99\\xed\\x98\\xb8\\xeb\\x8a\\x94 \\xec\\xb9\\x9c\\xea\\xb5\\xac \\xec\\xa0\\x95\\xeb\\x8c\\x80\\xec\\x9d\\x98 \\xec\\xa3\\xbd\\xec\\x9d\\x8c\\xec\\x9d\\x84 \\xeb\\xaa\\xa9\\xea\\xb2\\xa9\\xed\\x95\\x9c \\xec\\x9d\\xb4\\xed\\x9b\\x84 \\xeb\\x8f\\x84\\xec\\xb2\\xad \\xec\\x83\\x81\\xeb\\xac\\xb4\\xea\\xb4\\x80\\xec\\x97\\x90\\xec\\x84\\x9c \\xec\\x8b\\x9c\\xec\\x8b\\xa0\\xeb\\x93\\xa4\\xec\\x9d\\x84 \\xea\\xb4\\x80\\xeb\\xa6\\xac\\xed\\x95\\x98\\xeb\\x8a\\x94 \\xec\\x9d\\xbc\\xec\\x9d\\x84 \\xeb\\x8f\\x95\\xea\\xb2\\x8c \\xeb\\x90\\x9c\\xeb\\x8b\\xa4. \\xeb\\xa7\\xa4\\xec\\x9d\\xbc\\xea\\xb0\\x99\\xec\\x9d\\xb4 \\xed\\x95\\xa9\\xeb\\x8f\\x99\\xeb\\xb6\\x84\\xed\\x96\\xa5\\xec\\x86\\x8c\\xea\\xb0\\x80 \\xec\\x9e\\x88\\xeb\\x8a\\x94 \\xec\\x83\\x81\\xeb\\xac\\xb4\\xea\\xb4\\x80\\xec\\x9c\\xbc\\xeb\\xa1\\x9c \\xeb\\x93\\xa4\\xec\\x96\\xb4\\xec\\x98\\xa4\\xeb\\x8a\\x94 \\xec\\x8b\\x9c\\xec\\x8b\\xa0\\xeb\\x93\\xa4\\xec\\x9d\\x84 \\xec\\x88\\x98\\xec\\x8a\\xb5\\xed\\x95\\x98\\xeb\\xa9\\xb0 \\xec\\xa3\\xbc\\xea\\xb2\\x80\\xeb\\x93\\xa4\\xec\\x9d\\x98 \\xeb\\xa7\\x90 \\xec\\x97\\x86\\xeb\\x8a\\x94 \\xed\\x98\\xbc\\xec\\x9d\\x84 \\xec\\x9c\\x84\\xeb\\xa1\\x9c\\xed\\x95\\x98\\xea\\xb8\\xb0 \\xec\\x9c\\x84\\xed\\x95\\xb4 \\xec\\xb4\\x88\\xeb\\xa5\\xbc \\xeb\\xb0\\x9d\\xed\\x9e\\x88\\xeb\\x8d\\x98 \\xea\\xb7\\xb8\\xeb\\x8a\\x94 \\xec\\x8b\\x9c\\xec\\x8b\\xa0\\xeb\\x93\\xa4 \\xec\\x82\\xac\\xec\\x9d\\xb4\\xec\\x97\\x90\\xec\\x84\\x9c \\xec\\xb9\\x9c\\xea\\xb5\\xac \\xec\\xa0\\x95\\xeb\\x8c\\x80\\xec\\x9d\\x98 \\xec\\xb2\\x98\\xec\\xb0\\xb8\\xed\\x95\\x9c \\xec\\xa3\\xbd\\xec\\x9d\\x8c\\xec\\x9d\\x84 \\xeb\\x96\\xa0\\xec\\x98\\xac\\xeb\\xa6\\xac\\xeb\\xa9\\xb0 \\xea\\xb4\\xb4\\xeb\\xa1\\x9c\\xec\\x9b\\x8c\\xed\\x95\\x9c\\xeb\\x8b\\xa4.\\\\n\\\\n\\xea\\xb7\\xb8\\xeb\\xa6\\xac\\xea\\xb3\\xa0 \\xea\\xb7\\xb8\\xeb\\x82\\xa0, \\xeb\\x8f\\x8c\\xec\\x95\\x84\\xec\\x98\\xa4\\xeb\\x9d\\xbc\\xeb\\x8a\\x94 \\xec\\x97\\x84\\xeb\\xa7\\x88\\xec\\x99\\x80 \\xeb\\x8f\\x8c\\xec\\x95\\x84\\xea\\xb0\\x80\\xeb\\x9d\\xbc\\xeb\\x8a\\x94 \\xed\\x98\\x95, \\xeb\\x88\\x84\\xeb\\x82\\x98\\xeb\\x93\\xa4\\xec\\x9d\\x98 \\xeb\\xa7\\x90\\xec\\x9d\\x84 \\xeb\\x93\\xa3\\xec\\xa7\\x80 \\xec\\x95\\x8a\\xea\\xb3\\xa0 \\xeb\\x8f\\x99\\xed\\x98\\xb8\\xeb\\x8a\\x94 \\xeb\\x8f\\x84\\xec\\xb2\\xad\\xec\\x97\\x90 \\xeb\\x82\\xa8\\xeb\\x8a\\x94\\xeb\\x8b\\xa4. \\xeb\\x8f\\x99\\xed\\x98\\xb8\\xec\\x99\\x80 \\xed\\x95\\xa8\\xea\\xbb\\x98 \\xec\\x83\\x81\\xeb\\xac\\xb4\\xea\\xb4\\x80\\xec\\x97\\x90\\xec\\x84\\x9c \\xec\\x9d\\xbc\\xed\\x95\\x98\\xeb\\x8d\\x98 \\xed\\x98\\x95\\xea\\xb3\\xbc \\xeb\\x88\\x84\\xeb\\x82\\x98\\xeb\\x93\\xa4\\xec\\x9d\\x80 5\\xc2\\xb718 \\xec\\x9d\\xb4\\xed\\x9b\\x84 \\xea\\xb2\\xbd\\xec\\xb0\\xb0\\xec\\x97\\x90 \\xec\\x97\\xb0\\xed\\x96\\x89\\xeb\\x90\\x98\\xec\\x96\\xb4 \\xeb\\x81\\x94\\xec\\xb0\\x8d\\xed\\x95\\x9c \\xea\\xb3\\xa0\\xeb\\xac\\xb8\\xec\\x9d\\x84 \\xeb\\xb0\\x9b\\xec\\x9c\\xbc\\xeb\\xa9\\xb0 \\xec\\x82\\xb4\\xec\\x95\\x84 \\xec\\x9e\\x88\\xeb\\x8b\\xa4\\xeb\\x8a\\x94 \\xea\\xb2\\x83\\xec\\x9d\\x84 \\xec\\xb9\\x98\\xec\\x9a\\x95\\xec\\x8a\\xa4\\xeb\\x9f\\xac\\xec\\x9a\\xb4 \\xea\\xb3\\xa0\\xed\\x86\\xb5\\xec\\x9c\\xbc\\xeb\\xa1\\x9c \\xec\\x97\\xac\\xea\\xb8\\xb0\\xea\\xb1\\xb0\\xeb\\x82\\x98 \\xec\\x9d\\xbc\\xec\\x83\\x81\\xec\\x9d\\x84 \\xed\\x9a\\x8c\\xeb\\xb3\\xb5\\xed\\x95\\xa0 \\xec\\x88\\x98 \\xec\\x97\\x86\\xeb\\x8a\\x94 \\xeb\\xac\\xb4\\xeb\\xa0\\xa5\\xea\\xb0\\x90\\xec\\x97\\x90 \\xeb\\xb9\\xa0\\xec\\xa7\\x84\\xeb\\x8b\\xa4. \\xec\\xa0\\x80\\xec\\x9e\\x90\\xeb\\x8a\\x94 5\\xc2\\xb718 \\xeb\\x8b\\xb9\\xec\\x8b\\x9c \\xec\\x88\\xa8\\xec\\xa3\\xbd\\xec\\x9d\\xb4\\xeb\\xa9\\xb0 \\xea\\xb3\\xa0\\xed\\x86\\xb5 \\xeb\\xb0\\x9b\\xec\\x95\\x98\\xeb\\x8d\\x98 \\xec\\x9d\\xb8\\xeb\\xac\\xbc\\xeb\\x93\\xa4\\xec\\x9d\\x98 \\xec\\x88\\xa8\\xea\\xb2\\xa8\\xec\\xa7\\x84 \\xec\\x9d\\xb4\\xec\\x95\\xbc\\xea\\xb8\\xb0\\xeb\\xa5\\xbc \\xeb\\x93\\xa4\\xeb\\xa0\\xa4\\xec\\xa3\\xbc\\xeb\\xa9\\xb0 \\xea\\xb7\\xb8\\xeb\\x93\\xa4\\xec\\x9d\\x98 \\xec\\x95\\x84\\xed\\x94\\x94\\xec\\x9d\\x84 \\xec\\x96\\xb4\\xeb\\xa3\\xa8\\xeb\\xa7\\x8c\\xec\\xa7\\x84\\xeb\\x8b\\xa4. 2017\\xeb\\x85\\x84 \\xec\\x9d\\xb4\\xed\\x83\\x88\\xeb\\xa6\\xac\\xec\\x95\\x84\\xec\\x9d\\x98 \\xea\\xb6\\x8c\\xec\\x9c\\x84 \\xec\\x9e\\x88\\xeb\\x8a\\x94 \\xeb\\xac\\xb8\\xed\\x95\\x99\\xec\\x83\\x81\\xec\\x9d\\xb8 \\xeb\\xa7\\x90\\xeb\\x9d\\xbc\\xed\\x8c\\x8c\\xeb\\xa5\\xb4\\xed\\x85\\x8c\\xec\\x83\\x81 \\xec\\x88\\x98\\xec\\x83\\x81\\xec\\x9e\\x91\\xec\\x9c\\xbc\\xeb\\xa1\\x9c \\xec\\x84\\xa0\\xec\\xa0\\x95\\xeb\\x90\\x98\\xec\\x97\\x88\\xeb\\x8b\\xa4.\"\\n\\t\\t},\\n\\t\\t{\\n\\t\\t\\t\"title\":\"\\xe5\\xb0\\x91\\xe5\\xb9\\xb4\\xe4\\xbe\\x86\\xe4\\xba\\x86\\xe3\\x80\\x90\\xe6\\x96\\xb0\\xe8\\xa3\\x9d\\xe7\\xb4\\x80\\xe5\\xbf\\xb5\\xe7\\x89\\x88\\xe3\\x80\\x91 \\xe3\\x80\\x8e\\xec\\x86\\x8c\\xeb\\x85\\x84\\xec\\x9d\\xb4 \\xec\\x98\\xa8\\xeb\\x8b\\xa4\\xe3\\x80\\x8f \\xeb\\x8c\\x80\\xeb\\xa7\\x8c\\xed\\x8c\\x90\",\\n\\t\\t\\t\"link\":\"https:\\\\/\\\\/search.shopping.naver.com\\\\/book\\\\/catalog\\\\/50836523621\",\\n\\t\\t\\t\"image\":\"https:\\\\/\\\\/shopping-phinf.pstatic.net\\\\/main_5083652\\\\/50836523621.20241014145503.jpg\",\\n\\t\\t\\t\"author\":\"\\xed\\x95\\x9c\\xea\\xb0\\x95\",\\n\\t\\t\\t\"discount\":\"28900\",\\n\\t\\t\\t\"publisher\":\"\\xe6\\xbc\\xab\\xe9\\x81\\x8a\\xe8\\x80\\x85\\xe6\\x96\\x87\\xe5\\x8c\\x96 AzothBooks\",\\n\\t\\t\\t\"pubdate\":\"20230619\",\\n\\t\\t\\t\"isbn\":\"9789864897865\",\\n\\t\\t\\t\"description\":\"\\xed\\x95\\x9c\\xea\\xb0\\x95\\xec\\x9d\\x84 \\xeb\\x9b\\xb0\\xec\\x96\\xb4\\xeb\\x84\\x98\\xec\\x9d\\x80 \\xed\\x95\\x9c\\xea\\xb0\\x95\\xec\\x9d\\x98 \\xec\\x86\\x8c\\xec\\x84\\xa4\\\\n\\xec\\x96\\xb5\\xec\\x9a\\xb8\\xed\\x95\\x9c \\xec\\x98\\x81\\xed\\x98\\xbc\\xeb\\x93\\xa4\\xec\\x9d\\x98 \\xeb\\xa7\\x90\\xec\\x9d\\x84 \\xeb\\x8c\\x80\\xec\\x8b\\xa0 \\xec\\xa0\\x84\\xed\\x95\\x98\\xeb\\x8a\\x94 \\xec\\x98\\xa4\\xec\\x9b\\x94\\xec\\x9d\\x98 \\xeb\\x85\\xb8\\xeb\\x9e\\x98\\\\n\\\\n\\xec\\x84\\xac\\xec\\x84\\xb8\\xed\\x95\\x9c \\xea\\xb0\\x90\\xec\\x88\\x98\\xec\\x84\\xb1\\xea\\xb3\\xbc \\xec\\xb9\\x98\\xeb\\xb0\\x80\\xed\\x95\\x9c \\xeb\\xac\\xb8\\xec\\x9e\\xa5\\xec\\x9c\\xbc\\xeb\\xa1\\x9c \\xec\\x9d\\xb8\\xea\\xb0\\x84 \\xec\\xa1\\xb4\\xec\\x9e\\xac\\xec\\x9d\\x98 \\xeb\\xb3\\xb8\\xec\\xa7\\x88\\xec\\x9d\\x84 \\xed\\x83\\x90\\xea\\xb5\\xac\\xed\\x95\\xb4\\xec\\x98\\xa8 \\xec\\x9e\\x91\\xea\\xb0\\x80 \\xed\\x95\\x9c\\xea\\xb0\\x95\\xec\\x9d\\x98 \\xec\\x97\\xac\\xec\\x84\\xaf\\xeb\\xb2\\x88\\xec\\xa7\\xb8 \\xec\\x9e\\xa5\\xed\\x8e\\xb8\\xec\\x86\\x8c\\xec\\x84\\xa4\\xec\\x9d\\xb4\\xeb\\x8b\\xa4. 1980\\xeb\\x85\\x84 \\xea\\xb4\\x91\\xec\\xa3\\xbc\\xec\\x9d\\x98 5\\xec\\x9b\\x94\\xec\\x9d\\x84 \\xeb\\x8b\\xa4\\xeb\\xa4\\x84 \\xeb\\x8f\\x85\\xec\\x9e\\x90\\xeb\\x93\\xa4\\xec\\x9d\\x98 \\xec\\x9d\\xb4\\xeb\\xaa\\xa9\\xec\\x9d\\x84 \\xeb\\x81\\x8c\\xec\\x97\\x88\\xeb\\x8d\\x98 \\xec\\x97\\xb4\\xeb\\x8b\\xa4\\xec\\x84\\xaf\\xec\\x82\\xb4 \\xec\\x86\\x8c\\xeb\\x85\\x84\\xec\\x9d\\x98 \\xec\\x9d\\xb4\\xec\\x95\\xbc\\xea\\xb8\\xb0\\xeb\\x8a\\x94 \\'\\xec\\x83\\x81\\xec\\xb2\\x98\\xec\\x9d\\x98 \\xea\\xb5\\xac\\xec\\xa1\\xb0\\xec\\x97\\x90 \\xeb\\x8c\\x80\\xed\\x95\\x9c \\xed\\x88\\xac\\xec\\x8b\\x9c\\xec\\x99\\x80 \\xec\\xb2\\x9c\\xec\\xb0\\xa9\\xec\\x9d\\x98 \\xec\\x84\\x9c\\xec\\x82\\xac\\'\\xeb\\xa5\\xbc \\xed\\x86\\xb5\\xed\\x95\\xb4 \\xed\\x95\\x9c\\xea\\xb0\\x95\\xeb\\xa7\\x8c\\xec\\x9d\\xb4 \\xed\\x92\\x80\\xec\\x96\\xb4\\xeb\\x82\\xbc \\xec\\x88\\x98 \\xec\\x9e\\x88\\xeb\\x8a\\x94 \\xeb\\xb0\\xa9\\xec\\x8b\\x9d\\xec\\x9c\\xbc\\xeb\\xa1\\x9c 1980\\xeb\\x85\\x84 5\\xec\\x9b\\x94\\xec\\x9d\\x84 \\xec\\x83\\x88\\xeb\\xa1\\xad\\xea\\xb2\\x8c \\xec\\xa1\\xb0\\xeb\\xaa\\x85\\xed\\x95\\x9c\\xeb\\x8b\\xa4.\\\\n\\\\n\\xed\\x95\\x9c\\xea\\xb0\\x95\\xec\\x9d\\x80 \\xeb\\xac\\xb4\\xea\\xb3\\xa0\\xed\\x95\\x9c \\xec\\x98\\x81\\xed\\x98\\xbc\\xeb\\x93\\xa4\\xec\\x9d\\x98 \\xeb\\xa7\\x90\\xec\\x9d\\x84 \\xeb\\x8c\\x80\\xec\\x8b\\xa0 \\xec\\xa0\\x84\\xed\\x95\\x98\\xeb\\x8a\\x94 \\xeb\\x93\\xaf\\xed\\x95\\x9c \\xec\\xa7\\x84\\xec\\x8b\\xac \\xec\\x96\\xb4\\xeb\\xa6\\xb0 \\xeb\\xac\\xb8\\xec\\x9e\\xa5\\xeb\\x93\\xa4\\xeb\\xa1\\x9c \\xec\\x96\\xb4\\xeb\\x8a\\x90\\xeb\\x8d\\xa7 \\xea\\xb7\\xb8 \\xec\\x8b\\x9c\\xec\\xa0\\x88\\xec\\x9d\\x84 \\xec\\x9e\\x8a\\xea\\xb3\\xa0 \\xeb\\xac\\xb4\\xec\\x8b\\xac\\xed\\x95\\x98\\xea\\xb2\\x8c 5\\xc2\\xb718 \\xec\\x9d\\xb4\\xed\\x9b\\x84\\xeb\\xa5\\xbc \\xec\\x82\\xb4\\xea\\xb3\\xa0 \\xec\\x9e\\x88\\xeb\\x8a\\x94 \\xec\\x9a\\xb0\\xeb\\xa6\\xac\\xec\\x97\\x90\\xea\\xb2\\x8c \\xeb\\xac\\xb5\\xec\\xa7\\x81\\xed\\x95\\x9c \\xec\\xa7\\x88\\xeb\\xac\\xb8\\xec\\x9d\\x84 \\xeb\\x8d\\x98\\xec\\xa7\\x80\\xea\\xb3\\xa0, \\xec\\x97\\xac\\xec\\xa0\\x84\\xed\\x9e\\x88 5\\xc2\\xb718\\xec\\x9d\\x98 \\xed\\x8a\\xb8\\xeb\\x9d\\xbc\\xec\\x9a\\xb0\\xeb\\xa7\\x88\\xeb\\xa5\\xbc \\xec\\x95\\x88\\xea\\xb3\\xa0 \\xed\\x9e\\x98\\xea\\xb2\\xb9\\xea\\xb2\\x8c \\xec\\x82\\xb4\\xec\\x95\\x84\\xea\\xb0\\x80\\xeb\\x8a\\x94 \\xec\\x82\\xac\\xeb\\x9e\\x8c\\xeb\\x93\\xa4\\xec\\x9d\\x84 \\xec\\x9c\\x84\\xeb\\xac\\xb4\\xed\\x95\\x9c\\xeb\\x8b\\xa4.\"\\n\\t\\t},\\n\\t\\t{\\n\\t\\t\\t\"title\":\"Celui Qui Revient (\\xed\\x95\\x9c\\xea\\xb0\\x95 - \\xec\\x86\\x8c\\xeb\\x85\\x84\\xec\\x9d\\xb4 \\xec\\x98\\xa8\\xeb\\x8b\\xa4 \\xed\\x94\\x84\\xeb\\x9e\\x91\\xec\\x8a\\xa4\\xec\\x96\\xb4)\",\\n\\t\\t\\t\"link\":\"https:\\\\/\\\\/search.shopping.naver.com\\\\/book\\\\/catalog\\\\/50805045624\",\\n\\t\\t\\t\"image\":\"https:\\\\/\\\\/shopping-phinf.pstatic.net\\\\/main_5080504\\\\/50805045624.20241012082752.jpg\",\\n\\t\\t\\t\"author\":\"Han Kang\",\\n\\t\\t\\t\"discount\":\"9800\",\\n\\t\\t\\t\"publisher\":\"Points\",\\n\\t\\t\\t\"pubdate\":\"20170824\",\\n\\t\\t\\t\"isbn\":\"9782757868867\",\\n\\t\\t\\t\"description\":\"En ce printemps 1980, un vent de terreur souffle sur la Cor\\xc3\\xa9e du Sud. La r\\xc3\\xa9volte de Gwangju se solde par un massacre sans nom. Dans la ville meurtrie, Tongho erre parmi les cadavres, \\xc3\\xa0 la recherche de son ami disparu. Dans une maison d\\'\\xc3\\xa9dition, Kim travaille sur un texte censur\\xc3\\xa9. Dans l\\'au-del\\xc3\\xa0, Chongdae part retrouver les siens. Et toutes ces \\xc3\\xa2mes tourment\\xc3\\xa9es ne demandent qu\\'\\xc3\\xa0 trouver la paix.\"\\n\\t\\t},\\n\\t\\t{\\n\\t\\t\\t\"title\":\"Atti umani (2024 \\xeb\\x85\\xb8\\xeb\\xb2\\xa8\\xeb\\xac\\xb8\\xed\\x95\\x99\\xec\\x83\\x81 \\xec\\x88\\x98\\xec\\x83\\x81\\xec\\x9e\\x91\\xea\\xb0\\x80 \\xed\\x95\\x9c\\xea\\xb0\\x95 \\xe3\\x80\\x8e\\xec\\x86\\x8c\\xeb\\x85\\x84\\xec\\x9d\\xb4 \\xec\\x98\\xa8\\xeb\\x8b\\xa4\\xe3\\x80\\x8f \\xec\\x9d\\xb4\\xed\\x83\\x88\\xeb\\xa6\\xac\\xec\\x95\\x84\\xec\\x96\\xb4\\xed\\x8c\\x90)\",\\n\\t\\t\\t\"link\":\"https:\\\\/\\\\/search.shopping.naver.com\\\\/book\\\\/catalog\\\\/46643001631\",\\n\\t\\t\\t\"image\":\"https:\\\\/\\\\/shopping-phinf.pstatic.net\\\\/main_4664300\\\\/46643001631.20241015151141.jpg\",\\n\\t\\t\\t\"author\":\"\\xed\\x95\\x9c\\xea\\xb0\\x95\",\\n\\t\\t\\t\"discount\":\"20000\",\\n\\t\\t\\t\"publisher\":\"Adelphi\",\\n\\t\\t\\t\"pubdate\":\"20230505\",\\n\\t\\t\\t\"isbn\":\"9788845937873\",\\n\\t\\t\\t\"description\":\"Una palestra comunale, decine di cadaveri che saturano l\\xe2\\x80\\x99aria di un \\\\\"orribile tanfo putrido\\\\\". Siamo a Gwangju, in Corea del Sud, nel maggio 1980: dopo il colpo di Stato di Chun Doo-hwan, in tutto il paese vige la legge marziale. Quando i militari hanno aperto il fuoco su un corteo di protesta \\xc3\\xa8 iniziata l\\xe2\\x80\\x99insurrezione, seguita da brutali rappresaglie; \\\\\"Atti umani\\\\\" \\xc3\\xa8 il coro polifonico dei vivi e dei morti di una carneficina mai veramente narrata in Occidente. Conosciamo il quindicenne Dong-ho, alla ricerca di un amico scomparso; Eun-sook, la redattrice che ha assaggiato il \\\\\"rullo inchiostratore\\\\\" della censura e i \\\\\"sette schiaffi\\\\\" di un interrogatorio; l\\xe2\\x80\\x99anonimo prigioniero che ha avuto la sfortuna di sopravvivere; la giovane operaia calpestata a sangue da un poliziotto in borghese. Dopo il massacro, ancora anni di carcere, sevizie, delazioni, dinieghi; al volgere del millennio stentate aperture, parziali ammissioni, tardive commemorazioni. Han Kang, con il terso, spietato lirismo della sua scrittura, scruta tante vite dilaniate, racconta oggi l\\xe2\\x80\\x99indicibile, le laceranti dissonanze di un passato che si voleva cancellato.\"\\n\\t\\t},\\n\\t\\t{\\n\\t\\t\\t\"title\":\"Human Acts \\xed\\x95\\x9c\\xea\\xb0\\x95 \\xec\\x9e\\x91\\xea\\xb0\\x80\\xe3\\x80\\x8e\\xec\\x86\\x8c\\xeb\\x85\\x84\\xec\\x9d\\xb4 \\xec\\x98\\xa8\\xeb\\x8b\\xa4\\xe3\\x80\\x8f \\xec\\x98\\x81\\xeb\\xac\\xb8\\xed\\x8c\\x90 (\\xec\\x98\\x81\\xea\\xb5\\xad\\xed\\x8c\\x90)\",\\n\\t\\t\\t\"link\":\"https:\\\\/\\\\/search.shopping.naver.com\\\\/book\\\\/catalog\\\\/50797348627\",\\n\\t\\t\\t\"image\":\"https:\\\\/\\\\/shopping-phinf.pstatic.net\\\\/main_5079734\\\\/50797348627.20241011201607.jpg\",\\n\\t\\t\\t\"author\":\"\\xed\\x95\\x9c\\xea\\xb0\\x95\",\\n\\t\\t\\t\"discount\":\"0\",\\n\\t\\t\\t\"publisher\":\"Granta Books\",\\n\\t\\t\\t\"pubdate\":\"\",\\n\\t\\t\\t\"isbn\":\"9781803512037\",\\n\\t\\t\\t\"description\":\"\\xed\\x95\\x9c\\xea\\xb0\\x95\\xec\\x9d\\x84 \\xeb\\x9b\\xb0\\xec\\x96\\xb4\\xeb\\x84\\x98\\xec\\x9d\\x80 \\xed\\x95\\x9c\\xea\\xb0\\x95\\xec\\x9d\\x98 \\xec\\x86\\x8c\\xec\\x84\\xa4\\\\n\\xec\\x96\\xb5\\xec\\x9a\\xb8\\xed\\x95\\x9c \\xec\\x98\\x81\\xed\\x98\\xbc\\xeb\\x93\\xa4\\xec\\x9d\\x98 \\xeb\\xa7\\x90\\xec\\x9d\\x84 \\xeb\\x8c\\x80\\xec\\x8b\\xa0 \\xec\\xa0\\x84\\xed\\x95\\x98\\xeb\\x8a\\x94 \\xec\\x98\\xa4\\xec\\x9b\\x94\\xec\\x9d\\x98 \\xeb\\x85\\xb8\\xeb\\x9e\\x98\\\\n\\\\n\\xec\\x84\\xac\\xec\\x84\\xb8\\xed\\x95\\x9c \\xea\\xb0\\x90\\xec\\x88\\x98\\xec\\x84\\xb1\\xea\\xb3\\xbc \\xec\\xb9\\x98\\xeb\\xb0\\x80\\xed\\x95\\x9c \\xeb\\xac\\xb8\\xec\\x9e\\xa5\\xec\\x9c\\xbc\\xeb\\xa1\\x9c \\xec\\x9d\\xb8\\xea\\xb0\\x84 \\xec\\xa1\\xb4\\xec\\x9e\\xac\\xec\\x9d\\x98 \\xeb\\xb3\\xb8\\xec\\xa7\\x88\\xec\\x9d\\x84 \\xed\\x83\\x90\\xea\\xb5\\xac\\xed\\x95\\xb4\\xec\\x98\\xa8 \\xec\\x9e\\x91\\xea\\xb0\\x80 \\xed\\x95\\x9c\\xea\\xb0\\x95\\xec\\x9d\\x98 \\xec\\x97\\xac\\xec\\x84\\xaf\\xeb\\xb2\\x88\\xec\\xa7\\xb8 \\xec\\x9e\\xa5\\xed\\x8e\\xb8\\xec\\x86\\x8c\\xec\\x84\\xa4\\xec\\x9d\\xb4\\xeb\\x8b\\xa4. 1980\\xeb\\x85\\x84 \\xea\\xb4\\x91\\xec\\xa3\\xbc\\xec\\x9d\\x98 5\\xec\\x9b\\x94\\xec\\x9d\\x84 \\xeb\\x8b\\xa4\\xeb\\xa4\\x84 \\xeb\\x8f\\x85\\xec\\x9e\\x90\\xeb\\x93\\xa4\\xec\\x9d\\x98 \\xec\\x9d\\xb4\\xeb\\xaa\\xa9\\xec\\x9d\\x84 \\xeb\\x81\\x8c\\xec\\x97\\x88\\xeb\\x8d\\x98 \\xec\\x97\\xb4\\xeb\\x8b\\xa4\\xec\\x84\\xaf\\xec\\x82\\xb4 \\xec\\x86\\x8c\\xeb\\x85\\x84\\xec\\x9d\\x98 \\xec\\x9d\\xb4\\xec\\x95\\xbc\\xea\\xb8\\xb0\\xeb\\x8a\\x94 \\'\\xec\\x83\\x81\\xec\\xb2\\x98\\xec\\x9d\\x98 \\xea\\xb5\\xac\\xec\\xa1\\xb0\\xec\\x97\\x90 \\xeb\\x8c\\x80\\xed\\x95\\x9c \\xed\\x88\\xac\\xec\\x8b\\x9c\\xec\\x99\\x80 \\xec\\xb2\\x9c\\xec\\xb0\\xa9\\xec\\x9d\\x98 \\xec\\x84\\x9c\\xec\\x82\\xac\\'\\xeb\\xa5\\xbc \\xed\\x86\\xb5\\xed\\x95\\xb4 \\xed\\x95\\x9c\\xea\\xb0\\x95\\xeb\\xa7\\x8c\\xec\\x9d\\xb4 \\xed\\x92\\x80\\xec\\x96\\xb4\\xeb\\x82\\xbc \\xec\\x88\\x98 \\xec\\x9e\\x88\\xeb\\x8a\\x94 \\xeb\\xb0\\xa9\\xec\\x8b\\x9d\\xec\\x9c\\xbc\\xeb\\xa1\\x9c 1980\\xeb\\x85\\x84 5\\xec\\x9b\\x94\\xec\\x9d\\x84 \\xec\\x83\\x88\\xeb\\xa1\\xad\\xea\\xb2\\x8c \\xec\\xa1\\xb0\\xeb\\xaa\\x85\\xed\\x95\\x9c\\xeb\\x8b\\xa4.\\\\n\\\\n\\xed\\x95\\x9c\\xea\\xb0\\x95\\xec\\x9d\\x80 \\xeb\\xac\\xb4\\xea\\xb3\\xa0\\xed\\x95\\x9c \\xec\\x98\\x81\\xed\\x98\\xbc\\xeb\\x93\\xa4\\xec\\x9d\\x98 \\xeb\\xa7\\x90\\xec\\x9d\\x84 \\xeb\\x8c\\x80\\xec\\x8b\\xa0 \\xec\\xa0\\x84\\xed\\x95\\x98\\xeb\\x8a\\x94 \\xeb\\x93\\xaf\\xed\\x95\\x9c \\xec\\xa7\\x84\\xec\\x8b\\xac \\xec\\x96\\xb4\\xeb\\xa6\\xb0 \\xeb\\xac\\xb8\\xec\\x9e\\xa5\\xeb\\x93\\xa4\\xeb\\xa1\\x9c \\xec\\x96\\xb4\\xeb\\x8a\\x90\\xeb\\x8d\\xa7 \\xea\\xb7\\xb8 \\xec\\x8b\\x9c\\xec\\xa0\\x88\\xec\\x9d\\x84 \\xec\\x9e\\x8a\\xea\\xb3\\xa0 \\xeb\\xac\\xb4\\xec\\x8b\\xac\\xed\\x95\\x98\\xea\\xb2\\x8c 5\\xc2\\xb718 \\xec\\x9d\\xb4\\xed\\x9b\\x84\\xeb\\xa5\\xbc \\xec\\x82\\xb4\\xea\\xb3\\xa0 \\xec\\x9e\\x88\\xeb\\x8a\\x94 \\xec\\x9a\\xb0\\xeb\\xa6\\xac\\xec\\x97\\x90\\xea\\xb2\\x8c \\xeb\\xac\\xb5\\xec\\xa7\\x81\\xed\\x95\\x9c \\xec\\xa7\\x88\\xeb\\xac\\xb8\\xec\\x9d\\x84 \\xeb\\x8d\\x98\\xec\\xa7\\x80\\xea\\xb3\\xa0, \\xec\\x97\\xac\\xec\\xa0\\x84\\xed\\x9e\\x88 5\\xc2\\xb718\\xec\\x9d\\x98 \\xed\\x8a\\xb8\\xeb\\x9d\\xbc\\xec\\x9a\\xb0\\xeb\\xa7\\x88\\xeb\\xa5\\xbc \\xec\\x95\\x88\\xea\\xb3\\xa0 \\xed\\x9e\\x98\\xea\\xb2\\xb9\\xea\\xb2\\x8c \\xec\\x82\\xb4\\xec\\x95\\x84\\xea\\xb0\\x80\\xeb\\x8a\\x94 \\xec\\x82\\xac\\xeb\\x9e\\x8c\\xeb\\x93\\xa4\\xec\\x9d\\x84 \\xec\\x9c\\x84\\xeb\\xac\\xb4\\xed\\x95\\x9c\\xeb\\x8b\\xa4.\"\\n\\t\\t}\\n\\t]\\n}'"
      ]
     },
     "execution_count": 3,
     "metadata": {},
     "output_type": "execute_result"
    }
   ],
   "source": [
    "response_body"
   ]
  },
  {
   "cell_type": "code",
   "execution_count": 4,
   "metadata": {},
   "outputs": [],
   "source": [
    "#위에 맨앞에 붙은 b는 바이너리 데이터라는 것을 표기"
   ]
  },
  {
   "cell_type": "code",
   "execution_count": 5,
   "metadata": {},
   "outputs": [],
   "source": [
    "text_response = response_body.decode('utf-8')"
   ]
  },
  {
   "cell_type": "code",
   "execution_count": 7,
   "metadata": {},
   "outputs": [
    {
     "data": {
      "text/plain": [
       "str"
      ]
     },
     "execution_count": 7,
     "metadata": {},
     "output_type": "execute_result"
    }
   ],
   "source": [
    "type(text_response)"
   ]
  },
  {
   "cell_type": "code",
   "execution_count": 18,
   "metadata": {},
   "outputs": [
    {
     "name": "stdout",
     "output_type": "stream",
     "text": [
      "<class 'dict'>\n",
      "<class 'list'>\n",
      "1. 소년이 온다 (한강 소설 l 2024년 노벨문학상 수상작가)\n",
      "2. 소년이 온다 1(큰글자도서) (한강 소설ㅣ2024년 노벨문학상 수상작가)\n",
      "3. 소년이 온다 2(큰글자도서) (2024년 노벨문학상 수상작가)\n",
      "4. Human Acts 한강 작가『소년이 온다』 영문판 (영국판) (소년이 온다)\n",
      "5. Human Acts  한강 작가『소년이 온다』 영문판 (미국판) (소년이 온다)\n",
      "6. 소년이 온다(특별한정판) (한강 소설ㅣ2024년 노벨문학상 수상작가)\n",
      "7. 少年來了【新裝紀念版】 『소년이 온다』 대만판\n",
      "8. Celui Qui Revient (한강 - 소년이 온다 프랑스어)\n",
      "9. Atti umani (2024 노벨문학상 수상작가 한강 『소년이 온다』 이탈리아어판)\n",
      "10. Human Acts 한강 작가『소년이 온다』 영문판 (영국판)\n"
     ]
    }
   ],
   "source": [
    "# json string -> dict\n",
    "import json\n",
    "\n",
    "dict_response = json.loads(text_response)\n",
    "\n",
    "print(type(dict_response))\n",
    "# print(dict_response)\n",
    "\n",
    "print(type(dict_response['items']))\n",
    "\n",
    "for idx, item in enumerate(dict_response['items']):\n",
    "    # print(type(item))\n",
    "    print(\"{0}. {1}\".format(idx + 1, item['title']))"
   ]
  },
  {
   "cell_type": "code",
   "execution_count": 25,
   "metadata": {},
   "outputs": [
    {
     "name": "stdout",
     "output_type": "stream",
     "text": [
      "['소년이 온다 (한강 소설 l 2024년 노벨문학상 수상작가)', '소년이 온다 1(큰글자도서) (한강 소설ㅣ2024년 노벨문학상 수상작가)', '소년이 온다 2(큰글자도서) (2024년 노벨문학상 수상작가)', 'Human Acts 한강 작가『소년이 온다』 영문판 (영국판) (소년이 온다)', 'Human Acts  한강 작가『소년이 온다』 영문판 (미국판) (소년이 온다)', '소년이 온다(특별한정판) (한강 소설ㅣ2024년 노벨문학상 수상작가)', '少年來了【新裝紀念版】 『소년이 온다』 대만판', 'Celui Qui Revient (한강 - 소년이 온다 프랑스어)', 'Atti umani (2024 노벨문학상 수상작가 한강 『소년이 온다』 이탈리아어판)', 'Human Acts 한강 작가『소년이 온다』 영문판 (영국판)']\n"
     ]
    }
   ],
   "source": [
    "titles = []\n",
    "# for idx, item in enumerate(dict_response['items']):\n",
    "    # print(type(item))\n",
    "titles = [item['title'] for item in dict_response['items']]\n",
    "print(titles)"
   ]
  },
  {
   "cell_type": "code",
   "execution_count": 24,
   "metadata": {},
   "outputs": [
    {
     "name": "stdout",
     "output_type": "stream",
     "text": [
      "['소년이 온다 (한강 소설 l 2024년 노벨문학상 수상작가)', '소년이 온다 1(큰글자도서) (한강 소설ㅣ2024년 노벨문학상 수상작가)', '소년이 온다 2(큰글자도서) (2024년 노벨문학상 수상작가)', 'Human Acts 한강 작가『소년이 온다』 영문판 (영국판) (소년이 온다)', 'Human Acts  한강 작가『소년이 온다』 영문판 (미국판) (소년이 온다)', '소년이 온다(특별한정판) (한강 소설ㅣ2024년 노벨문학상 수상작가)', '少年來了【新裝紀念版】 『소년이 온다』 대만판', 'Celui Qui Revient (한강 - 소년이 온다 프랑스어)', 'Atti umani (2024 노벨문학상 수상작가 한강 『소년이 온다』 이탈리아어판)', 'Human Acts 한강 작가『소년이 온다』 영문판 (영국판)']\n"
     ]
    }
   ],
   "source": [
    "titles = []\n",
    "for idx, item in enumerate(dict_response['items']):\n",
    "    titles.append(item['title'])\n",
    "\n",
    "print(titles)"
   ]
  },
  {
   "cell_type": "code",
   "execution_count": 26,
   "metadata": {},
   "outputs": [],
   "source": [
    "# 리스트는 데이터의 나열 딕셔너리는 키벨류로 식별자가 존재\n",
    "# list = ['a', 'b', 'c']\n",
    "# dict = [11 : 'a', 22: 'b', 33 : 'c']\n",
    "# dict[11] -> a\n",
    "# dict2 = ['11' : 'a', '22': 'b', '33' : 'c']\n",
    "# dict2['11'] -> a\n",
    "# 딕트에 들어가는 키가 숫자열이냐 문자열이냐도 중요"
   ]
  },
  {
   "cell_type": "code",
   "execution_count": 28,
   "metadata": {},
   "outputs": [
    {
     "name": "stdout",
     "output_type": "stream",
     "text": [
      "Collecting pandas\n",
      "  Using cached pandas-2.2.3-cp312-cp312-win_amd64.whl.metadata (19 kB)\n",
      "Collecting numpy>=1.26.0 (from pandas)\n",
      "  Downloading numpy-2.1.2-cp312-cp312-win_amd64.whl.metadata (59 kB)\n",
      "Requirement already satisfied: python-dateutil>=2.8.2 in c:\\users\\human\\appdata\\roaming\\python\\python312\\site-packages (from pandas) (2.9.0.post0)\n",
      "Collecting pytz>=2020.1 (from pandas)\n",
      "  Using cached pytz-2024.2-py2.py3-none-any.whl.metadata (22 kB)\n",
      "Collecting tzdata>=2022.7 (from pandas)\n",
      "  Using cached tzdata-2024.2-py2.py3-none-any.whl.metadata (1.4 kB)\n",
      "Requirement already satisfied: six>=1.5 in c:\\users\\human\\appdata\\roaming\\python\\python312\\site-packages (from python-dateutil>=2.8.2->pandas) (1.16.0)\n",
      "Using cached pandas-2.2.3-cp312-cp312-win_amd64.whl (11.5 MB)\n",
      "Downloading numpy-2.1.2-cp312-cp312-win_amd64.whl (12.6 MB)\n",
      "   ---------------------------------------- 0.0/12.6 MB ? eta -:--:--\n",
      "   ------ --------------------------------- 2.1/12.6 MB 9.8 MB/s eta 0:00:02\n",
      "   ------------ --------------------------- 3.9/12.6 MB 9.8 MB/s eta 0:00:01\n",
      "   ------------------- -------------------- 6.0/12.6 MB 9.7 MB/s eta 0:00:01\n",
      "   ------------------------- -------------- 8.1/12.6 MB 9.7 MB/s eta 0:00:01\n",
      "   ------------------------------- -------- 10.0/12.6 MB 9.7 MB/s eta 0:00:01\n",
      "   ------------------------------------- -- 11.8/12.6 MB 9.6 MB/s eta 0:00:01\n",
      "   ---------------------------------------  12.3/12.6 MB 9.6 MB/s eta 0:00:01\n",
      "   ---------------------------------------- 12.6/12.6 MB 8.6 MB/s eta 0:00:00\n",
      "Using cached pytz-2024.2-py2.py3-none-any.whl (508 kB)\n",
      "Using cached tzdata-2024.2-py2.py3-none-any.whl (346 kB)\n",
      "Installing collected packages: pytz, tzdata, numpy, pandas\n",
      "Successfully installed numpy-2.1.2 pandas-2.2.3 pytz-2024.2 tzdata-2024.2\n"
     ]
    }
   ],
   "source": [
    "! pip install pandas"
   ]
  },
  {
   "cell_type": "code",
   "execution_count": 29,
   "metadata": {},
   "outputs": [],
   "source": [
    "import pandas as pd"
   ]
  },
  {
   "cell_type": "code",
   "execution_count": 32,
   "metadata": {},
   "outputs": [
    {
     "name": "stdout",
     "output_type": "stream",
     "text": [
      "<class 'pandas.core.frame.DataFrame'>\n"
     ]
    }
   ],
   "source": [
    "df_response = pd.DataFrame(dict_response['items'])\n",
    "print(type(df_response))"
   ]
  },
  {
   "cell_type": "code",
   "execution_count": null,
   "metadata": {},
   "outputs": [],
   "source": []
  }
 ],
 "metadata": {
  "kernelspec": {
   "display_name": "human-da-env",
   "language": "python",
   "name": "python3"
  },
  "language_info": {
   "codemirror_mode": {
    "name": "ipython",
    "version": 3
   },
   "file_extension": ".py",
   "mimetype": "text/x-python",
   "name": "python",
   "nbconvert_exporter": "python",
   "pygments_lexer": "ipython3",
   "version": "3.12.7"
  }
 },
 "nbformat": 4,
 "nbformat_minor": 2
}
