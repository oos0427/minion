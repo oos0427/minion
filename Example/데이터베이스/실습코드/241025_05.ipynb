{
 "cells": [
  {
   "cell_type": "code",
   "execution_count": 6,
   "metadata": {},
   "outputs": [],
   "source": [
    "# ! pip install pymysql\n",
    "# mysql 연동모듈"
   ]
  },
  {
   "cell_type": "code",
   "execution_count": 3,
   "metadata": {},
   "outputs": [],
   "source": [
    "import pymysql"
   ]
  },
  {
   "cell_type": "code",
   "execution_count": 7,
   "metadata": {},
   "outputs": [],
   "source": [
    "# 연결\n",
    "conn = pymysql.connect(host=\"127.0.0.1\", port=3306, user=\"humanda\", passwd=\"humanda\",\n",
    "                db=\"bookstore\")"
   ]
  },
  {
   "cell_type": "code",
   "execution_count": 8,
   "metadata": {},
   "outputs": [],
   "source": [
    "cursor = conn.cursor()"
   ]
  },
  {
   "cell_type": "code",
   "execution_count": 9,
   "metadata": {},
   "outputs": [
    {
     "data": {
      "text/plain": [
       "5"
      ]
     },
     "execution_count": 9,
     "metadata": {},
     "output_type": "execute_result"
    }
   ],
   "source": [
    "# 명령실행\n",
    "sql = \"select * from customer\"\n",
    "cursor.execute(sql)"
   ]
  },
  {
   "cell_type": "code",
   "execution_count": 10,
   "metadata": {},
   "outputs": [],
   "source": [
    "#조회 명령 실행 결과를 가져오기\n",
    "data = cursor.fetchall()"
   ]
  },
  {
   "cell_type": "code",
   "execution_count": 11,
   "metadata": {},
   "outputs": [],
   "source": [
    "#연결닫기\n",
    "cursor.close()\n",
    "conn.close()"
   ]
  },
  {
   "cell_type": "code",
   "execution_count": 12,
   "metadata": {},
   "outputs": [
    {
     "data": {
      "text/plain": [
       "((1, '박지성', '영국 맨체스타', '000-5000-0001'),\n",
       " (2, '김연아', '대한민국 서울', '000-6000-0001'),\n",
       " (3, '장미란', '대한민국 강원도', '000-7000-0001'),\n",
       " (4, '추신수', '미국 클리블랜드', '000-8000-0001'),\n",
       " (5, '박세리', '대한민국 대전', None))"
      ]
     },
     "execution_count": 12,
     "metadata": {},
     "output_type": "execute_result"
    }
   ],
   "source": [
    "data"
   ]
  },
  {
   "cell_type": "code",
   "execution_count": 17,
   "metadata": {},
   "outputs": [
    {
     "name": "stdout",
     "output_type": "stream",
     "text": [
      "((1, '박지성', '영국 맨체스타', '000-5000-0001'), (2, '김연아', '대한민국 서울', '000-6000-0001'), (3, '장미란', '대한민국 강원도', '000-7000-0001'), (4, '추신수', '미국 클리블랜드', '000-8000-0001'), (5, '박세리', '대한민국 대전', None))\n"
     ]
    },
    {
     "data": {
      "text/plain": [
       "(5, tuple)"
      ]
     },
     "execution_count": 17,
     "metadata": {},
     "output_type": "execute_result"
    }
   ],
   "source": [
    "print(data)\n",
    "len(data), type(data)"
   ]
  },
  {
   "cell_type": "code",
   "execution_count": 19,
   "metadata": {},
   "outputs": [
    {
     "name": "stdout",
     "output_type": "stream",
     "text": [
      "(1, '박지성', '영국 맨체스타', '000-5000-0001')\n",
      "(2, '김연아', '대한민국 서울', '000-6000-0001')\n",
      "(3, '장미란', '대한민국 강원도', '000-7000-0001')\n",
      "(4, '추신수', '미국 클리블랜드', '000-8000-0001')\n",
      "(5, '박세리', '대한민국 대전', None)\n"
     ]
    }
   ],
   "source": [
    "for row in data:\n",
    "    print(row)"
   ]
  },
  {
   "cell_type": "code",
   "execution_count": 4,
   "metadata": {},
   "outputs": [],
   "source": [
    "# 연결\n",
    "conn = pymysql.connect(host=\"127.0.0.1\", port=3306, user=\"root\", passwd=\"0000\",\n",
    "                db=\"employees\")"
   ]
  },
  {
   "cell_type": "code",
   "execution_count": 5,
   "metadata": {},
   "outputs": [],
   "source": [
    "cursor = conn.cursor()"
   ]
  },
  {
   "cell_type": "code",
   "execution_count": 6,
   "metadata": {},
   "outputs": [
    {
     "data": {
      "text/plain": [
       "300024"
      ]
     },
     "execution_count": 6,
     "metadata": {},
     "output_type": "execute_result"
    }
   ],
   "source": [
    "# 명령실행\n",
    "sql = \"select emp_no, max(salary) from salaries group by emp_no\"\n",
    "cursor.execute(sql)"
   ]
  },
  {
   "cell_type": "code",
   "execution_count": 7,
   "metadata": {},
   "outputs": [],
   "source": [
    "#조회 명령 실행 결과를 가져오기\n",
    "data = cursor.fetchall()"
   ]
  },
  {
   "cell_type": "code",
   "execution_count": null,
   "metadata": {},
   "outputs": [],
   "source": [
    "#연결닫기\n",
    "cursor.close()\n",
    "conn.close()"
   ]
  },
  {
   "cell_type": "code",
   "execution_count": 8,
   "metadata": {},
   "outputs": [
    {
     "name": "stdout",
     "output_type": "stream",
     "text": [
      "(10001, 88958)\n",
      "(10002, 72527)\n",
      "(10003, 43699)\n",
      "(10004, 74057)\n",
      "(10005, 94692)\n",
      "(10006, 60098)\n",
      "(10007, 88070)\n",
      "(10008, 52668)\n",
      "(10009, 94443)\n",
      "(10010, 80324)\n"
     ]
    }
   ],
   "source": [
    "for row in data[:10]:\n",
    "    print(row)"
   ]
  }
 ],
 "metadata": {
  "kernelspec": {
   "display_name": "human-da-env",
   "language": "python",
   "name": "python3"
  },
  "language_info": {
   "codemirror_mode": {
    "name": "ipython",
    "version": 3
   },
   "file_extension": ".py",
   "mimetype": "text/x-python",
   "name": "python",
   "nbconvert_exporter": "python",
   "pygments_lexer": "ipython3",
   "version": "3.12.7"
  }
 },
 "nbformat": 4,
 "nbformat_minor": 2
}
