{
 "cells": [
  {
   "cell_type": "code",
   "execution_count": 103,
   "metadata": {},
   "outputs": [],
   "source": [
    "# 클래스 만들기\n",
    "\n",
    "class Employees:\n",
    "    '''직원 정보를 관리하느 클래스'''\n",
    "\n",
    "    def __init__(self): #인스턴스 만들때 자동으로 호출되는 함수 : 초기화 함수\n",
    "        # 보통 변수는 __init__ 함수에서 만든다(다른함수에서 만들 수도 있으나 관리가 어려움).\n",
    "        self.name = \"John Doe\"\n",
    "        self.phone = '010-6598-1247'\n",
    "        self.email = 'johndoe@example.com'\n",
    "        print('객체가 생성됩니다.')\n",
    "        \n",
    "\n",
    "    def display(self): # 모든 클래스의 함수에는 첫번째 전달인자로 self를 받아야한다. self(Employees)\n",
    "        #print(\"display function\")   \n",
    "        print(f\"[{self.name}][{self.email}][{self.phone}]\")\n",
    "\n"
   ]
  },
  {
   "cell_type": "code",
   "execution_count": 104,
   "metadata": {},
   "outputs": [
    {
     "name": "stdout",
     "output_type": "stream",
     "text": [
      "객체가 생성됩니다.\n",
      "객체가 생성됩니다.\n"
     ]
    }
   ],
   "source": [
    "#인스턴스(객체) 만들기\n",
    "employees = Employees()\n",
    "employees2 = Employees()"
   ]
  },
  {
   "cell_type": "code",
   "execution_count": 105,
   "metadata": {},
   "outputs": [
    {
     "name": "stdout",
     "output_type": "stream",
     "text": [
      "[John Doe][johndoe@example.com][010-6598-1247]\n",
      "[John Doe][johndoe@example.com][010-6598-1247]\n"
     ]
    }
   ],
   "source": [
    "employees.display()\n",
    "employees2.display()"
   ]
  },
  {
   "cell_type": "code",
   "execution_count": 106,
   "metadata": {},
   "outputs": [],
   "source": [
    "# 클래스 만들기2 - 변수지정\n",
    "\n",
    "class Employees2:\n",
    "    '''직원 정보를 관리하느 클래스'''\n",
    "\n",
    "    def __init__(self, name, email, phone = None): #인스턴스 만들때 자동으로 호출되는 함수 : 초기화 함수\n",
    "        # 보통 변수는 __init__ 함수에서 만든다(다른함수에서 만들 수도 있으나 관리가 어려움).\n",
    "        self.name = name\n",
    "        self.phone = phone\n",
    "        self.email = email\n",
    "        print('객체가 생성됩니다.')\n",
    "        \n",
    "\n",
    "    def display(self): # 모든 클래스의 함수에는 첫번째 전달인자로 self를 받아야한다. self(Employees)\n",
    "        #print(\"display function\")   \n",
    "        print(f\"[{self.name}][{self.email}][{self.phone}]\")\n",
    "\n"
   ]
  },
  {
   "cell_type": "code",
   "execution_count": 107,
   "metadata": {},
   "outputs": [
    {
     "name": "stdout",
     "output_type": "stream",
     "text": [
      "객체가 생성됩니다.\n",
      "[오**][iwanagohome@gmail.com][None]\n"
     ]
    }
   ],
   "source": [
    "employees2 = Employees2(\"오**\", \"iwanagohome@gmail.com\")\n",
    "#employees2.phone = '010-1577-1577' # .을찍으면 변수 변경가능\n",
    "employees2.display()\n",
    "\n"
   ]
  },
  {
   "cell_type": "code",
   "execution_count": 108,
   "metadata": {},
   "outputs": [],
   "source": [
    "# 클래스 만들기2 - 변수지정\n",
    "\n",
    "class Employees3:\n",
    "    '''직원 정보를 관리하느 클래스'''\n",
    "    # 공유변수 (클래스 바로 밑에 적으면 모든 인스턴스가 공유)\n",
    "    empcount = 0 # employees = Employees() 10개를 만들어도 이변수는 한개로 공유함\n",
    "\n",
    "    def __init__(self, name, email, phone = None): #인스턴스 만들때 자동으로 호출되는 함수 : 초기화 함수\n",
    "        # 보통 변수는 __init__ 함수에서 만든다(다른함수에서 만들 수도 있으나 관리가 어려움).\n",
    "        self.name = name\n",
    "        self.phone = phone\n",
    "        self.email = email\n",
    "        print('객체가 생성됩니다.')\n",
    "        \n",
    "\n",
    "    def display(self): # 모든 클래스의 함수에는 첫번째 전달인자로 self를 받아야한다. self(Employees)\n",
    "        #print(\"display function\")   \n",
    "        print(f\"[{self.name}][{self.email}][{self.phone}]\")\n",
    "\n"
   ]
  },
  {
   "cell_type": "code",
   "execution_count": 109,
   "metadata": {},
   "outputs": [
    {
     "name": "stdout",
     "output_type": "stream",
     "text": [
      "객체가 생성됩니다.\n",
      "객체가 생성됩니다.\n",
      "0 0\n",
      "100 0\n"
     ]
    }
   ],
   "source": [
    "e31 = Employees3(\"오**\", \"iwanagohome@gmail.com\")\n",
    "e32 = Employees3(\"오용*\", \"uwanagohome@gmail.com\")\n",
    "print(e31.empcount, e32.empcount)\n",
    "e31.empcount = 100 # 인스턴스의 맴버로 생각함 (없으면 새로 만듬) 이경우는 새로만든 것\n",
    "print(e31.empcount, e32.empcount)"
   ]
  },
  {
   "cell_type": "code",
   "execution_count": 110,
   "metadata": {},
   "outputs": [
    {
     "name": "stdout",
     "output_type": "stream",
     "text": [
      "객체가 생성됩니다.\n",
      "객체가 생성됩니다.\n",
      "0 0\n",
      "100 100\n"
     ]
    }
   ],
   "source": [
    "e31 = Employees3(\"오**\", \"iwanagohome@gmail.com\")\n",
    "e32 = Employees3(\"오용*\", \"uwanagohome@gmail.com\")\n",
    "print(e31.empcount, e32.empcount)\n",
    "Employees3.empcount = 100 # 공유맴버는 클래스자체를 불러줘야함\n",
    "print(e31.empcount, e32.empcount)"
   ]
  },
  {
   "cell_type": "code",
   "execution_count": 111,
   "metadata": {},
   "outputs": [],
   "source": [
    "# 클래스 만들기4 - 변수지정\n",
    "\n",
    "class Employees4:\n",
    "    '''직원 정보를 관리하느 클래스'''\n",
    "    # 공유변수 (클래스 바로 밑에 적으면 모든 인스턴스가 공유)\n",
    "    empcount = 0 # employees = Employees() 10개를 만들어도 이변수는 한개로 공유함\n",
    "\n",
    "    def __init__(self, name, email, phone = None): #인스턴스 만들때 자동으로 호출되는 함수 : 초기화 함수\n",
    "        # 보통 변수는 __init__ 함수에서 만든다(다른함수에서 만들 수도 있으나 관리가 어려움).\n",
    "        self.name = name\n",
    "        self.phone = phone\n",
    "        self.email = email\n",
    "        Employees4.empcount += 1\n",
    "        print('객체가 생성됩니다.')\n",
    "\n",
    "    def display(self):\n",
    "        print(f\"Employee Count : {Employees4.empcount}\")\n",
    "\n",
    "    @staticmethod # 이 메서드는 클래스의 맴버로 만듭니다. (인스턴스의 맴버가 아님)\n",
    "    def displaycount():\n",
    "        print(f\"Employee Count : {Employees4.empcount}\")    \n",
    "\n",
    "    def display(self): # 모든 클래스의 함수에는 첫번째 전달인자로 self를 받아야한다. self(Employees)\n",
    "        #print(\"display function\")   \n",
    "        print(f\"[{self.name}][{self.email}][{self.phone}]\")"
   ]
  },
  {
   "cell_type": "code",
   "execution_count": 112,
   "metadata": {},
   "outputs": [
    {
     "name": "stdout",
     "output_type": "stream",
     "text": [
      "객체가 생성됩니다.\n",
      "1\n",
      "객체가 생성됩니다.\n",
      "2 2\n"
     ]
    }
   ],
   "source": [
    "e41 = Employees4(\"오**\", \"iwanagohome@gmail.com\")\n",
    "print(e41.empcount)\n",
    "e42 = Employees4(\"오용*\", \"uwanagohome@gmail.com\")\n",
    "print(e41.empcount, e42.empcount)"
   ]
  },
  {
   "cell_type": "code",
   "execution_count": 113,
   "metadata": {},
   "outputs": [
    {
     "name": "stdout",
     "output_type": "stream",
     "text": [
      "Employee Count : 2\n"
     ]
    }
   ],
   "source": [
    "e41.displaycount()"
   ]
  }
 ],
 "metadata": {
  "kernelspec": {
   "display_name": "human-da-env",
   "language": "python",
   "name": "python3"
  },
  "language_info": {
   "codemirror_mode": {
    "name": "ipython",
    "version": 3
   },
   "file_extension": ".py",
   "mimetype": "text/x-python",
   "name": "python",
   "nbconvert_exporter": "python",
   "pygments_lexer": "ipython3",
   "version": "3.12.7"
  }
 },
 "nbformat": 4,
 "nbformat_minor": 2
}
