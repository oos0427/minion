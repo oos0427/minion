{
 "cells": [
  {
   "cell_type": "markdown",
   "metadata": {},
   "source": [
    "<h1>1일차 : 클래스 만들기</h1>"
   ]
  },
  {
   "cell_type": "code",
   "execution_count": 76,
   "metadata": {},
   "outputs": [],
   "source": [
    "# 클래스 만들기\n",
    "\n",
    "class Employees:\n",
    "    '''직원 정보를 관리하느 클래스'''\n",
    "\n",
    "    def __init__(self): #인스턴스 만들때 자동으로 호출되는 함수 : 초기화 함수\n",
    "        # 보통 변수는 __init__ 함수에서 만든다(다른함수에서 만들 수도 있으나 관리가 어려움).\n",
    "        self.name = \"John Doe\"\n",
    "        self.phone = '010-6598-1247'\n",
    "        self.email = 'johndoe@example.com'\n",
    "        print('객체가 생성됩니다.')\n",
    "        \n",
    "\n",
    "    def display(self): # 모든 클래스의 함수에는 첫번째 전달인자로 self를 받아야한다. self(Employees)\n",
    "        #print(\"display function\")   \n",
    "        print(f\"[{self.name}][{self.email}][{self.phone}]\")\n",
    "\n"
   ]
  },
  {
   "cell_type": "code",
   "execution_count": 77,
   "metadata": {},
   "outputs": [
    {
     "name": "stdout",
     "output_type": "stream",
     "text": [
      "객체가 생성됩니다.\n",
      "객체가 생성됩니다.\n"
     ]
    }
   ],
   "source": [
    "#인스턴스(객체) 만들기\n",
    "employees = Employees()\n",
    "employees2 = Employees()"
   ]
  },
  {
   "cell_type": "code",
   "execution_count": 78,
   "metadata": {},
   "outputs": [
    {
     "name": "stdout",
     "output_type": "stream",
     "text": [
      "[John Doe][johndoe@example.com][010-6598-1247]\n",
      "[John Doe][johndoe@example.com][010-6598-1247]\n"
     ]
    }
   ],
   "source": [
    "employees.display()\n",
    "employees2.display()"
   ]
  },
  {
   "cell_type": "code",
   "execution_count": 79,
   "metadata": {},
   "outputs": [],
   "source": [
    "# 클래스 만들기2 - 변수지정\n",
    "\n",
    "class Employees2:\n",
    "    '''직원 정보를 관리하느 클래스'''\n",
    "\n",
    "    def __init__(self, name, email, phone = None): #인스턴스 만들때 자동으로 호출되는 함수 : 초기화 함수\n",
    "        # 보통 변수는 __init__ 함수에서 만든다(다른함수에서 만들 수도 있으나 관리가 어려움).\n",
    "        self.name = name\n",
    "        self.phone = phone\n",
    "        self.email = email\n",
    "        print('객체가 생성됩니다.')\n",
    "        \n",
    "\n",
    "    def display(self): # 모든 클래스의 함수에는 첫번째 전달인자로 self를 받아야한다. self(Employees)\n",
    "        #print(\"display function\")   \n",
    "        print(f\"[{self.name}][{self.email}][{self.phone}]\")\n",
    "\n"
   ]
  },
  {
   "cell_type": "code",
   "execution_count": 80,
   "metadata": {},
   "outputs": [
    {
     "name": "stdout",
     "output_type": "stream",
     "text": [
      "객체가 생성됩니다.\n",
      "[오**][iwanagohome@gmail.com][None]\n"
     ]
    }
   ],
   "source": [
    "employees2 = Employees2(\"오**\", \"iwanagohome@gmail.com\")\n",
    "#employees2.phone = '010-1577-1577' # .을찍으면 변수 변경가능\n",
    "employees2.display()\n",
    "\n"
   ]
  },
  {
   "cell_type": "code",
   "execution_count": 81,
   "metadata": {},
   "outputs": [],
   "source": [
    "# 클래스 만들기2 - 변수지정\n",
    "\n",
    "class Employees3:\n",
    "    '''직원 정보를 관리하느 클래스'''\n",
    "    # 공유변수 (클래스 바로 밑에 적으면 모든 인스턴스가 공유)\n",
    "    empcount = 0 # employees = Employees() 10개를 만들어도 이변수는 한개로 공유함\n",
    "\n",
    "    def __init__(self, name, email, phone = None): #인스턴스 만들때 자동으로 호출되는 함수 : 초기화 함수\n",
    "        # 보통 변수는 __init__ 함수에서 만든다(다른함수에서 만들 수도 있으나 관리가 어려움).\n",
    "        self.name = name\n",
    "        self.phone = phone\n",
    "        self.email = email\n",
    "        print('객체가 생성됩니다.')\n",
    "        \n",
    "\n",
    "    def display(self): # 모든 클래스의 함수에는 첫번째 전달인자로 self를 받아야한다. self(Employees)\n",
    "        #print(\"display function\")   \n",
    "        print(f\"[{self.name}][{self.email}][{self.phone}]\")\n",
    "\n"
   ]
  },
  {
   "cell_type": "code",
   "execution_count": 82,
   "metadata": {},
   "outputs": [
    {
     "name": "stdout",
     "output_type": "stream",
     "text": [
      "객체가 생성됩니다.\n",
      "객체가 생성됩니다.\n",
      "0 0\n",
      "100 0\n"
     ]
    }
   ],
   "source": [
    "e31 = Employees3(\"오**\", \"iwanagohome@gmail.com\")\n",
    "e32 = Employees3(\"오용*\", \"uwanagohome@gmail.com\")\n",
    "print(e31.empcount, e32.empcount)\n",
    "e31.empcount = 100 # 인스턴스의 맴버로 생각함 (없으면 새로 만듬) 이경우는 새로만든 것\n",
    "print(e31.empcount, e32.empcount)"
   ]
  },
  {
   "cell_type": "code",
   "execution_count": 83,
   "metadata": {},
   "outputs": [
    {
     "name": "stdout",
     "output_type": "stream",
     "text": [
      "객체가 생성됩니다.\n",
      "객체가 생성됩니다.\n",
      "0 0\n",
      "100 100\n"
     ]
    }
   ],
   "source": [
    "e31 = Employees3(\"오**\", \"iwanagohome@gmail.com\")\n",
    "e32 = Employees3(\"오용*\", \"uwanagohome@gmail.com\")\n",
    "print(e31.empcount, e32.empcount)\n",
    "Employees3.empcount = 100 # 공유맴버는 클래스자체를 불러줘야함\n",
    "print(e31.empcount, e32.empcount)"
   ]
  },
  {
   "cell_type": "code",
   "execution_count": 84,
   "metadata": {},
   "outputs": [],
   "source": [
    "# 클래스 만들기4 - 변수지정\n",
    "\n",
    "class Employees4:\n",
    "    '''직원 정보를 관리하느 클래스'''\n",
    "    # 공유변수 (클래스 바로 밑에 적으면 모든 인스턴스가 공유)\n",
    "    empcount = 0 # employees = Employees() 10개를 만들어도 이변수는 한개로 공유함\n",
    "\n",
    "    def __init__(self, name, email, phone = None): #인스턴스 만들때 자동으로 호출되는 함수 : 초기화 함수\n",
    "        # 보통 변수는 __init__ 함수에서 만든다(다른함수에서 만들 수도 있으나 관리가 어려움).\n",
    "        self.name = name\n",
    "        self.phone = phone\n",
    "        self.email = email\n",
    "        Employees4.empcount += 1\n",
    "        print('객체가 생성됩니다.')\n",
    "\n",
    "    def display(self):\n",
    "        print(f\"Employee Count : {Employees4.empcount}\")\n",
    "\n",
    "    @staticmethod # 이 메서드는 클래스의 맴버로 만듭니다. (인스턴스의 맴버가 아님)\n",
    "    def displaycount():\n",
    "        print(f\"Employee Count : {Employees4.empcount}\")    \n",
    "\n",
    "    def display(self): # 모든 클래스의 함수에는 첫번째 전달인자로 self를 받아야한다. self(Employees)\n",
    "        #print(\"display function\")   \n",
    "        print(f\"[{self.name}][{self.email}][{self.phone}]\")"
   ]
  },
  {
   "cell_type": "code",
   "execution_count": 85,
   "metadata": {},
   "outputs": [
    {
     "name": "stdout",
     "output_type": "stream",
     "text": [
      "객체가 생성됩니다.\n",
      "1\n",
      "객체가 생성됩니다.\n",
      "2 2\n"
     ]
    }
   ],
   "source": [
    "e41 = Employees4(\"오**\", \"iwanagohome@gmail.com\")\n",
    "print(e41.empcount)\n",
    "e42 = Employees4(\"오용*\", \"uwanagohome@gmail.com\")\n",
    "print(e41.empcount, e42.empcount)"
   ]
  },
  {
   "cell_type": "code",
   "execution_count": 86,
   "metadata": {},
   "outputs": [
    {
     "name": "stdout",
     "output_type": "stream",
     "text": [
      "Employee Count : 2\n"
     ]
    }
   ],
   "source": [
    "e41.displaycount()"
   ]
  },
  {
   "cell_type": "markdown",
   "metadata": {},
   "source": [
    "<h1>2일차 : 상속클래스</h1>"
   ]
  },
  {
   "cell_type": "code",
   "execution_count": 87,
   "metadata": {},
   "outputs": [],
   "source": [
    "#상속클래스 만들기\n",
    "\n",
    "class Parent:\n",
    "    \n",
    "    def __init__(self):\n",
    "        print(\"parent__init__\")\n",
    "        pass\n",
    "\n",
    "    def parent_function(self):\n",
    "        print(\"parent_function\")\n",
    "        pass\n",
    "\n",
    "    def parent_function2(self):\n",
    "        print(\"parent_function2\")\n",
    "        pass\n",
    "\n",
    "class Child(Parent): #Parent클래스의 모든 맴버를 자동으로 포함하게 된다.\n",
    "    def __init__(self):\n",
    "        print(\"child__init__\")\n",
    "        pass\n",
    "\n",
    "    def child_function(self):\n",
    "        print(\"child_function\")\n",
    "        pass\n",
    "\n",
    "    def parent_function2(self): # 부모에게 상속받은 메서드의 내용만 수정\n",
    "        print(\"child.modified_parent_function2\")\n",
    "        pass"
   ]
  },
  {
   "cell_type": "code",
   "execution_count": 88,
   "metadata": {},
   "outputs": [
    {
     "name": "stdout",
     "output_type": "stream",
     "text": [
      "parent__init__\n",
      "parent_function\n",
      "parent_function2\n",
      "child__init__\n",
      "child_function\n",
      "child.modified_parent_function2\n"
     ]
    }
   ],
   "source": [
    "parent = Parent()\n",
    "parent.parent_function()\n",
    "parent.parent_function2()\n",
    "\n",
    "child = Child()\n",
    "child.child_function()\n",
    "child.parent_function2() # 상속 받아서 사용 가능함"
   ]
  },
  {
   "cell_type": "code",
   "execution_count": 89,
   "metadata": {},
   "outputs": [],
   "source": [
    "#상속클래스 만들기 super (부모꺼 불러오기)\n",
    "\n",
    "class Parent:\n",
    "    \n",
    "    def __init__(self):\n",
    "        print(\"parent__init__\")\n",
    "        pass\n",
    "\n",
    "    def parent_function(self):\n",
    "        print(\"parent_function\")\n",
    "        pass\n",
    "\n",
    "    def parent_function2(self):\n",
    "        print(\"parent_function2\")\n",
    "        pass\n",
    "\n",
    "class Child(Parent): #Parent클래스의 모든 맴버를 자동으로 포함하게 된다.\n",
    "    def __init__(self):\n",
    "        print(\"child__init__\")\n",
    "        super().__init__()\n",
    "        pass\n",
    "\n",
    "    def child_function(self):\n",
    "        print(\"child_function\")\n",
    "        pass\n",
    "\n",
    "    def parent_function2(self): # 부모에게 상속받은 메서드의 내용만 수정\n",
    "        super().parent_function2() #부모 클래스의 함수 명시적 호출\n",
    "        print(\"child.modified_parent_function2\")\n",
    "        pass"
   ]
  },
  {
   "cell_type": "code",
   "execution_count": 90,
   "metadata": {},
   "outputs": [
    {
     "name": "stdout",
     "output_type": "stream",
     "text": [
      "parent__init__\n",
      "parent_function\n",
      "parent_function2\n",
      "child__init__\n",
      "parent__init__\n",
      "child_function\n",
      "parent_function2\n",
      "child.modified_parent_function2\n"
     ]
    }
   ],
   "source": [
    "parent = Parent()\n",
    "parent.parent_function()\n",
    "parent.parent_function2()\n",
    "\n",
    "child = Child()\n",
    "child.child_function()\n",
    "child.parent_function2() # 상속 받아서 사용 가능함"
   ]
  },
  {
   "cell_type": "markdown",
   "metadata": {},
   "source": [
    "<h2>ml_basic_ex-13.ipynb 로 이동 아래 코드 참조</h2>"
   ]
  },
  {
   "cell_type": "code",
   "execution_count": null,
   "metadata": {},
   "outputs": [],
   "source": [
    "# total_rooms, total_bedrooms, population을 households당 값으로 변환해서 사용\n",
    "# 변환기를 만들어서 사용\n",
    "\n",
    "# BaseEstimator : scikit-learn 변환기 공통(부모) 클래스\n",
    "# TransformerMixin : scikit-learn 변환기에 fit_transform 함수를 추가하는 Mixin\n",
    "from sklearn.base import BaseEstimator, TransformerMixin\n",
    "\n",
    "class HousingAttributesAdder(BaseEstimator, TransformerMixin):\n",
    "\n",
    "    def __init__(self, include_bedrooms_per_rooms=True):\n",
    "        self.include_bedrooms_per_rooms = include_bedrooms_per_rooms\n",
    "        pass\n",
    "\n",
    "    def fit(self, X, y=None): # BaseEstimator에서 상속한 함수 재정의 -> Pipeline에서 동작하도록\n",
    "        return self\n",
    "\n",
    "    def transform(self, X, y=None): # BaseEstimator에서 상속한 함수 -> Pipeline에서 동작하도록\n",
    "        rooms_per_household = X[:, 3] / X[:, 6] # 방수 / 가구수\n",
    "        population_per_household = X[:, 5] / X[:, 6] # 인구수 / 가구수\n",
    "        if self.include_bedrooms_per_rooms:\n",
    "            bedrooms_per_rooms = X[:, 4] / X[:, 3] # 침실수 / 방수\n",
    "            return np.c_[X, rooms_per_household, population_per_household, bedrooms_per_rooms]\n",
    "        else:\n",
    "            return np.c_[X, rooms_per_household, population_per_household]"
   ]
  }
 ],
 "metadata": {
  "kernelspec": {
   "display_name": "human-da-env",
   "language": "python",
   "name": "python3"
  },
  "language_info": {
   "codemirror_mode": {
    "name": "ipython",
    "version": 3
   },
   "file_extension": ".py",
   "mimetype": "text/x-python",
   "name": "python",
   "nbconvert_exporter": "python",
   "pygments_lexer": "ipython3",
   "version": "3.12.7"
  }
 },
 "nbformat": 4,
 "nbformat_minor": 2
}
