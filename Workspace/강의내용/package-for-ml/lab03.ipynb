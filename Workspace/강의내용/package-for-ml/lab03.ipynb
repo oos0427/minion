{
 "cells": [
  {
   "cell_type": "code",
   "execution_count": null,
   "metadata": {},
   "outputs": [],
   "source": [
    "# 1. population.csv 파일을 DataFrame으로 읽고 내용 확인\n",
    "# 2. 현재 연구자 거주지 동의 인구 정보 조회 ( 행전체 )\n",
    "\n",
    "# -> \"1,234,567\" -> \"1234567\" -> 1234567\n",
    "\n",
    "# 3. 총인구수가 가장 많은 동 조회 ( 읍면동 단위 )\n",
    "\n",
    "# 4. 남성인구비가 가장 높은 동 조회 ( 읍면동 단위 )\n",
    "# 5. 도시 법정동 1선정, 농촌 법정동 1선정, 인구 분포 비교 ( 읍면동 단위, bar plot 사용 )\n",
    "# 6. 현재 연구자 거주지 동의 연령별 인구를 그래프로 표시"
   ]
  },
  {
   "cell_type": "code",
   "execution_count": 71,
   "metadata": {},
   "outputs": [],
   "source": [
    "import numpy as np\n",
    "import pandas as pd\n",
    "import matplotlib.pyplot as plt\n",
    "import seaborn as sns"
   ]
  },
  {
   "cell_type": "code",
   "execution_count": 22,
   "metadata": {},
   "outputs": [],
   "source": [
    "population = pd.read_csv('data-files/population.csv', low_memory=False)"
   ]
  },
  {
   "cell_type": "code",
   "execution_count": 3,
   "metadata": {},
   "outputs": [
    {
     "name": "stdout",
     "output_type": "stream",
     "text": [
      "<class 'pandas.core.frame.DataFrame'>\n",
      "RangeIndex: 3910 entries, 0 to 3909\n",
      "Columns: 310 entries, 행정구역 to 2024년09월_여_100세 이상\n",
      "dtypes: int64(7), object(303)\n",
      "memory usage: 9.2+ MB\n"
     ]
    }
   ],
   "source": [
    "population.info()"
   ]
  },
  {
   "cell_type": "code",
   "execution_count": 44,
   "metadata": {},
   "outputs": [
    {
     "data": {
      "text/plain": [
       "행정구역                  서울특별시 강남구 역삼2동(1168065000)\n",
       "2024년09월_계_총인구수                            36338\n",
       "2024년09월_계_연령구간인구수                         36338\n",
       "2024년09월_계_0세                                109\n",
       "2024년09월_계_1세                                102\n",
       "                                 ...            \n",
       "2024년09월_여_96세                                 3\n",
       "2024년09월_여_97세                                 1\n",
       "2024년09월_여_98세                                 1\n",
       "2024년09월_여_99세                                 1\n",
       "2024년09월_여_100세 이상                             2\n",
       "Name: 393, Length: 310, dtype: object"
      ]
     },
     "execution_count": 44,
     "metadata": {},
     "output_type": "execute_result"
    }
   ],
   "source": [
    "population[population['행정구역'].str.contains('역삼')] # --> 393 선택\n",
    "population[population['행정구역'].str.contains('신안')] # --> 3155 선택\n",
    "# population.loc[3155]\n",
    "population.loc[393]\n"
   ]
  },
  {
   "cell_type": "code",
   "execution_count": 5,
   "metadata": {},
   "outputs": [
    {
     "data": {
      "text/html": [
       "<div>\n",
       "<style scoped>\n",
       "    .dataframe tbody tr th:only-of-type {\n",
       "        vertical-align: middle;\n",
       "    }\n",
       "\n",
       "    .dataframe tbody tr th {\n",
       "        vertical-align: top;\n",
       "    }\n",
       "\n",
       "    .dataframe thead th {\n",
       "        text-align: right;\n",
       "    }\n",
       "</style>\n",
       "<table border=\"1\" class=\"dataframe\">\n",
       "  <thead>\n",
       "    <tr style=\"text-align: right;\">\n",
       "      <th></th>\n",
       "      <th>행정구역</th>\n",
       "      <th>2024년09월_계_총인구수</th>\n",
       "      <th>2024년09월_계_연령구간인구수</th>\n",
       "      <th>2024년09월_계_0세</th>\n",
       "      <th>2024년09월_계_1세</th>\n",
       "      <th>2024년09월_계_2세</th>\n",
       "      <th>2024년09월_계_3세</th>\n",
       "      <th>2024년09월_계_4세</th>\n",
       "      <th>2024년09월_계_5세</th>\n",
       "      <th>2024년09월_계_6세</th>\n",
       "      <th>...</th>\n",
       "      <th>2024년09월_여_91세</th>\n",
       "      <th>2024년09월_여_92세</th>\n",
       "      <th>2024년09월_여_93세</th>\n",
       "      <th>2024년09월_여_94세</th>\n",
       "      <th>2024년09월_여_95세</th>\n",
       "      <th>2024년09월_여_96세</th>\n",
       "      <th>2024년09월_여_97세</th>\n",
       "      <th>2024년09월_여_98세</th>\n",
       "      <th>2024년09월_여_99세</th>\n",
       "      <th>2024년09월_여_100세 이상</th>\n",
       "    </tr>\n",
       "  </thead>\n",
       "  <tbody>\n",
       "    <tr>\n",
       "      <th>0</th>\n",
       "      <td>서울특별시  (1100000000)</td>\n",
       "      <td>9,350,995</td>\n",
       "      <td>9,350,995</td>\n",
       "      <td>38,100</td>\n",
       "      <td>38,486</td>\n",
       "      <td>40,625</td>\n",
       "      <td>42,608</td>\n",
       "      <td>44,377</td>\n",
       "      <td>47,757</td>\n",
       "      <td>51,072</td>\n",
       "      <td>...</td>\n",
       "      <td>6,767</td>\n",
       "      <td>5,474</td>\n",
       "      <td>3,921</td>\n",
       "      <td>3,343</td>\n",
       "      <td>2,623</td>\n",
       "      <td>1,892</td>\n",
       "      <td>1,391</td>\n",
       "      <td>776</td>\n",
       "      <td>523</td>\n",
       "      <td>1,184</td>\n",
       "    </tr>\n",
       "    <tr>\n",
       "      <th>1</th>\n",
       "      <td>서울특별시 종로구 (1111000000)</td>\n",
       "      <td>138,879</td>\n",
       "      <td>138,879</td>\n",
       "      <td>415</td>\n",
       "      <td>419</td>\n",
       "      <td>467</td>\n",
       "      <td>471</td>\n",
       "      <td>516</td>\n",
       "      <td>512</td>\n",
       "      <td>580</td>\n",
       "      <td>...</td>\n",
       "      <td>131</td>\n",
       "      <td>105</td>\n",
       "      <td>87</td>\n",
       "      <td>63</td>\n",
       "      <td>52</td>\n",
       "      <td>46</td>\n",
       "      <td>34</td>\n",
       "      <td>21</td>\n",
       "      <td>8</td>\n",
       "      <td>33</td>\n",
       "    </tr>\n",
       "    <tr>\n",
       "      <th>2</th>\n",
       "      <td>서울특별시 종로구 청운효자동(1111051500)</td>\n",
       "      <td>11,143</td>\n",
       "      <td>11,143</td>\n",
       "      <td>52</td>\n",
       "      <td>35</td>\n",
       "      <td>43</td>\n",
       "      <td>48</td>\n",
       "      <td>46</td>\n",
       "      <td>50</td>\n",
       "      <td>50</td>\n",
       "      <td>...</td>\n",
       "      <td>13</td>\n",
       "      <td>10</td>\n",
       "      <td>11</td>\n",
       "      <td>3</td>\n",
       "      <td>6</td>\n",
       "      <td>4</td>\n",
       "      <td>1</td>\n",
       "      <td>2</td>\n",
       "      <td>0</td>\n",
       "      <td>4</td>\n",
       "    </tr>\n",
       "  </tbody>\n",
       "</table>\n",
       "<p>3 rows × 310 columns</p>\n",
       "</div>"
      ],
      "text/plain": [
       "                          행정구역 2024년09월_계_총인구수 2024년09월_계_연령구간인구수  \\\n",
       "0          서울특별시  (1100000000)       9,350,995          9,350,995   \n",
       "1       서울특별시 종로구 (1111000000)         138,879            138,879   \n",
       "2  서울특별시 종로구 청운효자동(1111051500)          11,143             11,143   \n",
       "\n",
       "  2024년09월_계_0세 2024년09월_계_1세 2024년09월_계_2세 2024년09월_계_3세 2024년09월_계_4세  \\\n",
       "0        38,100        38,486        40,625        42,608        44,377   \n",
       "1           415           419           467           471           516   \n",
       "2            52            35            43            48            46   \n",
       "\n",
       "  2024년09월_계_5세 2024년09월_계_6세  ... 2024년09월_여_91세 2024년09월_여_92세  \\\n",
       "0        47,757        51,072  ...          6,767          5,474   \n",
       "1           512           580  ...            131            105   \n",
       "2            50            50  ...             13             10   \n",
       "\n",
       "  2024년09월_여_93세 2024년09월_여_94세 2024년09월_여_95세 2024년09월_여_96세 2024년09월_여_97세  \\\n",
       "0          3,921          3,343          2,623          1,892          1,391   \n",
       "1             87             63             52             46             34   \n",
       "2             11              3              6              4              1   \n",
       "\n",
       "  2024년09월_여_98세 2024년09월_여_99세 2024년09월_여_100세 이상  \n",
       "0            776            523              1,184  \n",
       "1             21              8                 33  \n",
       "2              2              0                  4  \n",
       "\n",
       "[3 rows x 310 columns]"
      ]
     },
     "execution_count": 5,
     "metadata": {},
     "output_type": "execute_result"
    }
   ],
   "source": [
    "population.head(3)"
   ]
  },
  {
   "cell_type": "code",
   "execution_count": 6,
   "metadata": {},
   "outputs": [
    {
     "data": {
      "text/html": [
       "<div>\n",
       "<style scoped>\n",
       "    .dataframe tbody tr th:only-of-type {\n",
       "        vertical-align: middle;\n",
       "    }\n",
       "\n",
       "    .dataframe tbody tr th {\n",
       "        vertical-align: top;\n",
       "    }\n",
       "\n",
       "    .dataframe thead th {\n",
       "        text-align: right;\n",
       "    }\n",
       "</style>\n",
       "<table border=\"1\" class=\"dataframe\">\n",
       "  <thead>\n",
       "    <tr style=\"text-align: right;\">\n",
       "      <th></th>\n",
       "      <th>행정구역</th>\n",
       "      <th>2024년09월_계_총인구수</th>\n",
       "      <th>2024년09월_계_연령구간인구수</th>\n",
       "      <th>2024년09월_계_0세</th>\n",
       "      <th>2024년09월_계_1세</th>\n",
       "      <th>2024년09월_계_2세</th>\n",
       "      <th>2024년09월_계_3세</th>\n",
       "      <th>2024년09월_계_4세</th>\n",
       "      <th>2024년09월_계_5세</th>\n",
       "      <th>2024년09월_계_6세</th>\n",
       "      <th>...</th>\n",
       "      <th>2024년09월_여_91세</th>\n",
       "      <th>2024년09월_여_92세</th>\n",
       "      <th>2024년09월_여_93세</th>\n",
       "      <th>2024년09월_여_94세</th>\n",
       "      <th>2024년09월_여_95세</th>\n",
       "      <th>2024년09월_여_96세</th>\n",
       "      <th>2024년09월_여_97세</th>\n",
       "      <th>2024년09월_여_98세</th>\n",
       "      <th>2024년09월_여_99세</th>\n",
       "      <th>2024년09월_여_100세 이상</th>\n",
       "    </tr>\n",
       "  </thead>\n",
       "  <tbody>\n",
       "    <tr>\n",
       "      <th>1527</th>\n",
       "      <td>경기도 평택시 동삭동(4122065000)</td>\n",
       "      <td>42,024</td>\n",
       "      <td>42,024</td>\n",
       "      <td>527</td>\n",
       "      <td>527</td>\n",
       "      <td>507</td>\n",
       "      <td>492</td>\n",
       "      <td>517</td>\n",
       "      <td>538</td>\n",
       "      <td>568</td>\n",
       "      <td>...</td>\n",
       "      <td>8</td>\n",
       "      <td>6</td>\n",
       "      <td>8</td>\n",
       "      <td>2</td>\n",
       "      <td>2</td>\n",
       "      <td>1</td>\n",
       "      <td>1</td>\n",
       "      <td>2</td>\n",
       "      <td>1</td>\n",
       "      <td>0</td>\n",
       "    </tr>\n",
       "  </tbody>\n",
       "</table>\n",
       "<p>1 rows × 310 columns</p>\n",
       "</div>"
      ],
      "text/plain": [
       "                         행정구역 2024년09월_계_총인구수 2024년09월_계_연령구간인구수  \\\n",
       "1527  경기도 평택시 동삭동(4122065000)          42,024             42,024   \n",
       "\n",
       "     2024년09월_계_0세 2024년09월_계_1세 2024년09월_계_2세 2024년09월_계_3세 2024년09월_계_4세  \\\n",
       "1527           527           527           507           492           517   \n",
       "\n",
       "     2024년09월_계_5세 2024년09월_계_6세  ... 2024년09월_여_91세 2024년09월_여_92세  \\\n",
       "1527           538           568  ...              8              6   \n",
       "\n",
       "     2024년09월_여_93세 2024년09월_여_94세 2024년09월_여_95세 2024년09월_여_96세  \\\n",
       "1527              8              2              2              1   \n",
       "\n",
       "     2024년09월_여_97세 2024년09월_여_98세 2024년09월_여_99세 2024년09월_여_100세 이상  \n",
       "1527              1              2              1                  0  \n",
       "\n",
       "[1 rows x 310 columns]"
      ]
     },
     "execution_count": 6,
     "metadata": {},
     "output_type": "execute_result"
    }
   ],
   "source": [
    "# Series.str : Series에 포함된 문자열 각각에 적용할 함수를 포함하는 객체 (내장된 반복문 실행)\n",
    "dong_filter = population['행정구역'].str.contains('동삭동')\n",
    "population[dong_filter]"
   ]
  },
  {
   "cell_type": "code",
   "execution_count": 7,
   "metadata": {},
   "outputs": [
    {
     "name": "stdout",
     "output_type": "stream",
     "text": [
      "object\n"
     ]
    }
   ],
   "source": [
    "# \"1,234,567\" -> \"1234567\" -> 1234567\n",
    "\n",
    "print ( population[\"2024년09월_계_총인구수\"].dtype )\n",
    "\n",
    "population[\"2024년09월_계_총인구수\"] = \\\n",
    "    population[\"2024년09월_계_총인구수\"].map(lambda v : int(str(v).replace(\",\", \"\")))"
   ]
  },
  {
   "cell_type": "code",
   "execution_count": 21,
   "metadata": {},
   "outputs": [
    {
     "data": {
      "text/plain": [
       "dtype('int64')"
      ]
     },
     "execution_count": 21,
     "metadata": {},
     "output_type": "execute_result"
    }
   ],
   "source": [
    "population[\"2024년09월_계_총인구수\"].dtype"
   ]
  },
  {
   "cell_type": "code",
   "execution_count": 24,
   "metadata": {},
   "outputs": [
    {
     "data": {
      "text/plain": [
       "0                서울특별시  (1100000000)\n",
       "1             서울특별시 종로구 (1111000000)\n",
       "2        서울특별시 종로구 청운효자동(1111051500)\n",
       "3          서울특별시 종로구 사직동(1111053000)\n",
       "4          서울특별시 종로구 삼청동(1111054000)\n",
       "                    ...             \n",
       "3905    제주특별자치도 서귀포시 서홍동(5013058000)\n",
       "3906    제주특별자치도 서귀포시 대륜동(5013059000)\n",
       "3907    제주특별자치도 서귀포시 대천동(5013060000)\n",
       "3908    제주특별자치도 서귀포시 중문동(5013061000)\n",
       "3909    제주특별자치도 서귀포시 예래동(5013062000)\n",
       "Name: 행정구역, Length: 3910, dtype: object"
      ]
     },
     "execution_count": 24,
     "metadata": {},
     "output_type": "execute_result"
    }
   ],
   "source": [
    "population[\"행정구역\"]"
   ]
  },
  {
   "cell_type": "code",
   "execution_count": 8,
   "metadata": {},
   "outputs": [
    {
     "data": {
      "text/html": [
       "<div>\n",
       "<style scoped>\n",
       "    .dataframe tbody tr th:only-of-type {\n",
       "        vertical-align: middle;\n",
       "    }\n",
       "\n",
       "    .dataframe tbody tr th {\n",
       "        vertical-align: top;\n",
       "    }\n",
       "\n",
       "    .dataframe thead th {\n",
       "        text-align: right;\n",
       "    }\n",
       "</style>\n",
       "<table border=\"1\" class=\"dataframe\">\n",
       "  <thead>\n",
       "    <tr style=\"text-align: right;\">\n",
       "      <th></th>\n",
       "      <th>행정구역</th>\n",
       "      <th>2024년09월_계_총인구수</th>\n",
       "      <th>2024년09월_계_연령구간인구수</th>\n",
       "      <th>2024년09월_계_0세</th>\n",
       "      <th>2024년09월_계_1세</th>\n",
       "      <th>2024년09월_계_2세</th>\n",
       "      <th>2024년09월_계_3세</th>\n",
       "      <th>2024년09월_계_4세</th>\n",
       "      <th>2024년09월_계_5세</th>\n",
       "      <th>2024년09월_계_6세</th>\n",
       "      <th>...</th>\n",
       "      <th>2024년09월_여_91세</th>\n",
       "      <th>2024년09월_여_92세</th>\n",
       "      <th>2024년09월_여_93세</th>\n",
       "      <th>2024년09월_여_94세</th>\n",
       "      <th>2024년09월_여_95세</th>\n",
       "      <th>2024년09월_여_96세</th>\n",
       "      <th>2024년09월_여_97세</th>\n",
       "      <th>2024년09월_여_98세</th>\n",
       "      <th>2024년09월_여_99세</th>\n",
       "      <th>2024년09월_여_100세 이상</th>\n",
       "    </tr>\n",
       "  </thead>\n",
       "  <tbody>\n",
       "    <tr>\n",
       "      <th>3715</th>\n",
       "      <td>경상남도 양산시 물금읍(4833025300)</td>\n",
       "      <td>117160</td>\n",
       "      <td>117,160</td>\n",
       "      <td>643</td>\n",
       "      <td>739</td>\n",
       "      <td>845</td>\n",
       "      <td>882</td>\n",
       "      <td>1,114</td>\n",
       "      <td>1,169</td>\n",
       "      <td>1,403</td>\n",
       "      <td>...</td>\n",
       "      <td>46</td>\n",
       "      <td>42</td>\n",
       "      <td>31</td>\n",
       "      <td>18</td>\n",
       "      <td>24</td>\n",
       "      <td>12</td>\n",
       "      <td>4</td>\n",
       "      <td>5</td>\n",
       "      <td>4</td>\n",
       "      <td>9</td>\n",
       "    </tr>\n",
       "  </tbody>\n",
       "</table>\n",
       "<p>1 rows × 310 columns</p>\n",
       "</div>"
      ],
      "text/plain": [
       "                          행정구역  2024년09월_계_총인구수 2024년09월_계_연령구간인구수  \\\n",
       "3715  경상남도 양산시 물금읍(4833025300)           117160            117,160   \n",
       "\n",
       "     2024년09월_계_0세 2024년09월_계_1세 2024년09월_계_2세 2024년09월_계_3세 2024년09월_계_4세  \\\n",
       "3715           643           739           845           882         1,114   \n",
       "\n",
       "     2024년09월_계_5세 2024년09월_계_6세  ... 2024년09월_여_91세 2024년09월_여_92세  \\\n",
       "3715         1,169         1,403  ...             46             42   \n",
       "\n",
       "     2024년09월_여_93세 2024년09월_여_94세 2024년09월_여_95세 2024년09월_여_96세  \\\n",
       "3715             31             18             24             12   \n",
       "\n",
       "     2024년09월_여_97세 2024년09월_여_98세 2024년09월_여_99세 2024년09월_여_100세 이상  \n",
       "3715              4              5              4                  9  \n",
       "\n",
       "[1 rows x 310 columns]"
      ]
     },
     "execution_count": 8,
     "metadata": {},
     "output_type": "execute_result"
    }
   ],
   "source": [
    "area_mask = population['행정구역'].map(lambda v: v[-6] != '0') # 동 행정구역 찾기\n",
    "max_value = population[area_mask][\"2024년09월_계_총인구수\"].max()\n",
    "max_value\n",
    "\n",
    "population[ population[\"2024년09월_계_총인구수\"] == max_value ]\n"
   ]
  },
  {
   "cell_type": "code",
   "execution_count": null,
   "metadata": {},
   "outputs": [],
   "source": [
    "# 4. 남성인구비가 가장 높은 동 조회 ( 읍면동 단위 )\n",
    "#    3개 컬럼 활용 : \"2024년09월_계_총인구수\", \n",
    "#                   \"2024년09월_남_총인구수\", \"2024년09월_여_총인구수\""
   ]
  },
  {
   "cell_type": "code",
   "execution_count": 20,
   "metadata": {},
   "outputs": [
    {
     "data": {
      "text/plain": [
       "Index(['행정구역', '2024년09월_계_총인구수', '2024년09월_계_연령구간인구수', '2024년09월_계_0세',\n",
       "       '2024년09월_계_1세', '2024년09월_계_2세', '2024년09월_계_3세', '2024년09월_계_4세',\n",
       "       '2024년09월_계_5세', '2024년09월_계_6세',\n",
       "       ...\n",
       "       '2024년09월_여_91세', '2024년09월_여_92세', '2024년09월_여_93세', '2024년09월_여_94세',\n",
       "       '2024년09월_여_95세', '2024년09월_여_96세', '2024년09월_여_97세', '2024년09월_여_98세',\n",
       "       '2024년09월_여_99세', '2024년09월_여_100세 이상'],\n",
       "      dtype='object', length=310)"
      ]
     },
     "execution_count": 20,
     "metadata": {},
     "output_type": "execute_result"
    }
   ],
   "source": [
    "population.columns"
   ]
  },
  {
   "cell_type": "code",
   "execution_count": 24,
   "metadata": {},
   "outputs": [],
   "source": [
    "def value_to_int(v):\n",
    "    if not v or str(v) == 'nan':\n",
    "        return 0\n",
    "    \n",
    "    str_v = str(v)\n",
    "    replaced_v = str_v.replace(\",\", \"\")\n",
    "    int_v = int(replaced_v)\n",
    "    \n",
    "    return int_v\n",
    "\n",
    "for column in population.columns[1:]:\n",
    "    # print(column)\n",
    "    # population[column] = population[column].map(lambda v : int(str(v).replace(\",\", \"\")))\n",
    "    # population[column] = population[column].map(lambda v : int(str(v).replace(\",\", \"\")) if v and str(v) != \"nan\" else 0)\n",
    "    population[column] = population[column].map(value_to_int)"
   ]
  },
  {
   "cell_type": "code",
   "execution_count": null,
   "metadata": {},
   "outputs": [],
   "source": [
    "population.dtypes"
   ]
  },
  {
   "cell_type": "code",
   "execution_count": 32,
   "metadata": {},
   "outputs": [
    {
     "name": "stdout",
     "output_type": "stream",
     "text": [
      "<class 'pandas.core.series.Series'>\n",
      "0.6537174276834807 0.4086599031894437\n"
     ]
    },
    {
     "data": {
      "text/plain": [
       "행정구역                  서울특별시 성북구 동선동(1129057500)\n",
       "2024년09월_계_총인구수                           15081\n",
       "2024년09월_계_연령구간인구수                        15081\n",
       "2024년09월_계_0세                                31\n",
       "2024년09월_계_1세                                27\n",
       "                                ...            \n",
       "2024년09월_여_96세                                2\n",
       "2024년09월_여_97세                                1\n",
       "2024년09월_여_98세                                1\n",
       "2024년09월_여_99세                                3\n",
       "2024년09월_여_100세 이상                            3\n",
       "Name: 121, Length: 310, dtype: object"
      ]
     },
     "execution_count": 32,
     "metadata": {},
     "output_type": "execute_result"
    }
   ],
   "source": [
    "male_ratio = population[\"2024년09월_남_총인구수\"] / population[\"2024년09월_계_총인구수\"]\n",
    "print( type(male_ratio) )\n",
    "# male_ratio\n",
    "# male_ratio.argmax() # argmax : 가장 큰 값이 있는 행 index\n",
    "# population.loc[male_ratio.argmax()] # loc[행인덱스, 열인덱스] # 열인덱스 생략 가능\n",
    "print( male_ratio.max(), male_ratio.min() )\n",
    "population.loc[male_ratio.argmin()] # loc[행인덱스, 열인덱스] # 열인덱스 생략 가능"
   ]
  },
  {
   "cell_type": "code",
   "execution_count": null,
   "metadata": {},
   "outputs": [],
   "source": [
    "# 5. 도시 법정동 1선정, 농촌 법정동 1선정, 인구 분포 비교 ( 읍면동 단위, bar plot 사용 )\n",
    "#    2024년09월_계_0세 ~ 2024년09월_계_100세 컬럼의 데이터 사용\n"
   ]
  },
  {
   "cell_type": "code",
   "execution_count": 69,
   "metadata": {},
   "outputs": [
    {
     "data": {
      "text/html": [
       "<div>\n",
       "<style scoped>\n",
       "    .dataframe tbody tr th:only-of-type {\n",
       "        vertical-align: middle;\n",
       "    }\n",
       "\n",
       "    .dataframe tbody tr th {\n",
       "        vertical-align: top;\n",
       "    }\n",
       "\n",
       "    .dataframe thead th {\n",
       "        text-align: right;\n",
       "    }\n",
       "</style>\n",
       "<table border=\"1\" class=\"dataframe\">\n",
       "  <thead>\n",
       "    <tr style=\"text-align: right;\">\n",
       "      <th></th>\n",
       "      <th>행정구역</th>\n",
       "      <th>2024년09월_계_총인구수</th>\n",
       "      <th>2024년09월_계_연령구간인구수</th>\n",
       "      <th>2024년09월_계_0세</th>\n",
       "      <th>2024년09월_계_1세</th>\n",
       "      <th>2024년09월_계_2세</th>\n",
       "      <th>2024년09월_계_3세</th>\n",
       "      <th>2024년09월_계_4세</th>\n",
       "      <th>2024년09월_계_5세</th>\n",
       "      <th>2024년09월_계_6세</th>\n",
       "      <th>...</th>\n",
       "      <th>2024년09월_여_91세</th>\n",
       "      <th>2024년09월_여_92세</th>\n",
       "      <th>2024년09월_여_93세</th>\n",
       "      <th>2024년09월_여_94세</th>\n",
       "      <th>2024년09월_여_95세</th>\n",
       "      <th>2024년09월_여_96세</th>\n",
       "      <th>2024년09월_여_97세</th>\n",
       "      <th>2024년09월_여_98세</th>\n",
       "      <th>2024년09월_여_99세</th>\n",
       "      <th>2024년09월_여_100세 이상</th>\n",
       "    </tr>\n",
       "  </thead>\n",
       "  <tbody>\n",
       "    <tr>\n",
       "      <th>392</th>\n",
       "      <td>서울특별시 강남구 역삼1동(1168064000)</td>\n",
       "      <td>34292</td>\n",
       "      <td>34292</td>\n",
       "      <td>114</td>\n",
       "      <td>88</td>\n",
       "      <td>71</td>\n",
       "      <td>76</td>\n",
       "      <td>70</td>\n",
       "      <td>60</td>\n",
       "      <td>67</td>\n",
       "      <td>...</td>\n",
       "      <td>13</td>\n",
       "      <td>8</td>\n",
       "      <td>7</td>\n",
       "      <td>11</td>\n",
       "      <td>5</td>\n",
       "      <td>3</td>\n",
       "      <td>5</td>\n",
       "      <td>3</td>\n",
       "      <td>0</td>\n",
       "      <td>2</td>\n",
       "    </tr>\n",
       "    <tr>\n",
       "      <th>393</th>\n",
       "      <td>서울특별시 강남구 역삼2동(1168065000)</td>\n",
       "      <td>36338</td>\n",
       "      <td>36338</td>\n",
       "      <td>109</td>\n",
       "      <td>102</td>\n",
       "      <td>105</td>\n",
       "      <td>131</td>\n",
       "      <td>128</td>\n",
       "      <td>173</td>\n",
       "      <td>211</td>\n",
       "      <td>...</td>\n",
       "      <td>8</td>\n",
       "      <td>8</td>\n",
       "      <td>16</td>\n",
       "      <td>5</td>\n",
       "      <td>2</td>\n",
       "      <td>3</td>\n",
       "      <td>1</td>\n",
       "      <td>1</td>\n",
       "      <td>1</td>\n",
       "      <td>2</td>\n",
       "    </tr>\n",
       "  </tbody>\n",
       "</table>\n",
       "<p>2 rows × 310 columns</p>\n",
       "</div>"
      ],
      "text/plain": [
       "                           행정구역  2024년09월_계_총인구수  2024년09월_계_연령구간인구수  \\\n",
       "392  서울특별시 강남구 역삼1동(1168064000)            34292               34292   \n",
       "393  서울특별시 강남구 역삼2동(1168065000)            36338               36338   \n",
       "\n",
       "     2024년09월_계_0세  2024년09월_계_1세  2024년09월_계_2세  2024년09월_계_3세  \\\n",
       "392            114             88             71             76   \n",
       "393            109            102            105            131   \n",
       "\n",
       "     2024년09월_계_4세  2024년09월_계_5세  2024년09월_계_6세  ...  2024년09월_여_91세  \\\n",
       "392             70             60             67  ...              13   \n",
       "393            128            173            211  ...               8   \n",
       "\n",
       "     2024년09월_여_92세  2024년09월_여_93세  2024년09월_여_94세  2024년09월_여_95세  \\\n",
       "392               8               7              11               5   \n",
       "393               8              16               5               2   \n",
       "\n",
       "     2024년09월_여_96세  2024년09월_여_97세  2024년09월_여_98세  2024년09월_여_99세  \\\n",
       "392               3               5               3               0   \n",
       "393               3               1               1               1   \n",
       "\n",
       "     2024년09월_여_100세 이상  \n",
       "392                   2  \n",
       "393                   2  \n",
       "\n",
       "[2 rows x 310 columns]"
      ]
     },
     "execution_count": 69,
     "metadata": {},
     "output_type": "execute_result"
    }
   ],
   "source": [
    "population[population['행정구역'].str.contains('창평면')]\n",
    "population[population['행정구역'].str.contains('역삼')]"
   ]
  },
  {
   "cell_type": "code",
   "execution_count": 59,
   "metadata": {},
   "outputs": [],
   "source": [
    "# 특정 지역의 0세 ~ 100세 데이터를 찾아서 ndarray로 저장\n",
    "population_per_age392 = population.loc[393, '2024년09월_계_0세':'2024년09월_계_100세 이상'].values # 역삼2동\n",
    "population_per_age2942 = population.loc[2942, '2024년09월_계_0세':'2024년09월_계_100세 이상'].values # 창평면"
   ]
  },
  {
   "cell_type": "code",
   "execution_count": 78,
   "metadata": {},
   "outputs": [
    {
     "data": {
      "image/png": "[encoded data removed]",
      "text/plain": [
       "<Figure size 1000x300 with 1 Axes>"
      ]
     },
     "metadata": {},
     "output_type": "display_data"
    }
   ],
   "source": [
    "plt.figure(figsize=(10, 3))\n",
    "plt.bar(np.arange(101), population_per_age392, label='392')\n",
    "plt.bar(np.arange(101), population_per_age2942, label='2942')\n",
    "plt.legend()\n",
    "plt.show()"
   ]
  },
  {
   "cell_type": "code",
   "execution_count": 79,
   "metadata": {},
   "outputs": [
    {
     "data": {
      "image/png": "[encoded data removed]",
      "text/plain": [
       "<Figure size 1000x300 with 1 Axes>"
      ]
     },
     "metadata": {},
     "output_type": "display_data"
    }
   ],
   "source": [
    "plt.figure(figsize=(10, 3))\n",
    "plt.bar(np.arange(101), population_per_age392, label='392')\n",
    "plt.bar(np.arange(101), -population_per_age2942, label='2942')\n",
    "plt.legend()\n",
    "plt.show()"
   ]
  },
  {
   "cell_type": "code",
   "execution_count": 80,
   "metadata": {},
   "outputs": [
    {
     "data": {
      "image/png": "[encoded data removed]",
      "text/plain": [
       "<Figure size 640x480 with 1 Axes>"
      ]
     },
     "metadata": {},
     "output_type": "display_data"
    }
   ],
   "source": [
    "plt.barh(np.arange(101), population_per_age392, label='392')\n",
    "plt.barh(np.arange(101), -population_per_age2942, label='2942')\n",
    "plt.legend()\n",
    "plt.show()"
   ]
  },
  {
   "cell_type": "code",
   "execution_count": null,
   "metadata": {},
   "outputs": [],
   "source": []
  },
  {
   "cell_type": "code",
   "execution_count": null,
   "metadata": {},
   "outputs": [],
   "source": []
  },
  {
   "cell_type": "code",
   "execution_count": 81,
   "metadata": {},
   "outputs": [],
   "source": [
    "population_per_age_ratio392 = population_per_age392 / population_per_age392.sum() * 100\n",
    "population_per_age_ratio2942 = population_per_age2942 / population_per_age2942.sum() * 100"
   ]
  },
  {
   "cell_type": "code",
   "execution_count": 82,
   "metadata": {},
   "outputs": [
    {
     "data": {
      "image/png": "[encoded data removed]",
      "text/plain": [
       "<Figure size 1000x300 with 1 Axes>"
      ]
     },
     "metadata": {},
     "output_type": "display_data"
    }
   ],
   "source": [
    "plt.figure(figsize=(10, 3))\n",
    "plt.bar(np.arange(101), population_per_age_ratio392, label='392')\n",
    "plt.bar(np.arange(101), -population_per_age_ratio2942, label='2942')\n",
    "plt.legend()\n",
    "plt.show()"
   ]
  },
  {
   "cell_type": "code",
   "execution_count": null,
   "metadata": {},
   "outputs": [],
   "source": [
    "# 추가 과제 : 남성 인구비가 가장 높은 지역 (월롱)의 남 여 인구 구성 시각화 (bar-plot)\n",
    "# 추가 과제 : 여성 인구비가 가장 높은 지역 (동선동)의 남 여 인구 구성 시각화 (bar-plot)"
   ]
  },
  {
   "cell_type": "code",
   "execution_count": null,
   "metadata": {},
   "outputs": [],
   "source": [
    "# 6. 현재 연구자 거주지 동의 연령별 인구를 그래프로 표시"
   ]
  },
  {
   "cell_type": "code",
   "execution_count": 86,
   "metadata": {},
   "outputs": [
    {
     "data": {
      "text/plain": [
       "np.int64(1527)"
      ]
     },
     "execution_count": 86,
     "metadata": {},
     "output_type": "execute_result"
    }
   ],
   "source": [
    "idx = population[population['행정구역'].str.contains('동삭동')].index\n",
    "idx[0]"
   ]
  },
  {
   "cell_type": "code",
   "execution_count": 88,
   "metadata": {},
   "outputs": [],
   "source": [
    "# 특정 지역의 0세 ~ 100세 데이터를 찾아서 ndarray로 저장\n",
    "t_pop_per_age = population.loc[idx[0], '2024년09월_계_0세':'2024년09월_계_100세 이상'].values # 역삼2동\n",
    "m_pop_per_age = population.loc[idx[0], '2024년09월_남_0세':'2024년09월_남_100세 이상'].values # 역삼2동\n",
    "f_pop_per_age = population.loc[idx[0], '2024년09월_여_0세':'2024년09월_여_100세 이상'].values # 창평면"
   ]
  },
  {
   "cell_type": "code",
   "execution_count": 90,
   "metadata": {},
   "outputs": [
    {
     "data": {
      "image/png": "[encoded data removed]",
      "text/plain": [
       "<Figure size 640x480 with 1 Axes>"
      ]
     },
     "metadata": {},
     "output_type": "display_data"
    }
   ],
   "source": [
    "plt.barh(np.arange(101), m_pop_per_age, label='male')\n",
    "plt.barh(np.arange(101), -f_pop_per_age, label='female')\n",
    "plt.show()"
   ]
  },
  {
   "cell_type": "code",
   "execution_count": null,
   "metadata": {},
   "outputs": [],
   "source": [
    "# 이 지역은 40대 및 20세 미만 인구가 많은 지역으로 확인됨\n",
    "# "
   ]
  }
 ],
 "metadata": {
  "kernelspec": {
   "display_name": "human-da-env",
   "language": "python",
   "name": "python3"
  },
  "language_info": {
   "codemirror_mode": {
    "name": "ipython",
    "version": 3
   },
   "file_extension": ".py",
   "mimetype": "text/x-python",
   "name": "python",
   "nbconvert_exporter": "python",
   "pygments_lexer": "ipython3",
   "version": "3.12.7"
  }
 },
 "nbformat": 4,
 "nbformat_minor": 2
}
