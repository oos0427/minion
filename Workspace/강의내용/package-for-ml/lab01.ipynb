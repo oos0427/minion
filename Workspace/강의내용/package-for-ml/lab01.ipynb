{
 "cells": [
  {
   "cell_type": "code",
   "execution_count": null,
   "metadata": {},
   "outputs": [],
   "source": [
    "# weather_data.csv 데이터를 읽어서 날짜 리스트와 기온 리스트를 각각 numpy.array로 저장\n",
    "# - csv 모듈 사용해서 행 단위로 데이터 읽기 / dataframe으로 읽어서 numpy.array로 구성\n",
    "\n",
    "# 최저기온 기준 제일 추웠던 날의 기온 (그 날짜의 데이터) 찾기\n",
    "# 최고기온 기준 제일 더웠던 날의 기온 찾기\n",
    "# 일교차가 가장 큰 날 찾기\n",
    "# 평균기온의 평균, 최저기온, 최고기온의 평균"
   ]
  },
  {
   "cell_type": "code",
   "execution_count": 45,
   "metadata": {},
   "outputs": [],
   "source": [
    "import pandas as pd"
   ]
  },
  {
   "cell_type": "code",
   "execution_count": 46,
   "metadata": {},
   "outputs": [],
   "source": [
    "weather_data = pd.read_csv('data-files/weather_data.csv')"
   ]
  },
  {
   "cell_type": "code",
   "execution_count": 47,
   "metadata": {},
   "outputs": [
    {
     "data": {
      "text/plain": [
       "Index(['지점번호', '지점명', '일시', '평균기온(℃)', '최고기온(℃)', '최고기온시각', '최저기온(℃)',\n",
       "       '최저기온시각', '일교차'],\n",
       "      dtype='object')"
      ]
     },
     "execution_count": 47,
     "metadata": {},
     "output_type": "execute_result"
    }
   ],
   "source": [
    "weather_data.columns"
   ]
  },
  {
   "cell_type": "code",
   "execution_count": 129,
   "metadata": {},
   "outputs": [],
   "source": [
    "date_array = weather_data[['일시']].values\n",
    "temperature_array = weather_data[['평균기온(℃)', '최고기온(℃)', '최저기온(℃)', '일교차']].values"
   ]
  },
  {
   "cell_type": "code",
   "execution_count": 130,
   "metadata": {},
   "outputs": [
    {
     "name": "stdout",
     "output_type": "stream",
     "text": [
      "(42016, 1) 2\n",
      "(42016, 4) 2\n",
      "<class 'numpy.ndarray'> <class 'numpy.ndarray'>\n",
      "object float64\n"
     ]
    }
   ],
   "source": [
    "print( date_array.shape, date_array.ndim )\n",
    "print( temperature_array.shape, temperature_array.ndim )\n",
    "print( type(date_array), type(temperature_array) )\n",
    "print( date_array.dtype, temperature_array.dtype )"
   ]
  },
  {
   "cell_type": "code",
   "execution_count": 131,
   "metadata": {},
   "outputs": [
    {
     "data": {
      "text/plain": [
       "np.float64(nan)"
      ]
     },
     "execution_count": 131,
     "metadata": {},
     "output_type": "execute_result"
    }
   ],
   "source": [
    "temperature_array[:, 2].min() # 최저기온\n",
    "temperature_array[:, 1].max() # 최고기온\n",
    "temperature_array[:, 0].max() # 평균기온"
   ]
  },
  {
   "cell_type": "code",
   "execution_count": 74,
   "metadata": {},
   "outputs": [],
   "source": [
    "import numpy as np"
   ]
  },
  {
   "cell_type": "code",
   "execution_count": 132,
   "metadata": {},
   "outputs": [
    {
     "data": {
      "text/plain": [
       "(np.float64(-23.1), np.float64(7.510114647211384))"
      ]
     },
     "execution_count": 132,
     "metadata": {},
     "output_type": "execute_result"
    }
   ],
   "source": [
    "# 가장 낮은 최저 기온\n",
    "np.isnan(temperature_array[:, 2]).sum() # nan 값의 갯수\n",
    "~np.isnan(temperature_array[:, 2]) # nan인 데이터 목록\n",
    "\n",
    "valid_idx = ~np.isnan(temperature_array[:, 2]) #nan이 아닌 데이터 위치\n",
    "min_value = temperature_array[:, 2][valid_idx].min()\n",
    "mean_value = temperature_array[:, 2][valid_idx].mean()\n",
    "min_value, mean_value"
   ]
  },
  {
   "cell_type": "code",
   "execution_count": 133,
   "metadata": {},
   "outputs": [
    {
     "data": {
      "text/plain": [
       "array([False, False, False, ..., False, False, False])"
      ]
     },
     "execution_count": 133,
     "metadata": {},
     "output_type": "execute_result"
    }
   ],
   "source": [
    "temperature_array[:, 2] == min_value"
   ]
  },
  {
   "cell_type": "code",
   "execution_count": 134,
   "metadata": {},
   "outputs": [
    {
     "data": {
      "text/plain": [
       "array(['1927-12-31'], dtype=object)"
      ]
     },
     "execution_count": 134,
     "metadata": {},
     "output_type": "execute_result"
    }
   ],
   "source": [
    "# 최저 기온이 가장 낮을 때 날짜\n",
    "temperature_array[:, 2][temperature_array[:, 2] == min_value]\n",
    "date_array[:, 0][temperature_array[:, 2] == min_value]"
   ]
  },
  {
   "cell_type": "code",
   "execution_count": 135,
   "metadata": {},
   "outputs": [
    {
     "data": {
      "text/plain": [
       "(np.float64(39.6), np.float64(16.800116343893155))"
      ]
     },
     "execution_count": 135,
     "metadata": {},
     "output_type": "execute_result"
    }
   ],
   "source": [
    "# 가장 높은 최고 기온\n",
    "valid_idx = ~np.isnan(temperature_array[:, 1]) #nan이 아닌 데이터 위치\n",
    "max_value = temperature_array[:, 1][valid_idx].max()\n",
    "mean_value = temperature_array[:, 1][valid_idx].mean()\n",
    "max_value, mean_value"
   ]
  },
  {
   "cell_type": "code",
   "execution_count": 136,
   "metadata": {},
   "outputs": [
    {
     "data": {
      "text/plain": [
       "array(['2018-08-01'], dtype=object)"
      ]
     },
     "execution_count": 136,
     "metadata": {},
     "output_type": "execute_result"
    }
   ],
   "source": [
    "# 최고 기온이 가장 높을 때 날짜\n",
    "date_array[:, 0][temperature_array[:, 1] == max_value]"
   ]
  },
  {
   "cell_type": "code",
   "execution_count": 137,
   "metadata": {},
   "outputs": [
    {
     "data": {
      "text/plain": [
       "(np.float64(33.7), np.float64(11.798744546776538))"
      ]
     },
     "execution_count": 137,
     "metadata": {},
     "output_type": "execute_result"
    }
   ],
   "source": [
    "# 가장 높은 평균 기온\n",
    "valid_idx = ~np.isnan(temperature_array[:, 0]) #nan이 아닌 데이터 위치\n",
    "max_value = temperature_array[:, 0][valid_idx].max()\n",
    "mean_value = temperature_array[:, 0][valid_idx].mean()\n",
    "max_value, mean_value"
   ]
  },
  {
   "cell_type": "code",
   "execution_count": 138,
   "metadata": {},
   "outputs": [
    {
     "data": {
      "text/plain": [
       "array(['2018-08-02'], dtype=object)"
      ]
     },
     "execution_count": 138,
     "metadata": {},
     "output_type": "execute_result"
    }
   ],
   "source": [
    "# 평균 기온이 가장 높을 때 날짜\n",
    "date_array[:, 0][temperature_array[:, 0] == max_value]"
   ]
  },
  {
   "cell_type": "code",
   "execution_count": 139,
   "metadata": {},
   "outputs": [
    {
     "data": {
      "text/plain": [
       "(np.float64(21.8), np.float64(9.289751793678494))"
      ]
     },
     "execution_count": 139,
     "metadata": {},
     "output_type": "execute_result"
    }
   ],
   "source": [
    "# 일교차가 가장 큰 날\n",
    "valid_idx = ~np.isnan(temperature_array[:, 3]) #nan이 아닌 데이터 위치\n",
    "max_value = temperature_array[:, 3][valid_idx].max()\n",
    "mean_value = temperature_array[:, 3][valid_idx].mean()\n",
    "max_value, mean_value"
   ]
  },
  {
   "cell_type": "code",
   "execution_count": 97,
   "metadata": {},
   "outputs": [
    {
     "data": {
      "text/plain": [
       "array(['1942-04-19'], dtype=object)"
      ]
     },
     "execution_count": 97,
     "metadata": {},
     "output_type": "execute_result"
    }
   ],
   "source": [
    "# 일교차가 가장 큰 날짜\n",
    "date_array[:, 0][temperature_array[:, 3] == max_value]"
   ]
  },
  {
   "cell_type": "code",
   "execution_count": 140,
   "metadata": {},
   "outputs": [],
   "source": [
    "def select_temperature_data(col='평균기온', vtype='max'):\n",
    "    cols = {'평균기온':0, '최고기온':1, '최저기온':2, '일교차':3}\n",
    "    col_idx = cols[col]\n",
    "\n",
    "    valid_filter = ~np.isnan(temperature_array[:, col_idx]) #nan이 아닌 데이터 위치\n",
    "    \n",
    "    max_value = temperature_array[:, col_idx][valid_filter].max()\n",
    "    min_value = temperature_array[:, col_idx][valid_filter].min()\n",
    "    mean_value = temperature_array[:, col_idx][valid_filter].mean()\n",
    "\n",
    "    temperature_key, target_value = ('최고기온', max_value) if vtype == 'max' else ('최저기온', min_value)\n",
    "\n",
    "    dates = date_array[:, 0][temperature_array[:, col_idx] == target_value ]\n",
    "\n",
    "    return { temperature_key : target_value.item(), \"평균기온\" : mean_value.item(), \"날짜\": dates.item() }\n"
   ]
  },
  {
   "cell_type": "code",
   "execution_count": 144,
   "metadata": {},
   "outputs": [
    {
     "data": {
      "text/plain": [
       "{'최고기온': 21.8, '평균기온': 9.289751793678494, '날짜': '1942-04-19'}"
      ]
     },
     "execution_count": 144,
     "metadata": {},
     "output_type": "execute_result"
    }
   ],
   "source": [
    "select_temperature_data('일교차', 'max')"
   ]
  }
 ],
 "metadata": {
  "kernelspec": {
   "display_name": "human-da-env",
   "language": "python",
   "name": "python3"
  },
  "language_info": {
   "codemirror_mode": {
    "name": "ipython",
    "version": 3
   },
   "file_extension": ".py",
   "mimetype": "text/x-python",
   "name": "python",
   "nbconvert_exporter": "python",
   "pygments_lexer": "ipython3",
   "version": "3.12.7"
  }
 },
 "nbformat": 4,
 "nbformat_minor": 2
}
