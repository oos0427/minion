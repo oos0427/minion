{
 "cells": [
  {
   "cell_type": "code",
   "execution_count": null,
   "metadata": {},
   "outputs": [],
   "source": [
    "# weather_data.csv 데이터를 읽어서 dataframe 구성\n",
    "\n",
    "# 최저기온 기준 제일 추웠던 날의 기온 (그 날짜의 데이터) 찾기\n",
    "# 최고기온 기준 제일 더웠던 날의 기온 찾기\n",
    "# 일교차가 가장 큰 날 찾기\n",
    "# 평균기온의 평균, 최저기온, 최고기온의 평균"
   ]
  },
  {
   "cell_type": "code",
   "execution_count": 1,
   "metadata": {},
   "outputs": [],
   "source": [
    "import pandas as pd"
   ]
  },
  {
   "cell_type": "code",
   "execution_count": 2,
   "metadata": {},
   "outputs": [],
   "source": [
    "weather_data = pd.read_csv('data-files/weather_data.csv')"
   ]
  },
  {
   "cell_type": "code",
   "execution_count": 3,
   "metadata": {},
   "outputs": [
    {
     "data": {
      "text/plain": [
       "Index(['지점번호', '지점명', '일시', '평균기온(℃)', '최고기온(℃)', '최고기온시각', '최저기온(℃)',\n",
       "       '최저기온시각', '일교차'],\n",
       "      dtype='object')"
      ]
     },
     "execution_count": 3,
     "metadata": {},
     "output_type": "execute_result"
    }
   ],
   "source": [
    "weather_data.columns"
   ]
  },
  {
   "cell_type": "code",
   "execution_count": 4,
   "metadata": {},
   "outputs": [],
   "source": [
    "# 전체 컬럼명 변경\n",
    "weather_data.columns = ['지점번호', '지점명', '일시', '평균기온', \n",
    "                        '최고기온', '최고기온시각', '최저기온',\n",
    "                        '최저기온시각', '일교차']"
   ]
  },
  {
   "cell_type": "code",
   "execution_count": 10,
   "metadata": {},
   "outputs": [],
   "source": [
    "# 일부 컬럼명 변경\n",
    "weather_data_renamed = \\\n",
    "    weather_data.rename(columns={ \"지점명\": \"지점이름\", \"일시\": \"관측일시\" }) # 변경된 복사본 반환"
   ]
  },
  {
   "cell_type": "code",
   "execution_count": null,
   "metadata": {},
   "outputs": [],
   "source": [
    "weather_data_renamed"
   ]
  },
  {
   "cell_type": "code",
   "execution_count": 13,
   "metadata": {},
   "outputs": [],
   "source": [
    "weather_data.rename(columns={ \"지점명\": \"지점이름\", \"일시\": \"관측일시\" },\n",
    "                    inplace=True) # 원본 변경"
   ]
  },
  {
   "cell_type": "code",
   "execution_count": null,
   "metadata": {},
   "outputs": [],
   "source": [
    "weather_data"
   ]
  },
  {
   "cell_type": "code",
   "execution_count": 21,
   "metadata": {},
   "outputs": [
    {
     "data": {
      "text/html": [
       "<div>\n",
       "<style scoped>\n",
       "    .dataframe tbody tr th:only-of-type {\n",
       "        vertical-align: middle;\n",
       "    }\n",
       "\n",
       "    .dataframe tbody tr th {\n",
       "        vertical-align: top;\n",
       "    }\n",
       "\n",
       "    .dataframe thead th {\n",
       "        text-align: right;\n",
       "    }\n",
       "</style>\n",
       "<table border=\"1\" class=\"dataframe\">\n",
       "  <thead>\n",
       "    <tr style=\"text-align: right;\">\n",
       "      <th></th>\n",
       "      <th>지점번호</th>\n",
       "      <th>지점이름</th>\n",
       "      <th>관측일시</th>\n",
       "      <th>평균기온</th>\n",
       "      <th>최고기온</th>\n",
       "      <th>최고기온시각</th>\n",
       "      <th>최저기온</th>\n",
       "      <th>최저기온시각</th>\n",
       "      <th>일교차</th>\n",
       "    </tr>\n",
       "  </thead>\n",
       "  <tbody>\n",
       "    <tr>\n",
       "      <th>7396</th>\n",
       "      <td>108</td>\n",
       "      <td>서울</td>\n",
       "      <td>1927-12-31</td>\n",
       "      <td>-15.3</td>\n",
       "      <td>-6.4</td>\n",
       "      <td>NaN</td>\n",
       "      <td>-23.1</td>\n",
       "      <td>NaN</td>\n",
       "      <td>16.7</td>\n",
       "    </tr>\n",
       "  </tbody>\n",
       "</table>\n",
       "</div>"
      ],
      "text/plain": [
       "      지점번호 지점이름        관측일시  평균기온  최고기온 최고기온시각  최저기온 최저기온시각   일교차\n",
       "7396   108   서울  1927-12-31 -15.3  -6.4    NaN -23.1    NaN  16.7"
      ]
     },
     "execution_count": 21,
     "metadata": {},
     "output_type": "execute_result"
    }
   ],
   "source": [
    "# 가장 낮은 최저 기온\n",
    "min_temperature = weather_data[\"최저기온\"].min() # 최저값 반환\n",
    "max_idx = weather_data['최저기온'] == min_temperature\n",
    "weather_data[max_idx]"
   ]
  },
  {
   "cell_type": "code",
   "execution_count": 24,
   "metadata": {},
   "outputs": [
    {
     "data": {
      "text/plain": [
       "지점번호             108\n",
       "지점이름              서울\n",
       "관측일시      1927-12-31\n",
       "평균기온           -15.3\n",
       "최고기온            -6.4\n",
       "최고기온시각           NaN\n",
       "최저기온           -23.1\n",
       "최저기온시각           NaN\n",
       "일교차             16.7\n",
       "Name: 7396, dtype: object"
      ]
     },
     "execution_count": 24,
     "metadata": {},
     "output_type": "execute_result"
    }
   ],
   "source": [
    "max_idx = weather_data['최저기온'].argmin() # 최저값이 있는 위치 (인덱스) 반환\n",
    "weather_data.loc[max_idx]"
   ]
  },
  {
   "cell_type": "code",
   "execution_count": 25,
   "metadata": {},
   "outputs": [
    {
     "data": {
      "text/plain": [
       "지점번호             108\n",
       "지점이름              서울\n",
       "관측일시      2018-08-01\n",
       "평균기온            33.6\n",
       "최고기온            39.6\n",
       "최고기온시각         15:36\n",
       "최저기온            27.8\n",
       "최저기온시각         05:56\n",
       "일교차             11.8\n",
       "Name: 40051, dtype: object"
      ]
     },
     "execution_count": 25,
     "metadata": {},
     "output_type": "execute_result"
    }
   ],
   "source": [
    "# 가장 높은 최고 기온\n",
    "max_idx = weather_data['최고기온'].argmax() # 최고값이 있는 위치 (인덱스) 반환\n",
    "weather_data.loc[max_idx]"
   ]
  },
  {
   "cell_type": "code",
   "execution_count": 26,
   "metadata": {},
   "outputs": [
    {
     "data": {
      "text/plain": [
       "지점번호             108\n",
       "지점이름              서울\n",
       "관측일시      1942-04-19\n",
       "평균기온            12.7\n",
       "최고기온            24.3\n",
       "최고기온시각         14:12\n",
       "최저기온             2.5\n",
       "최저기온시각         06:16\n",
       "일교차             21.8\n",
       "Name: 12619, dtype: object"
      ]
     },
     "execution_count": 26,
     "metadata": {},
     "output_type": "execute_result"
    }
   ],
   "source": [
    "# 일교차가 가장 큰 날\n",
    "max_idx = weather_data['일교차'].argmax() # 최고값이 있는 위치 (인덱스) 반환\n",
    "weather_data.loc[max_idx]"
   ]
  }
 ],
 "metadata": {
  "kernelspec": {
   "display_name": "human-da-env",
   "language": "python",
   "name": "python3"
  },
  "language_info": {
   "codemirror_mode": {
    "name": "ipython",
    "version": 3
   },
   "file_extension": ".py",
   "mimetype": "text/x-python",
   "name": "python",
   "nbconvert_exporter": "python",
   "pygments_lexer": "ipython3",
   "version": "3.12.7"
  }
 },
 "nbformat": 4,
 "nbformat_minor": 2
}
