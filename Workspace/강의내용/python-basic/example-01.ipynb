{
 "cells": [
  {
   "cell_type": "code",
   "execution_count": 1,
   "metadata": {},
   "outputs": [
    {
     "name": "stdout",
     "output_type": "stream",
     "text": [
      "hello python !!!\n"
     ]
    }
   ],
   "source": [
    "print(\"hello python !!!\")"
   ]
  },
  {
   "cell_type": "code",
   "execution_count": null,
   "metadata": {},
   "outputs": [],
   "source": [
    "s1 = 'abcde'\n",
    "s2 = \"abcde\"\n",
    "s3 = \"\"\"abcde\"\"\"\n",
    "s4 = '''abcde'''\n",
    "\n",
    "\n",
    "s5 = 'abcdefg \\nhello'\n",
    "\n",
    "s6 = \"\"\"abcdefg\n",
    "hello\"\"\""
   ]
  },
  {
   "cell_type": "code",
   "execution_count": 2,
   "metadata": {},
   "outputs": [
    {
     "name": "stdout",
     "output_type": "stream",
     "text": [
      "abcabcabcabcabcabcabcabcabcabc\n",
      "[1, 2, 3, 1, 2, 3, 1, 2, 3, 1, 2, 3, 1, 2, 3, 1, 2, 3, 1, 2, 3, 1, 2, 3, 1, 2, 3, 1, 2, 3]\n"
     ]
    }
   ],
   "source": [
    "print(\"abc\" * 10)\n",
    "print([1, 2, 3] * 10)"
   ]
  },
  {
   "cell_type": "code",
   "execution_count": 4,
   "metadata": {},
   "outputs": [
    {
     "name": "stdout",
     "output_type": "stream",
     "text": [
      "[10, 20, 30, 40, 50, 60, 70, 80, 90, 100]\n",
      "[10, 20, 30, 40, 50, 60, 70, 80, 90, 100]\n"
     ]
    }
   ],
   "source": [
    "# numbers 각 요소에 10을 곱한 값의 리스트 만들기\n",
    "numbers = [1, 2, 3, 4, 5, 6, 7, 8, 9, 10]\n",
    "\n",
    "numbers2 = []\n",
    "for n in numbers:\n",
    "    numbers2.append(n * 10)\n",
    "\n",
    "print(numbers2)\n",
    "\n",
    "numbers3 = [  n * 10 for n in numbers  ]\n",
    "print(numbers3)"
   ]
  },
  {
   "cell_type": "code",
   "execution_count": 7,
   "metadata": {},
   "outputs": [
    {
     "name": "stdout",
     "output_type": "stream",
     "text": [
      "[10, 30, 50, 70, 90]\n",
      "[10, 30, 50, 70, 90]\n"
     ]
    }
   ],
   "source": [
    "# numbers 짝수 번째 요소에 10을 곱한 값의 리스트 만들기\n",
    "numbers = [1, 2, 3, 4, 5, 6, 7, 8, 9, 10]\n",
    "\n",
    "numbers2 = []\n",
    "for idx, n in enumerate(numbers):\n",
    "    if idx % 2 == 0:\n",
    "        numbers2.append(n * 10)\n",
    "\n",
    "print(numbers2)\n",
    "\n",
    "numbers3 = [n * 10 for idx, n in enumerate(numbers) if idx % 2 == 0]\n",
    "print(numbers3)"
   ]
  },
  {
   "cell_type": "code",
   "execution_count": 1,
   "metadata": {},
   "outputs": [
    {
     "name": "stdout",
     "output_type": "stream",
     "text": [
      "14\n",
      "0 1 2 3 4 5 True\n",
      "False\n"
     ]
    }
   ],
   "source": [
    "import random\n",
    "\n",
    "print( random.randint(1, 46) ) # 난수 뽑기\n",
    "\n",
    "for i in range(6):\n",
    "    print(i, end=' ')\n",
    "\n",
    "a = [1, 2, 3, 4, 5]\n",
    "print(1 in a)\n",
    "print(10 in a)"
   ]
  },
  {
   "cell_type": "code",
   "execution_count": 9,
   "metadata": {},
   "outputs": [
    {
     "name": "stdout",
     "output_type": "stream",
     "text": [
      "[39, 8, 2, 25, 2, 8]\n"
     ]
    }
   ],
   "source": [
    "# 로또 번호 추출기\n",
    "# 규칙 1. 1 ~ 45 사이, 난수, 중복 X, 6개 뽑기\n",
    "# 규칙 2. 뽑은 숫자의 평균은 20 ~ 26 사이 ( 범위를 벗어나면 1부터 다시 )\n",
    "\n",
    "import random\n",
    "\n",
    "numbers = [] # 뽑은 번호를 저장할 리스트 변수\n",
    "for idx in range(6):\n",
    "    number = random.randint(1, 45) # 1 45\n",
    "    numbers.append(number)\n",
    "\n",
    "print(numbers)\n"
   ]
  },
  {
   "cell_type": "code",
   "execution_count": 19,
   "metadata": {},
   "outputs": [
    {
     "name": "stdout",
     "output_type": "stream",
     "text": [
      "[24, 44, 19, 10, 8, 4]\n"
     ]
    }
   ],
   "source": [
    "import random\n",
    "\n",
    "numbers = [] # 뽑은 번호를 저장할 리스트 변수\n",
    "while True:\n",
    "    number = random.randint(1, 45) # 1 45\n",
    "    if number not in numbers:\n",
    "        numbers.append(number)\n",
    "    # else:\n",
    "    #     numbers = [] # 중복이 발생하면 처음부터 다시 뽑기\n",
    "\n",
    "    if len(numbers) == 6:\n",
    "        break\n",
    "\n",
    "print(numbers)"
   ]
  },
  {
   "cell_type": "code",
   "execution_count": 79,
   "metadata": {},
   "outputs": [
    {
     "name": "stdout",
     "output_type": "stream",
     "text": [
      "[2, 7, 15, 20, 37, 41] 20\n"
     ]
    }
   ],
   "source": [
    "import random\n",
    "\n",
    "numbers = [] # 뽑은 번호를 저장할 리스트 변수\n",
    "while True:\n",
    "    while True:\n",
    "        number = random.randint(1, 45) # 1 45\n",
    "        if number not in numbers:\n",
    "            numbers.append(number)\n",
    "\n",
    "        if len(numbers) == 6:\n",
    "            break\n",
    "\n",
    "    mean = sum(numbers) / len(numbers)\n",
    "    if mean >= 20 and mean <= 26:\n",
    "        break\n",
    "\n",
    "    numbers = [] # 다시 뽑기 위해 초기화\n",
    " \n",
    "numbers.sort()\n",
    "print(numbers, mean)"
   ]
  },
  {
   "cell_type": "code",
   "execution_count": 81,
   "metadata": {},
   "outputs": [],
   "source": [
    "import random\n",
    "\n",
    "def select_basic_numbers():\n",
    "    numbers = []\n",
    "    while True:\n",
    "        number = random.randint(1, 45) # 1 45\n",
    "        if number not in numbers:\n",
    "            numbers.append(number)\n",
    "\n",
    "        if len(numbers) == 6:\n",
    "            break\n",
    "\n",
    "    return numbers # 호출한 곳으로 값 반환"
   ]
  },
  {
   "cell_type": "code",
   "execution_count": 92,
   "metadata": {},
   "outputs": [
    {
     "name": "stdout",
     "output_type": "stream",
     "text": [
      "[15, 16, 19, 25, 28, 45] 24.666666666666668\n"
     ]
    }
   ],
   "source": [
    "import random\n",
    "\n",
    "numbers = None\n",
    "while True:\n",
    "    numbers = select_basic_numbers()\n",
    "\n",
    "    mean = sum(numbers) / len(numbers)\n",
    "    if mean >= 20 and mean <= 26:\n",
    "        break\n",
    " \n",
    "numbers.sort()\n",
    "print(numbers, mean)"
   ]
  }
 ],
 "metadata": {
  "kernelspec": {
   "display_name": "human-da-env",
   "language": "python",
   "name": "python3"
  },
  "language_info": {
   "codemirror_mode": {
    "name": "ipython",
    "version": 3
   },
   "file_extension": ".py",
   "mimetype": "text/x-python",
   "name": "python",
   "nbconvert_exporter": "python",
   "pygments_lexer": "ipython3",
   "version": "3.12.7"
  }
 },
 "nbformat": 4,
 "nbformat_minor": 2
}
