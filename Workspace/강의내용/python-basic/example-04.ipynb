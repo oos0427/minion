{
 "cells": [
  {
   "cell_type": "code",
   "execution_count": 7,
   "metadata": {},
   "outputs": [
    {
     "name": "stdout",
     "output_type": "stream",
     "text": [
      "********************\n",
      "*                  *\n",
      "*                  *\n",
      "*                  *\n",
      "*                  *\n",
      "*                  *\n",
      "*                  *\n",
      "*                  *\n",
      "*                  *\n",
      "********************\n"
     ]
    }
   ],
   "source": [
    "for y in range(10):\n",
    "    for x in range(20):\n",
    "        if (x == 0) or (x == 20 - 1) or (y == 0) or (y == 10 - 1):\n",
    "            print(\"*\", end=\"\")\n",
    "        else:\n",
    "            print(\" \", end=\"\")\n",
    "    print()"
   ]
  },
  {
   "cell_type": "code",
   "execution_count": 8,
   "metadata": {},
   "outputs": [],
   "source": [
    "def draw_box():\n",
    "    for y in range(10):\n",
    "        for x in range(20):\n",
    "            if (x == 0) or (x == 20 - 1) or (y == 0) or (y == 10 - 1):\n",
    "                print(\"*\", end=\"\")\n",
    "            else:\n",
    "                print(\" \", end=\"\")\n",
    "        print()"
   ]
  },
  {
   "cell_type": "code",
   "execution_count": 10,
   "metadata": {},
   "outputs": [
    {
     "name": "stdout",
     "output_type": "stream",
     "text": [
      "********************\n",
      "*                  *\n",
      "*                  *\n",
      "*                  *\n",
      "*                  *\n",
      "*                  *\n",
      "*                  *\n",
      "*                  *\n",
      "*                  *\n",
      "********************\n",
      "********************\n",
      "*                  *\n",
      "*                  *\n",
      "*                  *\n",
      "*                  *\n",
      "*                  *\n",
      "*                  *\n",
      "*                  *\n",
      "*                  *\n",
      "********************\n"
     ]
    }
   ],
   "source": [
    "draw_box() #  함수 호출 : 함수 실행\n",
    "draw_box()"
   ]
  },
  {
   "cell_type": "code",
   "execution_count": 18,
   "metadata": {},
   "outputs": [],
   "source": [
    "def draw_box2(w, h, c): # w, h : 전달인자 (함수를 호출하는 쪽에서 제공하는 데이터)\n",
    "    for y in range(h):\n",
    "        for x in range(w):\n",
    "            if (x == 0) or (x == w - 1) or (y == 0) or (y == h - 1):\n",
    "                print(c, end=\"\")\n",
    "            else:\n",
    "                print(\" \", end=\"\")\n",
    "        print()"
   ]
  },
  {
   "cell_type": "code",
   "execution_count": 20,
   "metadata": {},
   "outputs": [
    {
     "name": "stdout",
     "output_type": "stream",
     "text": [
      "##############################\n",
      "#                            #\n",
      "#                            #\n",
      "#                            #\n",
      "##############################\n"
     ]
    }
   ],
   "source": [
    "ch, width, height = '#', 30, 5\n",
    "draw_box2(width, height, ch)"
   ]
  },
  {
   "cell_type": "code",
   "execution_count": 21,
   "metadata": {},
   "outputs": [],
   "source": [
    "def draw_box3(w, h, c = '^'): # c = '^' :  기본값, 호출할 때 제공하지 않으면 기본 값 사용\n",
    "    for y in range(h):\n",
    "        for x in range(w):\n",
    "            if (x == 0) or (x == w - 1) or (y == 0) or (y == h - 1):\n",
    "                print(c, end=\"\")\n",
    "            else:\n",
    "                print(\" \", end=\"\")\n",
    "        print()"
   ]
  },
  {
   "cell_type": "code",
   "execution_count": 26,
   "metadata": {},
   "outputs": [
    {
     "name": "stdout",
     "output_type": "stream",
     "text": [
      "%%%%%%%%%%%%%%%%%%%%%%%%%%%%%%%%%%%%%%%%\n",
      "%                                      %\n",
      "%                                      %\n",
      "%                                      %\n",
      "%%%%%%%%%%%%%%%%%%%%%%%%%%%%%%%%%%%%%%%%\n"
     ]
    }
   ],
   "source": [
    "# draw_box3(40, 5) #  기본 값으로 실행\n",
    "# draw_box3(40, 5, '#') # 지정된 값으로 실행\n",
    "\n",
    "draw_box3(c='%', h=5, w=40) # 명명된 전달인자 : 전달인자 이름을 지정해서 데이터 전달"
   ]
  },
  {
   "cell_type": "code",
   "execution_count": 27,
   "metadata": {},
   "outputs": [],
   "source": [
    "def calc(n1, n2):\n",
    "    result = n1 + n2\n",
    "    return result # return : 함수를 호출한 곳으로 함수가 생산한 값을 반환"
   ]
  },
  {
   "cell_type": "code",
   "execution_count": 28,
   "metadata": {},
   "outputs": [
    {
     "name": "stdout",
     "output_type": "stream",
     "text": [
      "30\n"
     ]
    }
   ],
   "source": [
    "r = calc(10, 20)\n",
    "print(r)"
   ]
  },
  {
   "cell_type": "code",
   "execution_count": 32,
   "metadata": {},
   "outputs": [],
   "source": [
    "def calc2(n1, n2):    \n",
    "    # return n1 + n2, n1 - n2, n1 * n2, n1 / n2 # 다중 값 반환 -> tuple로 변환해서 반환\n",
    "    r1, r2, r3, r4 = n1 + n2, n1 - n2, n1 * n2, n1 / n2\n",
    "    return r1, r2, r3, r4 "
   ]
  },
  {
   "cell_type": "code",
   "execution_count": 33,
   "metadata": {},
   "outputs": [
    {
     "data": {
      "text/plain": [
       "(300, 100, 20000, 2.0)"
      ]
     },
     "execution_count": 33,
     "metadata": {},
     "output_type": "execute_result"
    }
   ],
   "source": [
    "r = calc2(200, 100)\n",
    "r"
   ]
  },
  {
   "cell_type": "code",
   "execution_count": 30,
   "metadata": {},
   "outputs": [
    {
     "data": {
      "text/plain": [
       "(300, 100, 20000, 2.0)"
      ]
     },
     "execution_count": 30,
     "metadata": {},
     "output_type": "execute_result"
    }
   ],
   "source": [
    "r1, r2, r3, r4 = calc2(200, 100)\n",
    "r1, r2, r3, r4"
   ]
  },
  {
   "cell_type": "code",
   "execution_count": null,
   "metadata": {},
   "outputs": [],
   "source": []
  },
  {
   "cell_type": "code",
   "execution_count": 34,
   "metadata": {},
   "outputs": [],
   "source": [
    "def f1(*args): # 호출할 때 전달되는 데이터를 모아서 리스트로 구성하는 전달인자\n",
    "    return sum(args)"
   ]
  },
  {
   "cell_type": "code",
   "execution_count": 35,
   "metadata": {},
   "outputs": [
    {
     "name": "stdout",
     "output_type": "stream",
     "text": [
      "30\n",
      "150\n",
      "55\n"
     ]
    }
   ],
   "source": [
    "print( f1(10, 20) )\n",
    "print( f1(10, 20, 30, 40, 50) )\n",
    "print( f1(1, 2, 3, 4, 5, 6, 7, 8, 9, 10) )"
   ]
  },
  {
   "cell_type": "code",
   "execution_count": 49,
   "metadata": {},
   "outputs": [
    {
     "data": {
      "text/plain": [
       "21000"
      ]
     },
     "execution_count": 49,
     "metadata": {},
     "output_type": "execute_result"
    }
   ],
   "source": [
    "vr = [1000, 2000, 3000, 4000, 5000, 6000]\n",
    "f1(vr[0], vr[1], vr[2], vr[3], vr[4], vr[5])\n",
    "f1(*vr) # [1, 2, 3, 4, 5] -> 1, 2, 3, 4, 5"
   ]
  },
  {
   "cell_type": "code",
   "execution_count": 42,
   "metadata": {},
   "outputs": [],
   "source": [
    "def f2(**kwargs): # 이름=값의 목록으로 호출되는 가변 전달인자를 딕셔너리로 만드는 전달인자 \n",
    "    for k, v in kwargs.items(): # items() : key, value 조합 반환\n",
    "        print(k, v, end=' ')\n",
    "    print()\n"
   ]
  },
  {
   "cell_type": "code",
   "execution_count": 43,
   "metadata": {},
   "outputs": [
    {
     "name": "stdout",
     "output_type": "stream",
     "text": [
      "a 10 b 20 c 30 \n",
      "x 100 y 200 z 300 \n",
      "p 5 q 66 r 45 \n"
     ]
    }
   ],
   "source": [
    "f2(a = 10, b = 20, c = 30)\n",
    "f2(x = 100, y = 200, z = 300)\n",
    "f2(p = 5, q = 66, r = 45)"
   ]
  },
  {
   "cell_type": "code",
   "execution_count": 45,
   "metadata": {},
   "outputs": [
    {
     "name": "stdout",
     "output_type": "stream",
     "text": [
      "a 111 b 222 c 333 \n"
     ]
    }
   ],
   "source": [
    "dp = { 'a': 111, 'b': 222, 'c': 333 }\n",
    "# f2(a = dp['a'], b = dp['b'], c = dp['c'])\n",
    "f2(**dp) # **dp : a = 111, b = 222, c = 333"
   ]
  },
  {
   "cell_type": "code",
   "execution_count": null,
   "metadata": {},
   "outputs": [],
   "source": []
  },
  {
   "cell_type": "code",
   "execution_count": null,
   "metadata": {},
   "outputs": [],
   "source": []
  }
 ],
 "metadata": {
  "kernelspec": {
   "display_name": "human-da-env",
   "language": "python",
   "name": "python3"
  },
  "language_info": {
   "codemirror_mode": {
    "name": "ipython",
    "version": 3
   },
   "file_extension": ".py",
   "mimetype": "text/x-python",
   "name": "python",
   "nbconvert_exporter": "python",
   "pygments_lexer": "ipython3",
   "version": "3.12.7"
  }
 },
 "nbformat": 4,
 "nbformat_minor": 2
}
