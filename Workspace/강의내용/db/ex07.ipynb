{
 "cells": [
  {
   "cell_type": "code",
   "execution_count": 3,
   "metadata": {},
   "outputs": [
    {
     "name": "stdout",
     "output_type": "stream",
     "text": [
      "Collecting cryptography\n",
      "  Downloading cryptography-43.0.3-cp39-abi3-win_amd64.whl.metadata (5.4 kB)\n",
      "Requirement already satisfied: cffi>=1.12 in c:\\users\\human\\.conda\\envs\\human-da-env\\lib\\site-packages (from cryptography) (1.17.1)\n",
      "Requirement already satisfied: pycparser in c:\\users\\human\\.conda\\envs\\human-da-env\\lib\\site-packages (from cffi>=1.12->cryptography) (2.22)\n",
      "Downloading cryptography-43.0.3-cp39-abi3-win_amd64.whl (3.1 MB)\n",
      "   ---------------------------------------- 0.0/3.1 MB ? eta -:--:--\n",
      "   ------------- -------------------------- 1.0/3.1 MB 10.0 MB/s eta 0:00:01\n",
      "   ---------------------------------- ----- 2.6/3.1 MB 6.0 MB/s eta 0:00:01\n",
      "   ---------------------------------------- 3.1/3.1 MB 6.2 MB/s eta 0:00:00\n",
      "Installing collected packages: cryptography\n",
      "Successfully installed cryptography-43.0.3\n"
     ]
    }
   ],
   "source": [
    "# mysql database 연동 모듈\n",
    "# !pip install pymysql\n",
    "# !pip install cryptography"
   ]
  },
  {
   "cell_type": "code",
   "execution_count": 1,
   "metadata": {},
   "outputs": [],
   "source": [
    "import pymysql"
   ]
  },
  {
   "cell_type": "code",
   "execution_count": 2,
   "metadata": {},
   "outputs": [],
   "source": [
    "# 1. 데이터베이스에 연결\n",
    "conn = pymysql.connect(host=\"192.168.0.158\", port=3306, db=\"bookstore\",\n",
    "                       user=\"humanda\", passwd=\"humanda\")"
   ]
  },
  {
   "cell_type": "code",
   "execution_count": 3,
   "metadata": {},
   "outputs": [],
   "source": [
    "# 2. 명령 도구 준비\n",
    "cursor = conn.cursor()"
   ]
  },
  {
   "cell_type": "code",
   "execution_count": 4,
   "metadata": {},
   "outputs": [
    {
     "data": {
      "text/plain": [
       "5"
      ]
     },
     "execution_count": 4,
     "metadata": {},
     "output_type": "execute_result"
    }
   ],
   "source": [
    "# 3. 명령 실행\n",
    "sql = \"select * from customer\"\n",
    "cursor.execute(sql)"
   ]
  },
  {
   "cell_type": "code",
   "execution_count": 6,
   "metadata": {},
   "outputs": [],
   "source": [
    "# 4. 조회 명령 실행 결과를 가져오기\n",
    "data = cursor.fetchall() # 2차원 tuple"
   ]
  },
  {
   "cell_type": "code",
   "execution_count": 8,
   "metadata": {},
   "outputs": [
    {
     "name": "stdout",
     "output_type": "stream",
     "text": [
      "<class 'tuple'> 5\n",
      "(1, '박지성', '영국 맨체스타', '000-5000-0001')\n",
      "(2, '김연아', '대한민국 서울', '000-6000-0001')\n",
      "(3, '장미란', '대한민국 강원도', '000-7000-0001')\n",
      "(4, '추신수', '미국 클리블랜드', '000-8000-0001')\n",
      "(5, '박세리', '대한민국 대전', None)\n"
     ]
    }
   ],
   "source": [
    "# 5. 데이터 사용\n",
    "# print( data )\n",
    "# print( type(data), len(data) )\n",
    "for row in data:\n",
    "    print(row)"
   ]
  },
  {
   "cell_type": "code",
   "execution_count": 9,
   "metadata": {},
   "outputs": [],
   "source": [
    "# 6. 연결 닫기\n",
    "cursor.close()\n",
    "conn.close()"
   ]
  },
  {
   "cell_type": "code",
   "execution_count": 12,
   "metadata": {},
   "outputs": [],
   "source": [
    "# 1. 데이터베이스에 연결\n",
    "conn = pymysql.connect(host=\"192.168.0.158\", port=3306, db=\"employees\",\n",
    "                       user=\"humanda\", passwd=\"humanda\")"
   ]
  },
  {
   "cell_type": "code",
   "execution_count": 13,
   "metadata": {},
   "outputs": [],
   "source": [
    "# 2. 명령 도구 준비\n",
    "cursor = conn.cursor()"
   ]
  },
  {
   "cell_type": "code",
   "execution_count": 14,
   "metadata": {},
   "outputs": [
    {
     "data": {
      "text/plain": [
       "300024"
      ]
     },
     "execution_count": 14,
     "metadata": {},
     "output_type": "execute_result"
    }
   ],
   "source": [
    "# 3. 명령 실행\n",
    "sql = \"select emp_no, max(salary) from salaries group by emp_no\"\n",
    "cursor.execute(sql)"
   ]
  },
  {
   "cell_type": "code",
   "execution_count": 15,
   "metadata": {},
   "outputs": [],
   "source": [
    "# 4. 조회 명령 실행 결과를 가져오기\n",
    "data = cursor.fetchall()"
   ]
  },
  {
   "cell_type": "code",
   "execution_count": 16,
   "metadata": {},
   "outputs": [
    {
     "name": "stdout",
     "output_type": "stream",
     "text": [
      "(10001, 88958)\n",
      "(10002, 72527)\n",
      "(10003, 43699)\n",
      "(10004, 74057)\n",
      "(10005, 94692)\n",
      "(10006, 60098)\n",
      "(10007, 88070)\n",
      "(10008, 52668)\n",
      "(10009, 94443)\n",
      "(10010, 80324)\n"
     ]
    }
   ],
   "source": [
    "# 5. 데이터 사용\n",
    "# print( data )\n",
    "# print( type(data), len(data) )\n",
    "for row in data[:10]:\n",
    "    print(row)"
   ]
  },
  {
   "cell_type": "code",
   "execution_count": null,
   "metadata": {},
   "outputs": [],
   "source": []
  },
  {
   "cell_type": "code",
   "execution_count": 17,
   "metadata": {},
   "outputs": [],
   "source": [
    "#  0. 데이터베이스 연동 도구 준비\n",
    "import pymysql"
   ]
  },
  {
   "cell_type": "code",
   "execution_count": 22,
   "metadata": {},
   "outputs": [],
   "source": [
    "# 1. 데이터베이스 연결 -> 연결 객체 반환\n",
    "conn = pymysql.connect(host=\"192.168.0.158\", port=3306, db=\"bookstore\",\n",
    "                       user=\"humanda\", passwd=\"humanda\")"
   ]
  },
  {
   "cell_type": "code",
   "execution_count": 23,
   "metadata": {},
   "outputs": [],
   "source": [
    "# 2. 명령 도구 만들기\n",
    "cursor = conn.cursor()"
   ]
  },
  {
   "cell_type": "code",
   "execution_count": 24,
   "metadata": {},
   "outputs": [
    {
     "data": {
      "text/plain": [
       "0"
      ]
     },
     "execution_count": 24,
     "metadata": {},
     "output_type": "execute_result"
    }
   ],
   "source": [
    "# 3. SQL 만들기 + 명령 실행\n",
    "sql = \"\"\"\n",
    "    create table newbook_och \n",
    "    (\n",
    "        bookid integer primary key,\n",
    "        bookname varchar(100),\n",
    "        publisher varchar(100),\n",
    "        price integer\n",
    "    )\n",
    "    \"\"\"\n",
    "cursor.execute(sql)"
   ]
  },
  {
   "cell_type": "code",
   "execution_count": 25,
   "metadata": {},
   "outputs": [],
   "source": [
    "# 5. 연결 닫기\n",
    "cursor.close()\n",
    "conn.close()"
   ]
  },
  {
   "cell_type": "code",
   "execution_count": null,
   "metadata": {},
   "outputs": [],
   "source": [
    "## book의 데이터를 조회해서 newbook에 저장"
   ]
  },
  {
   "cell_type": "code",
   "execution_count": 40,
   "metadata": {},
   "outputs": [],
   "source": [
    "# 1. 데이터베이스 연결 -> 연결 객체 반환\n",
    "conn = pymysql.connect(host=\"192.168.0.158\", port=3306, db=\"bookstore\",\n",
    "                       user=\"humanda\", passwd=\"humanda\")"
   ]
  },
  {
   "cell_type": "code",
   "execution_count": 41,
   "metadata": {},
   "outputs": [],
   "source": [
    "# 2. 명령 도구 만들기\n",
    "cursor = conn.cursor()"
   ]
  },
  {
   "cell_type": "code",
   "execution_count": 42,
   "metadata": {},
   "outputs": [],
   "source": [
    "# 3. SQL 작성 + 명령 실행 ( 삭제 명령 )\n",
    "sql = \"delete from newbook_och\"\n",
    "cursor.execute(sql)\n",
    "conn.commit()"
   ]
  },
  {
   "cell_type": "code",
   "execution_count": 43,
   "metadata": {},
   "outputs": [
    {
     "data": {
      "text/plain": [
       "10"
      ]
     },
     "execution_count": 43,
     "metadata": {},
     "output_type": "execute_result"
    }
   ],
   "source": [
    "# 3. SQL 작성 + 명령 실행 ( 조회 명령 )\n",
    "sql = \"select bookid, bookname, publisher, price from book\"\n",
    "cursor.execute(sql)"
   ]
  },
  {
   "cell_type": "code",
   "execution_count": 44,
   "metadata": {},
   "outputs": [],
   "source": [
    "# 4. 조회 결과 읽기\n",
    "book_list = cursor.fetchall()"
   ]
  },
  {
   "cell_type": "code",
   "execution_count": null,
   "metadata": {},
   "outputs": [],
   "source": [
    "# # 5. 데이터 처리 (데이터 삽입) 1\n",
    "# sql2 = \"insert into newbook_och values ({0}, '{1}', '{2}', {3})\"\n",
    "# for book in book_list:\n",
    "#     print(book)\n",
    "#     # book 데이터를 newbook_?? 테이블에 insert\n",
    "#     # sql1 = f\"insert into newbook_och values ({book[0]}, '{book[1]}', '{book[2]}', {book[3]})\"\n",
    "#     # cursor.execute(sql1)\n",
    "#     cursor.execute(sql2.format(book[0], book[1], book[2], book[3]))"
   ]
  },
  {
   "cell_type": "code",
   "execution_count": 45,
   "metadata": {},
   "outputs": [
    {
     "name": "stdout",
     "output_type": "stream",
     "text": [
      "(1, '축구의 역사', '굿스포츠', 50000)\n",
      "(2, '축구아는 여자', '나무수', 50000)\n",
      "(3, '축구의 이해', '대한미디어', 50000)\n",
      "(4, '골프 바이블', '대한미디어', 50000)\n",
      "(5, '피겨 교본', '굿스포츠', 50000)\n",
      "(6, '역도 단계별기술', '굿스포츠', 50000)\n",
      "(7, '야구의 추억', '이상미디어', 50000)\n",
      "(8, '야구를 부탁해', '이상미디어', 50000)\n",
      "(9, '올림픽 이야기', '삼성당', 50000)\n",
      "(10, 'Olympic Champions', 'Pearson', 50000)\n"
     ]
    }
   ],
   "source": [
    "# 5. 데이터 처리 (데이터 삽입) 2\n",
    "sql2 = \"insert into newbook_och values (%s, %s, %s, %s)\"\n",
    "for book in book_list:\n",
    "    print(book)\n",
    "    # book 데이터를 newbook_?? 테이블에 insert\n",
    "    cursor.execute(sql2, book)"
   ]
  },
  {
   "cell_type": "code",
   "execution_count": 46,
   "metadata": {},
   "outputs": [],
   "source": [
    "conn.commit() # 이전 변경 작업을 모두 원본 테이블에 적용"
   ]
  },
  {
   "cell_type": "code",
   "execution_count": 47,
   "metadata": {},
   "outputs": [],
   "source": [
    "# 5. 연결 닫기\n",
    "cursor.close()\n",
    "conn.close()"
   ]
  },
  {
   "cell_type": "code",
   "execution_count": null,
   "metadata": {},
   "outputs": [],
   "source": []
  },
  {
   "cell_type": "code",
   "execution_count": 48,
   "metadata": {},
   "outputs": [],
   "source": [
    "# 1. 데이터베이스 연결 -> 연결 객체 반환\n",
    "conn = pymysql.connect(host=\"192.168.0.158\", port=3306, db=\"employees\",\n",
    "                       user=\"humanda\", passwd=\"humanda\")"
   ]
  },
  {
   "cell_type": "code",
   "execution_count": 49,
   "metadata": {},
   "outputs": [],
   "source": [
    "# 2. 명령 도구 만들기\n",
    "cursor = conn.cursor()"
   ]
  },
  {
   "cell_type": "code",
   "execution_count": 51,
   "metadata": {},
   "outputs": [
    {
     "data": {
      "text/plain": [
       "94876"
      ]
     },
     "execution_count": 51,
     "metadata": {},
     "output_type": "execute_result"
    }
   ],
   "source": [
    "# 3. SQL 작성 + 명령 실행 ( 조회 명령 )\n",
    "sql = \"\"\"select * from employees \n",
    "         where lower(first_name) like %s or lower(last_name) like %s\"\"\"\n",
    "cursor.execute(sql, ['%{0}%'.format('g')]*2)"
   ]
  },
  {
   "cell_type": "code",
   "execution_count": 52,
   "metadata": {},
   "outputs": [],
   "source": [
    "# 4. 조회 결과 읽기\n",
    "employee_list = cursor.fetchall()"
   ]
  },
  {
   "cell_type": "code",
   "execution_count": null,
   "metadata": {},
   "outputs": [],
   "source": [
    "# 5. 데이터 처리 (표시)\n",
    "for employee in employee_list[:10]:\n",
    "    print(employee)"
   ]
  },
  {
   "cell_type": "code",
   "execution_count": 54,
   "metadata": {},
   "outputs": [],
   "source": [
    "# 6. 연결 닫기\n",
    "cursor.close()\n",
    "conn.close()"
   ]
  }
 ],
 "metadata": {
  "kernelspec": {
   "display_name": "human-da-env",
   "language": "python",
   "name": "python3"
  },
  "language_info": {
   "codemirror_mode": {
    "name": "ipython",
    "version": 3
   },
   "file_extension": ".py",
   "mimetype": "text/x-python",
   "name": "python",
   "nbconvert_exporter": "python",
   "pygments_lexer": "ipython3",
   "version": "3.12.7"
  }
 },
 "nbformat": 4,
 "nbformat_minor": 2
}
