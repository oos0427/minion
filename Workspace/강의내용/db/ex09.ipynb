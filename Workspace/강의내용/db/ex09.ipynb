{
 "cells": [
  {
   "cell_type": "code",
   "execution_count": null,
   "metadata": {},
   "outputs": [],
   "source": [
    "# winequality-white.csv 파일을 참고해서 테이블 만들기\n",
    "# winequality-white.csv 파일의 데이터를 테이블에 저장"
   ]
  },
  {
   "cell_type": "code",
   "execution_count": 1,
   "metadata": {},
   "outputs": [],
   "source": [
    "import pymysql"
   ]
  },
  {
   "cell_type": "code",
   "execution_count": 2,
   "metadata": {},
   "outputs": [],
   "source": [
    "# 1.\n",
    "conn = pymysql.connect(host=\"localhost\", port=3306, db=\"bookstore\", \n",
    "                       user=\"humanda\", password=\"humanda\")"
   ]
  },
  {
   "cell_type": "code",
   "execution_count": 3,
   "metadata": {},
   "outputs": [],
   "source": [
    "# 2. \n",
    "cursor = conn.cursor()"
   ]
  },
  {
   "cell_type": "code",
   "execution_count": 4,
   "metadata": {},
   "outputs": [
    {
     "data": {
      "text/plain": [
       "0"
      ]
     },
     "execution_count": 4,
     "metadata": {},
     "output_type": "execute_result"
    }
   ],
   "source": [
    "# 4.\n",
    "sql = \"\"\"create table winequality_w\n",
    "         (\n",
    "            idx integer primary key auto_increment,\n",
    "            fixed_acidity float,\n",
    "            volatile_acidity float,\n",
    "            citric_acid float,\n",
    "            residual_sugar float,\n",
    "            chlorides float,\n",
    "            free_sulfur_dioxide float,\n",
    "            total_sulfur_dioxide float,\n",
    "            density float,\n",
    "            pH float,\n",
    "            sulphates float,\n",
    "            alcohol float,\n",
    "            quality integer\n",
    "        )\"\"\"\n",
    "cursor.execute(sql)"
   ]
  },
  {
   "cell_type": "code",
   "execution_count": 5,
   "metadata": {},
   "outputs": [],
   "source": [
    "import pandas as pd"
   ]
  },
  {
   "cell_type": "code",
   "execution_count": 7,
   "metadata": {},
   "outputs": [],
   "source": [
    "winequality_df = pd.read_csv('data-files/winequality-white.csv', sep=\";\")"
   ]
  },
  {
   "cell_type": "code",
   "execution_count": 16,
   "metadata": {},
   "outputs": [],
   "source": [
    "winequality_list = winequality_df.values.tolist()"
   ]
  },
  {
   "cell_type": "code",
   "execution_count": 18,
   "metadata": {},
   "outputs": [],
   "source": [
    "sql = \"delete from winequality_w\"\n",
    "cursor.execute(sql)\n",
    "conn.commit()"
   ]
  },
  {
   "cell_type": "code",
   "execution_count": 19,
   "metadata": {},
   "outputs": [],
   "source": [
    "cols = [ col.replace(' ', '_') for col in winequality_df.columns ]\n",
    "cols = ','.join(cols)\n",
    "\n",
    "sql = \"insert into winequality_w ({0}) values (%s, %s, %s, %s, %s, %s, %s, %s, %s, %s, %s, %s)\".format(cols)"
   ]
  },
  {
   "cell_type": "code",
   "execution_count": 20,
   "metadata": {},
   "outputs": [],
   "source": [
    "cursor.executemany(sql, winequality_list)\n",
    "conn.commit()"
   ]
  },
  {
   "cell_type": "code",
   "execution_count": 21,
   "metadata": {},
   "outputs": [],
   "source": [
    "cursor.close()\n",
    "conn.close()"
   ]
  }
 ],
 "metadata": {
  "kernelspec": {
   "display_name": "human-da-env",
   "language": "python",
   "name": "python3"
  },
  "language_info": {
   "codemirror_mode": {
    "name": "ipython",
    "version": 3
   },
   "file_extension": ".py",
   "mimetype": "text/x-python",
   "name": "python",
   "nbconvert_exporter": "python",
   "pygments_lexer": "ipython3",
   "version": "3.12.7"
  }
 },
 "nbformat": 4,
 "nbformat_minor": 2
}
