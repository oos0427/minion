{
 "cells": [
  {
   "cell_type": "code",
   "execution_count": 7,
   "metadata": {},
   "outputs": [
    {
     "name": "stdout",
     "output_type": "stream",
     "text": [
      "Collecting cryptography\n",
      "  Downloading cryptography-43.0.3-cp39-abi3-win_amd64.whl.metadata (5.4 kB)\n",
      "Requirement already satisfied: cffi>=1.12 in c:\\users\\human\\.conda\\envs\\human-da-env\\lib\\site-packages (from cryptography) (1.17.1)\n",
      "Requirement already satisfied: pycparser in c:\\users\\human\\.conda\\envs\\human-da-env\\lib\\site-packages (from cffi>=1.12->cryptography) (2.22)\n",
      "Downloading cryptography-43.0.3-cp39-abi3-win_amd64.whl (3.1 MB)\n",
      "   ---------------------------------------- 0.0/3.1 MB ? eta -:--:--\n",
      "   ------------------------------ --------- 2.4/3.1 MB 11.2 MB/s eta 0:00:01\n",
      "   ---------------------------------------- 3.1/3.1 MB 10.6 MB/s eta 0:00:00\n",
      "Installing collected packages: cryptography\n",
      "Successfully installed cryptography-43.0.3\n"
     ]
    }
   ],
   "source": [
    "# 241028 실습\n",
    "# ! pip install cryptography"
   ]
  },
  {
   "cell_type": "code",
   "execution_count": 1,
   "metadata": {},
   "outputs": [],
   "source": [
    "import pymysql\n",
    "# import cryptography"
   ]
  },
  {
   "cell_type": "code",
   "execution_count": 2,
   "metadata": {},
   "outputs": [],
   "source": [
    "conn = pymysql.connect(host = \"192.168.0.158\", port = 3306, db = \"bookstore\", user = \"humanda\", passwd = \"humanda\")\n",
    "# 크립토그래피 설치했는데 왜안되? 파이썬 재시작해서 임폴트 다시해야함"
   ]
  },
  {
   "cell_type": "code",
   "execution_count": 3,
   "metadata": {},
   "outputs": [],
   "source": [
    "cursor = conn.cursor()"
   ]
  },
  {
   "cell_type": "code",
   "execution_count": 4,
   "metadata": {},
   "outputs": [
    {
     "data": {
      "text/plain": [
       "5"
      ]
     },
     "execution_count": 4,
     "metadata": {},
     "output_type": "execute_result"
    }
   ],
   "source": [
    "sql = \"select * from customer\"\n",
    "cursor.execute(sql)"
   ]
  },
  {
   "cell_type": "code",
   "execution_count": 6,
   "metadata": {},
   "outputs": [],
   "source": [
    "data = cursor.fetchall()"
   ]
  },
  {
   "cell_type": "code",
   "execution_count": 8,
   "metadata": {},
   "outputs": [
    {
     "name": "stdout",
     "output_type": "stream",
     "text": [
      "((1, '박지성', '영국 맨체스타', '000-5000-0001'), (2, '김연아', '대한민국 서울', '000-6000-0001'), (3, '장미란', '대한민국 강원도', '000-7000-0001'), (4, '추신수', '미국 클리블랜드', '000-8000-0001'), (5, '박세리', '대한민국 대전', None))\n"
     ]
    }
   ],
   "source": [
    "print(data)\n",
    "# 튜블안에 튜플을 넣어서 가져옴 2차원 튜플"
   ]
  },
  {
   "cell_type": "code",
   "execution_count": 9,
   "metadata": {},
   "outputs": [
    {
     "name": "stdout",
     "output_type": "stream",
     "text": [
      "<class 'tuple'> 5\n"
     ]
    }
   ],
   "source": [
    "print(type(data), len(data))"
   ]
  },
  {
   "cell_type": "code",
   "execution_count": 10,
   "metadata": {},
   "outputs": [],
   "source": [
    "cursor.close()\n",
    "conn.close()"
   ]
  },
  {
   "cell_type": "code",
   "execution_count": 11,
   "metadata": {},
   "outputs": [],
   "source": [
    "# 1. 데이터베이스에 연결\n",
    "conn = pymysql.connect(host=\"192.168.0.158\", port=3306, db=\"employees\",\n",
    "                       user=\"humanda\", passwd=\"humanda\")"
   ]
  },
  {
   "cell_type": "code",
   "execution_count": 12,
   "metadata": {},
   "outputs": [],
   "source": [
    "# 2. 명령 도구 준비\n",
    "cursor = conn.cursor()"
   ]
  },
  {
   "cell_type": "code",
   "execution_count": 13,
   "metadata": {},
   "outputs": [
    {
     "data": {
      "text/plain": [
       "300024"
      ]
     },
     "execution_count": 13,
     "metadata": {},
     "output_type": "execute_result"
    }
   ],
   "source": [
    "# 3. 명령 실행\n",
    "sql = \"select emp_no, max(salary) from salaries group by emp_no\"\n",
    "cursor.execute(sql)"
   ]
  },
  {
   "cell_type": "code",
   "execution_count": 14,
   "metadata": {},
   "outputs": [],
   "source": [
    "# 4. 조회 명령 실행 결과를 가져오기\n",
    "data = cursor.fetchall()"
   ]
  },
  {
   "cell_type": "code",
   "execution_count": 15,
   "metadata": {},
   "outputs": [
    {
     "name": "stdout",
     "output_type": "stream",
     "text": [
      "(10001, 88958)\n",
      "(10002, 72527)\n",
      "(10003, 43699)\n",
      "(10004, 74057)\n",
      "(10005, 94692)\n",
      "(10006, 60098)\n",
      "(10007, 88070)\n",
      "(10008, 52668)\n",
      "(10009, 94443)\n",
      "(10010, 80324)\n"
     ]
    }
   ],
   "source": [
    "# 5. 데이터 사용\n",
    "# print( data )\n",
    "# print( type(data), len(data) )\n",
    "for row in data[:10]:\n",
    "    print(row)"
   ]
  },
  {
   "cell_type": "code",
   "execution_count": 17,
   "metadata": {},
   "outputs": [],
   "source": [
    "cursor.close()\n",
    "conn.close()"
   ]
  },
  {
   "cell_type": "code",
   "execution_count": 27,
   "metadata": {},
   "outputs": [],
   "source": [
    "# 1. 데이터베이스에 연결\n",
    "conn = pymysql.connect(host=\"127.0.0.1\", port=3306, db=\"bookstore\",\n",
    "                       user=\"humanda\", passwd=\"humanda\")"
   ]
  },
  {
   "cell_type": "code",
   "execution_count": 28,
   "metadata": {},
   "outputs": [],
   "source": [
    "# 2. 명령 도구 준비\n",
    "cursor = conn.cursor()"
   ]
  },
  {
   "cell_type": "code",
   "execution_count": 29,
   "metadata": {},
   "outputs": [
    {
     "data": {
      "text/plain": [
       "0"
      ]
     },
     "execution_count": 29,
     "metadata": {},
     "output_type": "execute_result"
    }
   ],
   "source": [
    "sql = \"\"\"\n",
    "    create table newbook\n",
    "    (\n",
    "        bookid integer primary key,\n",
    "        bookname varchar(100),\n",
    "        publisher varchar(100),\n",
    "        price integer\n",
    "    )\n",
    "    \"\"\"\n",
    "cursor.execute(sql)"
   ]
  },
  {
   "cell_type": "code",
   "execution_count": null,
   "metadata": {},
   "outputs": [],
   "source": [
    "#연결 닫기\n",
    "cursor.close()\n",
    "conn.close()"
   ]
  },
  {
   "cell_type": "code",
   "execution_count": 33,
   "metadata": {},
   "outputs": [],
   "source": [
    "# 꼭 알아야 하는 명령문\n",
    "\n",
    "# create, alter, drop\n",
    "\n",
    "# insert, update, delete, select"
   ]
  },
  {
   "cell_type": "code",
   "execution_count": 34,
   "metadata": {},
   "outputs": [],
   "source": [
    "## book 데이터 조회 -> newbook에 저장"
   ]
  },
  {
   "cell_type": "code",
   "execution_count": 38,
   "metadata": {},
   "outputs": [],
   "source": [
    "# 1. 데이터베이스에 연결\n",
    "conn = pymysql.connect(host=\"127.0.0.1\", port=3306, db=\"bookstore\",\n",
    "                       user=\"humanda\", passwd=\"humanda\")"
   ]
  },
  {
   "cell_type": "code",
   "execution_count": 39,
   "metadata": {},
   "outputs": [],
   "source": [
    "# 2. 명령 도구 준비\n",
    "cursor = conn.cursor()"
   ]
  },
  {
   "cell_type": "code",
   "execution_count": 90,
   "metadata": {},
   "outputs": [],
   "source": [
    "conn, cursor = connbook()"
   ]
  },
  {
   "cell_type": "code",
   "execution_count": 92,
   "metadata": {},
   "outputs": [],
   "source": [
    "# SQL 작성 + 명령실행 (삭제명령)\n",
    "sql = \"delete from newbook\"\n",
    "cursor.execute(sql)\n",
    "conn.commit()"
   ]
  },
  {
   "cell_type": "code",
   "execution_count": null,
   "metadata": {},
   "outputs": [],
   "source": [
    "# SQL 작성 + 명령실행 (조회 명령)\n",
    "sql = \"select * from book\"\n",
    "cursor.execute(sql)"
   ]
  },
  {
   "cell_type": "code",
   "execution_count": 35,
   "metadata": {},
   "outputs": [],
   "source": [
    "def connbook():\n",
    "    conn = pymysql.connect(host=\"127.0.0.1\", port=3306, db=\"bookstore\",\n",
    "                       user=\"humanda\", passwd=\"humanda\")\n",
    "    cursor = conn.cursor()\n",
    "    return conn, cursor"
   ]
  },
  {
   "cell_type": "code",
   "execution_count": 36,
   "metadata": {},
   "outputs": [
    {
     "data": {
      "text/plain": [
       "(<pymysql.connections.Connection at 0x1288a72ed50>,\n",
       " <pymysql.cursors.Cursor at 0x1288a51de20>)"
      ]
     },
     "execution_count": 36,
     "metadata": {},
     "output_type": "execute_result"
    }
   ],
   "source": [
    "connbook()"
   ]
  },
  {
   "cell_type": "code",
   "execution_count": 40,
   "metadata": {},
   "outputs": [
    {
     "data": {
      "text/plain": [
       "10"
      ]
     },
     "execution_count": 40,
     "metadata": {},
     "output_type": "execute_result"
    }
   ],
   "source": [
    "sql = \"select * from book\"\n",
    "cursor.execute(sql)"
   ]
  },
  {
   "cell_type": "code",
   "execution_count": 41,
   "metadata": {},
   "outputs": [],
   "source": [
    "book_list = cursor.fetchall()"
   ]
  },
  {
   "cell_type": "code",
   "execution_count": 48,
   "metadata": {},
   "outputs": [],
   "source": [
    "for book in book_list:\n",
    "    # print(book)\n",
    "    # book 데이터를 newbook테이블에 insert\n",
    "    sql = f\"insert into newbook values ('{book[0]}', '{book[1]}', '{book[2]}', '{book[3]}')\"\n",
    "    cursor.execute(sql)"
   ]
  },
  {
   "cell_type": "code",
   "execution_count": 49,
   "metadata": {},
   "outputs": [],
   "source": [
    "#sql2 = \"insert into newbook values ({0}, '{1}', '{2}', '{3}')\"\n",
    "#for book in book_list:\n",
    "    #print(book)\n",
    "    #print(type(book))\n",
    "    #print(sql2.format(book))"
   ]
  },
  {
   "cell_type": "code",
   "execution_count": 50,
   "metadata": {},
   "outputs": [],
   "source": [
    "# 이전 변경작업을 모두 원본테이블에 적용하시오\n",
    "conn.commit()"
   ]
  },
  {
   "cell_type": "code",
   "execution_count": 51,
   "metadata": {},
   "outputs": [],
   "source": [
    "cursor.close()\n",
    "conn.close()"
   ]
  },
  {
   "cell_type": "code",
   "execution_count": 111,
   "metadata": {},
   "outputs": [],
   "source": [
    "import pymysql\n",
    "\n",
    "def conn_book():\n",
    "    try:\n",
    "        # 데이터베이스에 연결\n",
    "        conn = pymysql.connect(\n",
    "            host=\"127.0.0.1\",\n",
    "            port=3306,\n",
    "            db=\"bookstore\",\n",
    "            user=\"humanda\",\n",
    "            passwd=\"humanda\"\n",
    "        )\n",
    "        cursor = conn.cursor()\n",
    "        return conn, cursor\n",
    "    except pymysql.MySQLError as e:\n",
    "        print(f\"데이터베이스 연결 오류: {e}\")\n",
    "        return None, None"
   ]
  },
  {
   "cell_type": "code",
   "execution_count": 110,
   "metadata": {},
   "outputs": [],
   "source": [
    "import pymysql\n",
    "\n",
    "def conn_emp():\n",
    "    try:\n",
    "        # 데이터베이스에 연결\n",
    "        conn = pymysql.connect(\n",
    "            host=\"127.0.0.1\",\n",
    "            port=3306,\n",
    "            db=\"employees\",\n",
    "            user=\"humanda\",\n",
    "            passwd=\"humanda\"\n",
    "        )\n",
    "        cursor = conn.cursor()\n",
    "        return conn, cursor\n",
    "    except pymysql.MySQLError as e:\n",
    "        print(f\"데이터베이스 연결 오류: {e}\")\n",
    "        return None, None"
   ]
  },
  {
   "cell_type": "code",
   "execution_count": 86,
   "metadata": {},
   "outputs": [],
   "source": [
    "conn, cursor = conn_book()"
   ]
  },
  {
   "cell_type": "code",
   "execution_count": 82,
   "metadata": {},
   "outputs": [
    {
     "data": {
      "text/plain": [
       "10"
      ]
     },
     "execution_count": 82,
     "metadata": {},
     "output_type": "execute_result"
    }
   ],
   "source": [
    "sql = \"select * from book\"\n",
    "cursor.execute(sql)"
   ]
  },
  {
   "cell_type": "code",
   "execution_count": 112,
   "metadata": {},
   "outputs": [],
   "source": [
    "def conn_close():\n",
    "    cursor.close()\n",
    "    conn.close()\n",
    "    return None"
   ]
  },
  {
   "cell_type": "code",
   "execution_count": 87,
   "metadata": {},
   "outputs": [],
   "source": [
    "c = conn_close()"
   ]
  },
  {
   "cell_type": "code",
   "execution_count": 88,
   "metadata": {},
   "outputs": [],
   "source": [
    "conn, cursor = conn_book()"
   ]
  },
  {
   "cell_type": "code",
   "execution_count": 93,
   "metadata": {},
   "outputs": [
    {
     "name": "stdout",
     "output_type": "stream",
     "text": [
      "(1, '축구의 역사', '굿스포츠', 50000)\n",
      "(2, '축구아는 여자', '나무수', 50000)\n",
      "(3, '축구의 이해', '대한미디어', 50000)\n",
      "(4, '골프 바이블', '대한미디어', 50000)\n",
      "(5, '피겨 교본', '굿스포츠', 50000)\n",
      "(6, '역도 단계별기술', '굿스포츠', 50000)\n",
      "(7, '야구의 추억', '이상미디어', 50000)\n",
      "(8, '야구를 부탁해', '이상미디어', 50000)\n",
      "(9, '올림픽 이야기', '삼성당', 50000)\n",
      "(10, 'Olympic Champions', 'Pearson', 50000)\n"
     ]
    }
   ],
   "source": [
    "sq12 = \"insert into newbook values (%s, %s, %s, %s)\" # 그냥 다 %s로 통일 그냥 데이터가 들어간다는 표현\n",
    "for book in book_list:\n",
    "    print(book)\n",
    "    #book 데이터를 newbook 테이블이 insert\n",
    "    cursor.execute(sq12, book)"
   ]
  },
  {
   "cell_type": "code",
   "execution_count": 94,
   "metadata": {},
   "outputs": [],
   "source": [
    "conn.commit()"
   ]
  },
  {
   "cell_type": "code",
   "execution_count": 95,
   "metadata": {},
   "outputs": [],
   "source": [
    "c = conn_close()"
   ]
  },
  {
   "cell_type": "code",
   "execution_count": 97,
   "metadata": {},
   "outputs": [
    {
     "data": {
      "text/plain": [
       "'insert into newbook values (%s, %s, %s, %s)'"
      ]
     },
     "execution_count": 97,
     "metadata": {},
     "output_type": "execute_result"
    }
   ],
   "source": [
    "sq12"
   ]
  },
  {
   "cell_type": "code",
   "execution_count": 108,
   "metadata": {},
   "outputs": [],
   "source": [
    "conn, cursor = conn_emp()"
   ]
  },
  {
   "cell_type": "code",
   "execution_count": 109,
   "metadata": {},
   "outputs": [
    {
     "data": {
      "text/plain": [
       "94876"
      ]
     },
     "execution_count": 109,
     "metadata": {},
     "output_type": "execute_result"
    }
   ],
   "source": [
    "sql =\"\"\"select * from employees\n",
    "      where lower(first_name) like %s or lower(last_name) like %s\"\"\"\n",
    "cursor.execute(sql, ['%{0}%'.format('g')]*2)"
   ]
  },
  {
   "cell_type": "code",
   "execution_count": 113,
   "metadata": {},
   "outputs": [],
   "source": [
    "c = conn_close()"
   ]
  },
  {
   "cell_type": "code",
   "execution_count": null,
   "metadata": {},
   "outputs": [],
   "source": []
  }
 ],
 "metadata": {
  "kernelspec": {
   "display_name": "human-da-env",
   "language": "python",
   "name": "python3"
  },
  "language_info": {
   "codemirror_mode": {
    "name": "ipython",
    "version": 3
   },
   "file_extension": ".py",
   "mimetype": "text/x-python",
   "name": "python",
   "nbconvert_exporter": "python",
   "pygments_lexer": "ipython3",
   "version": "3.12.7"
  }
 },
 "nbformat": 4,
 "nbformat_minor": 2
}
