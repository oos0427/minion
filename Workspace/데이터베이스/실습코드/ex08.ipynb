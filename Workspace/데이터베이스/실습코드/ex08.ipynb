{
 "cells": [
  {
   "cell_type": "code",
   "execution_count": null,
   "metadata": {},
   "outputs": [],
   "source": [
    "# 1. iris.data 파일 분석\n",
    "## bookstore db를 대상으로 아래 작업 수행\n",
    "# 2. iris.data 파일의 데이터를 저장할 테이블 만들기 (pymysql 사용)\n",
    "# 3. iris.data 파일의 데이터를 읽어서 2에서 만든 테이블에 저장 (pymysql 사용)\n",
    "# 4. iris 테이블에서 \"setosa\" 품종 데이터 조회  (pymysql 사용)"
   ]
  },
  {
   "cell_type": "code",
   "execution_count": 1,
   "metadata": {},
   "outputs": [],
   "source": [
    "import pymysql"
   ]
  },
  {
   "cell_type": "code",
   "execution_count": 2,
   "metadata": {},
   "outputs": [],
   "source": [
    "# 1.\n",
    "conn = pymysql.connect(host=\"localhost\", port=3306, db=\"bookstore\", \n",
    "                       user=\"humanda\", password=\"humanda\")"
   ]
  },
  {
   "cell_type": "code",
   "execution_count": 3,
   "metadata": {},
   "outputs": [],
   "source": [
    "# 2. \n",
    "cursor = conn.cursor()"
   ]
  },
  {
   "cell_type": "code",
   "execution_count": 4,
   "metadata": {},
   "outputs": [
    {
     "data": {
      "text/plain": [
       "0"
      ]
     },
     "execution_count": 4,
     "metadata": {},
     "output_type": "execute_result"
    }
   ],
   "source": [
    "# 4.\n",
    "sql = \"\"\"create table iris\n",
    "         (\n",
    "            sepal_length float,\n",
    "            sepal_width float,\n",
    "            petal_length float,\n",
    "            petal_width float,\n",
    "            species varchar(30)\n",
    "         )\"\"\"\n",
    "cursor.execute(sql)"
   ]
  },
  {
   "cell_type": "code",
   "execution_count": 5,
   "metadata": {},
   "outputs": [],
   "source": [
    "import pandas as pd"
   ]
  },
  {
   "cell_type": "code",
   "execution_count": 9,
   "metadata": {},
   "outputs": [],
   "source": [
    "iris_df = pd.read_csv(\"data-files/iris.data\", header=None, \n",
    "                      names=['sepal_length','sepal_width', 'petal_length',\n",
    "                             'petal_width', 'species'])"
   ]
  },
  {
   "cell_type": "code",
   "execution_count": 13,
   "metadata": {},
   "outputs": [],
   "source": [
    "# iris_df : dataframe -> values : ndarray -> tolist() : python list\n",
    "iris_list = iris_df.values.tolist() "
   ]
  },
  {
   "cell_type": "code",
   "execution_count": 16,
   "metadata": {},
   "outputs": [],
   "source": [
    "cursor.execute(\"delete from iris\")\n",
    "conn.commit()"
   ]
  },
  {
   "cell_type": "code",
   "execution_count": 15,
   "metadata": {},
   "outputs": [],
   "source": [
    "# sql = \"insert into iris values (%s, %s, %s, %s, %s)\"\n",
    "# for iris in iris_list:\n",
    "#     cursor.execute(sql, iris) # iris [1, 2, 3, 4, 'abc']\n",
    "# conn.commit()"
   ]
  },
  {
   "cell_type": "code",
   "execution_count": 17,
   "metadata": {},
   "outputs": [],
   "source": [
    "# bulk insert : 한 번에 여러 개의 데이터 insert\n",
    "sql = \"insert into iris values (%s, %s, %s, %s, %s)\"\n",
    "cursor.executemany(sql, iris_list) # iris_list [ [1, 2, 3, 4, 'abc'], ... ]\n",
    "conn.commit()"
   ]
  },
  {
   "cell_type": "code",
   "execution_count": 18,
   "metadata": {},
   "outputs": [],
   "source": [
    "# setosa 품종 조회\n",
    "sql = \"select * from iris where species like %s\"\n",
    "cursor.execute(sql, '%{0}%'.format('setosa'))\n",
    "setosa_list = cursor.fetchall()"
   ]
  },
  {
   "cell_type": "code",
   "execution_count": null,
   "metadata": {},
   "outputs": [],
   "source": [
    "setosa_list"
   ]
  },
  {
   "cell_type": "code",
   "execution_count": 20,
   "metadata": {},
   "outputs": [],
   "source": [
    "cursor.close()\n",
    "conn.close()"
   ]
  }
 ],
 "metadata": {
  "kernelspec": {
   "display_name": "human-da-env",
   "language": "python",
   "name": "python3"
  },
  "language_info": {
   "codemirror_mode": {
    "name": "ipython",
    "version": 3
   },
   "file_extension": ".py",
   "mimetype": "text/x-python",
   "name": "python",
   "nbconvert_exporter": "python",
   "pygments_lexer": "ipython3",
   "version": "3.12.7"
  }
 },
 "nbformat": 4,
 "nbformat_minor": 2
}
