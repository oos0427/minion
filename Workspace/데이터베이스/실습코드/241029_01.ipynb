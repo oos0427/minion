{
 "cells": [
  {
   "cell_type": "markdown",
   "metadata": {},
   "source": [
    "<h1>Numpy</h1>\n",
    "<h6>!! 넘파이는 전체가 같은 자료형의 데이터만 저장되어야한다.</h6>\n",
    "<h6>   - 숫자와 문자형을 같이 넣으면 숫자를 문자형으로 변경한다.</h6>\n",
    "<h6>!! 인덱싱과 슬라이싱</h6>\n",
    "<h6>!! 생성함수</h6>"
   ]
  },
  {
   "cell_type": "code",
   "execution_count": 6,
   "metadata": {},
   "outputs": [],
   "source": [
    "a = [[10, 20], 20, 30]"
   ]
  },
  {
   "cell_type": "code",
   "execution_count": 3,
   "metadata": {},
   "outputs": [],
   "source": [
    "import numpy as np"
   ]
  },
  {
   "cell_type": "code",
   "execution_count": 7,
   "metadata": {},
   "outputs": [
    {
     "data": {
      "text/plain": [
       "list"
      ]
     },
     "execution_count": 7,
     "metadata": {},
     "output_type": "execute_result"
    }
   ],
   "source": [
    "type(a)"
   ]
  },
  {
   "cell_type": "code",
   "execution_count": 10,
   "metadata": {},
   "outputs": [],
   "source": [
    "l1 = [1, 2, 3, 4 , 5]\n",
    "l2 = np.array(l1)"
   ]
  },
  {
   "cell_type": "code",
   "execution_count": 11,
   "metadata": {},
   "outputs": [
    {
     "data": {
      "text/plain": [
       "(list, numpy.ndarray)"
      ]
     },
     "execution_count": 11,
     "metadata": {},
     "output_type": "execute_result"
    }
   ],
   "source": [
    "type(l1), type(l2)"
   ]
  },
  {
   "cell_type": "code",
   "execution_count": 12,
   "metadata": {},
   "outputs": [
    {
     "data": {
      "text/plain": [
       "array([1, 2, 3, 4, 5])"
      ]
     },
     "execution_count": 12,
     "metadata": {},
     "output_type": "execute_result"
    }
   ],
   "source": [
    "l2"
   ]
  },
  {
   "cell_type": "code",
   "execution_count": 18,
   "metadata": {},
   "outputs": [],
   "source": [
    "l3 = np.array(l1, dtype= 'float32')"
   ]
  },
  {
   "cell_type": "code",
   "execution_count": 19,
   "metadata": {},
   "outputs": [
    {
     "name": "stdout",
     "output_type": "stream",
     "text": [
      "<class 'list'> <class 'numpy.ndarray'>\n",
      "<class 'int'> <class 'numpy.int64'> <class 'numpy.float32'>\n"
     ]
    }
   ],
   "source": [
    "print( type(l1), type(l2))\n",
    "print( type(l1[0]), type(l2[0]), type(l3[0]))"
   ]
  },
  {
   "cell_type": "code",
   "execution_count": 20,
   "metadata": {},
   "outputs": [
    {
     "name": "stdout",
     "output_type": "stream",
     "text": [
      "(2, 3)\n"
     ]
    }
   ],
   "source": [
    "a = np.array([[1,2,3],[4,5,6]])\n",
    "print (a.shape)"
   ]
  },
  {
   "cell_type": "code",
   "execution_count": 21,
   "metadata": {},
   "outputs": [
    {
     "name": "stdout",
     "output_type": "stream",
     "text": [
      "[[1 2 3]\n",
      " [4 5 6]]\n"
     ]
    }
   ],
   "source": [
    "print(a)"
   ]
  },
  {
   "cell_type": "code",
   "execution_count": 23,
   "metadata": {},
   "outputs": [
    {
     "name": "stdout",
     "output_type": "stream",
     "text": [
      "(3, 2)\n",
      "[[1 2]\n",
      " [3 4]\n",
      " [5 6]]\n"
     ]
    }
   ],
   "source": [
    "a.shape = (3,2)\n",
    "print(a.shape)\n",
    "print(a)"
   ]
  },
  {
   "cell_type": "code",
   "execution_count": 34,
   "metadata": {},
   "outputs": [
    {
     "name": "stdout",
     "output_type": "stream",
     "text": [
      "1 \n",
      "\n",
      "[ 0  1  2  3  4  5  6  7  8  9 10 11 12 13 14 15 16 17 18 19 20 21 22 23] \n",
      "\n",
      "3 \n",
      "\n",
      "[[[ 0  1  2]\n",
      "  [ 3  4  5]\n",
      "  [ 6  7  8]\n",
      "  [ 9 10 11]]\n",
      "\n",
      " [[12 13 14]\n",
      "  [15 16 17]\n",
      "  [18 19 20]\n",
      "  [21 22 23]]] \n",
      "\n"
     ]
    }
   ],
   "source": [
    "a = np.arange(24)\n",
    "print(a.ndim,'\\n')\n",
    "print(a, '\\n')\n",
    "\n",
    "b = a.reshape(2,4,3)\n",
    "print(b.ndim,'\\n')\n",
    "print(b,'\\n')"
   ]
  },
  {
   "cell_type": "code",
   "execution_count": 42,
   "metadata": {},
   "outputs": [
    {
     "name": "stdout",
     "output_type": "stream",
     "text": [
      "[[ 2.25078153e+184  6.38332814e-321]\n",
      " [ 0.00000000e+000  1.23976761e-311]\n",
      " [ 0.00000000e+000 -1.57234264e-063]] \n",
      "\n",
      "[0 0 0 0 0] \n",
      "\n",
      "[[1 1]\n",
      " [1 1]] \n",
      "\n"
     ]
    }
   ],
   "source": [
    "x = np.empty([3,2], dtype=float)\n",
    "print(x, '\\n')\n",
    "x = np.zeros((5,), dtype=\"int\")\n",
    "print(x, '\\n')\n",
    "x = np.ones([2,2], dtype=int)\n",
    "print(x, '\\n')"
   ]
  },
  {
   "cell_type": "code",
   "execution_count": 43,
   "metadata": {},
   "outputs": [
    {
     "name": "stdout",
     "output_type": "stream",
     "text": [
      "[0. 1. 2. 3. 4.]\n"
     ]
    }
   ],
   "source": [
    "x = np.arange(5, dtype = float) \n",
    "print (x)"
   ]
  },
  {
   "cell_type": "code",
   "execution_count": 44,
   "metadata": {},
   "outputs": [
    {
     "name": "stdout",
     "output_type": "stream",
     "text": [
      "[10 12 14 16 18]\n"
     ]
    }
   ],
   "source": [
    "x = np.arange(10,20,2) # from, to, step\n",
    "print (x)"
   ]
  },
  {
   "cell_type": "code",
   "execution_count": 47,
   "metadata": {},
   "outputs": [
    {
     "name": "stdout",
     "output_type": "stream",
     "text": [
      "[1.   1.25 1.5  1.75 2.  ] \n",
      "\n",
      "[10. 12. 14. 16. 18.] \n",
      "\n",
      "(array([1.  , 1.25, 1.5 , 1.75, 2.  ]), np.float64(0.25)) \n",
      "\n"
     ]
    }
   ],
   "source": [
    "a = np.linspace(1.0, 2.0, num = 5)\n",
    "print (a, '\\n')\n",
    "x = np.linspace(10,20, 5, endpoint = False)\n",
    "print (x, '\\n')\n",
    "x = np.linspace(1,2,5, retstep = True)\n",
    "print (x, '\\n')"
   ]
  },
  {
   "cell_type": "code",
   "execution_count": 49,
   "metadata": {},
   "outputs": [
    {
     "name": "stdout",
     "output_type": "stream",
     "text": [
      "[2 4 6] \n",
      "\n",
      "5\n"
     ]
    }
   ],
   "source": [
    "a = np.arange(10)\n",
    "b = a[2:7:2] # from, to, step\n",
    "print (b, '\\n')\n",
    "a = np.arange(10)\n",
    "b = a[5]\n",
    "print (b)"
   ]
  },
  {
   "cell_type": "code",
   "execution_count": 50,
   "metadata": {},
   "outputs": [
    {
     "name": "stdout",
     "output_type": "stream",
     "text": [
      "[2 3 4 5 6 7 8 9]\n"
     ]
    }
   ],
   "source": [
    "a = np.arange(10)\n",
    "print (a[2:])"
   ]
  },
  {
   "cell_type": "code",
   "execution_count": 53,
   "metadata": {},
   "outputs": [
    {
     "name": "stdout",
     "output_type": "stream",
     "text": [
      "[[1 2 3]\n",
      " [3 4 5]\n",
      " [4 5 6]] \n",
      "\n",
      "(3, 3) \n",
      "\n",
      "[[3 4 5]\n",
      " [4 5 6]]\n"
     ]
    }
   ],
   "source": [
    "a = np.array([[1,2,3],[3,4,5],[4,5,6]])\n",
    "print(a, '\\n')\n",
    "print (a.shape, '\\n')\n",
    "print (a[1:])"
   ]
  },
  {
   "cell_type": "code",
   "execution_count": 63,
   "metadata": {},
   "outputs": [
    {
     "name": "stdout",
     "output_type": "stream",
     "text": [
      "[[1 2]\n",
      " [3 4]\n",
      " [5 6]]\n",
      "[1 4 5]\n"
     ]
    }
   ],
   "source": [
    "x = np.array([[1, 2], [3, 4], [5, 6]])\n",
    "print(x)\n",
    "y = x[[0,1,2], [0,1,0]]\n",
    "print (y)"
   ]
  },
  {
   "cell_type": "code",
   "execution_count": 59,
   "metadata": {},
   "outputs": [
    {
     "name": "stdout",
     "output_type": "stream",
     "text": [
      "[[ 0  1  2]\n",
      " [ 3  4  5]\n",
      " [ 6  7  8]\n",
      " [ 9 10 11]] \n",
      "\n",
      "[[ 4  5]\n",
      " [ 7  8]\n",
      " [10 11]] \n",
      "\n",
      "[[ 4  5]\n",
      " [ 7  8]\n",
      " [10 11]]\n"
     ]
    }
   ],
   "source": [
    "x = np.array([[ 0, 1, 2],[ 3, 4, 5],[ 6, 7, 8],[ 9, 10, 11]])\n",
    "print(x, '\\n')\n",
    "z = x[1:4,1:3]\n",
    "print (z, '\\n')\n",
    "y = x[1:4,[1,2]]\n",
    "print (y)"
   ]
  },
  {
   "cell_type": "code",
   "execution_count": 61,
   "metadata": {},
   "outputs": [
    {
     "name": "stdout",
     "output_type": "stream",
     "text": [
      "[ True False False  True False False False]\n",
      "[False  True  True False  True  True  True]\n",
      "[1. 2. 3. 4. 5.]\n"
     ]
    }
   ],
   "source": [
    "a = np.array([np.nan, 1,2,np.nan,3,4,5])\n",
    "print(np.isnan(a))\n",
    "print(~np.isnan(a))\n",
    "print(a[~np.isnan(a)])"
   ]
  },
  {
   "cell_type": "code",
   "execution_count": 65,
   "metadata": {},
   "outputs": [
    {
     "name": "stdout",
     "output_type": "stream",
     "text": [
      "[ 10  40  90 160]\n"
     ]
    }
   ],
   "source": [
    "a = np.array([1,2,3,4])\n",
    "b = np.array([10,20,30,40])\n",
    "c = a * b\n",
    "print(c)"
   ]
  },
  {
   "cell_type": "code",
   "execution_count": 72,
   "metadata": {},
   "outputs": [
    {
     "name": "stdout",
     "output_type": "stream",
     "text": [
      "[10 20 30 40]\n",
      "[20 40 60 80]\n",
      "[ 30  60  90 120]\n",
      "[ 40  80 120 160]\n"
     ]
    }
   ],
   "source": [
    "for i in a-1:\n",
    "    print(a[i] * b)"
   ]
  },
  {
   "cell_type": "code",
   "execution_count": 74,
   "metadata": {},
   "outputs": [
    {
     "name": "stdout",
     "output_type": "stream",
     "text": [
      "[[ 0.  0.  0.]\n",
      " [10. 20. 30.]\n",
      " [20. 40. 60.]\n",
      " [30. 60. 90.]]\n"
     ]
    }
   ],
   "source": [
    "a = np.array([[0.0,0.0,0.0],[10.0,10.0,10.0],[20.0,20.0,20.0],[30.0,30.0,30.0]])\n",
    "b = np.array([1.0,2.0,3.0])\n",
    "print (a * b)"
   ]
  },
  {
   "cell_type": "code",
   "execution_count": 76,
   "metadata": {},
   "outputs": [
    {
     "name": "stdout",
     "output_type": "stream",
     "text": [
      "[[ 0  5 10 15]\n",
      " [20 25 30 35]\n",
      " [40 45 50 55]]\n",
      "0 5 10 15 20 25 30 35 40 45 50 55 \n",
      "\n",
      "0 20 40 5 25 45 10 30 50 15 35 55 "
     ]
    }
   ],
   "source": [
    "a = np.arange(0,60,5)\n",
    "a = a.reshape(3,4)\n",
    "print(a)\n",
    "for x in np.nditer(a, order = 'C'):\n",
    "    print (x, end=' ')\n",
    "print ('\\n')\n",
    "for x in np.nditer(a, order = 'F'):\n",
    "    print (x, end=' ')"
   ]
  },
  {
   "cell_type": "code",
   "execution_count": 80,
   "metadata": {},
   "outputs": [],
   "source": [
    "import pandas as pd"
   ]
  },
  {
   "cell_type": "code",
   "execution_count": 81,
   "metadata": {},
   "outputs": [],
   "source": [
    "data = pd.read_csv('source/weather_data.csv', header=0, sep = \",\")"
   ]
  },
  {
   "cell_type": "code",
   "execution_count": 89,
   "metadata": {},
   "outputs": [
    {
     "name": "stdout",
     "output_type": "stream",
     "text": [
      "   지점번호 지점명          일시  평균기온(℃)  최고기온(℃) 최고기온시각  최저기온(℃) 최저기온시각   일교차\n",
      "0   108  서울  1907-10-01     13.5     20.7    NaN      7.9    NaN  12.8\n",
      "1   108  서울  1907-10-02     16.2     22.0    NaN      7.9    NaN  14.1\n",
      "2   108  서울  1907-10-03     16.2     21.3    NaN     13.1    NaN   8.2\n"
     ]
    }
   ],
   "source": [
    "print(data[:3])\n"
   ]
  },
  {
   "cell_type": "code",
   "execution_count": 147,
   "metadata": {},
   "outputs": [],
   "source": [
    "day_list = data[['지점명', '일시']]\n",
    "weather_info = data[['지점번호', '평균기온(℃)', '최고기온(℃)', '최고기온시각', '최저기온(℃)', '최저기온시각','일교차']]\n",
    "new_weather_info = data[['평균기온(℃)', '최고기온(℃)', '최저기온(℃)']]"
   ]
  },
  {
   "cell_type": "code",
   "execution_count": 148,
   "metadata": {},
   "outputs": [
    {
     "name": "stdout",
     "output_type": "stream",
     "text": [
      "   평균기온(℃)  최고기온(℃)  최저기온(℃)\n",
      "0     13.5     20.7      7.9\n",
      "1     16.2     22.0      7.9\n",
      "2     16.2     21.3     13.1\n",
      "3     16.5     22.0     11.2\n",
      "4     17.6     25.4     10.9\n"
     ]
    }
   ],
   "source": [
    "print(new_weather_info[:5])"
   ]
  },
  {
   "cell_type": "code",
   "execution_count": 149,
   "metadata": {},
   "outputs": [],
   "source": [
    "nn_new_weather_info = new_weather_info.dropna()"
   ]
  },
  {
   "cell_type": "code",
   "execution_count": 91,
   "metadata": {},
   "outputs": [
    {
     "data": {
      "text/plain": [
       "pandas.core.frame.DataFrame"
      ]
     },
     "execution_count": 91,
     "metadata": {},
     "output_type": "execute_result"
    }
   ],
   "source": [
    "type(day_list)"
   ]
  },
  {
   "cell_type": "code",
   "execution_count": 92,
   "metadata": {},
   "outputs": [
    {
     "name": "stdout",
     "output_type": "stream",
     "text": [
      "  지점명          일시\n",
      "0  서울  1907-10-01\n",
      "1  서울  1907-10-02\n",
      "2  서울  1907-10-03\n",
      "3  서울  1907-10-04\n",
      "4  서울  1907-10-05\n"
     ]
    }
   ],
   "source": [
    "print(day_list[:5])"
   ]
  },
  {
   "cell_type": "code",
   "execution_count": 94,
   "metadata": {},
   "outputs": [
    {
     "name": "stdout",
     "output_type": "stream",
     "text": [
      "   지점번호  평균기온(℃)  최고기온(℃) 최고기온시각  최저기온(℃) 최저기온시각   일교차\n",
      "0   108     13.5     20.7    NaN      7.9    NaN  12.8\n",
      "1   108     16.2     22.0    NaN      7.9    NaN  14.1\n",
      "2   108     16.2     21.3    NaN     13.1    NaN   8.2\n",
      "3   108     16.5     22.0    NaN     11.2    NaN  10.8\n",
      "4   108     17.6     25.4    NaN     10.9    NaN  14.5\n"
     ]
    }
   ],
   "source": [
    "print(weather_info[:5])"
   ]
  },
  {
   "cell_type": "code",
   "execution_count": 165,
   "metadata": {},
   "outputs": [],
   "source": [
    "# 원하는 열의 인덱스 리스트 (예: 지점번호, 일시, 평균기온)\n",
    "# 0: 지점번호, 2: 일시, 3: 평균기온\n",
    "selected_columns_indices = [1, 2, 4]\n",
    "\n",
    "# 원하는 열만 선택하여 새로운 배열 생성\n",
    "new_weather = na_weather_info[:, selected_columns_indices]"
   ]
  },
  {
   "cell_type": "code",
   "execution_count": 166,
   "metadata": {},
   "outputs": [],
   "source": [
    "na_day_list = day_list.to_numpy()\n",
    "na_weather_info = weather_info.to_numpy()\n",
    "na_nn_new_weather_info = nn_new_weather_info.to_numpy()"
   ]
  },
  {
   "cell_type": "code",
   "execution_count": 101,
   "metadata": {},
   "outputs": [
    {
     "name": "stdout",
     "output_type": "stream",
     "text": [
      "<class 'numpy.ndarray'> \n",
      "\n",
      "<class 'numpy.ndarray'> \n",
      "\n",
      "[['서울' '1907-10-01']\n",
      " ['서울' '1907-10-02']\n",
      " ['서울' '1907-10-03']\n",
      " ['서울' '1907-10-04']\n",
      " ['서울' '1907-10-05']] \n",
      "\n",
      "[[108 13.5 20.7 nan 7.9 nan 12.8]\n",
      " [108 16.2 22.0 nan 7.9 nan 14.1]\n",
      " [108 16.2 21.3 nan 13.1 nan 8.2]\n",
      " [108 16.5 22.0 nan 11.2 nan 10.8]\n",
      " [108 17.6 25.4 nan 10.9 nan 14.5]]\n"
     ]
    }
   ],
   "source": [
    "print(type(na_day_list), '\\n')\n",
    "print(type(na_weather_info), '\\n')\n",
    "print(na_day_list[:5], '\\n')\n",
    "print(na_weather_info[:5])\n"
   ]
  },
  {
   "cell_type": "code",
   "execution_count": 102,
   "metadata": {},
   "outputs": [
    {
     "name": "stdout",
     "output_type": "stream",
     "text": [
      "(42016, 7)\n"
     ]
    }
   ],
   "source": [
    "print(na_weather_info.shape)"
   ]
  },
  {
   "cell_type": "code",
   "execution_count": 111,
   "metadata": {},
   "outputs": [
    {
     "name": "stdout",
     "output_type": "stream",
     "text": [
      "39.6 40051\n",
      "21.8 12619\n"
     ]
    }
   ],
   "source": [
    "print(max(na_weather_info[:,2]), np.argmax(na_weather_info[:,2]))\n",
    "print(max(na_weather_info[:,6]), np.argmax(na_weather_info[:,6]))"
   ]
  },
  {
   "cell_type": "code",
   "execution_count": 123,
   "metadata": {},
   "outputs": [
    {
     "name": "stdout",
     "output_type": "stream",
     "text": [
      "40051 12619\n"
     ]
    }
   ],
   "source": [
    "a1 = np.argmax(na_weather_info[:,2])\n",
    "a2 = np.argmax(na_weather_info[:,6])\n",
    "print(a1, a2)"
   ]
  },
  {
   "cell_type": "code",
   "execution_count": 124,
   "metadata": {},
   "outputs": [
    {
     "name": "stdout",
     "output_type": "stream",
     "text": [
      "39.6 40051 ['서울' '2018-08-01']\n",
      "21.8 12619 ['서울' '1942-04-19']\n",
      "39.6 40051 ['서울' '2018-08-01']\n",
      "21.8 12619 ['서울' '1942-04-19']\n"
     ]
    }
   ],
   "source": [
    "print(max(na_weather_info[:,2]), np.argmax(na_weather_info[:,2]), na_day_list[40051,:])\n",
    "print(max(na_weather_info[:,6]), np.argmax(na_weather_info[:,6]), na_day_list[12619,:])\n",
    "print(max(na_weather_info[:,2]), np.argmax(na_weather_info[:,2]), na_day_list[a1,:])\n",
    "print(max(na_weather_info[:,6]), np.argmax(na_weather_info[:,6]), na_day_list[a2,:])"
   ]
  },
  {
   "cell_type": "code",
   "execution_count": 119,
   "metadata": {},
   "outputs": [
    {
     "name": "stdout",
     "output_type": "stream",
     "text": [
      "[20.7 22.0 21.3 ... 6.2 3.8 -6.4]\n",
      "[12.8 14.1 8.2 ... 2.5 13.7 6.0]\n",
      "nan\n",
      "nan\n"
     ]
    }
   ],
   "source": [
    "print(na_weather_info[:,2])\n",
    "print(na_weather_info[:,6])\n",
    "\n",
    "print(np.mean(na_weather_info[:,2]))\n",
    "print(np.mean(na_weather_info[:,6]))"
   ]
  },
  {
   "cell_type": "code",
   "execution_count": 130,
   "metadata": {},
   "outputs": [
    {
     "name": "stdout",
     "output_type": "stream",
     "text": [
      "[[13.5 20.7 7.9]\n",
      " [16.2 22.0 7.9]\n",
      " [16.2 21.3 13.1]\n",
      " ...\n",
      " [4.9 6.2 3.7]\n",
      " [-4.1 3.8 -9.9]\n",
      " [-9.8 -6.4 -12.4]]\n"
     ]
    }
   ],
   "source": [
    "print(new_weather[:])"
   ]
  },
  {
   "cell_type": "code",
   "execution_count": 167,
   "metadata": {},
   "outputs": [
    {
     "name": "stdout",
     "output_type": "stream",
     "text": [
      "object\n"
     ]
    }
   ],
   "source": [
    "print(new_weather.dtype)  # 배열의 데이터 타입 출력"
   ]
  },
  {
   "cell_type": "code",
   "execution_count": 168,
   "metadata": {},
   "outputs": [],
   "source": [
    "nn_new_weather = np.where(new_weather == 'nan', np.nan, new_weather).astype(float)"
   ]
  },
  {
   "cell_type": "code",
   "execution_count": 169,
   "metadata": {},
   "outputs": [],
   "source": [
    "nn2_new_weather = nn_new_weather[:,:].astype(float)"
   ]
  },
  {
   "cell_type": "code",
   "execution_count": 170,
   "metadata": {},
   "outputs": [],
   "source": [
    "nn3_new_weather = nn2_new_weather[~np.isnan(nn2_new_weather)]"
   ]
  },
  {
   "cell_type": "code",
   "execution_count": 171,
   "metadata": {},
   "outputs": [
    {
     "name": "stdout",
     "output_type": "stream",
     "text": [
      "(123774,) <class 'numpy.ndarray'>\n"
     ]
    }
   ],
   "source": [
    "print(nn3_new_weather.shape, type(nn3_new_weather))"
   ]
  },
  {
   "cell_type": "code",
   "execution_count": 172,
   "metadata": {},
   "outputs": [],
   "source": [
    "t = na_nn_new_weather_info\n",
    "\n",
    "# 넘파이에서 nan 제거\n",
    "t2 = nn3_new_weather"
   ]
  },
  {
   "cell_type": "code",
   "execution_count": 179,
   "metadata": {},
   "outputs": [
    {
     "name": "stdout",
     "output_type": "stream",
     "text": [
      "(123774,) <class 'numpy.ndarray'>\n"
     ]
    },
    {
     "ename": "IndexError",
     "evalue": "too many indices for array: array is 1-dimensional, but 2 were indexed",
     "output_type": "error",
     "traceback": [
      "\u001b[1;31m---------------------------------------------------------------------------\u001b[0m",
      "\u001b[1;31mIndexError\u001b[0m                                Traceback (most recent call last)",
      "Cell \u001b[1;32mIn[179], line 2\u001b[0m\n\u001b[0;32m      1\u001b[0m \u001b[38;5;28mprint\u001b[39m(t2\u001b[38;5;241m.\u001b[39mshape, \u001b[38;5;28mtype\u001b[39m(t2))\n\u001b[1;32m----> 2\u001b[0m \u001b[38;5;28mprint\u001b[39m(\u001b[43mt2\u001b[49m\u001b[43m[\u001b[49m\u001b[43m:\u001b[49m\u001b[43m,\u001b[49m\u001b[38;5;241;43m1\u001b[39;49m\u001b[43m]\u001b[49m)\n",
      "\u001b[1;31mIndexError\u001b[0m: too many indices for array: array is 1-dimensional, but 2 were indexed"
     ]
    }
   ],
   "source": [
    "print(t2.shape, type(t2))\n",
    "print(t2[:,1])"
   ]
  },
  {
   "cell_type": "code",
   "execution_count": 173,
   "metadata": {},
   "outputs": [
    {
     "ename": "IndexError",
     "evalue": "too many indices for array: array is 1-dimensional, but 2 were indexed",
     "output_type": "error",
     "traceback": [
      "\u001b[1;31m---------------------------------------------------------------------------\u001b[0m",
      "\u001b[1;31mIndexError\u001b[0m                                Traceback (most recent call last)",
      "Cell \u001b[1;32mIn[173], line 2\u001b[0m\n\u001b[0;32m      1\u001b[0m \u001b[38;5;66;03m# 넘파이에서 nan 제거\u001b[39;00m\n\u001b[1;32m----> 2\u001b[0m \u001b[38;5;28mprint\u001b[39m(\u001b[38;5;124m'\u001b[39m\u001b[38;5;124m평균기온의 평균 : \u001b[39m\u001b[38;5;124m'\u001b[39m, np\u001b[38;5;241m.\u001b[39mmean(\u001b[43mt2\u001b[49m\u001b[43m[\u001b[49m\u001b[43m:\u001b[49m\u001b[43m,\u001b[49m\u001b[38;5;241;43m0\u001b[39;49m\u001b[43m]\u001b[49m))\n\u001b[0;32m      3\u001b[0m \u001b[38;5;28mprint\u001b[39m(\u001b[38;5;124m'\u001b[39m\u001b[38;5;124m평균기온의 최저 : \u001b[39m\u001b[38;5;124m'\u001b[39m, np\u001b[38;5;241m.\u001b[39mmin(t2[:,\u001b[38;5;241m0\u001b[39m]))\n\u001b[0;32m      4\u001b[0m \u001b[38;5;28mprint\u001b[39m(\u001b[38;5;124m'\u001b[39m\u001b[38;5;124m최고기온의 평균 : \u001b[39m\u001b[38;5;124m'\u001b[39m, np\u001b[38;5;241m.\u001b[39mmean(t2[:,\u001b[38;5;241m1\u001b[39m]))\n",
      "\u001b[1;31mIndexError\u001b[0m: too many indices for array: array is 1-dimensional, but 2 were indexed"
     ]
    }
   ],
   "source": [
    "# 넘파이에서 nan 제거\n",
    "print('평균기온의 평균 : ', np.mean(t2[:,0]))\n",
    "print('평균기온의 최저 : ', np.min(t2[:,0]))\n",
    "print('최고기온의 평균 : ', np.mean(t2[:,1]))"
   ]
  },
  {
   "cell_type": "code",
   "execution_count": 164,
   "metadata": {},
   "outputs": [
    {
     "name": "stdout",
     "output_type": "stream",
     "text": [
      "평균기온의 평균 :  11.798705642815591\n",
      "평균기온의 최저 :  -19.2\n",
      "최고기온의 평균 :  16.799835175489623\n"
     ]
    }
   ],
   "source": [
    "print('평균기온의 평균 : ', np.mean(t[:,0]))\n",
    "print('평균기온의 최저 : ', np.min(t[:,0]))\n",
    "print('최고기온의 평균 : ', np.mean(t[:,1]))"
   ]
  },
  {
   "cell_type": "code",
   "execution_count": 185,
   "metadata": {},
   "outputs": [
    {
     "name": "stdout",
     "output_type": "stream",
     "text": [
      "7.9 7.9 13.1\n"
     ]
    }
   ],
   "source": [
    "print(np.min(t[0]), np.min(t[1]), np.min(t[2]))"
   ]
  },
  {
   "cell_type": "code",
   "execution_count": null,
   "metadata": {},
   "outputs": [],
   "source": []
  }
 ],
 "metadata": {
  "kernelspec": {
   "display_name": "human-da-env",
   "language": "python",
   "name": "python3"
  },
  "language_info": {
   "codemirror_mode": {
    "name": "ipython",
    "version": 3
   },
   "file_extension": ".py",
   "mimetype": "text/x-python",
   "name": "python",
   "nbconvert_exporter": "python",
   "pygments_lexer": "ipython3",
   "version": "3.12.7"
  }
 },
 "nbformat": 4,
 "nbformat_minor": 2
}
