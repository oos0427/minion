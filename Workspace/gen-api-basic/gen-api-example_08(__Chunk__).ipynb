{
 "cells": [
  {
   "cell_type": "markdown",
   "metadata": {},
   "source": [
    "회사 맞춤 GPT 연결 방법\n",
    "\n",
    "질문이 오면 원래는 지피티한테 전달해주고 답변을 받는 방식\n",
    "\n",
    "---\n",
    "<h2>보험회사 - 보험상품에 대한 DB</h2>\n",
    "\n",
    "- 질문이 오면 DB에서 정보를 조회 (문서검색 by 유사도)<br>\n",
    "- 검색된 데이터 + 질문 -> 지피티에게 전달\n"
   ]
  },
  {
   "cell_type": "code",
   "execution_count": 2,
   "metadata": {},
   "outputs": [],
   "source": [
    "import os\n",
    "\n",
    "os.environ[\"OPENAI_API_KEY\"] = key # 환경변수에 임시로 지정정"
   ]
  },
  {
   "cell_type": "code",
   "execution_count": 3,
   "metadata": {},
   "outputs": [
    {
     "data": {
      "text/plain": [
       "('Data/2016-10-20-news.txt', <http.client.HTTPMessage at 0x12143128a30>)"
      ]
     },
     "execution_count": 3,
     "metadata": {},
     "output_type": "execute_result"
    }
   ],
   "source": [
    "import urllib.request as request\n",
    "\n",
    "request.urlretrieve(\"https://raw.githubusercontent.com/lovit/soynlp/master/tutorials/2016-10-20.txt\",\n",
    "                    \"Data/2016-10-20-news.txt\")"
   ]
  },
  {
   "cell_type": "code",
   "execution_count": 4,
   "metadata": {},
   "outputs": [
    {
     "data": {
      "text/plain": [
       "('Data/semantic-cunker-test.txt', <http.client.HTTPMessage at 0x121431332e0>)"
      ]
     },
     "execution_count": 4,
     "metadata": {},
     "output_type": "execute_result"
    }
   ],
   "source": [
    "import urllib.request as request\n",
    "\n",
    "request.urlretrieve(\"https://raw.githubusercontent.com/chatgpt-kr/openai-api-tutorial/main/ch06/test.txt\",\n",
    "                    \"Data/semantic-cunker-test.txt\")"
   ]
  },
  {
   "cell_type": "code",
   "execution_count": 5,
   "metadata": {},
   "outputs": [],
   "source": [
    "route = r\"C:\\Work\\2024\\minion\\Workspace\\gen-api-basic\\Data\\2016-10-20-news.txt\"\n",
    "route2 = r\"C:\\Work\\2024\\minion\\Workspace\\gen-api-basic\\Data\\semantic-cunker-test.txt\""
   ]
  },
  {
   "cell_type": "code",
   "execution_count": 6,
   "metadata": {},
   "outputs": [
    {
     "name": "stdout",
     "output_type": "stream",
     "text": [
      "18085369\n",
      "7460\n"
     ]
    }
   ],
   "source": [
    "with open(route) as f:\n",
    "    news_data = f.read()\n",
    "\n",
    "print(len(news_data))\n",
    "\n",
    "with open(route2) as f:\n",
    "    test_data = f.read()\n",
    "\n",
    "print(len(test_data))"
   ]
  },
  {
   "cell_type": "code",
   "execution_count": 7,
   "metadata": {},
   "outputs": [],
   "source": [
    "# \"\\n\\n, \\n, 스페이스를 기준으로 문단을 나누어 준다.\"\n",
    "from langchain_text_splitters import RecursiveCharacterTextSplitter"
   ]
  },
  {
   "cell_type": "code",
   "execution_count": 8,
   "metadata": {},
   "outputs": [],
   "source": [
    "text_splitter = RecursiveCharacterTextSplitter(chunk_size=1000, chunk_overlap = 100)\n",
    "test_text_splitter = RecursiveCharacterTextSplitter(chunk_size=500, chunk_overlap = 100)"
   ]
  },
  {
   "cell_type": "code",
   "execution_count": 9,
   "metadata": {},
   "outputs": [],
   "source": [
    "news_chunks = text_splitter.create_documents([news_data])\n",
    "test_chunks = test_text_splitter.create_documents([test_data])"
   ]
  },
  {
   "cell_type": "code",
   "execution_count": 10,
   "metadata": {},
   "outputs": [
    {
     "name": "stdout",
     "output_type": "stream",
     "text": [
      "19\n"
     ]
    }
   ],
   "source": [
    "news_chunks[0]\n",
    "len(news_chunks[1].page_content)\n",
    "print(len(test_chunks))"
   ]
  },
  {
   "cell_type": "code",
   "execution_count": 11,
   "metadata": {},
   "outputs": [
    {
     "data": {
      "text/plain": [
       "Document(metadata={}, page_content=\"고등학교를 졸업하기 직전, 박민호는 전국에서 500명만이 받는다는 '대통령 과학 장학생'으로 선정되었다. 이 소식은 작은 어촌마을에 큰 파문을 일으켰다. 마을 사람들은 모두 그를 축하해 주었고, 어머니는 기쁨의 눈물을 흘렸다. 이 장학금은 1990년에 제정된 것으로, 과학 분야에서 뛰어난 성과를 보인 학생들에게 주어지는 상이었다.\\n박민호가 장학생으로 선정되었을 당시, 이 장학금은 정말 우수한 학생들에게만 주어졌다. 그러나 시간이 지나면서 영향력 있는 가정의 자녀들에게 주기 위해 부정이 개입되기도 했다는 소문이 돌았다. 이는 박민호에게 더 큰 자부심을 안겨주었다. 그는 자신의 능력으로 이 영예를 얻었다는 사실에 큰 긍지를 느꼈다.\")"
      ]
     },
     "execution_count": 11,
     "metadata": {},
     "output_type": "execute_result"
    }
   ],
   "source": [
    "test_chunks[1]"
   ]
  },
  {
   "cell_type": "code",
   "execution_count": 12,
   "metadata": {},
   "outputs": [
    {
     "name": "stdout",
     "output_type": "stream",
     "text": [
      "분께 현장으로 출동했다 성씨는 그사이 부동산 앞에 놓아뒀던 가방을 챙겨 오패산 쪽으로 도망간 후였다  김 경위는 오패산 터널 입구 오른쪽의 급경사에서 성씨에게 접근하다가 오후 6시\n",
      "현장으로 출동했다 성씨는 그사이 부동산 앞에 놓아뒀던 가방을 챙겨 오패산 쪽으로 도망간 후였다  김 경위는 오패산 터널 입구 오른쪽의 급경사에서 성씨에게 접근하다가 오후 6시 33\n"
     ]
    }
   ],
   "source": [
    "print( news_chunks[1].page_content[-100:])\n",
    "print( news_chunks[2].page_content[:100])"
   ]
  },
  {
   "cell_type": "code",
   "execution_count": 13,
   "metadata": {},
   "outputs": [
    {
     "data": {
      "text/plain": [
       "25598"
      ]
     },
     "execution_count": 13,
     "metadata": {},
     "output_type": "execute_result"
    }
   ],
   "source": [
    "len(news_chunks)"
   ]
  },
  {
   "cell_type": "code",
   "execution_count": 14,
   "metadata": {},
   "outputs": [],
   "source": [
    "from langchain_openai import OpenAIEmbeddings\n",
    "from langchain_experimental.text_splitter import SemanticChunker"
   ]
  },
  {
   "cell_type": "code",
   "execution_count": 15,
   "metadata": {},
   "outputs": [],
   "source": [
    "text_splitter2 = SemanticChunker(OpenAIEmbeddings())\n",
    "news_chunks2 = text_splitter2.create_documents([news_data])"
   ]
  },
  {
   "cell_type": "code",
   "execution_count": null,
   "metadata": {},
   "outputs": [],
   "source": []
  }
 ],
 "metadata": {
  "kernelspec": {
   "display_name": "oos-dl-env2",
   "language": "python",
   "name": "python3"
  },
  "language_info": {
   "codemirror_mode": {
    "name": "ipython",
    "version": 3
   },
   "file_extension": ".py",
   "mimetype": "text/x-python",
   "name": "python",
   "nbconvert_exporter": "python",
   "pygments_lexer": "ipython3",
   "version": "3.9.21"
  }
 },
 "nbformat": 4,
 "nbformat_minor": 2
}
