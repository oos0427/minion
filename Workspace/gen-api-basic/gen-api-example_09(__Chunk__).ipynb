{
 "cells": [
  {
   "cell_type": "code",
   "execution_count": 4,
   "metadata": {},
   "outputs": [],
   "source": [
    "# PDF 처리하는 라이브러리\n",
    "#!pip install pypdf pymupdf pdfplumber"
   ]
  },
  {
   "cell_type": "code",
   "execution_count": 5,
   "metadata": {},
   "outputs": [],
   "source": [
    "import urllib.request as request\n",
    "from langchain.document_loaders import PyPDFLoader, PyMuPDFLoader, PDFPlumberLoader"
   ]
  },
  {
   "cell_type": "code",
   "execution_count": 2,
   "metadata": {},
   "outputs": [],
   "source": [
    "import os\n",
    "os.environ[\"OPENAI_API_KEY\"] = key # 환경변수에 임시로 지정정"
   ]
  },
  {
   "cell_type": "code",
   "execution_count": 8,
   "metadata": {},
   "outputs": [],
   "source": [
    "url = \"https://github.com/chatgpt-kr/openai-api-tutorial/raw/main/ch06/2023_%EB%B6%81%ED%95%9C%EC%9D%B8%EA%B6%8C%EB%B3%B4%EA%B3%A0%EC%84%9C.pdf\""
   ]
  },
  {
   "cell_type": "code",
   "execution_count": 9,
   "metadata": {},
   "outputs": [
    {
     "data": {
      "text/plain": [
       "('Data/pdf_example_01.pdf', <http.client.HTTPMessage at 0x1a97f619cd0>)"
      ]
     },
     "execution_count": 9,
     "metadata": {},
     "output_type": "execute_result"
    }
   ],
   "source": [
    "request.urlretrieve(url, \"Data/pdf_example_01.pdf\")"
   ]
  },
  {
   "cell_type": "code",
   "execution_count": 11,
   "metadata": {},
   "outputs": [
    {
     "name": "stdout",
     "output_type": "stream",
     "text": [
      "CPU times: total: 13.7 s\n",
      "Wall time: 13.9 s\n"
     ]
    }
   ],
   "source": [
    "%%time\n",
    "route = r\"C:\\Work\\2024\\minion\\Workspace\\gen-api-basic\\Data\\pdf_example_01.pdf\"\n",
    "loader = PyPDFLoader(route)\n",
    "pages = loader.load_and_split()"
   ]
  },
  {
   "cell_type": "code",
   "execution_count": 15,
   "metadata": {},
   "outputs": [
    {
     "name": "stdout",
     "output_type": "stream",
     "text": [
      "445 57 60\n",
      "1640\n"
     ]
    }
   ],
   "source": [
    "print( len(pages), len(pages[0].page_content), len(pages[1].page_content) ) \n",
    "print( max([len(p.page_content) for p in pages]) )"
   ]
  },
  {
   "cell_type": "code",
   "execution_count": 20,
   "metadata": {},
   "outputs": [
    {
     "name": "stderr",
     "output_type": "stream",
     "text": [
      "c:\\Users\\human\\.conda\\envs\\oos-dl-env2\\lib\\site-packages\\langchain_community\\document_loaders\\parsers\\pdf.py:322: UserWarning: Warning: Empty content on page 1 of document C:\\Work\\2024\\minion\\Workspace\\gen-api-basic\\Data\\pdf_example_01.pdf\n",
      "  warnings.warn(\n",
      "c:\\Users\\human\\.conda\\envs\\oos-dl-env2\\lib\\site-packages\\langchain_community\\document_loaders\\parsers\\pdf.py:322: UserWarning: Warning: Empty content on page 3 of document C:\\Work\\2024\\minion\\Workspace\\gen-api-basic\\Data\\pdf_example_01.pdf\n",
      "  warnings.warn(\n"
     ]
    },
    {
     "name": "stdout",
     "output_type": "stream",
     "text": [
      "CPU times: total: 1.16 s\n",
      "Wall time: 1.18 s\n"
     ]
    },
    {
     "name": "stderr",
     "output_type": "stream",
     "text": [
      "c:\\Users\\human\\.conda\\envs\\oos-dl-env2\\lib\\site-packages\\langchain_community\\document_loaders\\parsers\\pdf.py:322: UserWarning: Warning: Empty content on page 414 of document C:\\Work\\2024\\minion\\Workspace\\gen-api-basic\\Data\\pdf_example_01.pdf\n",
      "  warnings.warn(\n"
     ]
    }
   ],
   "source": [
    "%%time\n",
    "route = r\"C:\\Work\\2024\\minion\\Workspace\\gen-api-basic\\Data\\pdf_example_01.pdf\"\n",
    "loader = PyMuPDFLoader(route)\n",
    "pages = loader.load_and_split()"
   ]
  },
  {
   "cell_type": "code",
   "execution_count": 21,
   "metadata": {},
   "outputs": [
    {
     "name": "stdout",
     "output_type": "stream",
     "text": [
      "445 53 60\n",
      "1640\n"
     ]
    }
   ],
   "source": [
    "print( len(pages), len(pages[0].page_content), len(pages[1].page_content) ) \n",
    "print( max([len(p.page_content) for p in pages]) )"
   ]
  },
  {
   "cell_type": "code",
   "execution_count": 18,
   "metadata": {},
   "outputs": [
    {
     "name": "stdout",
     "output_type": "stream",
     "text": [
      "CPU times: total: 24.4 s\n",
      "Wall time: 24.5 s\n"
     ]
    }
   ],
   "source": [
    "%%time\n",
    "route = r\"C:\\Work\\2024\\minion\\Workspace\\gen-api-basic\\Data\\pdf_example_01.pdf\"\n",
    "loader = PDFPlumberLoader(route)\n",
    "pages = loader.load_and_split()"
   ]
  },
  {
   "cell_type": "code",
   "execution_count": 19,
   "metadata": {},
   "outputs": [
    {
     "name": "stdout",
     "output_type": "stream",
     "text": [
      "445 57 60\n",
      "1627\n"
     ]
    }
   ],
   "source": [
    "print( len(pages), len(pages[0].page_content), len(pages[1].page_content) ) \n",
    "print( max([len(p.page_content) for p in pages]) )"
   ]
  }
 ],
 "metadata": {
  "kernelspec": {
   "display_name": "oos-dl-env2",
   "language": "python",
   "name": "python3"
  },
  "language_info": {
   "codemirror_mode": {
    "name": "ipython",
    "version": 3
   },
   "file_extension": ".py",
   "mimetype": "text/x-python",
   "name": "python",
   "nbconvert_exporter": "python",
   "pygments_lexer": "ipython3",
   "version": "3.9.21"
  }
 },
 "nbformat": 4,
 "nbformat_minor": 2
}
