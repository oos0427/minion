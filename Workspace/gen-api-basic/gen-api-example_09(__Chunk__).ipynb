{
 "cells": [
  {
   "cell_type": "code",
   "execution_count": 1,
   "metadata": {},
   "outputs": [],
   "source": [
    "# 강사님 코드\n",
    "key = \"sk-fHu2XOAEabWNOaTq35n2QmBKKAFU2mosRnsCMQz5OcT3BlbkFJNAr4-bIwJlm8MdKiwurinXpZ7oloiaTpxUUFKa0DUA\""
   ]
  },
  {
   "cell_type": "code",
   "execution_count": 2,
   "metadata": {},
   "outputs": [],
   "source": [
    "import os\n",
    "\n",
    "os.environ[\"OPENAI_API_KEY\"] = key # 환경변수에 임시로 지정정"
   ]
  },
  {
   "cell_type": "code",
   "execution_count": 3,
   "metadata": {},
   "outputs": [],
   "source": [
    "from langchain_openai import ChatOpenAI"
   ]
  },
  {
   "cell_type": "code",
   "execution_count": 4,
   "metadata": {},
   "outputs": [],
   "source": [
    "llm = ChatOpenAI(\n",
    "    model_name=\"gpt-3.5-turbo\",\n",
    "    temperature = 0.1)"
   ]
  },
  {
   "cell_type": "code",
   "execution_count": 5,
   "metadata": {},
   "outputs": [],
   "source": [
    "result = llm.invoke(\"세종대왕이 누구인지 설명해 주세요\")"
   ]
  },
  {
   "cell_type": "code",
   "execution_count": 6,
   "metadata": {},
   "outputs": [
    {
     "data": {
      "text/plain": [
       "langchain_core.messages.ai.AIMessage"
      ]
     },
     "execution_count": 6,
     "metadata": {},
     "output_type": "execute_result"
    }
   ],
   "source": [
    "type(result)"
   ]
  },
  {
   "cell_type": "code",
   "execution_count": 7,
   "metadata": {},
   "outputs": [
    {
     "data": {
      "text/plain": [
       "'세종대왕은 조선시대 4대 왕 중 하나로, 조선시대의 제4대 군주이자 문신이다. 세종대왕은 1418년에 태어나 1450년부터 1452년까지 조선의 왕위에 오르고 1418년부터 1450년까지 32년 동안 통치했다. 그는 조선시대의 가장 위대한 왕 중 한 명으로 꼽히며, 한글을 창제하고 과학기술, 문화, 예술 등을 발전시키는 데 큰 기여를 했다. 세종대왕은 또한 국방력을 강화하고 외국과의 관계를 조절하여 조선의 안정과 번영을 이룩하는 데 큰 역할을 했다.'"
      ]
     },
     "execution_count": 7,
     "metadata": {},
     "output_type": "execute_result"
    }
   ],
   "source": [
    "result.content"
   ]
  },
  {
   "cell_type": "code",
   "execution_count": 8,
   "metadata": {},
   "outputs": [],
   "source": [
    "from langchain_core.prompts import PromptTemplate"
   ]
  },
  {
   "cell_type": "code",
   "execution_count": 9,
   "metadata": {},
   "outputs": [],
   "source": [
    "template = \"{who}가 누구인지 설명해주세요\"\n",
    "prompt = PromptTemplate(template = template, input_variables = [\"who\"])\n",
    "\n",
    "lim_chain = prompt | llm "
   ]
  },
  {
   "cell_type": "code",
   "execution_count": 10,
   "metadata": {},
   "outputs": [
    {
     "data": {
      "text/plain": [
       "'안중근(1879-1910)은 대한독립운동가이자 독립운동의 선봉장으로 활동한 인물입니다. 안중근은 일제 강점기에 일본의 식민지화 정책에 항거하고 대한독립을 위해 노력했습니다. 그는 1909년 하코다테에서 일본 총독 이토 히로부미를 암살한 사건으로 일본에 체포되어 처형당했습니다. 안중근의 희생은 대한독립운동가로서의 업적을 인정받아 오늘날에도 그의 이름은 대한민국 역사에서 큰 의미를 갖고 있습니다.'"
      ]
     },
     "execution_count": 10,
     "metadata": {},
     "output_type": "execute_result"
    }
   ],
   "source": [
    "result = lim_chain.invoke({\"who\": \"안중근의사\"})\n",
    "result.content"
   ]
  },
  {
   "cell_type": "code",
   "execution_count": 11,
   "metadata": {},
   "outputs": [],
   "source": [
    "from langchain_community.chat_message_histories import ChatMessageHistory\n",
    "from langchain_core.runnables.history import RunnableWithMessageHistory"
   ]
  },
  {
   "cell_type": "code",
   "execution_count": 12,
   "metadata": {},
   "outputs": [],
   "source": [
    "template = \"\"\"\n",
    "당신은 휴먼 교육센터의 친절한 챗봇입니다.\n",
    "이전 대화 : {history}\n",
    "질문 : {input}\n",
    "답변 : \n",
    "\"\"\"\n",
    "\n",
    "prompt = PromptTemplate(\n",
    "    template = template,\n",
    "    input_variables = ['history', 'input']\n",
    ")\n",
    "\n",
    "model = ChatOpenAI()\n",
    "chain = prompt | model"
   ]
  },
  {
   "cell_type": "code",
   "execution_count": 20,
   "metadata": {},
   "outputs": [],
   "source": [
    "session_store = {}\n",
    "session_id = \"oos\"\n",
    "if session_id not in session_store:\n",
    "    session_store[session_id] = ChatMessageHistory()\n",
    "\n",
    "session_history = session_store[session_id]\n",
    "\n",
    "run_with_meassage_history = RunnableWithMessageHistory(\n",
    "    chain,\n",
    "    lambda session_id: session_history,\n",
    "    input_messages_key =  \"input\",\n",
    "    history_messages_key= \"history\"\n",
    ")"
   ]
  },
  {
   "cell_type": "code",
   "execution_count": null,
   "metadata": {},
   "outputs": [],
   "source": [
    "# result = run_with_meassage_history.invoke(\n",
    "#     {\"input\": \"당신은 소속이 어디입니까?\"},\n",
    "#     config= { \"configurabel\": {\"session_id\": \"oos\"} }\n",
    "#     )"
   ]
  },
  {
   "cell_type": "code",
   "execution_count": 23,
   "metadata": {},
   "outputs": [],
   "source": [
    "result = run_with_meassage_history.invoke(\n",
    "    {\n",
    "        \"input\": \"당신은 소속이 어디입니까?\"\n",
    "    },\n",
    "    config={\n",
    "        \"configurable\": {\"session_id\": \"oos\"}\n",
    "    }\n",
    ")\n"
   ]
  },
  {
   "cell_type": "code",
   "execution_count": 24,
   "metadata": {},
   "outputs": [
    {
     "data": {
      "text/plain": [
       "'저는 휴먼 교육센터에 소속된 친절한 챗봇입니다. 어떤 도움이 필요하신가요?'"
      ]
     },
     "execution_count": 24,
     "metadata": {},
     "output_type": "execute_result"
    }
   ],
   "source": [
    "result.content"
   ]
  },
  {
   "cell_type": "code",
   "execution_count": 32,
   "metadata": {},
   "outputs": [],
   "source": [
    "result = run_with_meassage_history.invoke(\n",
    "    {\n",
    "        \"input\": \"눈오는 크리스마스를 주제로 짧은 시를 하나 써주세요\"\n",
    "    },\n",
    "    config={\n",
    "        \"configurable\" : {\"session_id\": \"oos\"}\n",
    "    }\n",
    ")"
   ]
  },
  {
   "cell_type": "code",
   "execution_count": 33,
   "metadata": {},
   "outputs": [
    {
     "data": {
      "text/plain": [
       "'눈이 펑펑 오는 크리스마스,\\n하얀 눈더러운 거리,\\n따스한 불빛이 빛나는 밤,\\n함께하는 소중한 시간.'"
      ]
     },
     "execution_count": 33,
     "metadata": {},
     "output_type": "execute_result"
    }
   ],
   "source": [
    "result.content"
   ]
  },
  {
   "cell_type": "code",
   "execution_count": 34,
   "metadata": {},
   "outputs": [
    {
     "data": {
      "text/plain": [
       "[HumanMessage(content='당신은 소속이 어디입니까?', additional_kwargs={}, response_metadata={}),\n",
       " AIMessage(content='저는 휴먼 교육센터에 소속된 친절한 챗봇입니다. 어떤 도움이 필요하신가요?', additional_kwargs={'refusal': None}, response_metadata={'token_usage': {'completion_tokens': 54, 'prompt_tokens': 72, 'total_tokens': 126, 'completion_tokens_details': {'accepted_prediction_tokens': 0, 'audio_tokens': 0, 'reasoning_tokens': 0, 'rejected_prediction_tokens': 0}, 'prompt_tokens_details': {'audio_tokens': 0, 'cached_tokens': 0}}, 'model_name': 'gpt-3.5-turbo-0125', 'system_fingerprint': None, 'finish_reason': 'stop', 'logprobs': None}, id='run-5f954398-cf72-4095-9498-716741a23b8f-0', usage_metadata={'input_tokens': 72, 'output_tokens': 54, 'total_tokens': 126, 'input_token_details': {'audio': 0, 'cache_read': 0}, 'output_token_details': {'audio': 0, 'reasoning': 0}}),\n",
       " HumanMessage(content='눈오는 크리스마스를 주제로 짧은 시를 하나 써주세요', additional_kwargs={}, response_metadata={}),\n",
       " AIMessage(content='눈이 펑펑 오는 크리스마스,\\n하얀 눈더러운 거리,\\n따스한 불빛이 빛나는 밤,\\n함께하는 소중한 시간.', additional_kwargs={'refusal': None}, response_metadata={'token_usage': {'completion_tokens': 66, 'prompt_tokens': 384, 'total_tokens': 450, 'completion_tokens_details': {'accepted_prediction_tokens': 0, 'audio_tokens': 0, 'reasoning_tokens': 0, 'rejected_prediction_tokens': 0}, 'prompt_tokens_details': {'audio_tokens': 0, 'cached_tokens': 0}}, 'model_name': 'gpt-3.5-turbo-0125', 'system_fingerprint': None, 'finish_reason': 'stop', 'logprobs': None}, id='run-b859a792-b185-489d-bca4-f78b4a6cd7c9-0', usage_metadata={'input_tokens': 384, 'output_tokens': 66, 'total_tokens': 450, 'input_token_details': {'audio': 0, 'cache_read': 0}, 'output_token_details': {'audio': 0, 'reasoning': 0}}),\n",
       " HumanMessage(content='눈오는 크리스마스를 주제로 짧은 시를 하나 써주세요', additional_kwargs={}, response_metadata={}),\n",
       " AIMessage(content='눈이 펑펑 오는 크리스마스,\\n하얀 눈더러운 거리,\\n따스한 불빛이 빛나는 밤,\\n함께하는 소중한 시간.', additional_kwargs={'refusal': None}, response_metadata={'token_usage': {'completion_tokens': 66, 'prompt_tokens': 712, 'total_tokens': 778, 'completion_tokens_details': {'accepted_prediction_tokens': 0, 'audio_tokens': 0, 'reasoning_tokens': 0, 'rejected_prediction_tokens': 0}, 'prompt_tokens_details': {'audio_tokens': 0, 'cached_tokens': 0}}, 'model_name': 'gpt-3.5-turbo-0125', 'system_fingerprint': None, 'finish_reason': 'stop', 'logprobs': None}, id='run-61b77441-dad0-4762-9b3b-077cdb7d5c96-0', usage_metadata={'input_tokens': 712, 'output_tokens': 66, 'total_tokens': 778, 'input_token_details': {'audio': 0, 'cache_read': 0}, 'output_token_details': {'audio': 0, 'reasoning': 0}}),\n",
       " HumanMessage(content='눈오는 크리스마스를 주제로 짧은 시를 하나 써주세요', additional_kwargs={}, response_metadata={}),\n",
       " AIMessage(content='눈이 펑펑 오는 크리스마스,\\n하얀 눈더러운 거리,\\n따스한 불빛이 빛나는 밤,\\n함께하는 소중한 시간.', additional_kwargs={'refusal': None}, response_metadata={'token_usage': {'completion_tokens': 66, 'prompt_tokens': 1042, 'total_tokens': 1108, 'completion_tokens_details': {'accepted_prediction_tokens': 0, 'audio_tokens': 0, 'reasoning_tokens': 0, 'rejected_prediction_tokens': 0}, 'prompt_tokens_details': {'audio_tokens': 0, 'cached_tokens': 0}}, 'model_name': 'gpt-3.5-turbo-0125', 'system_fingerprint': None, 'finish_reason': 'stop', 'logprobs': None}, id='run-92f58815-d398-4ea8-92ce-33b1f57de81a-0', usage_metadata={'input_tokens': 1042, 'output_tokens': 66, 'total_tokens': 1108, 'input_token_details': {'audio': 0, 'cache_read': 0}, 'output_token_details': {'audio': 0, 'reasoning': 0}}),\n",
       " HumanMessage(content='눈오는 크리스마스를 주제로 짧은 시를 하나 써주세요', additional_kwargs={}, response_metadata={}),\n",
       " AIMessage(content='눈이 펑펑 오는 크리스마스,\\n하얀 눈더러운 거리,\\n따스한 불빛이 빛나는 밤,\\n함께하는 소중한 시간.', additional_kwargs={'refusal': None}, response_metadata={'token_usage': {'completion_tokens': 66, 'prompt_tokens': 1375, 'total_tokens': 1441, 'completion_tokens_details': {'accepted_prediction_tokens': 0, 'audio_tokens': 0, 'reasoning_tokens': 0, 'rejected_prediction_tokens': 0}, 'prompt_tokens_details': {'audio_tokens': 0, 'cached_tokens': 0}}, 'model_name': 'gpt-3.5-turbo-0125', 'system_fingerprint': None, 'finish_reason': 'stop', 'logprobs': None}, id='run-952f0813-ac38-4b4a-86e0-9d6969001a33-0', usage_metadata={'input_tokens': 1375, 'output_tokens': 66, 'total_tokens': 1441, 'input_token_details': {'audio': 0, 'cache_read': 0}, 'output_token_details': {'audio': 0, 'reasoning': 0}})]"
      ]
     },
     "execution_count": 34,
     "metadata": {},
     "output_type": "execute_result"
    }
   ],
   "source": [
    "session_history.messages"
   ]
  },
  {
   "cell_type": "code",
   "execution_count": null,
   "metadata": {},
   "outputs": [],
   "source": []
  }
 ],
 "metadata": {
  "kernelspec": {
   "display_name": "oos-dl-env2",
   "language": "python",
   "name": "python3"
  },
  "language_info": {
   "codemirror_mode": {
    "name": "ipython",
    "version": 3
   },
   "file_extension": ".py",
   "mimetype": "text/x-python",
   "name": "python",
   "nbconvert_exporter": "python",
   "pygments_lexer": "ipython3",
   "version": "3.9.21"
  }
 },
 "nbformat": 4,
 "nbformat_minor": 2
}
