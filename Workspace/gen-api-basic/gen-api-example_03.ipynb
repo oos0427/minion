{
 "cells": [
  {
   "cell_type": "code",
   "execution_count": 3,
   "metadata": {},
   "outputs": [],
   "source": [
    "# 강사님 코드\n",
    "key = \"sk-fHu2XOAEabWNOaTq35n2QmBKKAFU2mosRnsCMQz5OcT3BlbkFJNAr4-bIwJlm8MdKiwurinXpZ7oloiaTpxUUFKa0DUA\""
   ]
  },
  {
   "cell_type": "code",
   "execution_count": 4,
   "metadata": {},
   "outputs": [],
   "source": [
    "from openai import OpenAI\n",
    "client = OpenAI(api_key=key)"
   ]
  },
  {
   "cell_type": "code",
   "execution_count": 9,
   "metadata": {},
   "outputs": [],
   "source": [
    "link = \"https://image.cine21.com/resize/cine21/still/2014/1210/15_19_45__5487e601ae584[W578-].jpg\""
   ]
  },
  {
   "cell_type": "code",
   "execution_count": 10,
   "metadata": {},
   "outputs": [],
   "source": [
    "response = client.chat.completions.create(\n",
    "    model = 'gpt-4-turbo',\n",
    "    messages = [\n",
    "        {\n",
    "            \"role\":\"user\",\n",
    "            \"content\":[\n",
    "                {\"type\":\"text\", \"text\":\"이미지에 대해 설명해 주세요.\"},\n",
    "                {\"type\":\"image_url\",\n",
    "                \"image_url\":{\n",
    "                    \"url\":link\n",
    "                    }\n",
    "                }\n",
    "            ]\n",
    "        }\n",
    "    ],\n",
    "    max_tokens = 300\n",
    ")"
   ]
  },
  {
   "cell_type": "code",
   "execution_count": 11,
   "metadata": {},
   "outputs": [
    {
     "name": "stdout",
     "output_type": "stream",
     "text": [
      "이 이미지는 애니메이션 \"미니언즈\"의 캐릭터들을 포함하고 있습니다. 미니언들은 주로 노란색의 피부와 직선적인 몸매, 그리고 큰 원형이나 타원형의 안경을 쓴 검은 눈을 가지고 있습니다. 일부는 한 눈을 가진 캐릭터도 있고, 두 눈을 가진 캐릭터도 있습니다. 그들은 모두 청바지 재질의 작업복을 입고 있으며, 다양한 표정을 하고 있습니다(행복, 놀람, 신남 등). 이 캐릭터들은 전반적으로 유쾌하고 귀여운 이미지를 전달하며, 그들의 표정과 몸짓에서 다양한 감정을 엿볼 수 있습니다. 미니언들은 대체로 코믹하고 장난기 많은 성격을 가진 것으로 알려져\n"
     ]
    }
   ],
   "source": [
    "print( response.choices[0].message.content )"
   ]
  }
 ],
 "metadata": {
  "kernelspec": {
   "display_name": "oos-dl-env2",
   "language": "python",
   "name": "python3"
  },
  "language_info": {
   "codemirror_mode": {
    "name": "ipython",
    "version": 3
   },
   "file_extension": ".py",
   "mimetype": "text/x-python",
   "name": "python",
   "nbconvert_exporter": "python",
   "pygments_lexer": "ipython3",
   "version": "3.9.21"
  }
 },
 "nbformat": 4,
 "nbformat_minor": 2
}
