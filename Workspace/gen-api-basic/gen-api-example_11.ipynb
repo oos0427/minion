{
 "cells": [
  {
   "cell_type": "code",
   "execution_count": 2,
   "metadata": {},
   "outputs": [],
   "source": [
    "# !pip install chromadb faiss-cpu"
   ]
  },
  {
   "cell_type": "code",
   "execution_count": 1,
   "metadata": {},
   "outputs": [],
   "source": [
    "import urllib.request as request\n",
    "from langchain.document_loaders import PyPDFLoader, PyMuPDFLoader, PDFPlumberLoader\n",
    "from langchain.vectorstores import Chroma, FAISS\n",
    "from langchain.text_splitter import RecursiveCharacterTextSplitter\n",
    "from langchain.embeddings import OpenAIEmbeddings"
   ]
  },
  {
   "cell_type": "code",
   "execution_count": 3,
   "metadata": {},
   "outputs": [],
   "source": [
    "import os\n",
    "os.environ[\"OPENAI_API_KEY\"] = key"
   ]
  },
  {
   "cell_type": "code",
   "execution_count": 6,
   "metadata": {},
   "outputs": [],
   "source": [
    "# request.urlretrieve(\"https://github.com/chatgpt-kr/openai-api-tutorial/raw/main/ch06/2023_%EB%B6%81%ED%95%9C%EC%9D%B8%EA%B6%8C%EB%B3%B4%EA%B3%A0%EC%84%9C.pdf\",\n",
    "#                     \"data-files/pdf-example-01.pdf\")"
   ]
  },
  {
   "cell_type": "code",
   "execution_count": 4,
   "metadata": {},
   "outputs": [
    {
     "name": "stdout",
     "output_type": "stream",
     "text": [
      "CPU times: total: 16.3 s\n",
      "Wall time: 16.6 s\n"
     ]
    }
   ],
   "source": [
    "%%time\n",
    "# pdf 파일의 텍스트 정보를 읽어서 페이지 단위로 반환\n",
    "route = r\"C:\\Work\\2024\\minion\\Workspace\\gen-api-basic\\Data\\2020_경제금융용어 700선_게시.pdf\"\n",
    "loader = PyPDFLoader(route)\n",
    "pages = loader.load_and_split()"
   ]
  },
  {
   "cell_type": "code",
   "execution_count": 13,
   "metadata": {},
   "outputs": [
    {
     "name": "stdout",
     "output_type": "stream",
     "text": [
      "366\n"
     ]
    }
   ],
   "source": [
    "print(len(pages))\n",
    "#print( pages[0].page_content )\n",
    "#print( pages[12].page_content )\n",
    "#print( pages[-1].page_content )\n",
    "\n",
    "pages2 = pages[13:-1]"
   ]
  },
  {
   "cell_type": "code",
   "execution_count": 14,
   "metadata": {},
   "outputs": [],
   "source": [
    "text_splitter = RecursiveCharacterTextSplitter(chunk_size=1000, chunk_overlap=100)"
   ]
  },
  {
   "cell_type": "code",
   "execution_count": 15,
   "metadata": {},
   "outputs": [],
   "source": [
    "documents = text_splitter.split_documents(pages2)"
   ]
  },
  {
   "cell_type": "code",
   "execution_count": 16,
   "metadata": {},
   "outputs": [
    {
     "data": {
      "text/plain": [
       "646"
      ]
     },
     "execution_count": 16,
     "metadata": {},
     "output_type": "execute_result"
    }
   ],
   "source": [
    "len(documents)"
   ]
  },
  {
   "cell_type": "code",
   "execution_count": 17,
   "metadata": {},
   "outputs": [
    {
     "name": "stderr",
     "output_type": "stream",
     "text": [
      "C:\\Users\\Public\\Documents\\ESTsoft\\CreatorTemp\\ipykernel_3788\\2391145628.py:1: LangChainDeprecationWarning: The class `OpenAIEmbeddings` was deprecated in LangChain 0.0.9 and will be removed in 1.0. An updated version of the class exists in the :class:`~langchain-openai package and should be used instead. To use it run `pip install -U :class:`~langchain-openai` and import as `from :class:`~langchain_openai import OpenAIEmbeddings``.\n",
      "  chroma_db = Chroma.from_documents(documents, OpenAIEmbeddings(), persist_directory=\"Data/vectordb/chroma_economy.db\")\n"
     ]
    }
   ],
   "source": [
    "chroma_db = Chroma.from_documents(documents, OpenAIEmbeddings(), persist_directory=\"Data/vectordb/chroma_economy.db\")"
   ]
  },
  {
   "cell_type": "code",
   "execution_count": 13,
   "metadata": {},
   "outputs": [
    {
     "name": "stderr",
     "output_type": "stream",
     "text": [
      "C:\\Users\\Public\\Documents\\ESTsoft\\CreatorTemp\\ipykernel_16736\\1046021285.py:2: LangChainDeprecationWarning: The class `Chroma` was deprecated in LangChain 0.2.9 and will be removed in 1.0. An updated version of the class exists in the :class:`~langchain-chroma package and should be used instead. To use it run `pip install -U :class:`~langchain-chroma` and import as `from :class:`~langchain_chroma import Chroma``.\n",
      "  chroma_db2 = Chroma(persist_directory=directory, embedding_function=OpenAIEmbeddings())\n"
     ]
    }
   ],
   "source": [
    "directory = r\"C:\\Work\\2024\\minion\\Workspace\\gen-api-basic\\Data\\vectordb\\chroma.db\"\n",
    "chroma_db2 = Chroma(persist_directory=directory, embedding_function=OpenAIEmbeddings())"
   ]
  },
  {
   "cell_type": "code",
   "execution_count": 14,
   "metadata": {},
   "outputs": [
    {
     "data": {
      "text/plain": [
       "(497, 497)"
      ]
     },
     "execution_count": 14,
     "metadata": {},
     "output_type": "execute_result"
    }
   ],
   "source": [
    "chroma_db._collection.count(), chroma_db2._collection.count()"
   ]
  },
  {
   "cell_type": "code",
   "execution_count": 17,
   "metadata": {},
   "outputs": [
    {
     "data": {
      "text/plain": [
       "[Document(metadata={'page': 41, 'source': 'C:\\\\Work\\\\2024\\\\minion\\\\Workspace\\\\gen-api-basic\\\\Data\\\\pdf_example_01.pdf'}, page_content='2023 북한인권보고서\\n40\\n명목의 교육비용이 전가되고 있는 것으로 나타났다. 교과서는 ‘교과\\n서 요금’이라는 명목으로 일정 금액을 내야하는 경우가 많으며, 교\\n과서가 모든 학생에게 충분히 제공되지 않고 학년을 마치면 다음 학\\n년에 교과서를 물려주어야 했다는 사례가 다수 수집되었다. 소학교\\n부터 학교운영비, 꼬마계획 등의 비용을 내야했다는 진술이 꾸준히 \\n수집되고 있는데, 학교시설 현대화 작업이 진행되면서 학교꾸리기 \\n비용이 증가했다고 한다. 학교에서 요구하는 돈이나 물품은 교원에 \\n의해 사실상 강제되고 있었는데, 비용을 내지 못하는 경우 동급생들 \\n앞에서 망신을 주거나 비판하여 형편이 어려운 학생들은 학교를 그\\n만두는 선택을 하는 경우가 많다고 한다. 또한 도시와 농촌 간 교육\\n환경의 차이가 크며 대학입학에서 출신성분에 의한 차별이 있고, 교\\n육기회의 제공에도 경제력이 영향을 미치고 있어 성분·지역·경제\\n력에 따른 차별이 존재하는 것으로 나타났다. 교육환경도 열악한데, \\n학교시설의 현대화 작업에도 불구하고 양호실, 도서관, 위생시설이 \\n없는 학교도 많은 것으로 보인다. 교원에 대한 경제적 보상도 적절\\n히 이루어지지 않아, 교원들은 생계를 유지하기 위해 잘사는 학부모\\n의 원조를 받거나 자신의 텃밭에 학생을 동원시키고 있어 학생들은 \\n제대로 된 교육여건을 보장받지 못하고 있는 것으로 나타났다. 또\\n한, 일반교육보다 정치사상교육을 앞세우고 있으며 교과과정에 실\\n탄사격을 하는 군사훈련을 편성하여 학생들을 의무적으로 참석하게 \\n하고 있다.\\n북한의 사회보장 제도로는 연로연금, 노동능력상실 연금, 유가족 \\n연금 등 생계가 결핍된 경우 기초적인 생계를 보장하기 위한 연금제\\n도가 있으며, 사회보험금의 성격을 지닌 보조금 제도가 있다. 연로'),\n",
       " Document(metadata={'page': 343, 'source': 'C:\\\\Work\\\\2024\\\\minion\\\\Workspace\\\\gen-api-basic\\\\Data\\\\pdf_example_01.pdf'}, page_content='2023 북한인권보고서\\n342\\n2018년에 학교에서 추천하여 소년궁전 스키부에 선발되었으나, 체\\n육종합지도원이 자신의 출신성분이 좋지 않다는 이유로 선발명단에\\n서 자신을 제외했다고 진술하였다. 정치범수용소에서는 이주민 자\\n녀의 경우 정규교육과정을 받지 못한다는 증언도 있었다. 정치범수\\n용소에도 소학교와 중학교가 있지만 일반 학교와는 달리 학생들이 \\n책가방 대신 지게를 지고 출석하고 학교에서 농사짓는 법에 대해 배\\n운다고 한다. \\n북한에서는 대학 진학 시에도 출신성분에 따른 차별이 존재하는 \\n것으로 나타났다. 한 증언자는 2019년에 고급중학교를 졸업하고 대\\n학에 진학하려고 했는데, 본인 문건에 어머니가 행방불명으로 되어 \\n있어 출신성분이 나쁘다는 이유로 대학에 진학할 수 없었다고 한다. \\n이러한 차별행위는 교육부의 정책에 따른 것이라고 한다. 다른 증\\n언자는 2018년에 의학대학에 진학하고 싶었는데, 교육과장과 면담\\n하는 과정에서 ‘어머니가 행방불명이라 너 같은 아이는 대학에 가기 \\n어렵다.’는 이야기를 듣고 대학 진학을 포기했다고 한다. 중학교 졸\\n업 후 농민의 자식이라는 이유로 일반 대학뿐만 아니라 공업전문학\\n교도 진학할 수 없었다는 증언도 있었다. \\n \\n(2) 경제력에 따른 차별 \\n북한에서는 교육기회에 있어 경제력에 따른 차별이 존재하는 것\\n으로 보인다. 수집된 증언에 따르면 무상교육제가 유명무실해진 상\\n황에서 교육비 부담으로 경제적 취약계층의 아동들이 장기간 결석하\\n거나 중도에 학교를 그만두는 것으로 나타났다. 한 증언자는 2018년\\n에 아들이 소학교 학생이었는데, 당시 학급 정원의 25% 정도가 경제'),\n",
       " Document(metadata={'page': 283, 'source': 'C:\\\\Work\\\\2024\\\\minion\\\\Workspace\\\\gen-api-basic\\\\Data\\\\pdf_example_01.pdf'}, page_content='담고\\t있어\\t여성이\\t결혼\\t후\\t출산과\\t양육\\t등으로\\t사회활동(사회적\\t노동)을\\t하지\\t못하는\\t관습에\\t가까운\\t문화\\n를\\t받아\\t들이는\\t것으로\\t보인다.\\t\\n309\\t\\t북한의\\t학제는\\t2012년\\t전반적\\t의무교육(유치원\\t1년,\\t소학교\\t5년,\\t초급중학교\\t3년,\\t고급중학교\\t3년)으로\\t\\n개편되었는데,\\t학제개편\\t이전에는\\t초급중학교와\\t고급중학교를\\t통합하여\\t중학교\\t6년\\t과정(1972년~2011\\n년)으로\\t운영하였고,\\t중학교\\t또는\\t고등중학교라고\\t칭하였다.(통일부\\t국립통일교육원,\\t『북한의\\t이해』,\\t\\n2022)'),\n",
       " Document(metadata={'page': 185, 'source': 'C:\\\\Work\\\\2024\\\\minion\\\\Workspace\\\\gen-api-basic\\\\Data\\\\pdf_example_01.pdf'}, page_content='2023 북한인권보고서\\n184\\n데, 당국이 실시하는 반종교 교육을 통해 기독교를 접한 경우였다. 기\\n독교 관련 북한당국의 반종교 교육은 학교 교과과정에서 뿐만 아니\\n라 졸업 후 조직생활을 통해서도 이루어지고 있었다. 수집된 증언에 \\n따르면 북한에서 반종교 교육을 받고 종교에 대한 부정적 인식이 증\\n가했다고 한다. 기독교를 믿는 사람을 반동분자로 인식하고 있었다\\n는 증언들도 있었다. 한 증언자는 2015년에 계급교양관을 1달에 1번\\n씩 참관해야 했는데, 거기서 ‘종교는 침략자들이 북한에 가져온 것으\\n로 그들이 성경도 가져왔다’는 내용이 포함된 반종교 교육을 받았다\\n고 한다. 기독교인들은 제국주의적 침략의 앞잡이이므로 반민족적·\\n반혁명적 적대계층이라는 내용도 있었다고 한다. 다른 증언자는 교육\\n기관, 사회기관, 법기관에서 ‘종교는 허황된 것이고 거짓’이며 선교사\\n는 악한 자라고 세뇌가 될 정도로 지속적으로 교육하기 때문에 감히 \\n종교에 관심을 가질 생각도 하지 못했고 ‘선교사’라는 단어를 들으면 \\n지금도 무섭다고 한다. 인민반 강연 등에서 기독교를 믿는 사람은 반\\n동분자라고 하면서 이들을 보면 신고하라고 했다는 증언도 있었다. \\n“주민들을 모아 놓고 교양하는 때가 있었는데, 그 때 처음 ‘성경책 \\n사진, 예배하는 모습의 사진’을 본 적이 있습니다. 반동조직이라고 \\n교육하면서 성경에는 미신에 관한 것이 적혀있어 이것을 읽게 되면 \\n사상이 변질되니 이런 책을 주변에서 보게 되면 신고하라고 했습니\\n다. 이들은 국가 반역자로 이 땅에서 사라져야 한다고 선전했습니\\n다. 그래서 재북시 저 뿐만이 아니라 북한 주민들은 성경책이 북한 \\n제도에 대해 안 좋게 적어놓은 책으로 알고 있었고 이를 소지하면 \\n죽임을 당한다고 알고 있었습니다. ”\\n북한에서 기독교를 탄압하는 이유는 기독교의 유일신 사상이 수\\n령 우상화 정책과 주체사상에 반하기 때문이라고 한다. 한 증언자는')]"
      ]
     },
     "execution_count": 17,
     "metadata": {},
     "output_type": "execute_result"
    }
   ],
   "source": [
    "searched_documents = chroma_db2.similarity_search(\"북한의 교육과정\")\n",
    "searched_documents"
   ]
  },
  {
   "cell_type": "code",
   "execution_count": 23,
   "metadata": {},
   "outputs": [],
   "source": [
    "#컨텐츠 확인\n",
    "#print(searched_documents[0].page_content)"
   ]
  },
  {
   "cell_type": "code",
   "execution_count": 24,
   "metadata": {},
   "outputs": [],
   "source": [
    "faiss_db = FAISS.from_documents(documents, OpenAIEmbeddings())"
   ]
  },
  {
   "cell_type": "code",
   "execution_count": 25,
   "metadata": {},
   "outputs": [],
   "source": [
    "searched_document2 = faiss_db.similarity_search(\"북한의 교육과정\")"
   ]
  },
  {
   "cell_type": "code",
   "execution_count": 26,
   "metadata": {},
   "outputs": [
    {
     "data": {
      "text/plain": [
       "[Document(id='b989f566-fe65-4b32-860f-a43ea7575589', metadata={'source': 'C:\\\\Work\\\\2024\\\\minion\\\\Workspace\\\\gen-api-basic\\\\Data\\\\pdf_example_01.pdf', 'page': 41}, page_content='2023 북한인권보고서\\n40\\n명목의 교육비용이 전가되고 있는 것으로 나타났다. 교과서는 ‘교과\\n서 요금’이라는 명목으로 일정 금액을 내야하는 경우가 많으며, 교\\n과서가 모든 학생에게 충분히 제공되지 않고 학년을 마치면 다음 학\\n년에 교과서를 물려주어야 했다는 사례가 다수 수집되었다. 소학교\\n부터 학교운영비, 꼬마계획 등의 비용을 내야했다는 진술이 꾸준히 \\n수집되고 있는데, 학교시설 현대화 작업이 진행되면서 학교꾸리기 \\n비용이 증가했다고 한다. 학교에서 요구하는 돈이나 물품은 교원에 \\n의해 사실상 강제되고 있었는데, 비용을 내지 못하는 경우 동급생들 \\n앞에서 망신을 주거나 비판하여 형편이 어려운 학생들은 학교를 그\\n만두는 선택을 하는 경우가 많다고 한다. 또한 도시와 농촌 간 교육\\n환경의 차이가 크며 대학입학에서 출신성분에 의한 차별이 있고, 교\\n육기회의 제공에도 경제력이 영향을 미치고 있어 성분·지역·경제\\n력에 따른 차별이 존재하는 것으로 나타났다. 교육환경도 열악한데, \\n학교시설의 현대화 작업에도 불구하고 양호실, 도서관, 위생시설이 \\n없는 학교도 많은 것으로 보인다. 교원에 대한 경제적 보상도 적절\\n히 이루어지지 않아, 교원들은 생계를 유지하기 위해 잘사는 학부모\\n의 원조를 받거나 자신의 텃밭에 학생을 동원시키고 있어 학생들은 \\n제대로 된 교육여건을 보장받지 못하고 있는 것으로 나타났다. 또\\n한, 일반교육보다 정치사상교육을 앞세우고 있으며 교과과정에 실\\n탄사격을 하는 군사훈련을 편성하여 학생들을 의무적으로 참석하게 \\n하고 있다.\\n북한의 사회보장 제도로는 연로연금, 노동능력상실 연금, 유가족 \\n연금 등 생계가 결핍된 경우 기초적인 생계를 보장하기 위한 연금제\\n도가 있으며, 사회보험금의 성격을 지닌 보조금 제도가 있다. 연로'),\n",
       " Document(id='e35305e2-a2db-49c4-96dc-b42d9ca10caf', metadata={'source': 'C:\\\\Work\\\\2024\\\\minion\\\\Workspace\\\\gen-api-basic\\\\Data\\\\pdf_example_01.pdf', 'page': 343}, page_content='2023 북한인권보고서\\n342\\n2018년에 학교에서 추천하여 소년궁전 스키부에 선발되었으나, 체\\n육종합지도원이 자신의 출신성분이 좋지 않다는 이유로 선발명단에\\n서 자신을 제외했다고 진술하였다. 정치범수용소에서는 이주민 자\\n녀의 경우 정규교육과정을 받지 못한다는 증언도 있었다. 정치범수\\n용소에도 소학교와 중학교가 있지만 일반 학교와는 달리 학생들이 \\n책가방 대신 지게를 지고 출석하고 학교에서 농사짓는 법에 대해 배\\n운다고 한다. \\n북한에서는 대학 진학 시에도 출신성분에 따른 차별이 존재하는 \\n것으로 나타났다. 한 증언자는 2019년에 고급중학교를 졸업하고 대\\n학에 진학하려고 했는데, 본인 문건에 어머니가 행방불명으로 되어 \\n있어 출신성분이 나쁘다는 이유로 대학에 진학할 수 없었다고 한다. \\n이러한 차별행위는 교육부의 정책에 따른 것이라고 한다. 다른 증\\n언자는 2018년에 의학대학에 진학하고 싶었는데, 교육과장과 면담\\n하는 과정에서 ‘어머니가 행방불명이라 너 같은 아이는 대학에 가기 \\n어렵다.’는 이야기를 듣고 대학 진학을 포기했다고 한다. 중학교 졸\\n업 후 농민의 자식이라는 이유로 일반 대학뿐만 아니라 공업전문학\\n교도 진학할 수 없었다는 증언도 있었다. \\n \\n(2) 경제력에 따른 차별 \\n북한에서는 교육기회에 있어 경제력에 따른 차별이 존재하는 것\\n으로 보인다. 수집된 증언에 따르면 무상교육제가 유명무실해진 상\\n황에서 교육비 부담으로 경제적 취약계층의 아동들이 장기간 결석하\\n거나 중도에 학교를 그만두는 것으로 나타났다. 한 증언자는 2018년\\n에 아들이 소학교 학생이었는데, 당시 학급 정원의 25% 정도가 경제'),\n",
       " Document(id='a6162473-5781-46e8-acee-accb0a3490a4', metadata={'source': 'C:\\\\Work\\\\2024\\\\minion\\\\Workspace\\\\gen-api-basic\\\\Data\\\\pdf_example_01.pdf', 'page': 283}, page_content='담고\\t있어\\t여성이\\t결혼\\t후\\t출산과\\t양육\\t등으로\\t사회활동(사회적\\t노동)을\\t하지\\t못하는\\t관습에\\t가까운\\t문화\\n를\\t받아\\t들이는\\t것으로\\t보인다.\\t\\n309\\t\\t북한의\\t학제는\\t2012년\\t전반적\\t의무교육(유치원\\t1년,\\t소학교\\t5년,\\t초급중학교\\t3년,\\t고급중학교\\t3년)으로\\t\\n개편되었는데,\\t학제개편\\t이전에는\\t초급중학교와\\t고급중학교를\\t통합하여\\t중학교\\t6년\\t과정(1972년~2011\\n년)으로\\t운영하였고,\\t중학교\\t또는\\t고등중학교라고\\t칭하였다.(통일부\\t국립통일교육원,\\t『북한의\\t이해』,\\t\\n2022)'),\n",
       " Document(id='cde5e119-3f9a-4d2e-a48c-e55dbc97f5eb', metadata={'source': 'C:\\\\Work\\\\2024\\\\minion\\\\Workspace\\\\gen-api-basic\\\\Data\\\\pdf_example_01.pdf', 'page': 185}, page_content='2023 북한인권보고서\\n184\\n데, 당국이 실시하는 반종교 교육을 통해 기독교를 접한 경우였다. 기\\n독교 관련 북한당국의 반종교 교육은 학교 교과과정에서 뿐만 아니\\n라 졸업 후 조직생활을 통해서도 이루어지고 있었다. 수집된 증언에 \\n따르면 북한에서 반종교 교육을 받고 종교에 대한 부정적 인식이 증\\n가했다고 한다. 기독교를 믿는 사람을 반동분자로 인식하고 있었다\\n는 증언들도 있었다. 한 증언자는 2015년에 계급교양관을 1달에 1번\\n씩 참관해야 했는데, 거기서 ‘종교는 침략자들이 북한에 가져온 것으\\n로 그들이 성경도 가져왔다’는 내용이 포함된 반종교 교육을 받았다\\n고 한다. 기독교인들은 제국주의적 침략의 앞잡이이므로 반민족적·\\n반혁명적 적대계층이라는 내용도 있었다고 한다. 다른 증언자는 교육\\n기관, 사회기관, 법기관에서 ‘종교는 허황된 것이고 거짓’이며 선교사\\n는 악한 자라고 세뇌가 될 정도로 지속적으로 교육하기 때문에 감히 \\n종교에 관심을 가질 생각도 하지 못했고 ‘선교사’라는 단어를 들으면 \\n지금도 무섭다고 한다. 인민반 강연 등에서 기독교를 믿는 사람은 반\\n동분자라고 하면서 이들을 보면 신고하라고 했다는 증언도 있었다. \\n“주민들을 모아 놓고 교양하는 때가 있었는데, 그 때 처음 ‘성경책 \\n사진, 예배하는 모습의 사진’을 본 적이 있습니다. 반동조직이라고 \\n교육하면서 성경에는 미신에 관한 것이 적혀있어 이것을 읽게 되면 \\n사상이 변질되니 이런 책을 주변에서 보게 되면 신고하라고 했습니\\n다. 이들은 국가 반역자로 이 땅에서 사라져야 한다고 선전했습니\\n다. 그래서 재북시 저 뿐만이 아니라 북한 주민들은 성경책이 북한 \\n제도에 대해 안 좋게 적어놓은 책으로 알고 있었고 이를 소지하면 \\n죽임을 당한다고 알고 있었습니다. ”\\n북한에서 기독교를 탄압하는 이유는 기독교의 유일신 사상이 수\\n령 우상화 정책과 주체사상에 반하기 때문이라고 한다. 한 증언자는')]"
      ]
     },
     "execution_count": 26,
     "metadata": {},
     "output_type": "execute_result"
    }
   ],
   "source": [
    "searched_document2"
   ]
  },
  {
   "cell_type": "code",
   "execution_count": 29,
   "metadata": {},
   "outputs": [],
   "source": [
    "#print(searched_document2[0].page_content)"
   ]
  },
  {
   "cell_type": "code",
   "execution_count": 30,
   "metadata": {},
   "outputs": [],
   "source": [
    "faiss_db.save_local('Data/vectordb/faiss.db')"
   ]
  },
  {
   "cell_type": "code",
   "execution_count": 31,
   "metadata": {},
   "outputs": [],
   "source": [
    "faiss_db2 = FAISS.load_local('Data/vectordb/faiss.db',\n",
    "                             OpenAIEmbeddings(),\n",
    "                             allow_dangerous_deserialization=True)"
   ]
  },
  {
   "cell_type": "code",
   "execution_count": null,
   "metadata": {},
   "outputs": [],
   "source": []
  }
 ],
 "metadata": {
  "kernelspec": {
   "display_name": "oos-dl-env2",
   "language": "python",
   "name": "python3"
  },
  "language_info": {
   "codemirror_mode": {
    "name": "ipython",
    "version": 3
   },
   "file_extension": ".py",
   "mimetype": "text/x-python",
   "name": "python",
   "nbconvert_exporter": "python",
   "pygments_lexer": "ipython3",
   "version": "3.9.21"
  }
 },
 "nbformat": 4,
 "nbformat_minor": 2
}
