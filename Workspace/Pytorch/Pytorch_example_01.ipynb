{
 "cells": [
  {
   "cell_type": "code",
   "execution_count": 7,
   "metadata": {},
   "outputs": [],
   "source": [
    "import pandas as pd\n",
    "import numpy as np\n",
    "import matplotlib.pyplot as plt\n",
    "\n",
    "import torch\n",
    "import torch.nn as nn\n",
    "import torch.nn.functional as F\n",
    "from torchvision import transforms, datasets"
   ]
  },
  {
   "cell_type": "code",
   "execution_count": 6,
   "metadata": {},
   "outputs": [
    {
     "name": "stdout",
     "output_type": "stream",
     "text": [
      "cpu\n"
     ]
    }
   ],
   "source": [
    "if torch.cuda.is_available():\n",
    "    device = torch.device('cuda')\n",
    "    \n",
    "else:\n",
    "    device = torch.device('cpu')\n",
    "    \n",
    "print(device)"
   ]
  },
  {
   "cell_type": "code",
   "execution_count": 9,
   "metadata": {},
   "outputs": [],
   "source": [
    "#데이터 준비\n",
    "transform = transforms.Compose([transforms.ToTensor()])"
   ]
  },
  {
   "cell_type": "code",
   "execution_count": null,
   "metadata": {},
   "outputs": [],
   "source": [
    "#데이터준비2\n",
    "train_dataset = datasets.MNIST(root=\"Data/mnist\",\n",
    "                               train=True,\n",
    "                               download=True,\n",
    "                               transform=transform)\n",
    "\n",
    "test_dataset = datasets.MNIST(root=\"Data/mnist\",\n",
    "                               train=False,\n",
    "                               download=True,\n",
    "                               transform=transform)"
   ]
  },
  {
   "cell_type": "code",
   "execution_count": 11,
   "metadata": {},
   "outputs": [],
   "source": [
    "##데이터준비3\n",
    "train_loder = torch.utils.data.DataLoader(dataset=train_dataset,\n",
    "                                          batch_size=32,\n",
    "                                          shuffle=True)\n",
    "\n",
    "test_loder = torch.utils.data.DataLoader(dataset=test_dataset,\n",
    "                                          batch_size=32,\n",
    "                                          shuffle=True)"
   ]
  },
  {
   "cell_type": "code",
   "execution_count": 21,
   "metadata": {},
   "outputs": [
    {
     "name": "stdout",
     "output_type": "stream",
     "text": [
      "torch.Size([32, 1, 28, 28]) torch.Size([32])\n"
     ]
    }
   ],
   "source": [
    "for x, y in train_loder:\n",
    "    print(x.shape, y.shape)\n",
    "    break"
   ]
  },
  {
   "cell_type": "code",
   "execution_count": 22,
   "metadata": {},
   "outputs": [
    {
     "data": {
      "image/png": "[encoded data removed]",
      "text/plain": [
       "<Figure size 640x480 with 10 Axes>"
      ]
     },
     "metadata": {},
     "output_type": "display_data"
    },
    {
     "data": {
      "text/plain": [
       "tensor([5, 6, 1, 1, 6, 8, 4, 7, 2, 0])"
      ]
     },
     "execution_count": 22,
     "metadata": {},
     "output_type": "execute_result"
    }
   ],
   "source": [
    "for idx in range(10):\n",
    "    plt.subplot(1, 10, idx+1)\n",
    "    plt.axis(\"off\")\n",
    "    plt.imshow(x[idx, :, :, :].reshape(28,28), cmap=\"gray_r\")\n",
    "plt.show()\n",
    "y[:10]"
   ]
  },
  {
   "cell_type": "code",
   "execution_count": 41,
   "metadata": {},
   "outputs": [],
   "source": [
    "# 모델구조설계\n",
    "class MnistNet(nn.Module):\n",
    "    def __init__(self): # 주로 층을 만듬\n",
    "        super(MnistNet, self).__init__()\n",
    "        self.fc1 = nn.Linear(28*28, 512)\n",
    "        self.fc2 = nn.Linear(512, 512)\n",
    "        self.fc3 = nn.Linear(512, 256)\n",
    "        self.fc4 = nn.Linear(256, 10)\n",
    "\n",
    "\n",
    "    def forward(self, x):\n",
    "        x = x.view(-1, 28*28)\n",
    "        x = self.fc1(x)\n",
    "        x = F.relu(x)\n",
    "        x = self.fc2(x)\n",
    "        x = F.relu(x)\n",
    "        x = self.fc3(x)\n",
    "        x = F.relu(x)\n",
    "        x = self.fc4(x)\n",
    "        x = F.log_softmax(x, dim= 1)\n",
    "        return x"
   ]
  },
  {
   "cell_type": "code",
   "execution_count": 42,
   "metadata": {},
   "outputs": [
    {
     "name": "stdout",
     "output_type": "stream",
     "text": [
      "MnistNet(\n",
      "  (fc1): Linear(in_features=784, out_features=512, bias=True)\n",
      "  (fc2): Linear(in_features=512, out_features=512, bias=True)\n",
      "  (fc3): Linear(in_features=512, out_features=256, bias=True)\n",
      "  (fc4): Linear(in_features=256, out_features=10, bias=True)\n",
      ")\n"
     ]
    }
   ],
   "source": [
    "#학습 도구 구성\n",
    "model = MnistNet().to(device)\n",
    "optimizer = torch.optim.Adam(model.parameters(), lr=0.001)\n",
    "criterion = nn.CrossEntropyLoss()\n",
    "\n",
    "print(model)"
   ]
  },
  {
   "cell_type": "code",
   "execution_count": 50,
   "metadata": {},
   "outputs": [],
   "source": [
    "# 훈련함수 만들기(학습설계)\n",
    "def train(model, train_loder, optimizer):\n",
    "    model.train() # train_mode로 설정\n",
    "    for idx, (images, labels) in enumerate(train_loder):\n",
    "        images = images.to(device)\n",
    "        labels = labels.to(device)\n",
    "        optimizer.zero_grad()\n",
    "        output = model(images)\n",
    "        loss = criterion(output, labels)\n",
    "        loss.backward()\n",
    "        optimizer.step()\n",
    "\n",
    "        if idx % 187 == 0:\n",
    "            print(f\"Batch : {idx}, Loss : {loss.item()}\")"
   ]
  },
  {
   "cell_type": "code",
   "execution_count": 51,
   "metadata": {},
   "outputs": [
    {
     "name": "stdout",
     "output_type": "stream",
     "text": [
      "Batch : 0, Loss : 0.0011544537264853716\n",
      "Batch : 187, Loss : 0.022551365196704865\n",
      "Batch : 374, Loss : 0.0002891499607358128\n",
      "Batch : 561, Loss : 2.241173933725804e-05\n",
      "Batch : 748, Loss : 0.00022947622346691787\n",
      "Batch : 935, Loss : 1.1651894965325482e-05\n",
      "Batch : 1122, Loss : 0.009216167964041233\n",
      "Batch : 1309, Loss : 1.3626219697471242e-05\n",
      "Batch : 1496, Loss : 0.0010277233086526394\n",
      "Batch : 1683, Loss : 0.0015885669272392988\n",
      "Batch : 1870, Loss : 0.00014778436161577702\n",
      "Epoch : 1, Loss: 0.10613831483033516, Accuracy: 0.9807\n",
      "Batch : 0, Loss : 0.015959102660417557\n",
      "Batch : 187, Loss : 0.00044612918281927705\n",
      "Batch : 374, Loss : 1.0664172805263661e-05\n",
      "Batch : 561, Loss : 9.792618220672011e-05\n",
      "Batch : 748, Loss : 0.024428563192486763\n",
      "Batch : 935, Loss : 0.0044503300450742245\n",
      "Batch : 1122, Loss : 5.185397185414331e-06\n",
      "Batch : 1309, Loss : 0.15825122594833374\n",
      "Batch : 1496, Loss : 0.0030541308224201202\n",
      "Batch : 1683, Loss : 0.0007152887992560863\n",
      "Batch : 1870, Loss : 0.0008609099895693362\n",
      "Epoch : 2, Loss: 0.09609020155223916, Accuracy: 0.9805\n",
      "Batch : 0, Loss : 0.00015517497377004474\n",
      "Batch : 187, Loss : 0.0013255267404019833\n",
      "Batch : 374, Loss : 0.0014445871347561479\n",
      "Batch : 561, Loss : 0.00238025258295238\n",
      "Batch : 748, Loss : 0.00015654238814022392\n",
      "Batch : 935, Loss : 1.9744004475796828e-07\n",
      "Batch : 1122, Loss : 0.00023686782515142113\n",
      "Batch : 1309, Loss : 0.0009673406020738184\n",
      "Batch : 1496, Loss : 0.00023672039969824255\n",
      "Batch : 1683, Loss : 0.005899669136852026\n",
      "Batch : 1870, Loss : 0.2380272001028061\n",
      "Epoch : 3, Loss: 0.12976606802927296, Accuracy: 0.9773\n",
      "Batch : 0, Loss : 0.006161549594253302\n",
      "Batch : 187, Loss : 0.05376385897397995\n",
      "Batch : 374, Loss : 0.005261787213385105\n",
      "Batch : 561, Loss : 1.0430805730266002e-07\n",
      "Batch : 748, Loss : 0.0015363539569079876\n",
      "Batch : 935, Loss : 0.022339386865496635\n",
      "Batch : 1122, Loss : 0.0047361948527395725\n",
      "Batch : 1309, Loss : 0.15899190306663513\n",
      "Batch : 1496, Loss : 0.00013918343756813556\n",
      "Batch : 1683, Loss : 0.03968041390180588\n",
      "Batch : 1870, Loss : 0.00012994780263397843\n",
      "Epoch : 4, Loss: 0.10226505862085705, Accuracy: 0.9821\n",
      "Batch : 0, Loss : 1.3261910680739675e-06\n",
      "Batch : 187, Loss : 0.001803348888643086\n",
      "Batch : 374, Loss : 0.00024582244805060327\n",
      "Batch : 561, Loss : 0.0033501090947538614\n",
      "Batch : 748, Loss : 1.4905106581863947e-05\n",
      "Batch : 935, Loss : 0.0003970786929130554\n",
      "Batch : 1122, Loss : 0.09235521405935287\n",
      "Batch : 1309, Loss : 0.00036063676816411316\n",
      "Batch : 1496, Loss : 3.737976658158004e-05\n",
      "Batch : 1683, Loss : 0.0001588815066497773\n",
      "Batch : 1870, Loss : 7.383122465398628e-06\n",
      "Epoch : 5, Loss: 0.12114507138346235, Accuracy: 0.98\n",
      "Batch : 0, Loss : 0.00010506348189665005\n",
      "Batch : 187, Loss : 0.0010384978959336877\n",
      "Batch : 374, Loss : 0.0001313782122451812\n",
      "Batch : 561, Loss : 0.01000234019011259\n",
      "Batch : 748, Loss : 0.0006482556345872581\n",
      "Batch : 935, Loss : 0.05932822450995445\n",
      "Batch : 1122, Loss : 0.03698555380105972\n",
      "Batch : 1309, Loss : 0.004260321147739887\n",
      "Batch : 1496, Loss : 1.1692691259668209e-05\n",
      "Batch : 1683, Loss : 0.0015384857542812824\n",
      "Batch : 1870, Loss : 8.835315384203568e-06\n",
      "Epoch : 6, Loss: 0.11483772979000828, Accuracy: 0.9835\n",
      "Batch : 0, Loss : 3.02013195323525e-05\n",
      "Batch : 187, Loss : 6.723106343997642e-05\n",
      "Batch : 374, Loss : 2.138251147698611e-06\n",
      "Batch : 561, Loss : 0.002303436631336808\n",
      "Batch : 748, Loss : 4.0864073525881395e-05\n",
      "Batch : 935, Loss : 5.2933387451048475e-06\n",
      "Batch : 1122, Loss : 0.13255657255649567\n",
      "Batch : 1309, Loss : 0.0003740826214198023\n",
      "Batch : 1496, Loss : 8.384640750591643e-06\n",
      "Batch : 1683, Loss : 4.644615182769485e-05\n",
      "Batch : 1870, Loss : 0.00014466325228568166\n",
      "Epoch : 7, Loss: 0.16970928726412204, Accuracy: 0.9791\n",
      "Batch : 0, Loss : 1.6584461263846606e-05\n",
      "Batch : 187, Loss : 4.354763404990081e-06\n",
      "Batch : 374, Loss : 3.585825106711127e-05\n",
      "Batch : 561, Loss : 0.0001122542962548323\n",
      "Batch : 748, Loss : 0.027818582952022552\n",
      "Batch : 935, Loss : 2.447465249133529e-06\n",
      "Batch : 1122, Loss : 0.05554180219769478\n",
      "Batch : 1309, Loss : 8.663868356961757e-06\n",
      "Batch : 1496, Loss : 0.00017528515309095383\n",
      "Batch : 1683, Loss : 1.6473295545438305e-05\n",
      "Batch : 1870, Loss : 0.2936435341835022\n",
      "Epoch : 8, Loss: 0.14598174698915636, Accuracy: 0.9802\n",
      "Batch : 0, Loss : 0.051526304334402084\n",
      "Batch : 187, Loss : 0.0031851259991526604\n",
      "Batch : 374, Loss : 1.4491233741864562e-06\n",
      "Batch : 561, Loss : 1.893745684355963e-05\n",
      "Batch : 748, Loss : 6.138727712823311e-06\n",
      "Batch : 935, Loss : 0.0003201088693458587\n",
      "Batch : 1122, Loss : 1.1175870007207322e-08\n",
      "Batch : 1309, Loss : 4.693847586167976e-07\n",
      "Batch : 1496, Loss : 4.0842132875695825e-05\n",
      "Batch : 1683, Loss : 0.01772984117269516\n",
      "Batch : 1870, Loss : 5.2403684094315395e-05\n",
      "Epoch : 9, Loss: 0.13344266672558175, Accuracy: 0.9803\n",
      "Batch : 0, Loss : 0.052433524280786514\n",
      "Batch : 187, Loss : 3.2073617148853373e-06\n",
      "Batch : 374, Loss : 0.045201245695352554\n",
      "Batch : 561, Loss : 8.605304060438357e-07\n",
      "Batch : 748, Loss : 3.352760558072987e-08\n",
      "Batch : 935, Loss : 0.17366589605808258\n",
      "Batch : 1122, Loss : 0.00012493117537815124\n",
      "Batch : 1309, Loss : 0.001117608160711825\n",
      "Batch : 1496, Loss : 0.0006056889542378485\n",
      "Batch : 1683, Loss : 0.1842852234840393\n",
      "Batch : 1870, Loss : 0.011042460799217224\n",
      "Epoch : 10, Loss: 0.16445610714123549, Accuracy: 0.9796\n"
     ]
    }
   ],
   "source": [
    "for epoch in range(10):\n",
    "    \n",
    "    train(model=model, train_loder=train_loder, optimizer=optimizer)\n",
    "    loss, acc = evaluate(model, test_loder)\n",
    "    print(f\"Epoch : {epoch+1}, Loss: {loss}, Accuracy: {acc}\")\n",
    "    "
   ]
  },
  {
   "cell_type": "code",
   "execution_count": 45,
   "metadata": {},
   "outputs": [],
   "source": [
    "def evaluate(model, test_loader):\n",
    "    loss_total = 0\n",
    "    correct_total = 0\n",
    "    model.eval() # 평가모드로 설정 -> batch_normalization, drop_out 수행 중지\n",
    "    with torch.no_grad(): #가중치 업데이터 수행 중지\n",
    "        for images, labels in test_loader:\n",
    "            images = images.to(device)\n",
    "            labels = labels.to(device)\n",
    "            output = model(images)\n",
    "            loss = criterion(output, labels).item()\n",
    "            loss_total += loss\n",
    "            predicted_values = output.max(1, keepdim = True)[1]\n",
    "            correct = predicted_values.eq(labels.view_as(predicted_values)).sum().item()\n",
    "            correct_total += correct\n",
    "\n",
    "    loss_total = loss_total / ( len(test_dataset) / 32 )\n",
    "    # loss_total /= ( len(test_dataset) / 32 )\n",
    "\n",
    "    accuracy = correct_total / len(test_dataset)\n",
    "\n",
    "    return loss_total, accuracy"
   ]
  },
  {
   "cell_type": "code",
   "execution_count": 52,
   "metadata": {},
   "outputs": [
    {
     "data": {
      "text/plain": [
       "(0.16445609623560192, 0.9796)"
      ]
     },
     "execution_count": 52,
     "metadata": {},
     "output_type": "execute_result"
    }
   ],
   "source": [
    "evaluate(model = model, test_loader = test_loder)"
   ]
  }
 ],
 "metadata": {
  "kernelspec": {
   "display_name": "oos-dl-env2",
   "language": "python",
   "name": "python3"
  },
  "language_info": {
   "codemirror_mode": {
    "name": "ipython",
    "version": 3
   },
   "file_extension": ".py",
   "mimetype": "text/x-python",
   "name": "python",
   "nbconvert_exporter": "python",
   "pygments_lexer": "ipython3",
   "version": "3.9.21"
  }
 },
 "nbformat": 4,
 "nbformat_minor": 2
}
