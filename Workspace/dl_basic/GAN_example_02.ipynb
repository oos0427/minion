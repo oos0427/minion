{
 "cells": [
  {
   "cell_type": "code",
   "execution_count": 1,
   "metadata": {},
   "outputs": [
    {
     "name": "stdout",
     "output_type": "stream",
     "text": [
      "WARNING:tensorflow:From c:\\Users\\human\\.conda\\envs\\oos-dl-env2\\lib\\site-packages\\keras\\src\\losses.py:2976: The name tf.losses.sparse_softmax_cross_entropy is deprecated. Please use tf.compat.v1.losses.sparse_softmax_cross_entropy instead.\n",
      "\n"
     ]
    }
   ],
   "source": [
    "import numpy as np\n",
    "import pandas as pd\n",
    "import matplotlib.pyplot as plt\n",
    "\n",
    "import tensorflow as tf\n",
    "import tensorflow.keras as tf_keras"
   ]
  },
  {
   "cell_type": "markdown",
   "metadata": {},
   "source": [
    "- 챗GPT<br>\n",
    "질문1 -> 질문1 + 다음단어1<br>\n",
    "질문2 -> 질문2 + (질문1 + 다음단어1) + 다음단어2"
   ]
  },
  {
   "cell_type": "code",
   "execution_count": 2,
   "metadata": {},
   "outputs": [],
   "source": [
    "with open(\"Data/nietzsche.txt\", \"rt\") as f:\n",
    "    data = f.read()"
   ]
  },
  {
   "cell_type": "code",
   "execution_count": 3,
   "metadata": {},
   "outputs": [
    {
     "name": "stdout",
     "output_type": "stream",
     "text": [
      "600893\n",
      "PREFACE\n",
      "\n",
      "\n",
      "SUPPOSING that Truth\n"
     ]
    },
    {
     "data": {
      "text/plain": [
       "'PREFACE\\n\\n\\nSUPPOSING that Truth'"
      ]
     },
     "execution_count": 3,
     "metadata": {},
     "output_type": "execute_result"
    }
   ],
   "source": [
    "print(len(data))\n",
    "print(data[:30])\n",
    "data[:30]"
   ]
  },
  {
   "cell_type": "code",
   "execution_count": 4,
   "metadata": {},
   "outputs": [
    {
     "data": {
      "text/plain": [
       "'preface\\n\\n\\nsupposing that truth'"
      ]
     },
     "execution_count": 4,
     "metadata": {},
     "output_type": "execute_result"
    }
   ],
   "source": [
    "data_lower = data.lower()\n",
    "data_lower[:30]"
   ]
  },
  {
   "cell_type": "code",
   "execution_count": 5,
   "metadata": {},
   "outputs": [
    {
     "name": "stdout",
     "output_type": "stream",
     "text": [
      "['\\n' ' ' '!' '\"' \"'\" '(' ')' ',' '-' '.' '0' '1' '2' '3' '4' '5' '6' '7'\n",
      " '8' '9' ':' ';' '=' '?' '[' ']' '_' 'a' 'b' 'c' 'd' 'e' 'f' 'g' 'h' 'i'\n",
      " 'j' 'k' 'l' 'm' 'n' 'o' 'p' 'q' 'r' 's' 't' 'u' 'v' 'w' 'x' 'y' 'z' 'ä'\n",
      " 'æ' 'é' 'ë']\n"
     ]
    },
    {
     "data": {
      "text/plain": [
       "57"
      ]
     },
     "execution_count": 5,
     "metadata": {},
     "output_type": "execute_result"
    }
   ],
   "source": [
    "print(np.unique(list(data_lower)))\n",
    "len(np.unique(list(data_lower)))"
   ]
  },
  {
   "cell_type": "code",
   "execution_count": 6,
   "metadata": {},
   "outputs": [
    {
     "name": "stdout",
     "output_type": "stream",
     "text": [
      "{'c', 't', 'k', '6', 's', 'o', '-', 'v', \"'\", '=', ';', 'h', 'i', ')', 'n', '[', '!', 'ë', 'm', 'w', '1', 'æ', '2', 'y', 'x', 'b', 'u', '\"', 'j', '_', 'g', '(', 'p', ' ', 'e', 'f', 'l', ',', '8', '5', '0', '7', '.', 'z', 'r', 'a', 'd', '3', '9', ']', 'ä', 'q', '\\n', '4', 'é', ':', '?'}\n",
      "['\\n', ' ', '!', '\"', \"'\", '(', ')', ',', '-', '.', '0', '1', '2', '3', '4', '5', '6', '7', '8', '9', ':', ';', '=', '?', '[', ']', '_', 'a', 'b', 'c', 'd', 'e', 'f', 'g', 'h', 'i', 'j', 'k', 'l', 'm', 'n', 'o', 'p', 'q', 'r', 's', 't', 'u', 'v', 'w', 'x', 'y', 'z', 'ä', 'æ', 'é', 'ë']\n",
      "****************************************************************************************************\n",
      "{'\\n': 0, ' ': 1, '!': 2, '\"': 3, \"'\": 4, '(': 5, ')': 6, ',': 7, '-': 8, '.': 9, '0': 10, '1': 11, '2': 12, '3': 13, '4': 14, '5': 15, '6': 16, '7': 17, '8': 18, '9': 19, ':': 20, ';': 21, '=': 22, '?': 23, '[': 24, ']': 25, '_': 26, 'a': 27, 'b': 28, 'c': 29, 'd': 30, 'e': 31, 'f': 32, 'g': 33, 'h': 34, 'i': 35, 'j': 36, 'k': 37, 'l': 38, 'm': 39, 'n': 40, 'o': 41, 'p': 42, 'q': 43, 'r': 44, 's': 45, 't': 46, 'u': 47, 'v': 48, 'w': 49, 'x': 50, 'y': 51, 'z': 52, 'ä': 53, 'æ': 54, 'é': 55, 'ë': 56}\n",
      "****************************************************************************************************\n",
      "{0: '\\n', 1: ' ', 2: '!', 3: '\"', 4: \"'\", 5: '(', 6: ')', 7: ',', 8: '-', 9: '.', 10: '0', 11: '1', 12: '2', 13: '3', 14: '4', 15: '5', 16: '6', 17: '7', 18: '8', 19: '9', 20: ':', 21: ';', 22: '=', 23: '?', 24: '[', 25: ']', 26: '_', 27: 'a', 28: 'b', 29: 'c', 30: 'd', 31: 'e', 32: 'f', 33: 'g', 34: 'h', 35: 'i', 36: 'j', 37: 'k', 38: 'l', 39: 'm', 40: 'n', 41: 'o', 42: 'p', 43: 'q', 44: 'r', 45: 's', 46: 't', 47: 'u', 48: 'v', 49: 'w', 50: 'x', 51: 'y', 52: 'z', 53: 'ä', 54: 'æ', 55: 'é', 56: 'ë'}\n",
      "****************************************************************************************************\n",
      "{0: '\\n', 1: ' ', 2: '!', 3: '\"', 4: \"'\", 5: '(', 6: ')', 7: ',', 8: '-', 9: '.', 10: '0', 11: '1', 12: '2', 13: '3', 14: '4', 15: '5', 16: '6', 17: '7', 18: '8', 19: '9', 20: ':', 21: ';', 22: '=', 23: '?', 24: '[', 25: ']', 26: '_', 27: 'a', 28: 'b', 29: 'c', 30: 'd', 31: 'e', 32: 'f', 33: 'g', 34: 'h', 35: 'i', 36: 'j', 37: 'k', 38: 'l', 39: 'm', 40: 'n', 41: 'o', 42: 'p', 43: 'q', 44: 'r', 45: 's', 46: 't', 47: 'u', 48: 'v', 49: 'w', 50: 'x', 51: 'y', 52: 'z', 53: 'ä', 54: 'æ', 55: 'é', 56: 'ë'}\n"
     ]
    }
   ],
   "source": [
    "print(set(data_lower))\n",
    "sorted_chars = sorted( set(data_lower))\n",
    "print(sorted_chars)\n",
    "print(\"*\" * 100)\n",
    "char_to_idx = {ch:i for i, ch in enumerate(sorted_chars)}\n",
    "\n",
    "idx_to_char = {i:ch for i, ch in enumerate(sorted_chars)}\n",
    "idx_to_char2 = {i:ch for ch, i in char_to_idx.items()}\n",
    "print(char_to_idx)\n",
    "print(\"*\" * 100)\n",
    "print(idx_to_char)\n",
    "print(\"*\" * 100)\n",
    "print(idx_to_char2)"
   ]
  },
  {
   "cell_type": "code",
   "execution_count": 7,
   "metadata": {},
   "outputs": [],
   "source": [
    "#학습내용\n",
    "# n개의 연속된 문자 -> n+1번재 문자 예측"
   ]
  },
  {
   "cell_type": "code",
   "execution_count": 8,
   "metadata": {},
   "outputs": [
    {
     "data": {
      "text/plain": [
       "600893"
      ]
     },
     "execution_count": 8,
     "metadata": {},
     "output_type": "execute_result"
    }
   ],
   "source": [
    "len(data_lower)"
   ]
  },
  {
   "cell_type": "code",
   "execution_count": 9,
   "metadata": {},
   "outputs": [
    {
     "name": "stdout",
     "output_type": "stream",
     "text": [
      "200281 200281\n",
      "preface\n",
      "\n",
      "\n",
      "supposing that truth is a woman--what th e\n"
     ]
    }
   ],
   "source": [
    "sequence_length = 50 #연속된 문자의 수\n",
    "step = 3 # stride (3개 문자씩 이동하면서 데이터 추출)\n",
    "\n",
    "sequences = [] # (batch 크기 : 한번에 처리하는 갯수, 입력문자갯수, 단어사전크기)\n",
    "next_chars = [] #배치크기, 단어사전크기\n",
    "\n",
    "for idx in range(0, len(data_lower) - sequence_length, step):\n",
    "    sequences.append(data_lower[idx:idx+sequence_length])\n",
    "    next_chars.append(data_lower[idx+sequence_length])\n",
    "\n",
    "print(len(sequences), len(next_chars))\n",
    "print(sequences[0], next_chars[0])"
   ]
  },
  {
   "cell_type": "code",
   "execution_count": 10,
   "metadata": {},
   "outputs": [
    {
     "name": "stdout",
     "output_type": "stream",
     "text": [
      "e\n",
      "\n"
     ]
    },
    {
     "data": {
      "text/plain": [
       "'preface\\n\\n\\nsupposing that truth is a woman--what th'"
      ]
     },
     "execution_count": 10,
     "metadata": {},
     "output_type": "execute_result"
    }
   ],
   "source": [
    "print(next_chars[0])\n",
    "print()\n",
    "sequences[0]"
   ]
  },
  {
   "cell_type": "code",
   "execution_count": 11,
   "metadata": {},
   "outputs": [],
   "source": [
    "x = np.zeros(shape=(len(sequences), sequence_length, len(sorted_chars)))\n",
    "y = np.zeros(shape=(len(sequences), len(sorted_chars)))\n",
    "\n",
    "for si, sequence in enumerate(sequences): # si는 입력 문장 번호\n",
    "    # print(si, sequence)\n",
    "    for ci, ch in enumerate(sequence): #ci는 한개의 입력문장 안의 문자 순서 번호\n",
    "        x[si, ci, char_to_idx[ch]] = 1\n",
    "        y[si, char_to_idx[next_chars[si]]] = 1\n",
    "        # print(ci, ch, end=\", \")\n",
    "        pass\n",
    "    \n",
    "    # if si == 2:\n",
    "    #     break"
   ]
  },
  {
   "cell_type": "code",
   "execution_count": 12,
   "metadata": {},
   "outputs": [
    {
     "data": {
      "text/plain": [
       "((200281, 50, 57), (200281, 57))"
      ]
     },
     "execution_count": 12,
     "metadata": {},
     "output_type": "execute_result"
    }
   ],
   "source": [
    "x.shape, y.shape"
   ]
  },
  {
   "cell_type": "code",
   "execution_count": 23,
   "metadata": {},
   "outputs": [
    {
     "name": "stdout",
     "output_type": "stream",
     "text": [
      "Model: \"model_2\"\n",
      "_________________________________________________________________\n",
      " Layer (type)                Output Shape              Param #   \n",
      "=================================================================\n",
      " input_3 (InputLayer)        [(None, 50, 57)]          0         \n",
      "                                                                 \n",
      " lstm_3 (LSTM)               (None, 50, 32)            11520     \n",
      "                                                                 \n",
      " lstm_4 (LSTM)               (None, 32)                8320      \n",
      "                                                                 \n",
      " dense_2 (Dense)             (None, 57)                1881      \n",
      "                                                                 \n",
      "=================================================================\n",
      "Total params: 21721 (84.85 KB)\n",
      "Trainable params: 21721 (84.85 KB)\n",
      "Non-trainable params: 0 (0.00 Byte)\n",
      "_________________________________________________________________\n"
     ]
    }
   ],
   "source": [
    "import tensorflow.keras as tf_keras\n",
    "\n",
    "# 입력 레이어\n",
    "input = tf_keras.layers.Input(shape=(sequence_length, len(sorted_chars)))  # (50, 57)\n",
    "\n",
    "lstm = tf_keras.layers.LSTM(units=32, return_sequences=True)(input)  # 시퀀스를 유지\n",
    "lstm = tf_keras.layers.LSTM(units=32)(lstm)  # 시퀀스를 유지\n",
    "\n",
    "# 출력 레이어\n",
    "output = tf_keras.layers.Dense(units=len(sorted_chars), activation=\"softmax\")(lstm)\n",
    "\n",
    "# 모델 정의\n",
    "model = tf_keras.models.Model(inputs=input, outputs=output)\n",
    "\n",
    "# 모델 요약 출력\n",
    "model.summary()\n"
   ]
  },
  {
   "cell_type": "code",
   "execution_count": 25,
   "metadata": {},
   "outputs": [],
   "source": [
    "model.compile(loss = \"categorical_crossentropy\", optimizer=tf_keras.optimizers.Adam(learning_rate=0.01), metrics=['accuracy'])"
   ]
  },
  {
   "cell_type": "code",
   "execution_count": 26,
   "metadata": {},
   "outputs": [
    {
     "name": "stdout",
     "output_type": "stream",
     "text": [
      "Epoch 1/10\n",
      "783/783 [==============================] - 48s 56ms/step - loss: 2.4638 - accuracy: 0.2985\n",
      "Epoch 2/10\n",
      "783/783 [==============================] - 44s 56ms/step - loss: 2.0796 - accuracy: 0.3899\n",
      "Epoch 3/10\n",
      "783/783 [==============================] - 43s 55ms/step - loss: 1.9768 - accuracy: 0.4157\n",
      "Epoch 4/10\n",
      "783/783 [==============================] - 44s 56ms/step - loss: 1.9197 - accuracy: 0.4311\n",
      "Epoch 5/10\n",
      "783/783 [==============================] - 43s 55ms/step - loss: 1.8814 - accuracy: 0.4421\n",
      "Epoch 6/10\n",
      "783/783 [==============================] - 43s 55ms/step - loss: 1.8557 - accuracy: 0.4504\n",
      "Epoch 7/10\n",
      "783/783 [==============================] - 46s 58ms/step - loss: 1.8309 - accuracy: 0.4569\n",
      "Epoch 8/10\n",
      "783/783 [==============================] - 46s 59ms/step - loss: 1.8116 - accuracy: 0.4625\n",
      "Epoch 9/10\n",
      "783/783 [==============================] - 49s 62ms/step - loss: 1.7931 - accuracy: 0.4670\n",
      "Epoch 10/10\n",
      "783/783 [==============================] - 43s 55ms/step - loss: 1.7794 - accuracy: 0.4717\n"
     ]
    }
   ],
   "source": [
    "history = model.fit(x, y, batch_size=256, epochs= 10, verbose=1)"
   ]
  },
  {
   "cell_type": "code",
   "execution_count": 17,
   "metadata": {},
   "outputs": [],
   "source": [
    "def select_character(preds, temperature=1.0): # temperature 값이 작을 수록 낮은 확률의 값이 선택 가능성이 낮짐\n",
    "    preds = np.asarray(preds).astype('float64')\n",
    "    preds = np.log(preds) / temperature\n",
    "    exp_preds = np.exp(preds)\n",
    "    preds = exp_preds / np.sum(exp_preds)    \n",
    "    probas = np.random.multinomial(1, preds, 1) # 주어진 확률에 따라 다음 값 랜덤 선택\n",
    "    return np.argmax(probas)"
   ]
  },
  {
   "cell_type": "code",
   "execution_count": 21,
   "metadata": {},
   "outputs": [
    {
     "name": "stdout",
     "output_type": "stream",
     "text": [
      "es life!\n",
      "\n",
      "25. after such a cheerful commencement, \n",
      "****************************************************************************************************\n",
      " poned ones inerenenes fed. ly ouly, maty in is,\n",
      "\n",
      "es ounes ty hen aged inedinedaranes. ineres. tes--"
     ]
    }
   ],
   "source": [
    "start_idx = np.random.randint(0, len(data_lower) - sequence_length)\n",
    "seed_text = data_lower[ start_idx: start_idx + sequence_length]\n",
    "print(seed_text)\n",
    "print(\"*\" * 100)\n",
    "\n",
    "for idx in range(100):\n",
    "    sample = np.zeros(shape=(1, sequence_length, len(sorted_chars))) # 1, 50, 57\n",
    "    for cidx, c in enumerate(seed_text):\n",
    "        sample[0, ci, char_to_idx[c]] = 1\n",
    "\n",
    "    predicted_values = model.predict(sample, verbose=0)\n",
    "    #selected_char_idx = predicted_values[0].argmax()\n",
    "    selected_char_idx = select_character(predicted_values[0], 1)\n",
    "    full_text = sorted_chars[selected_char_idx]\n",
    "    seed_text = full_text[-50:]\n",
    "    #seed_text = full_text[idx+1:]\n",
    "\n",
    "    print(sorted_chars[selected_char_idx], end=\"\")\n"
   ]
  },
  {
   "cell_type": "code",
   "execution_count": 33,
   "metadata": {},
   "outputs": [
    {
     "name": "stdout",
     "output_type": "stream",
     "text": [
      "np.log([0.7, 0.2, 0.1] = [-0.35667494 -1.60943791 -2.30258509]\n",
      "np.log([0.7, 0.2, 0.1] / 0.5 = [-0.71334989 -3.21887582 -4.60517019]\n",
      "np.log([0.7, 0.2, 0.1] / 100 = [-0.00356675 -0.01609438 -0.02302585]\n",
      "[0.887904   0.58480355 0.46415888]\n",
      "[0.45842294 0.30193282 0.23964424]\n",
      "[[5 4 1]]\n",
      "0\n"
     ]
    }
   ],
   "source": [
    "import numpy as np\n",
    "\n",
    "print( \"np.log([0.7, 0.2, 0.1] =\", np.log([0.7, 0.2, 0.1]) )\n",
    "print( \"np.log([0.7, 0.2, 0.1] / 0.5 =\", np.log([0.7, 0.2, 0.1]) / 0.5 )\n",
    "print( \"np.log([0.7, 0.2, 0.1] / 100 =\", np.log([0.7, 0.2, 0.1]) / 100 )\n",
    "exp_preds = np.exp( np.log([0.7, 0.2, 0.1]) / 3 )\n",
    "print( exp_preds )\n",
    "preds = exp_preds / np.sum(exp_preds)\n",
    "print(preds)\n",
    "#probas = np.random.multinomial(1, preds, 1)\n",
    "probas = np.random.multinomial(10, preds, 1)\n",
    "print(probas)\n",
    "print( np.argmax(probas) )"
   ]
  }
 ],
 "metadata": {
  "kernelspec": {
   "display_name": "oos-dl-env2",
   "language": "python",
   "name": "python3"
  },
  "language_info": {
   "codemirror_mode": {
    "name": "ipython",
    "version": 3
   },
   "file_extension": ".py",
   "mimetype": "text/x-python",
   "name": "python",
   "nbconvert_exporter": "python",
   "pygments_lexer": "ipython3",
   "version": "3.9.21"
  }
 },
 "nbformat": 4,
 "nbformat_minor": 2
}
