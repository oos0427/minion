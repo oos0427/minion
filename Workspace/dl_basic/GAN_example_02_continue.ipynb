{
 "cells": [
  {
   "cell_type": "code",
   "execution_count": 3,
   "metadata": {},
   "outputs": [],
   "source": [
    "import numpy as np\n",
    "import pandas as pd\n",
    "import matplotlib.pyplot as plt\n",
    "\n",
    "import tensorflow as tf\n",
    "import tensorflow.keras as tf_keras"
   ]
  },
  {
   "cell_type": "code",
   "execution_count": 4,
   "metadata": {},
   "outputs": [],
   "source": [
    "with open(\"Data/nietzsche.txt\", \"rt\") as f:\n",
    "    data = f.read()"
   ]
  },
  {
   "cell_type": "code",
   "execution_count": 5,
   "metadata": {},
   "outputs": [
    {
     "data": {
      "text/plain": [
       "'preface\\n\\n\\nsupposing that truth'"
      ]
     },
     "execution_count": 5,
     "metadata": {},
     "output_type": "execute_result"
    }
   ],
   "source": [
    "data_lower = data.lower()\n",
    "data_lower[:30]"
   ]
  },
  {
   "cell_type": "code",
   "execution_count": 6,
   "metadata": {},
   "outputs": [
    {
     "name": "stdout",
     "output_type": "stream",
     "text": [
      "{\"'\", '=', '8', '[', '(', '4', 'k', 's', 'p', 'o', 'f', '5', '\"', '3', 'e', '?', '0', 'a', 'q', ' ', '.', ':', 't', '1', ']', 'r', 'h', 'v', 'l', 'ä', '7', 'æ', 'c', 'm', 'é', 'b', 'n', 'd', '2', '-', '!', ',', '6', 'i', ';', 'g', 'y', 'x', 'u', 'w', ')', 'ë', '9', '\\n', 'z', '_', 'j'}\n",
      "['\\n', ' ', '!', '\"', \"'\", '(', ')', ',', '-', '.', '0', '1', '2', '3', '4', '5', '6', '7', '8', '9', ':', ';', '=', '?', '[', ']', '_', 'a', 'b', 'c', 'd', 'e', 'f', 'g', 'h', 'i', 'j', 'k', 'l', 'm', 'n', 'o', 'p', 'q', 'r', 's', 't', 'u', 'v', 'w', 'x', 'y', 'z', 'ä', 'æ', 'é', 'ë']\n",
      "****************************************************************************************************\n",
      "{'\\n': 0, ' ': 1, '!': 2, '\"': 3, \"'\": 4, '(': 5, ')': 6, ',': 7, '-': 8, '.': 9, '0': 10, '1': 11, '2': 12, '3': 13, '4': 14, '5': 15, '6': 16, '7': 17, '8': 18, '9': 19, ':': 20, ';': 21, '=': 22, '?': 23, '[': 24, ']': 25, '_': 26, 'a': 27, 'b': 28, 'c': 29, 'd': 30, 'e': 31, 'f': 32, 'g': 33, 'h': 34, 'i': 35, 'j': 36, 'k': 37, 'l': 38, 'm': 39, 'n': 40, 'o': 41, 'p': 42, 'q': 43, 'r': 44, 's': 45, 't': 46, 'u': 47, 'v': 48, 'w': 49, 'x': 50, 'y': 51, 'z': 52, 'ä': 53, 'æ': 54, 'é': 55, 'ë': 56}\n",
      "****************************************************************************************************\n",
      "{0: '\\n', 1: ' ', 2: '!', 3: '\"', 4: \"'\", 5: '(', 6: ')', 7: ',', 8: '-', 9: '.', 10: '0', 11: '1', 12: '2', 13: '3', 14: '4', 15: '5', 16: '6', 17: '7', 18: '8', 19: '9', 20: ':', 21: ';', 22: '=', 23: '?', 24: '[', 25: ']', 26: '_', 27: 'a', 28: 'b', 29: 'c', 30: 'd', 31: 'e', 32: 'f', 33: 'g', 34: 'h', 35: 'i', 36: 'j', 37: 'k', 38: 'l', 39: 'm', 40: 'n', 41: 'o', 42: 'p', 43: 'q', 44: 'r', 45: 's', 46: 't', 47: 'u', 48: 'v', 49: 'w', 50: 'x', 51: 'y', 52: 'z', 53: 'ä', 54: 'æ', 55: 'é', 56: 'ë'}\n",
      "****************************************************************************************************\n",
      "{0: '\\n', 1: ' ', 2: '!', 3: '\"', 4: \"'\", 5: '(', 6: ')', 7: ',', 8: '-', 9: '.', 10: '0', 11: '1', 12: '2', 13: '3', 14: '4', 15: '5', 16: '6', 17: '7', 18: '8', 19: '9', 20: ':', 21: ';', 22: '=', 23: '?', 24: '[', 25: ']', 26: '_', 27: 'a', 28: 'b', 29: 'c', 30: 'd', 31: 'e', 32: 'f', 33: 'g', 34: 'h', 35: 'i', 36: 'j', 37: 'k', 38: 'l', 39: 'm', 40: 'n', 41: 'o', 42: 'p', 43: 'q', 44: 'r', 45: 's', 46: 't', 47: 'u', 48: 'v', 49: 'w', 50: 'x', 51: 'y', 52: 'z', 53: 'ä', 54: 'æ', 55: 'é', 56: 'ë'}\n"
     ]
    }
   ],
   "source": [
    "print(set(data_lower))\n",
    "sorted_chars = sorted( set(data_lower))\n",
    "print(sorted_chars)\n",
    "print(\"*\" * 100)\n",
    "char_to_idx = {ch:i for i, ch in enumerate(sorted_chars)}\n",
    "\n",
    "idx_to_char = {i:ch for i, ch in enumerate(sorted_chars)}\n",
    "idx_to_char2 = {i:ch for ch, i in char_to_idx.items()}\n",
    "print(char_to_idx)\n",
    "print(\"*\" * 100)\n",
    "print(idx_to_char)\n",
    "print(\"*\" * 100)\n",
    "print(idx_to_char2)"
   ]
  },
  {
   "cell_type": "code",
   "execution_count": 7,
   "metadata": {},
   "outputs": [
    {
     "name": "stdout",
     "output_type": "stream",
     "text": [
      "200281 200281\n",
      "preface\n",
      "\n",
      "\n",
      "supposing that truth is a woman--what th e\n"
     ]
    }
   ],
   "source": [
    "sequence_length = 50 #연속된 문자의 수\n",
    "step = 3 # stride (3개 문자씩 이동하면서 데이터 추출)\n",
    "\n",
    "sequences = [] # (batch 크기 : 한번에 처리하는 갯수, 입력문자갯수, 단어사전크기)\n",
    "next_chars = [] #배치크기, 단어사전크기\n",
    "\n",
    "for idx in range(0, len(data_lower) - sequence_length, step):\n",
    "    sequences.append(data_lower[idx:idx+sequence_length])\n",
    "    next_chars.append(data_lower[idx+sequence_length])\n",
    "\n",
    "print(len(sequences), len(next_chars))\n",
    "print(sequences[0], next_chars[0])"
   ]
  },
  {
   "cell_type": "code",
   "execution_count": 8,
   "metadata": {},
   "outputs": [],
   "source": [
    "x = np.zeros(shape=(len(sequences), sequence_length, len(sorted_chars)))\n",
    "y = np.zeros(shape=(len(sequences), len(sorted_chars)))\n",
    "\n",
    "for si, sequence in enumerate(sequences): # si는 입력 문장 번호\n",
    "    # print(si, sequence)\n",
    "    for ci, ch in enumerate(sequence): #ci는 한개의 입력문장 안의 문자 순서 번호\n",
    "        x[si, ci, char_to_idx[ch]] = 1\n",
    "        y[si, char_to_idx[next_chars[si]]] = 1\n",
    "        # print(ci, ch, end=\", \")\n",
    "        pass\n",
    "    \n",
    "    # if si == 2:\n",
    "    #     break"
   ]
  },
  {
   "cell_type": "code",
   "execution_count": 10,
   "metadata": {},
   "outputs": [
    {
     "data": {
      "text/plain": [
       "((200281, 50, 57), (200281, 57))"
      ]
     },
     "execution_count": 10,
     "metadata": {},
     "output_type": "execute_result"
    }
   ],
   "source": [
    "x.shape, y.shape"
   ]
  },
  {
   "cell_type": "code",
   "execution_count": 19,
   "metadata": {},
   "outputs": [
    {
     "data": {
      "text/plain": [
       "array([0., 0., 0., 0., 0., 0., 0., 0., 0., 0., 0., 0., 0., 0., 0., 0., 0.,\n",
       "       0., 0., 0., 0., 0., 0., 0., 0., 0., 0., 0., 0., 0., 0., 0., 0., 0.,\n",
       "       0., 0., 0., 0., 0., 0., 0., 0., 1., 0., 0., 0., 0., 0., 0., 0., 0.,\n",
       "       0., 0., 0., 0., 0., 0.])"
      ]
     },
     "execution_count": 19,
     "metadata": {},
     "output_type": "execute_result"
    }
   ],
   "source": [
    "x[0,0,:]"
   ]
  },
  {
   "cell_type": "code",
   "execution_count": 23,
   "metadata": {},
   "outputs": [],
   "source": [
    "loaded_model = tf_keras.models.load_model(r\"C:\\Work\\2024\\minion\\Workspace\\dl_basic\\Model\\generation-model.keras\")"
   ]
  },
  {
   "cell_type": "code",
   "execution_count": 24,
   "metadata": {},
   "outputs": [],
   "source": [
    "def select_character(preds, temperature=1.0): # temperature 값이 작을 수록 낮은 확률의 값이 선택 가능성이 낮짐\n",
    "    preds = np.asarray(preds).astype('float64')\n",
    "    preds = np.log(preds) / temperature\n",
    "    exp_preds = np.exp(preds)\n",
    "    preds = exp_preds / np.sum(exp_preds)    \n",
    "    probas = np.random.multinomial(1, preds, 1) # 주어진 확률에 따라 다음 값 랜덤 선택\n",
    "    return np.argmax(probas)"
   ]
  },
  {
   "cell_type": "code",
   "execution_count": 35,
   "metadata": {},
   "outputs": [
    {
     "name": "stdout",
     "output_type": "stream",
     "text": [
      "\n",
      "\n",
      "****************************************************************************************************\n",
      "temperature : 0.5\n",
      "\n",
      "\n",
      "ich\n",
      "all these things are wafted away from the souled wane ined bly), sthinthes!\n",
      "bly-------ces uly? outs.\n",
      "hescares, winines ined ped thiners.. ous thar\n",
      "\n",
      "****************************************************************************************************\n",
      "temperature : 1.0\n",
      "\n",
      "\n",
      "r, uly,\n",
      "wis outhe bly-aninemou mouly, memesthestes, out; uly an winouly------------rs g, wines\n",
      "thinem\n",
      "\n",
      "****************************************************************************************************\n",
      "temperature : 1.5\n",
      "\n",
      "\n",
      "mers d ouly ined anes fustheshuly,\n",
      "cthes, anes mousthes, uly. inxthes ganes,\" ousthed, ine-s, bly, gs"
     ]
    }
   ],
   "source": [
    "start_idx = np.random.randint(0, len(data_lower) - sequence_length)\n",
    "seed_text = data_lower[ start_idx: start_idx + sequence_length]\n",
    "# print(seed_text)\n",
    "# print(\"*\" * 100)\n",
    "for temperature in [0.5, 1.0, 1.5]:\n",
    "    full_text = seed_text\n",
    "    print(\"\\n\")\n",
    "    print(\"*\" * 100)\n",
    "    print(\"temperature : {0}\".format(temperature))\n",
    "    print(\"\\n\")\n",
    "    print(seed_text, end=\"\")\n",
    "    \n",
    "\n",
    "    for idx in range(100):\n",
    "        sample = np.zeros(shape=(1, sequence_length, len(sorted_chars))) # 1, 50, 57\n",
    "        for cidx, c in enumerate(seed_text):\n",
    "            sample[0, ci, char_to_idx[c]] = 1\n",
    "\n",
    "        predicted_values = loaded_model.predict(sample, verbose=0)\n",
    "        #selected_char_idx = predicted_values[0].argmax()\n",
    "        selected_char_idx = select_character(predicted_values[0], 1)\n",
    "        full_text = sorted_chars[selected_char_idx]\n",
    "        seed_text = full_text[-50:]\n",
    "        #seed_text = full_text[idx+1:]\n",
    "\n",
    "        print(sorted_chars[selected_char_idx], end=\"\")\n"
   ]
  }
 ],
 "metadata": {
  "kernelspec": {
   "display_name": "oos-dl-env2",
   "language": "python",
   "name": "python3"
  },
  "language_info": {
   "codemirror_mode": {
    "name": "ipython",
    "version": 3
   },
   "file_extension": ".py",
   "mimetype": "text/x-python",
   "name": "python",
   "nbconvert_exporter": "python",
   "pygments_lexer": "ipython3",
   "version": "3.9.21"
  }
 },
 "nbformat": 4,
 "nbformat_minor": 2
}
