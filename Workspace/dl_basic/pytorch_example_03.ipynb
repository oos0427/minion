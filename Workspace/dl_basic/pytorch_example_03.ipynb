{
 "cells": [
  {
   "cell_type": "code",
   "execution_count": 32,
   "metadata": {},
   "outputs": [],
   "source": [
    "import pandas as pd\n",
    "import numpy as np\n",
    "import matplotlib.pyplot as plt\n",
    "\n",
    "import torch\n",
    "import torch.nn as nn\n",
    "import torch.nn.functional as F\n",
    "from torchvision import transforms, datasets"
   ]
  },
  {
   "cell_type": "code",
   "execution_count": 33,
   "metadata": {},
   "outputs": [],
   "source": [
    "transform = transforms.Compose([transforms.ToTensor()])"
   ]
  },
  {
   "cell_type": "code",
   "execution_count": 34,
   "metadata": {},
   "outputs": [],
   "source": [
    "train_dataset = datasets.FashionMNIST(root = \"Data\",\n",
    "                                      train=True,\n",
    "                                      download=True,\n",
    "                                      transform=transform)\n",
    "val_dataset = datasets.FashionMNIST(root = \"Data\",\n",
    "                                      train=False,\n",
    "                                      download=True,\n",
    "                                      transform=transform)\n",
    "test_dataset = datasets.FashionMNIST(root = \"Data\",\n",
    "                                      train=False,\n",
    "                                      download=True,\n",
    "                                      transform=transform)"
   ]
  },
  {
   "cell_type": "code",
   "execution_count": 35,
   "metadata": {},
   "outputs": [
    {
     "data": {
      "text/plain": [
       "torchvision.datasets.mnist.FashionMNIST"
      ]
     },
     "execution_count": 35,
     "metadata": {},
     "output_type": "execute_result"
    }
   ],
   "source": [
    "type(train_dataset)"
   ]
  },
  {
   "cell_type": "code",
   "execution_count": 36,
   "metadata": {},
   "outputs": [
    {
     "name": "stdout",
     "output_type": "stream",
     "text": [
      "torch.Size([1, 28, 28])\n",
      "9\n",
      "torch.Size([1, 28, 28])\n",
      "0\n",
      "torch.Size([1, 28, 28])\n",
      "0\n",
      "torch.Size([1, 28, 28])\n",
      "3\n",
      "torch.Size([1, 28, 28])\n",
      "0\n",
      "torch.Size([1, 28, 28])\n",
      "2\n",
      "torch.Size([1, 28, 28])\n",
      "7\n"
     ]
    }
   ],
   "source": [
    "for idx, (x, y) in enumerate(train_dataset):\n",
    "    print(x.shape)\n",
    "    print(y)\n",
    "    if idx > 5:\n",
    "        break"
   ]
  },
  {
   "cell_type": "code",
   "execution_count": 37,
   "metadata": {},
   "outputs": [],
   "source": [
    "train_loder = torch.utils.data.DataLoader(dataset= train_dataset,\n",
    "                                          batch_size=64,\n",
    "                                          shuffle=True)\n",
    "\n",
    "val_loder = torch.utils.data.DataLoader(dataset= val_dataset,\n",
    "                                          batch_size=64,\n",
    "                                          shuffle=True)\n",
    "\n",
    "test_loder = torch.utils.data.DataLoader(dataset= test_dataset,\n",
    "                                          batch_size=64,\n",
    "                                          shuffle=True)"
   ]
  },
  {
   "cell_type": "code",
   "execution_count": 38,
   "metadata": {},
   "outputs": [
    {
     "name": "stdout",
     "output_type": "stream",
     "text": [
      "torch.Size([64, 1, 28, 28]) torch.Size([64])\n"
     ]
    }
   ],
   "source": [
    "for x, y in train_loder:\n",
    "    print(x.shape, y.shape)\n",
    "    break"
   ]
  },
  {
   "cell_type": "code",
   "execution_count": 39,
   "metadata": {},
   "outputs": [
    {
     "data": {
      "image/png": "[encoded data removed]",
      "text/plain": [
       "<Figure size 640x480 with 5 Axes>"
      ]
     },
     "metadata": {},
     "output_type": "display_data"
    },
    {
     "data": {
      "text/plain": [
       "tensor([0, 4, 4, 6, 4])"
      ]
     },
     "execution_count": 39,
     "metadata": {},
     "output_type": "execute_result"
    }
   ],
   "source": [
    "for i in range(5):\n",
    "    plt.subplot(1, 5, i+1)\n",
    "    plt.axis(\"off\")\n",
    "    plt.imshow(x[i, :,:,:].reshape(28,28), cmap=\"gray_r\")\n",
    "plt.show()\n",
    "y[:5]"
   ]
  },
  {
   "cell_type": "code",
   "execution_count": 40,
   "metadata": {},
   "outputs": [],
   "source": [
    "import torch.nn as nn\n",
    "import torch.nn.functional as F\n",
    "\n",
    "class FashionCNN(nn.Module):\n",
    "    def __init__(self):\n",
    "        super(FashionCNN, self).__init__()\n",
    "        self.conv1 = nn.Conv2d(in_channels=1, out_channels=8, kernel_size=5, padding=1)\n",
    "        self.pool = nn.MaxPool2d(kernel_size=2, stride=2)\n",
    "\n",
    "        self.conv2 = nn.Conv2d(in_channels=8, out_channels=16, kernel_size=3, padding=1)\n",
    "        self.pool2 = nn.MaxPool2d(kernel_size=2, stride=2)\n",
    "\n",
    "        self.conv3 = nn.Conv2d(in_channels=16, out_channels=32, kernel_size=3, padding=1)\n",
    "        self.pool3 = nn.MaxPool2d(kernel_size=2, stride=2)\n",
    "\n",
    "        self.fc1 = nn.Linear(3 * 3 * 32, 32)\n",
    "        self.fc2 = nn.Linear(32, 10)\n",
    "\n",
    "    def forward(self, x):\n",
    "        x = self.conv1(x)\n",
    "        x = F.relu(x)\n",
    "        x = self.pool(x)\n",
    "\n",
    "        x = self.conv2(x)\n",
    "        x = F.relu(x)\n",
    "        x = self.pool2(x)\n",
    "\n",
    "        x = self.conv3(x)\n",
    "        x = F.relu(x)\n",
    "        x = self.pool3(x)\n",
    "\n",
    "        x = x.view(-1, 3 * 3 * 32)\n",
    "        x = self.fc1(x)\n",
    "        x = F.relu(x)\n",
    "\n",
    "        x = self.fc2(x)\n",
    "        x = F.log_softmax(x, dim=1)\n",
    "        return x"
   ]
  },
  {
   "cell_type": "code",
   "execution_count": 41,
   "metadata": {},
   "outputs": [
    {
     "name": "stdout",
     "output_type": "stream",
     "text": [
      "FashionCNN(\n",
      "  (conv1): Conv2d(1, 8, kernel_size=(5, 5), stride=(1, 1), padding=(1, 1))\n",
      "  (pool): MaxPool2d(kernel_size=2, stride=2, padding=0, dilation=1, ceil_mode=False)\n",
      "  (conv2): Conv2d(8, 16, kernel_size=(3, 3), stride=(1, 1), padding=(1, 1))\n",
      "  (pool2): MaxPool2d(kernel_size=2, stride=2, padding=0, dilation=1, ceil_mode=False)\n",
      "  (conv3): Conv2d(16, 32, kernel_size=(3, 3), stride=(1, 1), padding=(1, 1))\n",
      "  (pool3): MaxPool2d(kernel_size=2, stride=2, padding=0, dilation=1, ceil_mode=False)\n",
      "  (fc1): Linear(in_features=288, out_features=32, bias=True)\n",
      "  (fc2): Linear(in_features=32, out_features=10, bias=True)\n",
      ")\n"
     ]
    }
   ],
   "source": [
    "model = FashionCNN().to(torch.device('cpu'))\n",
    "optimizer = torch.optim.Adam(model.parameters(), lr=0.001)\n",
    "criterion = nn.CrossEntropyLoss()\n",
    "\n",
    "print(model)"
   ]
  },
  {
   "cell_type": "code",
   "execution_count": 42,
   "metadata": {},
   "outputs": [],
   "source": [
    "def train(model, train_loder, optimizer):\n",
    "    model.train()\n",
    "    for idx, (images, labels) in enumerate(train_loder):\n",
    "        images = images.to(torch.device('cpu'))\n",
    "        labels = labels.to(torch.device('cpu'))\n",
    "        optimizer.zero_grad()\n",
    "        output = model(images)\n",
    "        loss = criterion(output, labels)\n",
    "        loss.backward()\n",
    "        optimizer.step()\n",
    "\n",
    "        if idx % 100 == 0:\n",
    "            print(f\"Batch : {idx}, Loss : {loss.item()}\")"
   ]
  },
  {
   "cell_type": "code",
   "execution_count": 43,
   "metadata": {},
   "outputs": [],
   "source": [
    "def evaluate(model, test_loader):\n",
    "    loss_total = 0\n",
    "    correct_total = 0\n",
    "    model.eval() # 평가모드로 설정 -> batch_normalization, drop_out 수행 중지\n",
    "    with torch.no_grad(): #가중치 업데이터 수행 중지\n",
    "        for images, labels in test_loader:\n",
    "            images = images.to(torch.device('cpu'))\n",
    "            labels = labels.to(torch.device('cpu'))\n",
    "            output = model(images)\n",
    "            loss = criterion(output, labels).item()\n",
    "            loss_total += loss\n",
    "            predicted_values = output.max(1, keepdim = True)[1]\n",
    "            correct = predicted_values.eq(labels.view_as(predicted_values)).sum().item()\n",
    "            correct_total += correct\n",
    "\n",
    "    loss_total = loss_total / ( len(test_dataset) / 64 )\n",
    "    # loss_total /= ( len(test_dataset) / 32 )\n",
    "\n",
    "    accuracy = correct_total / len(test_dataset)\n",
    "\n",
    "    return loss_total, accuracy"
   ]
  },
  {
   "cell_type": "code",
   "execution_count": 44,
   "metadata": {},
   "outputs": [
    {
     "name": "stdout",
     "output_type": "stream",
     "text": [
      "Batch : 0, Loss : 2.3161752223968506\n",
      "Batch : 100, Loss : 0.7827268838882446\n",
      "Batch : 200, Loss : 0.7305614352226257\n",
      "Batch : 300, Loss : 0.7127848863601685\n",
      "Batch : 400, Loss : 0.6978611350059509\n",
      "Batch : 500, Loss : 0.5498799681663513\n",
      "Batch : 600, Loss : 0.47614651918411255\n",
      "Batch : 700, Loss : 0.6010541915893555\n",
      "Batch : 800, Loss : 0.4413156509399414\n",
      "Batch : 900, Loss : 0.6746379137039185\n",
      "Epoch : 1, Loss : 0.5626106533050537, Accuracy : 0.7917\n",
      "Batch : 0, Loss : 0.5231672525405884\n",
      "Batch : 100, Loss : 0.5870362520217896\n",
      "Batch : 200, Loss : 0.42936035990715027\n",
      "Batch : 300, Loss : 0.438965380191803\n",
      "Batch : 400, Loss : 0.3742099404335022\n",
      "Batch : 500, Loss : 0.4316185712814331\n",
      "Batch : 600, Loss : 0.4663742482662201\n",
      "Batch : 700, Loss : 0.3924182057380676\n",
      "Batch : 800, Loss : 0.3807239532470703\n",
      "Batch : 900, Loss : 0.4274046719074249\n",
      "Epoch : 2, Loss : 0.4568523025512695, Accuracy : 0.8349\n",
      "Batch : 0, Loss : 0.42148834466934204\n",
      "Batch : 100, Loss : 0.60946124792099\n",
      "Batch : 200, Loss : 0.3934068977832794\n",
      "Batch : 300, Loss : 0.36191415786743164\n",
      "Batch : 400, Loss : 0.349218487739563\n",
      "Batch : 500, Loss : 0.5453475713729858\n",
      "Batch : 600, Loss : 0.3995969891548157\n",
      "Batch : 700, Loss : 0.31045714020729065\n",
      "Batch : 800, Loss : 0.49768808484077454\n",
      "Batch : 900, Loss : 0.36221861839294434\n",
      "Epoch : 3, Loss : 0.41468227138519287, Accuracy : 0.8529\n",
      "Batch : 0, Loss : 0.5087071657180786\n",
      "Batch : 100, Loss : 0.36031603813171387\n",
      "Batch : 200, Loss : 0.42182332277297974\n",
      "Batch : 300, Loss : 0.3168932795524597\n",
      "Batch : 400, Loss : 0.37245872616767883\n",
      "Batch : 500, Loss : 0.42538633942604065\n",
      "Batch : 600, Loss : 0.403912216424942\n",
      "Batch : 700, Loss : 0.3685237467288971\n",
      "Batch : 800, Loss : 0.35118675231933594\n",
      "Batch : 900, Loss : 0.6783273816108704\n",
      "Epoch : 4, Loss : 0.37790072946548464, Accuracy : 0.8643\n",
      "Batch : 0, Loss : 0.25726810097694397\n",
      "Batch : 100, Loss : 0.3372921347618103\n",
      "Batch : 200, Loss : 0.3071027398109436\n",
      "Batch : 300, Loss : 0.40961501002311707\n",
      "Batch : 400, Loss : 0.2563963830471039\n",
      "Batch : 500, Loss : 0.31310775876045227\n",
      "Batch : 600, Loss : 0.214878648519516\n",
      "Batch : 700, Loss : 0.40785542130470276\n",
      "Batch : 800, Loss : 0.3242647349834442\n",
      "Batch : 900, Loss : 0.2912248373031616\n",
      "Epoch : 5, Loss : 0.34932880845069886, Accuracy : 0.875\n",
      "Batch : 0, Loss : 0.33973607420921326\n",
      "Batch : 100, Loss : 0.2460595965385437\n",
      "Batch : 200, Loss : 0.32903602719306946\n",
      "Batch : 300, Loss : 0.210178941488266\n",
      "Batch : 400, Loss : 0.25968751311302185\n",
      "Batch : 500, Loss : 0.40522703528404236\n",
      "Batch : 600, Loss : 0.23696643114089966\n",
      "Batch : 700, Loss : 0.13434594869613647\n",
      "Batch : 800, Loss : 0.40815529227256775\n",
      "Batch : 900, Loss : 0.19053490459918976\n",
      "Epoch : 6, Loss : 0.3416410257339478, Accuracy : 0.878\n",
      "Batch : 0, Loss : 0.27900105714797974\n",
      "Batch : 100, Loss : 0.31270062923431396\n",
      "Batch : 200, Loss : 0.1981653869152069\n",
      "Batch : 300, Loss : 0.26523178815841675\n",
      "Batch : 400, Loss : 0.46456605195999146\n",
      "Batch : 500, Loss : 0.3768380582332611\n",
      "Batch : 600, Loss : 0.19929209351539612\n",
      "Batch : 700, Loss : 0.22463807463645935\n",
      "Batch : 800, Loss : 0.26330703496932983\n",
      "Batch : 900, Loss : 0.2290259599685669\n",
      "Epoch : 7, Loss : 0.3396586763381958, Accuracy : 0.8772\n",
      "Batch : 0, Loss : 0.4886859655380249\n",
      "Batch : 100, Loss : 0.2035488784313202\n",
      "Batch : 200, Loss : 0.3023560047149658\n",
      "Batch : 300, Loss : 0.2710583508014679\n",
      "Batch : 400, Loss : 0.30829954147338867\n",
      "Batch : 500, Loss : 0.21415846049785614\n",
      "Batch : 600, Loss : 0.287360280752182\n",
      "Batch : 700, Loss : 0.30972883105278015\n",
      "Batch : 800, Loss : 0.3254386782646179\n",
      "Batch : 900, Loss : 0.34092509746551514\n",
      "Epoch : 8, Loss : 0.31028665075302125, Accuracy : 0.8881\n",
      "Batch : 0, Loss : 0.3002651035785675\n",
      "Batch : 100, Loss : 0.33555930852890015\n",
      "Batch : 200, Loss : 0.5461511015892029\n",
      "Batch : 300, Loss : 0.2672327160835266\n",
      "Batch : 400, Loss : 0.2709040641784668\n",
      "Batch : 500, Loss : 0.34283310174942017\n",
      "Batch : 600, Loss : 0.29972967505455017\n",
      "Batch : 700, Loss : 0.43248093128204346\n",
      "Batch : 800, Loss : 0.5414091944694519\n",
      "Batch : 900, Loss : 0.29260703921318054\n",
      "Epoch : 9, Loss : 0.30147921295166014, Accuracy : 0.8908\n",
      "Batch : 0, Loss : 0.11736415326595306\n",
      "Batch : 100, Loss : 0.32624247670173645\n",
      "Batch : 200, Loss : 0.2146746963262558\n",
      "Batch : 300, Loss : 0.27817657589912415\n",
      "Batch : 400, Loss : 0.23249982297420502\n",
      "Batch : 500, Loss : 0.2924071252346039\n",
      "Batch : 600, Loss : 0.40214967727661133\n",
      "Batch : 700, Loss : 0.20179863274097443\n",
      "Batch : 800, Loss : 0.25569838285446167\n",
      "Batch : 900, Loss : 0.18147970736026764\n",
      "Epoch : 10, Loss : 0.2976760371208191, Accuracy : 0.8941\n"
     ]
    }
   ],
   "source": [
    "for epoch in range(10):\n",
    "\n",
    "    train(model= model, train_loder=train_loder, optimizer= optimizer)\n",
    "    loss, acc = evaluate(model, val_loder)\n",
    "    print(f\"Epoch : {epoch + 1}, Loss : {loss}, Accuracy : {acc}\")"
   ]
  },
  {
   "cell_type": "code",
   "execution_count": 45,
   "metadata": {},
   "outputs": [
    {
     "data": {
      "text/plain": [
       "(0.29635666823387147, 0.8941)"
      ]
     },
     "execution_count": 45,
     "metadata": {},
     "output_type": "execute_result"
    }
   ],
   "source": [
    "evaluate(model= model, test_loader= test_loder)"
   ]
  }
 ],
 "metadata": {
  "kernelspec": {
   "display_name": "oos-dl-env2",
   "language": "python",
   "name": "python3"
  },
  "language_info": {
   "codemirror_mode": {
    "name": "ipython",
    "version": 3
   },
   "file_extension": ".py",
   "mimetype": "text/x-python",
   "name": "python",
   "nbconvert_exporter": "python",
   "pygments_lexer": "ipython3",
   "version": "3.9.21"
  }
 },
 "nbformat": 4,
 "nbformat_minor": 2
}
