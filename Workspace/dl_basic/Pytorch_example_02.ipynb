{
 "cells": [
  {
   "cell_type": "code",
   "execution_count": 1,
   "metadata": {},
   "outputs": [],
   "source": [
    "import pandas as pd\n",
    "import numpy as np\n",
    "import matplotlib.pyplot as plt\n",
    "\n",
    "import torch\n",
    "import torch.nn as nn\n",
    "import torch.nn.functional as F\n",
    "from torchvision import transforms, datasets"
   ]
  },
  {
   "cell_type": "code",
   "execution_count": 2,
   "metadata": {},
   "outputs": [
    {
     "name": "stdout",
     "output_type": "stream",
     "text": [
      "cpu\n"
     ]
    }
   ],
   "source": [
    "if torch.cuda.is_available():\n",
    "    device = torch.device('cuda')\n",
    "    \n",
    "else:\n",
    "    device = torch.device('cpu')\n",
    "    \n",
    "print(device)"
   ]
  },
  {
   "cell_type": "code",
   "execution_count": 3,
   "metadata": {},
   "outputs": [],
   "source": [
    "#데이터 준비\n",
    "transform = transforms.Compose([transforms.ToTensor()])"
   ]
  },
  {
   "cell_type": "code",
   "execution_count": 4,
   "metadata": {},
   "outputs": [],
   "source": [
    "#데이터준비2\n",
    "train_dataset = datasets.MNIST(root=\"Data/mnist\",\n",
    "                               train=True,\n",
    "                               download=True,\n",
    "                               transform=transform)\n",
    "\n",
    "test_dataset = datasets.MNIST(root=\"Data/mnist\",\n",
    "                               train=False,\n",
    "                               download=True,\n",
    "                               transform=transform)"
   ]
  },
  {
   "cell_type": "code",
   "execution_count": 5,
   "metadata": {},
   "outputs": [],
   "source": [
    "##데이터준비3\n",
    "train_loder = torch.utils.data.DataLoader(dataset=train_dataset,\n",
    "                                          batch_size=32,\n",
    "                                          shuffle=True)\n",
    "\n",
    "test_loder = torch.utils.data.DataLoader(dataset=test_dataset,\n",
    "                                          batch_size=32,\n",
    "                                          shuffle=True)"
   ]
  },
  {
   "cell_type": "code",
   "execution_count": 6,
   "metadata": {},
   "outputs": [
    {
     "name": "stdout",
     "output_type": "stream",
     "text": [
      "torch.Size([32, 1, 28, 28]) torch.Size([32])\n"
     ]
    }
   ],
   "source": [
    "for x, y in train_loder:\n",
    "    print(x.shape, y.shape)\n",
    "    break"
   ]
  },
  {
   "cell_type": "code",
   "execution_count": 7,
   "metadata": {},
   "outputs": [
    {
     "data": {
      "image/png": "[encoded data removed]",
      "text/plain": [
       "<Figure size 640x480 with 10 Axes>"
      ]
     },
     "metadata": {},
     "output_type": "display_data"
    },
    {
     "data": {
      "text/plain": [
       "tensor([0, 3, 9, 2, 3, 4, 3, 6, 5, 4])"
      ]
     },
     "execution_count": 7,
     "metadata": {},
     "output_type": "execute_result"
    }
   ],
   "source": [
    "for idx in range(10):\n",
    "    plt.subplot(1, 10, idx+1)\n",
    "    plt.axis(\"off\")\n",
    "    plt.imshow(x[idx, :, :, :].reshape(28,28), cmap=\"gray_r\")\n",
    "plt.show()\n",
    "y[:10]"
   ]
  },
  {
   "cell_type": "code",
   "execution_count": 21,
   "metadata": {},
   "outputs": [],
   "source": [
    "# 모델구조설계\n",
    "class MnistCNN(nn.Module):\n",
    "    def __init__(self): # 주로 층을 만듬\n",
    "        super(MnistCNN, self).__init__()\n",
    "        self.conv1 = nn.Conv2d(in_channels=1, out_channels=8, kernel_size=3, padding=1)\n",
    "        self.pool = nn.MaxPool2d(kernel_size=2, stride=2)\n",
    "\n",
    "        self.conv2 = nn.Conv2d(in_channels=8, out_channels=16, kernel_size=3, padding=1)\n",
    "        self.pool2 = nn.MaxPool2d(kernel_size=2, stride=2)\n",
    "        self.fc1 = nn.Linear( 7 * 7 * 16, 32 )\n",
    "        self.fc2 = nn.Linear(32, 10)\n",
    "\n",
    "\n",
    "    def forward(self, x):\n",
    "\n",
    "        x = self.conv1(x)\n",
    "        x = F.relu(x)\n",
    "        x = self.pool(x)\n",
    "\n",
    "        x = self.conv2(x)\n",
    "        x = F.relu(x)\n",
    "        x = self.pool2(x)\n",
    "\n",
    "        x = x.view( -1, 7 * 7 * 16 )\n",
    "        x = self.fc1(x)\n",
    "        x = F.relu(x)\n",
    "        x = self.fc2(x)\n",
    "        x = F.log_softmax(x, dim= 1)\n",
    "        return x"
   ]
  },
  {
   "cell_type": "code",
   "execution_count": 22,
   "metadata": {},
   "outputs": [
    {
     "name": "stdout",
     "output_type": "stream",
     "text": [
      "MnistCNN(\n",
      "  (conv1): Conv2d(1, 8, kernel_size=(3, 3), stride=(1, 1), padding=(1, 1))\n",
      "  (pool): MaxPool2d(kernel_size=2, stride=2, padding=0, dilation=1, ceil_mode=False)\n",
      "  (conv2): Conv2d(8, 16, kernel_size=(3, 3), stride=(1, 1), padding=(1, 1))\n",
      "  (pool2): MaxPool2d(kernel_size=2, stride=2, padding=0, dilation=1, ceil_mode=False)\n",
      "  (fc1): Linear(in_features=784, out_features=32, bias=True)\n",
      "  (fc2): Linear(in_features=32, out_features=10, bias=True)\n",
      ")\n"
     ]
    }
   ],
   "source": [
    "#학습 도구 구성\n",
    "model = MnistCNN().to(device)\n",
    "optimizer = torch.optim.Adam(model.parameters(), lr=0.001)\n",
    "criterion = nn.CrossEntropyLoss()\n",
    "\n",
    "print(model)"
   ]
  },
  {
   "cell_type": "code",
   "execution_count": 23,
   "metadata": {},
   "outputs": [],
   "source": [
    "# 훈련함수 만들기(학습설계)\n",
    "def train(model, train_loder, optimizer):\n",
    "    model.train() # train_mode로 설정\n",
    "    for idx, (images, labels) in enumerate(train_loder):\n",
    "        images = images.to(device)\n",
    "        labels = labels.to(device)\n",
    "        optimizer.zero_grad()\n",
    "        output = model(images)\n",
    "        loss = criterion(output, labels)\n",
    "        loss.backward()\n",
    "        optimizer.step()\n",
    "\n",
    "        if idx % 187 == 0:\n",
    "            print(f\"Batch : {idx}, Loss : {loss.item()}\")"
   ]
  },
  {
   "cell_type": "code",
   "execution_count": 26,
   "metadata": {},
   "outputs": [
    {
     "name": "stdout",
     "output_type": "stream",
     "text": [
      "Batch : 0, Loss : 0.028828846290707588\n",
      "Batch : 187, Loss : 0.09765230119228363\n",
      "Batch : 374, Loss : 0.02422894723713398\n",
      "Batch : 561, Loss : 0.021124253049492836\n",
      "Batch : 748, Loss : 0.17190662026405334\n",
      "Batch : 935, Loss : 0.08469349145889282\n",
      "Batch : 1122, Loss : 0.023735785856842995\n",
      "Batch : 1309, Loss : 0.10003531724214554\n",
      "Batch : 1496, Loss : 0.10265185683965683\n",
      "Batch : 1683, Loss : 0.0857224389910698\n",
      "Batch : 1870, Loss : 0.04086346924304962\n",
      "Epoch : 1, Loss: 0.054762074916809796, Accuracy: 0.9818\n",
      "Batch : 0, Loss : 0.046967051923274994\n",
      "Batch : 187, Loss : 0.0390792116522789\n",
      "Batch : 374, Loss : 0.06622163951396942\n",
      "Batch : 561, Loss : 0.023813148960471153\n",
      "Batch : 748, Loss : 0.08781184256076813\n",
      "Batch : 935, Loss : 0.08032164722681046\n",
      "Batch : 1122, Loss : 0.10640569031238556\n",
      "Batch : 1309, Loss : 0.07305064797401428\n",
      "Batch : 1496, Loss : 0.003842936595901847\n",
      "Batch : 1683, Loss : 0.226053848862648\n",
      "Batch : 1870, Loss : 0.346388578414917\n",
      "Epoch : 2, Loss: 0.04308586876997724, Accuracy: 0.9855\n",
      "Batch : 0, Loss : 0.04048316180706024\n",
      "Batch : 187, Loss : 0.007340317126363516\n",
      "Batch : 374, Loss : 0.07038166373968124\n",
      "Batch : 561, Loss : 0.07807505875825882\n",
      "Batch : 748, Loss : 0.07555662095546722\n",
      "Batch : 935, Loss : 0.0173343475908041\n",
      "Batch : 1122, Loss : 0.011064188554883003\n",
      "Batch : 1309, Loss : 0.01269140187650919\n",
      "Batch : 1496, Loss : 0.024816609919071198\n",
      "Batch : 1683, Loss : 0.2744922637939453\n",
      "Batch : 1870, Loss : 0.12746761739253998\n",
      "Epoch : 3, Loss: 0.04690750581789762, Accuracy: 0.9854\n",
      "Batch : 0, Loss : 0.03154749795794487\n",
      "Batch : 187, Loss : 0.001794906915165484\n",
      "Batch : 374, Loss : 0.04094123840332031\n",
      "Batch : 561, Loss : 0.23153246939182281\n",
      "Batch : 748, Loss : 0.012724140658974648\n",
      "Batch : 935, Loss : 0.0259001012891531\n",
      "Batch : 1122, Loss : 0.014601647853851318\n",
      "Batch : 1309, Loss : 0.015144860371947289\n",
      "Batch : 1496, Loss : 0.028974927961826324\n",
      "Batch : 1683, Loss : 0.03051571734249592\n",
      "Batch : 1870, Loss : 0.009725214913487434\n",
      "Epoch : 4, Loss: 0.045272553684795276, Accuracy: 0.986\n",
      "Batch : 0, Loss : 0.11617865413427353\n",
      "Batch : 187, Loss : 0.0004639290855266154\n",
      "Batch : 374, Loss : 0.0619153156876564\n",
      "Batch : 561, Loss : 0.009683323092758656\n",
      "Batch : 748, Loss : 0.003371128113940358\n",
      "Batch : 935, Loss : 0.006101705599576235\n",
      "Batch : 1122, Loss : 0.12140608578920364\n",
      "Batch : 1309, Loss : 0.0037400475703179836\n",
      "Batch : 1496, Loss : 0.019719427451491356\n",
      "Batch : 1683, Loss : 0.024822352454066277\n",
      "Batch : 1870, Loss : 0.02538919262588024\n",
      "Epoch : 5, Loss: 0.03753856122479774, Accuracy: 0.988\n",
      "Batch : 0, Loss : 0.03283495083451271\n",
      "Batch : 187, Loss : 0.011940760537981987\n",
      "Batch : 374, Loss : 0.009117751382291317\n",
      "Batch : 561, Loss : 0.025140613317489624\n",
      "Batch : 748, Loss : 0.004413146525621414\n",
      "Batch : 935, Loss : 0.0174836665391922\n",
      "Batch : 1122, Loss : 0.008361246436834335\n",
      "Batch : 1309, Loss : 0.005351855419576168\n",
      "Batch : 1496, Loss : 0.002957118209451437\n",
      "Batch : 1683, Loss : 0.0035407976247370243\n",
      "Batch : 1870, Loss : 0.004454784095287323\n",
      "Epoch : 6, Loss: 0.049865565940365196, Accuracy: 0.9834\n",
      "Batch : 0, Loss : 0.06931804120540619\n",
      "Batch : 187, Loss : 0.0021196166053414345\n",
      "Batch : 374, Loss : 0.06553623825311661\n",
      "Batch : 561, Loss : 0.002986740320920944\n",
      "Batch : 748, Loss : 0.04681089147925377\n",
      "Batch : 935, Loss : 0.01605643704533577\n",
      "Batch : 1122, Loss : 0.0006590617704205215\n",
      "Batch : 1309, Loss : 0.003965278156101704\n",
      "Batch : 1496, Loss : 0.006834890693426132\n",
      "Batch : 1683, Loss : 0.06245696172118187\n",
      "Batch : 1870, Loss : 0.07281982898712158\n",
      "Epoch : 7, Loss: 0.036894431307073684, Accuracy: 0.9872\n",
      "Batch : 0, Loss : 0.00021788629237562418\n",
      "Batch : 187, Loss : 0.01670004613697529\n",
      "Batch : 374, Loss : 0.010339594446122646\n",
      "Batch : 561, Loss : 0.010115869343280792\n",
      "Batch : 748, Loss : 0.0019426752114668489\n",
      "Batch : 935, Loss : 0.13250993192195892\n",
      "Batch : 1122, Loss : 0.008044373244047165\n",
      "Batch : 1309, Loss : 0.06094099208712578\n",
      "Batch : 1496, Loss : 0.0007067261030897498\n",
      "Batch : 1683, Loss : 0.0007144567789509892\n",
      "Batch : 1870, Loss : 0.004989245906472206\n",
      "Epoch : 8, Loss: 0.0421537575040129, Accuracy: 0.9873\n",
      "Batch : 0, Loss : 0.037292808294296265\n",
      "Batch : 187, Loss : 0.0018171328119933605\n",
      "Batch : 374, Loss : 0.00583281647413969\n",
      "Batch : 561, Loss : 0.08620602637529373\n",
      "Batch : 748, Loss : 0.009276050142943859\n",
      "Batch : 935, Loss : 0.0025248348247259855\n",
      "Batch : 1122, Loss : 0.025502821430563927\n",
      "Batch : 1309, Loss : 0.001324365846812725\n",
      "Batch : 1496, Loss : 0.00019769887148868293\n",
      "Batch : 1683, Loss : 0.0006260048830881715\n",
      "Batch : 1870, Loss : 0.00034955921000801027\n",
      "Epoch : 9, Loss: 0.038415346639452036, Accuracy: 0.9893\n",
      "Batch : 0, Loss : 0.005265623796731234\n",
      "Batch : 187, Loss : 0.015257928520441055\n",
      "Batch : 374, Loss : 0.00018184045620728284\n",
      "Batch : 561, Loss : 2.7683134248945862e-05\n",
      "Batch : 748, Loss : 0.0722488984465599\n",
      "Batch : 935, Loss : 0.07819735258817673\n",
      "Batch : 1122, Loss : 0.0025704747531563044\n",
      "Batch : 1309, Loss : 0.0016947239637374878\n",
      "Batch : 1496, Loss : 0.0018653922015801072\n",
      "Batch : 1683, Loss : 0.011662445962429047\n",
      "Batch : 1870, Loss : 0.0483454130589962\n",
      "Epoch : 10, Loss: 0.04188286181237781, Accuracy: 0.9868\n"
     ]
    }
   ],
   "source": [
    "for epoch in range(10):\n",
    "    \n",
    "    train(model=model, train_loder=train_loder, optimizer=optimizer)\n",
    "    loss, acc = evaluate(model, test_loder)\n",
    "    print(f\"Epoch : {epoch+1}, Loss: {loss}, Accuracy: {acc}\")\n",
    "    "
   ]
  },
  {
   "cell_type": "code",
   "execution_count": 25,
   "metadata": {},
   "outputs": [],
   "source": [
    "def evaluate(model, test_loader):\n",
    "    loss_total = 0\n",
    "    correct_total = 0\n",
    "    model.eval() # 평가모드로 설정 -> batch_normalization, drop_out 수행 중지\n",
    "    with torch.no_grad(): #가중치 업데이터 수행 중지\n",
    "        for images, labels in test_loader:\n",
    "            images = images.to(device)\n",
    "            labels = labels.to(device)\n",
    "            output = model(images)\n",
    "            loss = criterion(output, labels).item()\n",
    "            loss_total += loss\n",
    "            predicted_values = output.max(1, keepdim = True)[1]\n",
    "            correct = predicted_values.eq(labels.view_as(predicted_values)).sum().item()\n",
    "            correct_total += correct\n",
    "\n",
    "    loss_total = loss_total / ( len(test_dataset) / 32 )\n",
    "    # loss_total /= ( len(test_dataset) / 32 )\n",
    "\n",
    "    accuracy = correct_total / len(test_dataset)\n",
    "\n",
    "    return loss_total, accuracy"
   ]
  },
  {
   "cell_type": "code",
   "execution_count": 27,
   "metadata": {},
   "outputs": [
    {
     "data": {
      "text/plain": [
       "(0.0418761555605568, 0.9868)"
      ]
     },
     "execution_count": 27,
     "metadata": {},
     "output_type": "execute_result"
    }
   ],
   "source": [
    "evaluate(model = model, test_loader = test_loder)"
   ]
  }
 ],
 "metadata": {
  "kernelspec": {
   "display_name": "oos-dl-env2",
   "language": "python",
   "name": "python3"
  },
  "language_info": {
   "codemirror_mode": {
    "name": "ipython",
    "version": 3
   },
   "file_extension": ".py",
   "mimetype": "text/x-python",
   "name": "python",
   "nbconvert_exporter": "python",
   "pygments_lexer": "ipython3",
   "version": "3.9.21"
  }
 },
 "nbformat": 4,
 "nbformat_minor": 2
}
