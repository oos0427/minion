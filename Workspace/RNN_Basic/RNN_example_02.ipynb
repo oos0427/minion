{
 "cells": [
  {
   "cell_type": "code",
   "execution_count": 266,
   "metadata": {},
   "outputs": [],
   "source": [
    "#!pip install yfinance"
   ]
  },
  {
   "cell_type": "code",
   "execution_count": 267,
   "metadata": {},
   "outputs": [],
   "source": [
    "import yfinance as yf\n",
    "import pandas as pd\n",
    "import numpy as np"
   ]
  },
  {
   "cell_type": "code",
   "execution_count": 268,
   "metadata": {},
   "outputs": [],
   "source": [
    "FEDFUNDS = pd.read_csv(\"RNN_Data/FEDFUNDS.csv\")"
   ]
  },
  {
   "cell_type": "code",
   "execution_count": 269,
   "metadata": {},
   "outputs": [
    {
     "data": {
      "text/html": [
       "<div>\n",
       "<style scoped>\n",
       "    .dataframe tbody tr th:only-of-type {\n",
       "        vertical-align: middle;\n",
       "    }\n",
       "\n",
       "    .dataframe tbody tr th {\n",
       "        vertical-align: top;\n",
       "    }\n",
       "\n",
       "    .dataframe thead th {\n",
       "        text-align: right;\n",
       "    }\n",
       "</style>\n",
       "<table border=\"1\" class=\"dataframe\">\n",
       "  <thead>\n",
       "    <tr style=\"text-align: right;\">\n",
       "      <th></th>\n",
       "      <th>observation_date</th>\n",
       "      <th>FEDFUNDS</th>\n",
       "    </tr>\n",
       "  </thead>\n",
       "  <tbody>\n",
       "    <tr>\n",
       "      <th>0</th>\n",
       "      <td>1954-07-01</td>\n",
       "      <td>0.80</td>\n",
       "    </tr>\n",
       "    <tr>\n",
       "      <th>1</th>\n",
       "      <td>1954-08-01</td>\n",
       "      <td>1.22</td>\n",
       "    </tr>\n",
       "    <tr>\n",
       "      <th>2</th>\n",
       "      <td>1954-09-01</td>\n",
       "      <td>1.07</td>\n",
       "    </tr>\n",
       "    <tr>\n",
       "      <th>3</th>\n",
       "      <td>1954-10-01</td>\n",
       "      <td>0.85</td>\n",
       "    </tr>\n",
       "    <tr>\n",
       "      <th>4</th>\n",
       "      <td>1954-11-01</td>\n",
       "      <td>0.83</td>\n",
       "    </tr>\n",
       "  </tbody>\n",
       "</table>\n",
       "</div>"
      ],
      "text/plain": [
       "  observation_date  FEDFUNDS\n",
       "0       1954-07-01      0.80\n",
       "1       1954-08-01      1.22\n",
       "2       1954-09-01      1.07\n",
       "3       1954-10-01      0.85\n",
       "4       1954-11-01      0.83"
      ]
     },
     "execution_count": 269,
     "metadata": {},
     "output_type": "execute_result"
    }
   ],
   "source": [
    "FEDFUNDS.head()"
   ]
  },
  {
   "cell_type": "code",
   "execution_count": 270,
   "metadata": {},
   "outputs": [],
   "source": [
    "FEDFUNDS[\"observation_date\"] = FEDFUNDS[\"observation_date\"].str.replace(\"-\", \"\")\n",
    "FEDFUNDS.columns = [\"Date\", \"FEDFUNDS\"]\n",
    "FEDFUNDS[\"Date\"] = FEDFUNDS[\"Date\"].str[:6]"
   ]
  },
  {
   "cell_type": "code",
   "execution_count": null,
   "metadata": {},
   "outputs": [],
   "source": []
  },
  {
   "cell_type": "code",
   "execution_count": 271,
   "metadata": {},
   "outputs": [],
   "source": [
    "# STOCK_GOOG = yf.Ticker(\"GOOG\") # 주가 조회 도구\n",
    "# STOCK_MSFT = yf.Ticker(\"MSFT\") # 주가 조회 도구\n",
    "# STOCK_AAPL = yf.Ticker(\"AAPL\") # 주가 조회 도구\n",
    "STOCK_TSLA = yf.Ticker(\"TSLA\") # 주가 조회 도구\n",
    "# STOCK_NVDA = yf.Ticker(\"NVDA\") # 주가 조회 도구\n",
    "#STOCK_5930 = yf.Ticker(\"005930.KS\") # 주가 조회 도구\n",
    "Stock1 = STOCK_TSLA.history(start = \"2014-01-01\", end = None)\n",
    "#Stock2 = STOCK_5930.history(start = \"2014-01-01\", end = None)"
   ]
  },
  {
   "cell_type": "code",
   "execution_count": 272,
   "metadata": {},
   "outputs": [],
   "source": [
    "Stock1 = Stock1.reset_index()"
   ]
  },
  {
   "cell_type": "code",
   "execution_count": 273,
   "metadata": {},
   "outputs": [
    {
     "name": "stdout",
     "output_type": "stream",
     "text": [
      "<class 'pandas.core.frame.DataFrame'>\n",
      "RangeIndex: 2758 entries, 0 to 2757\n",
      "Data columns (total 8 columns):\n",
      " #   Column        Non-Null Count  Dtype                           \n",
      "---  ------        --------------  -----                           \n",
      " 0   Date          2758 non-null   datetime64[ns, America/New_York]\n",
      " 1   Open          2758 non-null   float64                         \n",
      " 2   High          2758 non-null   float64                         \n",
      " 3   Low           2758 non-null   float64                         \n",
      " 4   Close         2758 non-null   float64                         \n",
      " 5   Volume        2758 non-null   int64                           \n",
      " 6   Dividends     2758 non-null   float64                         \n",
      " 7   Stock Splits  2758 non-null   float64                         \n",
      "dtypes: datetime64[ns, America/New_York](1), float64(6), int64(1)\n",
      "memory usage: 172.5 KB\n"
     ]
    }
   ],
   "source": [
    "Stock1.info()"
   ]
  },
  {
   "cell_type": "code",
   "execution_count": 274,
   "metadata": {},
   "outputs": [],
   "source": [
    "Stock1[\"Date\"] = Stock1[\"Date\"].astype(str).str[:10]\n",
    "Stock1[\"Date\"] = Stock1[\"Date\"].str.replace(\"-\", \"\")\n",
    "Stock1[\"NewDate\"] = Stock1[\"Date\"].str[:6]"
   ]
  },
  {
   "cell_type": "code",
   "execution_count": 275,
   "metadata": {},
   "outputs": [],
   "source": [
    "Stock1.columns = ['Date_origin', 'Open', 'High', 'Low', 'Close', 'Volume', 'Dividends',\n",
    "       'Stock Splits', 'NewDate']"
   ]
  },
  {
   "cell_type": "code",
   "execution_count": 276,
   "metadata": {},
   "outputs": [
    {
     "data": {
      "image/png": "[encoded data removed]",
      "text/plain": [
       "<Figure size 1200x500 with 1 Axes>"
      ]
     },
     "metadata": {},
     "output_type": "display_data"
    }
   ],
   "source": [
    "import matplotlib.pyplot as plt\n",
    "plt.figure(figsize=(12,5))\n",
    "plt.plot(Stock1[\"Open\"])\n",
    "plt.fill_between(Stock1.index, Stock1[\"High\"], Stock1[\"Low\"], color='blue', alpha=0.2, label=\"High-Low Range\")\n",
    "plt.show()"
   ]
  },
  {
   "cell_type": "code",
   "execution_count": 277,
   "metadata": {},
   "outputs": [],
   "source": [
    "import tensorflow as tf\n",
    "from tensorflow import keras as tf_keras"
   ]
  },
  {
   "cell_type": "code",
   "execution_count": 278,
   "metadata": {},
   "outputs": [
    {
     "data": {
      "text/html": [
       "<div>\n",
       "<style scoped>\n",
       "    .dataframe tbody tr th:only-of-type {\n",
       "        vertical-align: middle;\n",
       "    }\n",
       "\n",
       "    .dataframe tbody tr th {\n",
       "        vertical-align: top;\n",
       "    }\n",
       "\n",
       "    .dataframe thead th {\n",
       "        text-align: right;\n",
       "    }\n",
       "</style>\n",
       "<table border=\"1\" class=\"dataframe\">\n",
       "  <thead>\n",
       "    <tr style=\"text-align: right;\">\n",
       "      <th></th>\n",
       "      <th>Date_origin</th>\n",
       "      <th>Open</th>\n",
       "      <th>High</th>\n",
       "      <th>Low</th>\n",
       "      <th>Close</th>\n",
       "      <th>Volume</th>\n",
       "      <th>Dividends</th>\n",
       "      <th>Stock Splits</th>\n",
       "      <th>NewDate</th>\n",
       "    </tr>\n",
       "  </thead>\n",
       "  <tbody>\n",
       "    <tr>\n",
       "      <th>0</th>\n",
       "      <td>20140102</td>\n",
       "      <td>9.986667</td>\n",
       "      <td>10.165333</td>\n",
       "      <td>9.77</td>\n",
       "      <td>10.006667</td>\n",
       "      <td>92826000</td>\n",
       "      <td>0.0</td>\n",
       "      <td>0.0</td>\n",
       "      <td>201401</td>\n",
       "    </tr>\n",
       "  </tbody>\n",
       "</table>\n",
       "</div>"
      ],
      "text/plain": [
       "  Date_origin      Open       High   Low      Close    Volume  Dividends  \\\n",
       "0    20140102  9.986667  10.165333  9.77  10.006667  92826000        0.0   \n",
       "\n",
       "   Stock Splits NewDate  \n",
       "0           0.0  201401  "
      ]
     },
     "execution_count": 278,
     "metadata": {},
     "output_type": "execute_result"
    }
   ],
   "source": [
    "Stock1.head(1)"
   ]
  },
  {
   "cell_type": "code",
   "execution_count": 279,
   "metadata": {},
   "outputs": [
    {
     "data": {
      "text/html": [
       "<div>\n",
       "<style scoped>\n",
       "    .dataframe tbody tr th:only-of-type {\n",
       "        vertical-align: middle;\n",
       "    }\n",
       "\n",
       "    .dataframe tbody tr th {\n",
       "        vertical-align: top;\n",
       "    }\n",
       "\n",
       "    .dataframe thead th {\n",
       "        text-align: right;\n",
       "    }\n",
       "</style>\n",
       "<table border=\"1\" class=\"dataframe\">\n",
       "  <thead>\n",
       "    <tr style=\"text-align: right;\">\n",
       "      <th></th>\n",
       "      <th>Date</th>\n",
       "      <th>FEDFUNDS</th>\n",
       "    </tr>\n",
       "  </thead>\n",
       "  <tbody>\n",
       "    <tr>\n",
       "      <th>0</th>\n",
       "      <td>195407</td>\n",
       "      <td>0.80</td>\n",
       "    </tr>\n",
       "    <tr>\n",
       "      <th>1</th>\n",
       "      <td>195408</td>\n",
       "      <td>1.22</td>\n",
       "    </tr>\n",
       "    <tr>\n",
       "      <th>2</th>\n",
       "      <td>195409</td>\n",
       "      <td>1.07</td>\n",
       "    </tr>\n",
       "  </tbody>\n",
       "</table>\n",
       "</div>"
      ],
      "text/plain": [
       "     Date  FEDFUNDS\n",
       "0  195407      0.80\n",
       "1  195408      1.22\n",
       "2  195409      1.07"
      ]
     },
     "execution_count": 279,
     "metadata": {},
     "output_type": "execute_result"
    }
   ],
   "source": [
    "FEDFUNDS.head(3)"
   ]
  },
  {
   "cell_type": "code",
   "execution_count": 280,
   "metadata": {},
   "outputs": [],
   "source": [
    "df = pd.merge(Stock1, FEDFUNDS, left_on=\"NewDate\",right_on=\"Date\", how=\"inner\")"
   ]
  },
  {
   "cell_type": "code",
   "execution_count": 281,
   "metadata": {},
   "outputs": [
    {
     "name": "stdout",
     "output_type": "stream",
     "text": [
      "<class 'pandas.core.frame.DataFrame'>\n",
      "RangeIndex: 2747 entries, 0 to 2746\n",
      "Data columns (total 11 columns):\n",
      " #   Column        Non-Null Count  Dtype  \n",
      "---  ------        --------------  -----  \n",
      " 0   Date_origin   2747 non-null   object \n",
      " 1   Open          2747 non-null   float64\n",
      " 2   High          2747 non-null   float64\n",
      " 3   Low           2747 non-null   float64\n",
      " 4   Close         2747 non-null   float64\n",
      " 5   Volume        2747 non-null   int64  \n",
      " 6   Dividends     2747 non-null   float64\n",
      " 7   Stock Splits  2747 non-null   float64\n",
      " 8   NewDate       2747 non-null   object \n",
      " 9   Date          2747 non-null   object \n",
      " 10  FEDFUNDS      2747 non-null   float64\n",
      "dtypes: float64(7), int64(1), object(3)\n",
      "memory usage: 236.2+ KB\n"
     ]
    }
   ],
   "source": [
    "df.info(0)"
   ]
  },
  {
   "cell_type": "code",
   "execution_count": 282,
   "metadata": {},
   "outputs": [],
   "source": [
    "targets = df[\"Open\"]\n",
    "features = df[[\"Date_origin\", \"FEDFUNDS\"]]\n"
   ]
  },
  {
   "cell_type": "code",
   "execution_count": 283,
   "metadata": {},
   "outputs": [
    {
     "name": "stdout",
     "output_type": "stream",
     "text": [
      "<class 'pandas.core.frame.DataFrame'>\n",
      "RangeIndex: 2747 entries, 0 to 2746\n",
      "Data columns (total 2 columns):\n",
      " #   Column       Non-Null Count  Dtype  \n",
      "---  ------       --------------  -----  \n",
      " 0   Date_origin  2747 non-null   int32  \n",
      " 1   FEDFUNDS     2747 non-null   float64\n",
      "dtypes: float64(1), int32(1)\n",
      "memory usage: 32.3 KB\n"
     ]
    },
    {
     "name": "stderr",
     "output_type": "stream",
     "text": [
      "C:\\Users\\Public\\Documents\\ESTsoft\\CreatorTemp\\ipykernel_6352\\1069790655.py:1: SettingWithCopyWarning: \n",
      "A value is trying to be set on a copy of a slice from a DataFrame.\n",
      "Try using .loc[row_indexer,col_indexer] = value instead\n",
      "\n",
      "See the caveats in the documentation: https://pandas.pydata.org/pandas-docs/stable/user_guide/indexing.html#returning-a-view-versus-a-copy\n",
      "  features[\"Date_origin\"] = features[\"Date_origin\"].astype(int)\n"
     ]
    }
   ],
   "source": [
    "features[\"Date_origin\"] = features[\"Date_origin\"].astype(int)\n",
    "features.info()"
   ]
  },
  {
   "cell_type": "code",
   "execution_count": 284,
   "metadata": {},
   "outputs": [
    {
     "data": {
      "text/html": [
       "<div>\n",
       "<style scoped>\n",
       "    .dataframe tbody tr th:only-of-type {\n",
       "        vertical-align: middle;\n",
       "    }\n",
       "\n",
       "    .dataframe tbody tr th {\n",
       "        vertical-align: top;\n",
       "    }\n",
       "\n",
       "    .dataframe thead th {\n",
       "        text-align: right;\n",
       "    }\n",
       "</style>\n",
       "<table border=\"1\" class=\"dataframe\">\n",
       "  <thead>\n",
       "    <tr style=\"text-align: right;\">\n",
       "      <th></th>\n",
       "      <th>Date_origin</th>\n",
       "      <th>FEDFUNDS</th>\n",
       "    </tr>\n",
       "  </thead>\n",
       "  <tbody>\n",
       "    <tr>\n",
       "      <th>0</th>\n",
       "      <td>20140102</td>\n",
       "      <td>0.07</td>\n",
       "    </tr>\n",
       "    <tr>\n",
       "      <th>1</th>\n",
       "      <td>20140103</td>\n",
       "      <td>0.07</td>\n",
       "    </tr>\n",
       "    <tr>\n",
       "      <th>2</th>\n",
       "      <td>20140106</td>\n",
       "      <td>0.07</td>\n",
       "    </tr>\n",
       "    <tr>\n",
       "      <th>3</th>\n",
       "      <td>20140107</td>\n",
       "      <td>0.07</td>\n",
       "    </tr>\n",
       "    <tr>\n",
       "      <th>4</th>\n",
       "      <td>20140108</td>\n",
       "      <td>0.07</td>\n",
       "    </tr>\n",
       "  </tbody>\n",
       "</table>\n",
       "</div>"
      ],
      "text/plain": [
       "   Date_origin  FEDFUNDS\n",
       "0     20140102      0.07\n",
       "1     20140103      0.07\n",
       "2     20140106      0.07\n",
       "3     20140107      0.07\n",
       "4     20140108      0.07"
      ]
     },
     "execution_count": 284,
     "metadata": {},
     "output_type": "execute_result"
    }
   ],
   "source": [
    "features.head()"
   ]
  },
  {
   "cell_type": "code",
   "execution_count": 285,
   "metadata": {},
   "outputs": [
    {
     "name": "stdout",
     "output_type": "stream",
     "text": [
      "2197.6\n",
      "1758.08\n"
     ]
    }
   ],
   "source": [
    "print(len(df) * 0.8)\n",
    "print(len(df) * 0.8 * 0.8)"
   ]
  },
  {
   "cell_type": "code",
   "execution_count": 286,
   "metadata": {},
   "outputs": [],
   "source": [
    "days = 30   # 얼마만큼을 하나의 묶음으로 볼건지\n",
    "stride = 1  # 1-1, 2-1의 데이터의 차이 데이터 묶음간 얼마나 차이가 나게 할지\n",
    "delay = 33 # 타겟값을 몇일 뒤로 할지"
   ]
  },
  {
   "cell_type": "code",
   "execution_count": 287,
   "metadata": {},
   "outputs": [],
   "source": [
    "# 데이터 셋 만들기 2\n",
    "\n",
    "datasets = []\n",
    "for sidx, eidx in zip([0, 1800, 2200], [1800, 2200, None]):\n",
    "  dataset = tf_keras.utils.timeseries_dataset_from_array(\n",
    "    data=features[:-delay], # 전체 기간 중에서 마지막 11일치의 데이터는 제외\n",
    "    targets=targets[delay:],\n",
    "    sequence_length= days,\n",
    "    sampling_rate=stride,\n",
    "    start_index=sidx,\n",
    "    end_index=eidx,\n",
    "    batch_size=16,\n",
    "    shuffle=False)\n",
    "  datasets.append(dataset)"
   ]
  },
  {
   "cell_type": "code",
   "execution_count": 288,
   "metadata": {},
   "outputs": [],
   "source": [
    "from sklearn.preprocessing import MinMaxScaler\n",
    "\n",
    "scaler = MinMaxScaler()\n",
    "\n",
    "#크게 영향은 없을거 같아서 포기"
   ]
  },
  {
   "cell_type": "code",
   "execution_count": 289,
   "metadata": {},
   "outputs": [
    {
     "name": "stdout",
     "output_type": "stream",
     "text": [
      "--- Dataset 1 ---\n",
      "Features (X): tf.Tensor(\n",
      "[[2.0140102e+07 7.0000000e-02]\n",
      " [2.0140103e+07 7.0000000e-02]\n",
      " [2.0140106e+07 7.0000000e-02]\n",
      " [2.0140107e+07 7.0000000e-02]\n",
      " [2.0140108e+07 7.0000000e-02]\n",
      " [2.0140109e+07 7.0000000e-02]\n",
      " [2.0140110e+07 7.0000000e-02]\n",
      " [2.0140113e+07 7.0000000e-02]\n",
      " [2.0140114e+07 7.0000000e-02]\n",
      " [2.0140115e+07 7.0000000e-02]\n",
      " [2.0140116e+07 7.0000000e-02]\n",
      " [2.0140117e+07 7.0000000e-02]\n",
      " [2.0140121e+07 7.0000000e-02]\n",
      " [2.0140122e+07 7.0000000e-02]\n",
      " [2.0140123e+07 7.0000000e-02]\n",
      " [2.0140124e+07 7.0000000e-02]\n",
      " [2.0140127e+07 7.0000000e-02]\n",
      " [2.0140128e+07 7.0000000e-02]\n",
      " [2.0140129e+07 7.0000000e-02]\n",
      " [2.0140130e+07 7.0000000e-02]\n",
      " [2.0140131e+07 7.0000000e-02]\n",
      " [2.0140203e+07 7.0000000e-02]\n",
      " [2.0140204e+07 7.0000000e-02]\n",
      " [2.0140205e+07 7.0000000e-02]\n",
      " [2.0140206e+07 7.0000000e-02]\n",
      " [2.0140207e+07 7.0000000e-02]\n",
      " [2.0140210e+07 7.0000000e-02]\n",
      " [2.0140211e+07 7.0000000e-02]\n",
      " [2.0140212e+07 7.0000000e-02]\n",
      " [2.0140213e+07 7.0000000e-02]], shape=(30, 2), dtype=float64)\n",
      "Targets (Y): tf.Tensor(14.333999633789062, shape=(), dtype=float64)\n",
      "--- Dataset 2 ---\n",
      "Features (X): tf.Tensor(\n",
      "[[2.0210226e+07 8.0000000e-02]\n",
      " [2.0210301e+07 7.0000000e-02]\n",
      " [2.0210302e+07 7.0000000e-02]\n",
      " [2.0210303e+07 7.0000000e-02]\n",
      " [2.0210304e+07 7.0000000e-02]\n",
      " [2.0210305e+07 7.0000000e-02]\n",
      " [2.0210308e+07 7.0000000e-02]\n",
      " [2.0210309e+07 7.0000000e-02]\n",
      " [2.0210310e+07 7.0000000e-02]\n",
      " [2.0210311e+07 7.0000000e-02]\n",
      " [2.0210312e+07 7.0000000e-02]\n",
      " [2.0210315e+07 7.0000000e-02]\n",
      " [2.0210316e+07 7.0000000e-02]\n",
      " [2.0210317e+07 7.0000000e-02]\n",
      " [2.0210318e+07 7.0000000e-02]\n",
      " [2.0210319e+07 7.0000000e-02]\n",
      " [2.0210322e+07 7.0000000e-02]\n",
      " [2.0210323e+07 7.0000000e-02]\n",
      " [2.0210324e+07 7.0000000e-02]\n",
      " [2.0210325e+07 7.0000000e-02]\n",
      " [2.0210326e+07 7.0000000e-02]\n",
      " [2.0210329e+07 7.0000000e-02]\n",
      " [2.0210330e+07 7.0000000e-02]\n",
      " [2.0210331e+07 7.0000000e-02]\n",
      " [2.0210401e+07 7.0000000e-02]\n",
      " [2.0210405e+07 7.0000000e-02]\n",
      " [2.0210406e+07 7.0000000e-02]\n",
      " [2.0210407e+07 7.0000000e-02]\n",
      " [2.0210408e+07 7.0000000e-02]\n",
      " [2.0210409e+07 7.0000000e-02]], shape=(30, 2), dtype=float64)\n",
      "Targets (Y): tf.Tensor(247.6999969482422, shape=(), dtype=float64)\n",
      "--- Dataset 3 ---\n",
      "Features (X): tf.Tensor(\n",
      "[[2.0220928e+07 2.5600000e+00]\n",
      " [2.0220929e+07 2.5600000e+00]\n",
      " [2.0220930e+07 2.5600000e+00]\n",
      " [2.0221003e+07 3.0800000e+00]\n",
      " [2.0221004e+07 3.0800000e+00]\n",
      " [2.0221005e+07 3.0800000e+00]\n",
      " [2.0221006e+07 3.0800000e+00]\n",
      " [2.0221007e+07 3.0800000e+00]\n",
      " [2.0221010e+07 3.0800000e+00]\n",
      " [2.0221011e+07 3.0800000e+00]\n",
      " [2.0221012e+07 3.0800000e+00]\n",
      " [2.0221013e+07 3.0800000e+00]\n",
      " [2.0221014e+07 3.0800000e+00]\n",
      " [2.0221017e+07 3.0800000e+00]\n",
      " [2.0221018e+07 3.0800000e+00]\n",
      " [2.0221019e+07 3.0800000e+00]\n",
      " [2.0221020e+07 3.0800000e+00]\n",
      " [2.0221021e+07 3.0800000e+00]\n",
      " [2.0221024e+07 3.0800000e+00]\n",
      " [2.0221025e+07 3.0800000e+00]\n",
      " [2.0221026e+07 3.0800000e+00]\n",
      " [2.0221027e+07 3.0800000e+00]\n",
      " [2.0221028e+07 3.0800000e+00]\n",
      " [2.0221031e+07 3.0800000e+00]\n",
      " [2.0221101e+07 3.7800000e+00]\n",
      " [2.0221102e+07 3.7800000e+00]\n",
      " [2.0221103e+07 3.7800000e+00]\n",
      " [2.0221104e+07 3.7800000e+00]\n",
      " [2.0221107e+07 3.7800000e+00]\n",
      " [2.0221108e+07 3.7800000e+00]], shape=(30, 2), dtype=float64)\n",
      "Targets (Y): tf.Tensor(192.77000427246094, shape=(), dtype=float64)\n"
     ]
    }
   ],
   "source": [
    "for i, dataset in enumerate(datasets):\n",
    "    print(f\"--- Dataset {i + 1} ---\")\n",
    "    for x, y in dataset:\n",
    "        print(\"Features (X):\", x[0])\n",
    "        print(\"Targets (Y):\", y[0])\n",
    "        break  # 각 데이터셋에서 첫 배치만 출력"
   ]
  },
  {
   "cell_type": "code",
   "execution_count": 290,
   "metadata": {},
   "outputs": [
    {
     "name": "stdout",
     "output_type": "stream",
     "text": [
      "(16, 30, 2) (16,)\n",
      "(16, 30, 2) (16,)\n"
     ]
    }
   ],
   "source": [
    "for X, y in datasets[0]:\n",
    "  print(X.shape, y.shape)\n",
    "  break\n",
    "\n",
    "for X, y in datasets[0]:\n",
    "  print(X.shape, y.shape)\n",
    "  break"
   ]
  },
  {
   "cell_type": "code",
   "execution_count": 291,
   "metadata": {},
   "outputs": [
    {
     "data": {
      "text/html": [
       "<div>\n",
       "<style scoped>\n",
       "    .dataframe tbody tr th:only-of-type {\n",
       "        vertical-align: middle;\n",
       "    }\n",
       "\n",
       "    .dataframe tbody tr th {\n",
       "        vertical-align: top;\n",
       "    }\n",
       "\n",
       "    .dataframe thead th {\n",
       "        text-align: right;\n",
       "    }\n",
       "</style>\n",
       "<table border=\"1\" class=\"dataframe\">\n",
       "  <thead>\n",
       "    <tr style=\"text-align: right;\">\n",
       "      <th></th>\n",
       "      <th>Date_origin</th>\n",
       "      <th>FEDFUNDS</th>\n",
       "    </tr>\n",
       "  </thead>\n",
       "  <tbody>\n",
       "    <tr>\n",
       "      <th>0</th>\n",
       "      <td>20140102</td>\n",
       "      <td>0.07</td>\n",
       "    </tr>\n",
       "    <tr>\n",
       "      <th>1</th>\n",
       "      <td>20140103</td>\n",
       "      <td>0.07</td>\n",
       "    </tr>\n",
       "    <tr>\n",
       "      <th>2</th>\n",
       "      <td>20140106</td>\n",
       "      <td>0.07</td>\n",
       "    </tr>\n",
       "    <tr>\n",
       "      <th>3</th>\n",
       "      <td>20140107</td>\n",
       "      <td>0.07</td>\n",
       "    </tr>\n",
       "    <tr>\n",
       "      <th>4</th>\n",
       "      <td>20140108</td>\n",
       "      <td>0.07</td>\n",
       "    </tr>\n",
       "    <tr>\n",
       "      <th>...</th>\n",
       "      <td>...</td>\n",
       "      <td>...</td>\n",
       "    </tr>\n",
       "    <tr>\n",
       "      <th>2742</th>\n",
       "      <td>20241122</td>\n",
       "      <td>4.64</td>\n",
       "    </tr>\n",
       "    <tr>\n",
       "      <th>2743</th>\n",
       "      <td>20241125</td>\n",
       "      <td>4.64</td>\n",
       "    </tr>\n",
       "    <tr>\n",
       "      <th>2744</th>\n",
       "      <td>20241126</td>\n",
       "      <td>4.64</td>\n",
       "    </tr>\n",
       "    <tr>\n",
       "      <th>2745</th>\n",
       "      <td>20241127</td>\n",
       "      <td>4.64</td>\n",
       "    </tr>\n",
       "    <tr>\n",
       "      <th>2746</th>\n",
       "      <td>20241129</td>\n",
       "      <td>4.64</td>\n",
       "    </tr>\n",
       "  </tbody>\n",
       "</table>\n",
       "<p>2747 rows × 2 columns</p>\n",
       "</div>"
      ],
      "text/plain": [
       "      Date_origin  FEDFUNDS\n",
       "0        20140102      0.07\n",
       "1        20140103      0.07\n",
       "2        20140106      0.07\n",
       "3        20140107      0.07\n",
       "4        20140108      0.07\n",
       "...           ...       ...\n",
       "2742     20241122      4.64\n",
       "2743     20241125      4.64\n",
       "2744     20241126      4.64\n",
       "2745     20241127      4.64\n",
       "2746     20241129      4.64\n",
       "\n",
       "[2747 rows x 2 columns]"
      ]
     },
     "execution_count": 291,
     "metadata": {},
     "output_type": "execute_result"
    }
   ],
   "source": [
    "features"
   ]
  },
  {
   "cell_type": "code",
   "execution_count": 292,
   "metadata": {},
   "outputs": [
    {
     "name": "stdout",
     "output_type": "stream",
     "text": [
      "Model: \"model_13\"\n",
      "_________________________________________________________________\n",
      " Layer (type)                Output Shape              Param #   \n",
      "=================================================================\n",
      " input_14 (InputLayer)       [(None, 30, 2)]           0         \n",
      "                                                                 \n",
      " simple_rnn_5 (SimpleRNN)    (None, 16)                304       \n",
      "                                                                 \n",
      " dense_13 (Dense)            (None, 1)                 17        \n",
      "                                                                 \n",
      "=================================================================\n",
      "Total params: 321 (1.25 KB)\n",
      "Trainable params: 321 (1.25 KB)\n",
      "Non-trainable params: 0 (0.00 Byte)\n",
      "_________________________________________________________________\n",
      "Epoch 1/10\n",
      "111/111 [==============================] - 2s 4ms/step - loss: 3595.1780 - mae: 33.4233\n",
      "Epoch 2/10\n",
      "111/111 [==============================] - 1s 5ms/step - loss: 3500.9358 - mae: 31.6382\n",
      "Epoch 3/10\n",
      "111/111 [==============================] - 1s 5ms/step - loss: 3435.1150 - mae: 30.5532\n",
      "Epoch 4/10\n",
      "111/111 [==============================] - 1s 5ms/step - loss: 3375.3274 - mae: 29.5435\n",
      "Epoch 5/10\n",
      "111/111 [==============================] - 1s 5ms/step - loss: 3319.9402 - mae: 28.5792\n",
      "Epoch 6/10\n",
      "111/111 [==============================] - 1s 5ms/step - loss: 3268.2783 - mae: 27.6504\n",
      "Epoch 7/10\n",
      "111/111 [==============================] - 1s 5ms/step - loss: 3219.9402 - mae: 26.7527\n",
      "Epoch 8/10\n",
      "111/111 [==============================] - 1s 5ms/step - loss: 3174.6389 - mae: 25.8831\n",
      "Epoch 9/10\n",
      "111/111 [==============================] - 1s 5ms/step - loss: 3132.1462 - mae: 25.0401\n",
      "Epoch 10/10\n",
      "111/111 [==============================] - 0s 4ms/step - loss: 3092.2705 - mae: 24.2236\n"
     ]
    }
   ],
   "source": [
    "# 모델 구조 설계 3 : 순환 신경망 모델\n",
    "\n",
    "input = tf_keras.layers.Input(shape=(30, 2))\n",
    "x = tf_keras.layers.SimpleRNN(units=16)(input)\n",
    "output = tf_keras.layers.Dense(units=1)(x)\n",
    "\n",
    "model3 = tf_keras.models.Model(input, output)\n",
    "\n",
    "model3.summary()\n",
    "\n",
    "model3.compile(loss=\"mse\", optimizer=\"adam\", metrics='mae')\n",
    "\n",
    "history03 = model3.fit(datasets[0], validation_batch_size=datasets[1], epochs=10)"
   ]
  },
  {
   "cell_type": "code",
   "execution_count": 293,
   "metadata": {},
   "outputs": [
    {
     "name": "stdout",
     "output_type": "stream",
     "text": [
      "Model: \"model_14\"\n",
      "_________________________________________________________________\n",
      " Layer (type)                Output Shape              Param #   \n",
      "=================================================================\n",
      " input_15 (InputLayer)       [(None, 30, 2)]           0         \n",
      "                                                                 \n",
      " lstm_8 (LSTM)               (None, 16)                1216      \n",
      "                                                                 \n",
      " dense_14 (Dense)            (None, 1)                 17        \n",
      "                                                                 \n",
      "=================================================================\n",
      "Total params: 1233 (4.82 KB)\n",
      "Trainable params: 1233 (4.82 KB)\n",
      "Non-trainable params: 0 (0.00 Byte)\n",
      "_________________________________________________________________\n",
      "Epoch 1/10\n",
      "111/111 [==============================] - 1s 5ms/step - loss: 3054.8416 - mae: 23.4354\n",
      "Epoch 2/10\n",
      "111/111 [==============================] - 1s 5ms/step - loss: 3019.7087 - mae: 22.6746\n",
      "Epoch 3/10\n",
      "111/111 [==============================] - 1s 5ms/step - loss: 2986.7329 - mae: 21.9496\n",
      "Epoch 4/10\n",
      "111/111 [==============================] - 1s 5ms/step - loss: 2955.7856 - mae: 21.2989\n",
      "Epoch 5/10\n",
      "111/111 [==============================] - 1s 5ms/step - loss: 2926.7490 - mae: 20.7516\n",
      "Epoch 6/10\n",
      "111/111 [==============================] - 0s 4ms/step - loss: 2899.5112 - mae: 20.3196\n",
      "Epoch 7/10\n",
      "111/111 [==============================] - 0s 4ms/step - loss: 2873.9680 - mae: 20.0078\n",
      "Epoch 8/10\n",
      "111/111 [==============================] - 0s 4ms/step - loss: 2850.0217 - mae: 19.7949\n",
      "Epoch 9/10\n",
      "111/111 [==============================] - 1s 5ms/step - loss: 2827.5796 - mae: 19.6579\n",
      "Epoch 10/10\n",
      "111/111 [==============================] - 1s 5ms/step - loss: 2806.5544 - mae: 19.5988\n"
     ]
    }
   ],
   "source": [
    "# 모델 구조 설계 4 : LSTM\n",
    "\n",
    "input = tf_keras.layers.Input(shape=(30, 2))\n",
    "x = tf_keras.layers.LSTM(units=16)(input)\n",
    "output = tf_keras.layers.Dense(units=1)(x)\n",
    "\n",
    "model4 = tf_keras.models.Model(input, output)\n",
    "\n",
    "model4.summary()\n",
    "\n",
    "model4.compile(loss=\"mse\", optimizer=\"adam\", metrics='mae')\n",
    "\n",
    "history04 = model3.fit(datasets[0], validation_batch_size=datasets[1], epochs=10)"
   ]
  }
 ],
 "metadata": {
  "kernelspec": {
   "display_name": "oos-dl-env2",
   "language": "python",
   "name": "python3"
  },
  "language_info": {
   "codemirror_mode": {
    "name": "ipython",
    "version": 3
   },
   "file_extension": ".py",
   "mimetype": "text/x-python",
   "name": "python",
   "nbconvert_exporter": "python",
   "pygments_lexer": "ipython3",
   "version": "3.9.21"
  }
 },
 "nbformat": 4,
 "nbformat_minor": 2
}
