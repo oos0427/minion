{
 "cells": [
  {
   "cell_type": "markdown",
   "metadata": {},
   "source": [
    "<h1>241216 </h1>"
   ]
  },
  {
   "cell_type": "markdown",
   "metadata": {},
   "source": [
    "*RNN(Recurrent Neural Network)**은 순환 신경망으로,<br> 시계열 데이터나 순차적 데이터 처리를 위해 설계된 딥러닝 모델 \n"
   ]
  },
  {
   "cell_type": "markdown",
   "metadata": {},
   "source": [
    "**LSTM(Long Short-Term Memory)**은 **순환 신경망(RNN, Recurrent Neural Network)**의 일종으로,<br>\n",
    " 시간 순서가 중요한 데이터를 처리하는 데 효과적인 딥러닝 모델입니다. 특히, 장기 의존성(Long-term Dependency) 문제를 해결하기 위해 설계<br>\n",
    " <br>\n",
    "LSTM의 장점<br>\n",
    "장기 의존성 처리:<br>\n",
    "긴 시퀀스 데이터를 처리하면서도 중요한 정보를 잃지 않음.<br>\n",
    "다양한 입력 데이터 처리:<br>\n",
    "시계열 데이터(주식 가격, 날씨 등), 자연어 처리(NLP), 음성 데이터 등.<br>\n",
    "기울기 소실 문제 해결:<br>\n",
    "RNN의 단점을 개선하여 더 깊은 구조에서도 학습 가능.\n"
   ]
  },
  {
   "cell_type": "markdown",
   "metadata": {},
   "source": [
    "**GRU (Gated Recurrent Unit)**는 **LSTM (Long Short-Term Memory)**의 변형으로,\n",
    "순환 신경망(RNN)의 일종입니다. GRU는 LSTM과 동일한 목표를 가집니다(장기 의존성 문제 해결) 하지만 구조가 더 간단하며, 계산 효율성이 높습니다."
   ]
  },
  {
   "cell_type": "markdown",
   "metadata": {},
   "source": [
    "<h1>241217</h1>"
   ]
  },
  {
   "cell_type": "markdown",
   "metadata": {},
   "source": [
    "단어사전 - text_vectorizer<br>\n",
    "bow -> 항상 단어사전의 크기만큼 결과가 나옴 (순서 X)<br>\n",
    "ex) a b a c d -> 2 1 1 1 0 0 (단어사전 a b c d e f)<br><br>\n",
    "text_vectorizer -> 문장의 결과가 순서대로 나머지는 0 (단 output_sequence_length 범위내에서)<br>\n",
    "ex) a b a c d -> 1 2 1 3 4 0 0 0 0 0 (단어사전 a b c d e f, output_sequence_length = 10)"
   ]
  },
  {
   "cell_type": "markdown",
   "metadata": {},
   "source": [
    "<h1>241218</h1>"
   ]
  },
  {
   "cell_type": "markdown",
   "metadata": {},
   "source": [
    "오토인코더 압축 후 다시 재생성해서 자기 자신과 비교를 통해 학습"
   ]
  },
  {
   "cell_type": "markdown",
   "metadata": {},
   "source": [
    "- 변이형 오토 인코더 -> 생성의 의미를 가짐<br>\n",
    "- 훈련 세트에서 샘플링 된 것 같은 새로운 샘플 생성"
   ]
  },
  {
   "cell_type": "markdown",
   "metadata": {},
   "source": [
    "- GAN : 생성기 이미지 (가짜 + 진짜) -> 판별기(분류모델) -> 생성기 -> 판별기 서로 학습시키는 주고 서로 정확도와 손실이 반비례하게 됨"
   ]
  },
  {
   "cell_type": "markdown",
   "metadata": {},
   "source": []
  }
 ],
 "metadata": {
  "kernelspec": {
   "display_name": "oos-dl-env",
   "language": "python",
   "name": "python3"
  },
  "language_info": {
   "codemirror_mode": {
    "name": "ipython",
    "version": 3
   },
   "file_extension": ".py",
   "mimetype": "text/x-python",
   "name": "python",
   "nbconvert_exporter": "python",
   "pygments_lexer": "ipython3",
   "version": "3.9.20"
  }
 },
 "nbformat": 4,
 "nbformat_minor": 2
}
