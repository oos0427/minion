{
 "cells": [
  {
   "cell_type": "code",
   "execution_count": 5,
   "metadata": {},
   "outputs": [],
   "source": [
    "import pandas as pd\n",
    "import numpy as np\n",
    "import matplotlib.pyplot as plt\n",
    "from sklearn.datasets import load_wine\n",
    "import import_ipynb\n",
    "import model"
   ]
  },
  {
   "cell_type": "code",
   "execution_count": 7,
   "metadata": {},
   "outputs": [],
   "source": [
    "df = load_wine()"
   ]
  },
  {
   "cell_type": "code",
   "execution_count": 12,
   "metadata": {},
   "outputs": [],
   "source": [
    "x = df['data']\n",
    "y = df['target']\n",
    "y2 = np.where(y == 0, 1, -1)"
   ]
  },
  {
   "cell_type": "code",
   "execution_count": 13,
   "metadata": {},
   "outputs": [
    {
     "data": {
      "text/plain": [
       "array([ 1,  1,  1,  1,  1,  1,  1,  1,  1,  1,  1,  1,  1,  1,  1,  1,  1,\n",
       "        1,  1,  1,  1,  1,  1,  1,  1,  1,  1,  1,  1,  1,  1,  1,  1,  1,\n",
       "        1,  1,  1,  1,  1,  1,  1,  1,  1,  1,  1,  1,  1,  1,  1,  1,  1,\n",
       "        1,  1,  1,  1,  1,  1,  1,  1, -1, -1, -1, -1, -1, -1, -1, -1, -1,\n",
       "       -1, -1, -1, -1, -1, -1, -1, -1, -1, -1, -1, -1, -1, -1, -1, -1, -1,\n",
       "       -1, -1, -1, -1, -1, -1, -1, -1, -1, -1, -1, -1, -1, -1, -1, -1, -1,\n",
       "       -1, -1, -1, -1, -1, -1, -1, -1, -1, -1, -1, -1, -1, -1, -1, -1, -1,\n",
       "       -1, -1, -1, -1, -1, -1, -1, -1, -1, -1, -1, -1, -1, -1, -1, -1, -1,\n",
       "       -1, -1, -1, -1, -1, -1, -1, -1, -1, -1, -1, -1, -1, -1, -1, -1, -1,\n",
       "       -1, -1, -1, -1, -1, -1, -1, -1, -1, -1, -1, -1, -1, -1, -1, -1, -1,\n",
       "       -1, -1, -1, -1, -1, -1, -1, -1])"
      ]
     },
     "execution_count": 13,
     "metadata": {},
     "output_type": "execute_result"
    }
   ],
   "source": [
    "y2"
   ]
  },
  {
   "cell_type": "code",
   "execution_count": 11,
   "metadata": {},
   "outputs": [
    {
     "name": "stdout",
     "output_type": "stream",
     "text": [
      "Class -1: 119\n",
      "Class 1: 59\n"
     ]
    }
   ],
   "source": [
    "values, counts = np.unique(y, return_counts= True)\n",
    "for value, count in zip(values, counts):\n",
    "    print(f\"Class {value}: {count}\")"
   ]
  },
  {
   "cell_type": "code",
   "execution_count": 15,
   "metadata": {},
   "outputs": [],
   "source": [
    "rw, re = model.fit(x, y2, eta = 0.1, n_iter = 30)"
   ]
  },
  {
   "cell_type": "code",
   "execution_count": 16,
   "metadata": {},
   "outputs": [
    {
     "data": {
      "text/plain": [
       "(array([  -4.8   ,  -48.016 ,   -0.762 ,   -4.51  ,  -47.68  , -251.2   ,\n",
       "          -4.73  ,    9.722 ,   -2.972 ,    9.042 ,    6.488 ,   -5.9912,\n",
       "           4.554 ,  -32.    ]),\n",
       " array([3., 3., 3., 3., 2., 3., 3., 3., 3., 2., 3., 3., 3., 3., 2., 3., 3.,\n",
       "        3., 3., 2., 3., 3., 3., 3., 2., 3., 3., 3., 3., 2.]))"
      ]
     },
     "execution_count": 16,
     "metadata": {},
     "output_type": "execute_result"
    }
   ],
   "source": [
    "rw, re"
   ]
  },
  {
   "cell_type": "code",
   "execution_count": 18,
   "metadata": {},
   "outputs": [
    {
     "name": "stdout",
     "output_type": "stream",
     "text": [
      "Accuracy : 0.33146067415730335\n"
     ]
    }
   ],
   "source": [
    "error_cnt = 0\n",
    "for xv, t in zip(x,y2):\n",
    "    pv = model.predict(xv, rw)\n",
    "    error_cnt += (pv != t)\n",
    "print(\"Accuracy : {0}\".format(error_cnt / len(y2)))"
   ]
  },
  {
   "cell_type": "code",
   "execution_count": 35,
   "metadata": {},
   "outputs": [
    {
     "data": {
      "text/plain": [
       "(178, 13)"
      ]
     },
     "execution_count": 35,
     "metadata": {},
     "output_type": "execute_result"
    }
   ],
   "source": [
    "x.shape"
   ]
  },
  {
   "cell_type": "code",
   "execution_count": 19,
   "metadata": {},
   "outputs": [
    {
     "data": {
      "text/plain": [
       "array([1.483e+01, 5.800e+00, 3.230e+00, 3.000e+01, 1.620e+02, 3.880e+00,\n",
       "       5.080e+00, 6.600e-01, 3.580e+00, 1.300e+01, 1.710e+00, 4.000e+00,\n",
       "       1.680e+03])"
      ]
     },
     "execution_count": 19,
     "metadata": {},
     "output_type": "execute_result"
    }
   ],
   "source": [
    "x.max(axis=0)"
   ]
  },
  {
   "cell_type": "code",
   "execution_count": 20,
   "metadata": {},
   "outputs": [
    {
     "data": {
      "text/plain": [
       "array([1065., 1050., 1185., 1480.,  735., 1450., 1290., 1295., 1045.,\n",
       "       1045., 1510., 1280., 1320., 1150., 1547., 1310., 1280., 1130.,\n",
       "       1680.,  845.,  780.,  770., 1035., 1015.,  845.,  830., 1195.,\n",
       "       1285.,  915., 1035., 1285., 1515.,  990., 1235., 1095.,  920.,\n",
       "        880., 1105., 1020.,  760.,  795., 1035., 1095.,  680.,  885.,\n",
       "       1080., 1065.,  985., 1060., 1260., 1150., 1265., 1190., 1375.,\n",
       "       1060., 1120.,  970., 1270., 1285.,  520.,  680.,  450.,  630.,\n",
       "        420.,  355.,  678.,  502.,  510.,  750.,  718.,  870.,  410.,\n",
       "        472.,  985.,  886.,  428.,  392.,  500.,  750.,  463.,  278.,\n",
       "        714.,  630.,  515.,  520.,  450.,  495.,  562.,  680.,  625.,\n",
       "        480.,  450.,  495.,  290.,  345.,  937.,  625.,  428.,  660.,\n",
       "        406.,  710.,  562.,  438.,  415.,  672.,  315.,  510.,  488.,\n",
       "        312.,  680.,  562.,  325.,  607.,  434.,  385.,  407.,  495.,\n",
       "        345.,  372.,  564.,  625.,  465.,  365.,  380.,  380.,  378.,\n",
       "        352.,  466.,  342.,  580.,  630.,  530.,  560.,  600.,  650.,\n",
       "        695.,  720.,  515.,  580.,  590.,  600.,  780.,  520.,  550.,\n",
       "        855.,  830.,  415.,  625.,  650.,  550.,  500.,  480.,  425.,\n",
       "        675.,  640.,  725.,  480.,  880.,  660.,  620.,  520.,  680.,\n",
       "        570.,  675.,  615.,  520.,  695.,  685.,  750.,  630.,  510.,\n",
       "        470.,  660.,  740.,  750.,  835.,  840.,  560.])"
      ]
     },
     "execution_count": 20,
     "metadata": {},
     "output_type": "execute_result"
    }
   ],
   "source": [
    "x.max(axis=1)"
   ]
  },
  {
   "cell_type": "code",
   "execution_count": 25,
   "metadata": {},
   "outputs": [],
   "source": [
    "from sklearn.preprocessing import MinMaxScaler"
   ]
  },
  {
   "cell_type": "code",
   "execution_count": 26,
   "metadata": {},
   "outputs": [],
   "source": [
    "x2 = MinMaxScaler().fit_transform(x)"
   ]
  },
  {
   "cell_type": "code",
   "execution_count": 30,
   "metadata": {},
   "outputs": [],
   "source": [
    "rw, re = model.fit(x2, y2, eta = 0.1, n_iter = 100)"
   ]
  },
  {
   "cell_type": "code",
   "execution_count": 33,
   "metadata": {},
   "outputs": [
    {
     "name": "stdout",
     "output_type": "stream",
     "text": [
      "Accuracy : 1.0\n"
     ]
    }
   ],
   "source": [
    "error_cnt = 0\n",
    "for xv, t in zip(x2,y2):\n",
    "    pv = model.predict(xv, rw)\n",
    "    error_cnt += (pv != t)\n",
    "print(\"Accuracy : {0}\".format(1- error_cnt / len(y2)))"
   ]
  }
 ],
 "metadata": {
  "kernelspec": {
   "display_name": "human-da-env",
   "language": "python",
   "name": "python3"
  },
  "language_info": {
   "codemirror_mode": {
    "name": "ipython",
    "version": 3
   },
   "file_extension": ".py",
   "mimetype": "text/x-python",
   "name": "python",
   "nbconvert_exporter": "python",
   "pygments_lexer": "ipython3",
   "version": "3.12.7"
  }
 },
 "nbformat": 4,
 "nbformat_minor": 2
}
