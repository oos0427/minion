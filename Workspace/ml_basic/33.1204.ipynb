{
 "cells": [
  {
   "cell_type": "code",
   "execution_count": 6,
   "metadata": {},
   "outputs": [],
   "source": [
    "from sklearn.datasets import load_breast_cancer\n",
    "from sklearn.model_selection import train_test_split\n",
    "from sklearn.linear_model import LogisticRegression\n",
    "from sklearn.metrics import accuracy_score, classification_report\n",
    "import numpy as np"
   ]
  },
  {
   "cell_type": "code",
   "execution_count": null,
   "metadata": {},
   "outputs": [
    {
     "name": "stdout",
     "output_type": "stream",
     "text": [
      "원본 데이터 크기: (569, 30)\n",
      "노이즈 추가된 데이터 크기: (569, 80)\n"
     ]
    }
   ],
   "source": [
    "# 데이터 로드\n",
    "cancer_data = load_breast_cancer()\n",
    "\n",
    "# 노이즈 생성\n",
    "noise = np.random.RandomState(42).normal(size=(len(cancer_data.data), 50))\n",
    "\n",
    "# 기존 데이터에 노이즈 추가\n",
    "X_with_noise = np.hstack([cancer_data.data, noise])\n",
    "\n",
    "print(\"원본 데이터 크기:\", cancer_data.data.shape)\n",
    "print(\"노이즈 추가된 데이터 크기:\", X_with_noise.shape)\n"
   ]
  },
  {
   "cell_type": "code",
   "execution_count": 10,
   "metadata": {},
   "outputs": [],
   "source": [
    "# 데이터 분리 (Train-Test Split)\n",
    "X_train, X_test, y_train, y_test = train_test_split(X_with_noise, cancer_data.target, test_size=0.2, random_state=42)\n",
    "\n",
    "# 로지스틱 회귀 모델 생성 및 학습\n",
    "log_reg_model = LogisticRegression(max_iter=10000, random_state=42)  # max_iter 증가: 수렴 보장\n",
    "log_reg_model.fit(X_train, y_train)\n",
    "\n",
    "train_score = log_reg_model.score(X_train, y_train)  # 학습 데이터 정확도\n",
    "test_score = log_reg_model.score(X_test, y_test) "
   ]
  },
  {
   "cell_type": "code",
   "execution_count": 11,
   "metadata": {},
   "outputs": [
    {
     "name": "stdout",
     "output_type": "stream",
     "text": [
      "0.9956043956043956 0.956140350877193\n"
     ]
    }
   ],
   "source": [
    "print(train_score, test_score)"
   ]
  },
  {
   "cell_type": "code",
   "execution_count": 13,
   "metadata": {},
   "outputs": [
    {
     "data": {
      "text/plain": [
       "(569, 32)"
      ]
     },
     "execution_count": 13,
     "metadata": {},
     "output_type": "execute_result"
    }
   ],
   "source": [
    "from sklearn.feature_selection import SelectPercentile, f_classif\n",
    "\n",
    "select_feature = SelectPercentile( score_func = f_classif, percentile = 40 )\n",
    "x_selected = select_feature.fit_transform(X_with_noise, cancer_data.target)\n",
    "\n",
    "x_selected.shape"
   ]
  },
  {
   "cell_type": "code",
   "execution_count": null,
   "metadata": {},
   "outputs": [],
   "source": [
    "x_train3, x_test3, y_train3, y_test3 = train_test_split(x_selected, cancer_data.target, test_size=0.2, random_state=42, stratify=cancer_data.target)\n",
    "\n",
    "logreg3 = LogisticRegression"
   ]
  }
 ],
 "metadata": {
  "kernelspec": {
   "display_name": "human-da-env",
   "language": "python",
   "name": "python3"
  },
  "language_info": {
   "codemirror_mode": {
    "name": "ipython",
    "version": 3
   },
   "file_extension": ".py",
   "mimetype": "text/x-python",
   "name": "python",
   "nbconvert_exporter": "python",
   "pygments_lexer": "ipython3",
   "version": "3.12.7"
  }
 },
 "nbformat": 4,
 "nbformat_minor": 2
}
