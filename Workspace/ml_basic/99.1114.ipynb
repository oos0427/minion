{
 "cells": [
  {
   "cell_type": "code",
   "execution_count": 2,
   "metadata": {},
   "outputs": [],
   "source": [
    "import pandas as pd\n",
    "import numpy as np\n",
    "import matplotlib.pyplot as plt\n",
    "from sklearn.model_selection import train_test_split\n",
    "from sklearn.metrics import mean_absolute_error, root_mean_squared_error"
   ]
  },
  {
   "cell_type": "code",
   "execution_count": 4,
   "metadata": {},
   "outputs": [],
   "source": [
    "from sklearn.datasets import load_breast_cancer"
   ]
  },
  {
   "cell_type": "code",
   "execution_count": 5,
   "metadata": {},
   "outputs": [],
   "source": [
    "df = load_breast_cancer()"
   ]
  },
  {
   "cell_type": "code",
   "execution_count": 16,
   "metadata": {},
   "outputs": [],
   "source": [
    "def split_data(df, f, t, test_size=0.3, random_state=None, s='y'):\n",
    "    \"\"\"\n",
    "    Splits the data into training and testing sets.\n",
    "    \n",
    "    Parameters:\n",
    "        df : 불러온데이터를 저장한 변수 입력. \n",
    "        f (str): 분석에 사용할 특징 입력 df[f]에 들어감.\n",
    "        t (str): 타겟 데이터 선택\n",
    "        test_size (float, optional): 분할할사이즈 기본값 0.3\n",
    "        random_state (int, optional): 랜덤스테이트 기본값 None\n",
    "        \n",
    "    Returns:\n",
    "        x_train, x_test, y_train, y_test (tuple): Split datasets.\n",
    "    \"\"\"\n",
    "    x = df[f]\n",
    "    y = df[t]\n",
    "    \n",
    "    x_train, x_test, y_train, y_test = train_test_split(x, y, test_size=test_size, random_state=random_state, stratify=s)\n",
    "    \n",
    "    return x_train, x_test, y_train, y_test"
   ]
  },
  {
   "cell_type": "code",
   "execution_count": 14,
   "metadata": {},
   "outputs": [],
   "source": [
    "x_train, x_test, y_train, y_test = split_data(df, 'data', 'target', random_state= 777)"
   ]
  },
  {
   "cell_type": "code",
   "execution_count": 10,
   "metadata": {},
   "outputs": [
    {
     "data": {
      "text/plain": [
       "array([[2.058e+01, 2.214e+01, 1.347e+02, ..., 1.920e-01, 2.909e-01,\n",
       "        5.865e-02],\n",
       "       [1.008e+01, 1.511e+01, 6.376e+01, ..., 1.042e-02, 2.933e-01,\n",
       "        7.697e-02],\n",
       "       [1.171e+01, 1.667e+01, 7.472e+01, ..., 6.968e-02, 1.712e-01,\n",
       "        7.343e-02],\n",
       "       ...,\n",
       "       [8.950e+00, 1.576e+01, 5.874e+01, ..., 3.846e-02, 1.652e-01,\n",
       "        7.722e-02],\n",
       "       [8.888e+00, 1.464e+01, 5.879e+01, ..., 4.786e-02, 2.254e-01,\n",
       "        1.084e-01],\n",
       "       [9.876e+00, 1.940e+01, 6.395e+01, ..., 9.749e-02, 2.622e-01,\n",
       "        8.490e-02]])"
      ]
     },
     "execution_count": 10,
     "metadata": {},
     "output_type": "execute_result"
    }
   ],
   "source": [
    "x_train"
   ]
  },
  {
   "cell_type": "code",
   "execution_count": null,
   "metadata": {},
   "outputs": [],
   "source": []
  }
 ],
 "metadata": {
  "kernelspec": {
   "display_name": "human-da-env",
   "language": "python",
   "name": "python3"
  },
  "language_info": {
   "codemirror_mode": {
    "name": "ipython",
    "version": 3
   },
   "file_extension": ".py",
   "mimetype": "text/x-python",
   "name": "python",
   "nbconvert_exporter": "python",
   "pygments_lexer": "ipython3",
   "version": "3.12.7"
  }
 },
 "nbformat": 4,
 "nbformat_minor": 2
}
