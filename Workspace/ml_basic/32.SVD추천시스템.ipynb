{
 "cells": [
  {
   "cell_type": "code",
   "execution_count": 53,
   "metadata": {},
   "outputs": [],
   "source": [
    "import numpy as np\n",
    "import pandas as pd\n",
    "import matplotlib.pyplot as plt\n",
    "import seaborn as sns"
   ]
  },
  {
   "cell_type": "code",
   "execution_count": 54,
   "metadata": {},
   "outputs": [],
   "source": [
    "# 데이터 준비\n",
    "from surprise import Reader, Dataset # 데이터를 읽을 때 읽는 방법을 설정하는 클래스\n",
    "\n",
    "\n",
    "#데이터불러오기 및 조건 설정\n",
    "path = 'data/hide_data/data-files/ml-latest-small/ratings.csv'\n",
    "path2 = 'data/hide_data/data-files/ml-latest-small/movies.csv'\n",
    "\n",
    "movies_small = pd.read_csv(path2)\n",
    "ratings_small = pd.read_csv(path)\n",
    "data = Dataset.load_from_df(ratings_small[['userId', 'movieId', 'rating']],\n",
    "                             Reader(rating_scale=(0.5, 5)))"
   ]
  },
  {
   "cell_type": "code",
   "execution_count": 55,
   "metadata": {},
   "outputs": [
    {
     "data": {
      "text/plain": [
       "(100836, (1, 1, 4.0))"
      ]
     },
     "execution_count": 55,
     "metadata": {},
     "output_type": "execute_result"
    }
   ],
   "source": [
    "# 훈련 / 테스트 데이터 준비\n",
    "trainset = data.build_full_trainset()\n",
    "testset = trainset.build_testset()\n",
    "len(testset), testset[0]"
   ]
  },
  {
   "cell_type": "code",
   "execution_count": 56,
   "metadata": {},
   "outputs": [
    {
     "data": {
      "text/plain": [
       "<surprise.prediction_algorithms.matrix_factorization.SVD at 0x18f6fe7acf0>"
      ]
     },
     "execution_count": 56,
     "metadata": {},
     "output_type": "execute_result"
    }
   ],
   "source": [
    "# 모델 훈련 (학습)\n",
    "\n",
    "from surprise import SVD\n",
    "\n",
    "svd = SVD(n_factors=100, n_epochs=20, random_state= 777)\n",
    "\n",
    "svd.fit(trainset)"
   ]
  },
  {
   "cell_type": "code",
   "execution_count": 57,
   "metadata": {},
   "outputs": [
    {
     "name": "stdout",
     "output_type": "stream",
     "text": [
      "(21, 4)\n"
     ]
    }
   ],
   "source": [
    "print(ratings_small[ratings_small['userId'] == 26].shape)"
   ]
  },
  {
   "cell_type": "code",
   "execution_count": 58,
   "metadata": {},
   "outputs": [
    {
     "data": {
      "text/plain": [
       "movieId\n",
       "356       328\n",
       "318       317\n",
       "296       306\n",
       "593       278\n",
       "2571      278\n",
       "         ... \n",
       "86279       1\n",
       "86922       1\n",
       "5962        1\n",
       "87660       1\n",
       "163981      1\n",
       "Name: count, Length: 9724, dtype: int64"
      ]
     },
     "execution_count": 58,
     "metadata": {},
     "output_type": "execute_result"
    }
   ],
   "source": [
    "uid_mask = ratings_small['userId']  == 26\n",
    "ratings_small[ uid_mask ][ [\"userId\",\"movieId\"] ] # 26번 사용자가 평점을 부여한 영화 조회\n",
    "\n",
    "t = ratings_small[ ~uid_mask ][ [\"userId\",\"movieId\"] ]\n",
    "t['movieId'].value_counts()\n"
   ]
  },
  {
   "cell_type": "code",
   "execution_count": 59,
   "metadata": {},
   "outputs": [],
   "source": [
    "def select_unrated_movies(ratings, user_id):\n",
    "    all_movie_id = ratings['movieId'].unique() #모든 영화 Id\n",
    "    uid_mask = ratings_small['userId'] == 26\n",
    "    rated_movie_ids = ratings[uid_mask]['movieId'].values # 평가한 영화\n",
    "    unrated_movies = [mid for mid in all_movie_id  if mid not in rated_movie_ids] \n",
    "    return unrated_movies"
   ]
  },
  {
   "cell_type": "code",
   "execution_count": 60,
   "metadata": {},
   "outputs": [
    {
     "name": "stdout",
     "output_type": "stream",
     "text": [
      "[1, 3, 6, 50, 70, 101, 110, 151, 157, 163]\n",
      "   movieId             title                                       genres\n",
      "0        1  Toy Story (1995)  Adventure|Animation|Children|Comedy|Fantasy\n"
     ]
    }
   ],
   "source": [
    "print(select_unrated_movies(ratings_small, 26)[:10])\n",
    "\n",
    "print(movies_small[movies_small['movieId'] == 1])"
   ]
  },
  {
   "cell_type": "code",
   "execution_count": 61,
   "metadata": {},
   "outputs": [
    {
     "data": {
      "text/plain": [
       "[Prediction(uid=1, iid=1, r_ui=4.0, est=4.742410990471974, details={'was_impossible': False}),\n",
       " Prediction(uid=1, iid=3, r_ui=4.0, est=4.094687379991476, details={'was_impossible': False}),\n",
       " Prediction(uid=1, iid=6, r_ui=4.0, est=4.222221134819293, details={'was_impossible': False}),\n",
       " Prediction(uid=1, iid=47, r_ui=5.0, est=4.708502111345704, details={'was_impossible': False}),\n",
       " Prediction(uid=1, iid=50, r_ui=5.0, est=5, details={'was_impossible': False}),\n",
       " Prediction(uid=1, iid=70, r_ui=3.0, est=4.070344584650523, details={'was_impossible': False}),\n",
       " Prediction(uid=1, iid=101, r_ui=5.0, est=4.873275319245894, details={'was_impossible': False}),\n",
       " Prediction(uid=1, iid=110, r_ui=4.0, est=4.525297792765697, details={'was_impossible': False}),\n",
       " Prediction(uid=1, iid=151, r_ui=5.0, est=4.6498677143378995, details={'was_impossible': False}),\n",
       " Prediction(uid=1, iid=157, r_ui=5.0, est=4.23626838735922, details={'was_impossible': False})]"
      ]
     },
     "execution_count": 61,
     "metadata": {},
     "output_type": "execute_result"
    }
   ],
   "source": [
    "svd.test(testset)[:10]"
   ]
  },
  {
   "cell_type": "code",
   "execution_count": 62,
   "metadata": {},
   "outputs": [],
   "source": [
    "def get_movie_title(movies, movie_id):\n",
    "    movie_id_mask = movies['movieId'] == movie_id\n",
    "    return movies[movie_id_mask]['title'].values[0]\n",
    "\n",
    "def recommend_movies(ratings, movies, user_id, top_n=10):\n",
    "    unrated_movie_ids = select_unrated_movies(ratings, user_id)\n",
    "\n",
    "    predictions = [ svd.predict(user_id, movie_id) for movie_id in unrated_movie_ids ]\n",
    "    predictions.sort(key=lambda p: p.est, reverse=True) # 예상평점기준 내림차순 정렬\n",
    "\n",
    "    top_n_predictions = predictions[:top_n]\n",
    "    recommendations = [ (p.iid, get_movie_title(movies, p.iid)) for p in top_n_predictions ]\n",
    "\n",
    "    return recommendations\n"
   ]
  },
  {
   "cell_type": "code",
   "execution_count": 63,
   "metadata": {},
   "outputs": [
    {
     "data": {
      "text/plain": [
       "[(608, 'Fargo (1996)'),\n",
       " (858, 'Godfather, The (1972)'),\n",
       " (750,\n",
       "  'Dr. Strangelove or: How I Learned to Stop Worrying and Love the Bomb (1964)'),\n",
       " (50, 'Usual Suspects, The (1995)'),\n",
       " (1089, 'Reservoir Dogs (1992)'),\n",
       " (112552, 'Whiplash (2014)'),\n",
       " (1204, 'Lawrence of Arabia (1962)'),\n",
       " (318, 'Shawshank Redemption, The (1994)'),\n",
       " (1252, 'Chinatown (1974)'),\n",
       " (923, 'Citizen Kane (1941)')]"
      ]
     },
     "execution_count": 63,
     "metadata": {},
     "output_type": "execute_result"
    }
   ],
   "source": [
    "recommend_movies(ratings_small, movies_small, 26)"
   ]
  },
  {
   "cell_type": "code",
   "execution_count": 67,
   "metadata": {},
   "outputs": [
    {
     "data": {
      "text/plain": [
       "[9    GoldenEye (1995)\n",
       " Name: title, dtype: object,\n",
       " 32    Babe (1995)\n",
       " Name: title, dtype: object,\n",
       " 43    Seven (a.k.a. Se7en) (1995)\n",
       " Name: title, dtype: object,\n",
       " 123    Apollo 13 (1995)\n",
       " Name: title, dtype: object,\n",
       " 126    Batman Forever (1995)\n",
       " Name: title, dtype: object,\n",
       " 138    Die Hard: With a Vengeance (1995)\n",
       " Name: title, dtype: object,\n",
       " 156    Net, The (1995)\n",
       " Name: title, dtype: object,\n",
       " 176    Waterworld (1995)\n",
       " Name: title, dtype: object,\n",
       " 192    Disclosure (1994)\n",
       " Name: title, dtype: object,\n",
       " 249    Natural Born Killers (1994)\n",
       " Name: title, dtype: object,\n",
       " 257    Pulp Fiction (1994)\n",
       " Name: title, dtype: object,\n",
       " 260    Quiz Show (1994)\n",
       " Name: title, dtype: object,\n",
       " 302    Ace Ventura: Pet Detective (1994)\n",
       " Name: title, dtype: object,\n",
       " 307    Clear and Present Danger (1994)\n",
       " Name: title, dtype: object,\n",
       " 314    Forrest Gump (1994)\n",
       " Name: title, dtype: object,\n",
       " 337    True Lies (1994)\n",
       " Name: title, dtype: object,\n",
       " 378    Cliffhanger (1993)\n",
       " Name: title, dtype: object,\n",
       " 395    Firm, The (1993)\n",
       " Name: title, dtype: object,\n",
       " 398    Fugitive, The (1993)\n",
       " Name: title, dtype: object,\n",
       " 509    Batman (1989)\n",
       " Name: title, dtype: object,\n",
       " 510    Silence of the Lambs, The (1991)\n",
       " Name: title, dtype: object]"
      ]
     },
     "execution_count": 67,
     "metadata": {},
     "output_type": "execute_result"
    }
   ],
   "source": [
    "uid_mask = ratings_small['userId'] == 26\n",
    "rated_movie_ids = ratings_small[uid_mask][\"movieId\"] # 26번 사용자가 평점 부여한 영화 조회\n",
    "[ movies_small[movies_small[\"movieId\"] == movie_id][\"title\"] for movie_id in rated_movie_ids ]"
   ]
  }
 ],
 "metadata": {
  "kernelspec": {
   "display_name": "human-da-env",
   "language": "python",
   "name": "python3"
  },
  "language_info": {
   "codemirror_mode": {
    "name": "ipython",
    "version": 3
   },
   "file_extension": ".py",
   "mimetype": "text/x-python",
   "name": "python",
   "nbconvert_exporter": "python",
   "pygments_lexer": "ipython3",
   "version": "3.12.7"
  }
 },
 "nbformat": 4,
 "nbformat_minor": 2
}
