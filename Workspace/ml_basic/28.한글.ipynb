{
 "cells": [
  {
   "cell_type": "code",
   "execution_count": 2,
   "metadata": {},
   "outputs": [],
   "source": [
    "import numpy as np\n",
    "import pandas as pd\n",
    "import matplotlib.pyplot as plt\n",
    "from sklearn.model_selection import train_test_split"
   ]
  },
  {
   "cell_type": "code",
   "execution_count": 2,
   "metadata": {},
   "outputs": [],
   "source": [
    "train_data = pd.read_csv(\"data/ratings_train.txt\", sep=\"\\t\")\n",
    "test_data = pd.read_csv(\"data/ratings_test.txt\", sep=\"\\t\")"
   ]
  },
  {
   "cell_type": "code",
   "execution_count": 3,
   "metadata": {},
   "outputs": [
    {
     "name": "stdout",
     "output_type": "stream",
     "text": [
      "<class 'pandas.core.frame.DataFrame'>\n",
      "RangeIndex: 150000 entries, 0 to 149999\n",
      "Data columns (total 3 columns):\n",
      " #   Column    Non-Null Count   Dtype \n",
      "---  ------    --------------   ----- \n",
      " 0   id        150000 non-null  int64 \n",
      " 1   document  149995 non-null  object\n",
      " 2   label     150000 non-null  int64 \n",
      "dtypes: int64(2), object(1)\n",
      "memory usage: 3.4+ MB\n"
     ]
    }
   ],
   "source": [
    "#데이터확인\n",
    "train_data.info(0)"
   ]
  },
  {
   "cell_type": "code",
   "execution_count": 4,
   "metadata": {},
   "outputs": [
    {
     "name": "stdout",
     "output_type": "stream",
     "text": [
      "<class 'pandas.core.frame.DataFrame'>\n",
      "RangeIndex: 50000 entries, 0 to 49999\n",
      "Data columns (total 3 columns):\n",
      " #   Column    Non-Null Count  Dtype \n",
      "---  ------    --------------  ----- \n",
      " 0   id        50000 non-null  int64 \n",
      " 1   document  49997 non-null  object\n",
      " 2   label     50000 non-null  int64 \n",
      "dtypes: int64(2), object(1)\n",
      "memory usage: 1.1+ MB\n"
     ]
    }
   ],
   "source": [
    "#데이터확인\n",
    "test_data.info()"
   ]
  },
  {
   "cell_type": "code",
   "execution_count": 5,
   "metadata": {},
   "outputs": [
    {
     "data": {
      "text/html": [
       "<div>\n",
       "<style scoped>\n",
       "    .dataframe tbody tr th:only-of-type {\n",
       "        vertical-align: middle;\n",
       "    }\n",
       "\n",
       "    .dataframe tbody tr th {\n",
       "        vertical-align: top;\n",
       "    }\n",
       "\n",
       "    .dataframe thead th {\n",
       "        text-align: right;\n",
       "    }\n",
       "</style>\n",
       "<table border=\"1\" class=\"dataframe\">\n",
       "  <thead>\n",
       "    <tr style=\"text-align: right;\">\n",
       "      <th></th>\n",
       "      <th>id</th>\n",
       "      <th>document</th>\n",
       "      <th>label</th>\n",
       "    </tr>\n",
       "  </thead>\n",
       "  <tbody>\n",
       "    <tr>\n",
       "      <th>0</th>\n",
       "      <td>6270596</td>\n",
       "      <td>굳 ㅋ</td>\n",
       "      <td>1</td>\n",
       "    </tr>\n",
       "    <tr>\n",
       "      <th>1</th>\n",
       "      <td>9274899</td>\n",
       "      <td>GDNTOPCLASSINTHECLUB</td>\n",
       "      <td>0</td>\n",
       "    </tr>\n",
       "    <tr>\n",
       "      <th>2</th>\n",
       "      <td>8544678</td>\n",
       "      <td>뭐야 이 평점들은.... 나쁘진 않지만 10점 짜리는 더더욱 아니잖아</td>\n",
       "      <td>0</td>\n",
       "    </tr>\n",
       "    <tr>\n",
       "      <th>3</th>\n",
       "      <td>6825595</td>\n",
       "      <td>지루하지는 않은데 완전 막장임... 돈주고 보기에는....</td>\n",
       "      <td>0</td>\n",
       "    </tr>\n",
       "    <tr>\n",
       "      <th>4</th>\n",
       "      <td>6723715</td>\n",
       "      <td>3D만 아니었어도 별 다섯 개 줬을텐데.. 왜 3D로 나와서 제 심기를 불편하게 하죠??</td>\n",
       "      <td>0</td>\n",
       "    </tr>\n",
       "    <tr>\n",
       "      <th>...</th>\n",
       "      <td>...</td>\n",
       "      <td>...</td>\n",
       "      <td>...</td>\n",
       "    </tr>\n",
       "    <tr>\n",
       "      <th>49995</th>\n",
       "      <td>4608761</td>\n",
       "      <td>오랜만에 평점 로긴했네ㅋㅋ 킹왕짱 쌈뽕한 영화를 만났습니다 강렬하게 육쾌함</td>\n",
       "      <td>1</td>\n",
       "    </tr>\n",
       "    <tr>\n",
       "      <th>49996</th>\n",
       "      <td>5308387</td>\n",
       "      <td>의지 박약들이나 하는거다 탈영은 일단 주인공 김대희 닮았고 이등병 찐따 OOOO</td>\n",
       "      <td>0</td>\n",
       "    </tr>\n",
       "    <tr>\n",
       "      <th>49997</th>\n",
       "      <td>9072549</td>\n",
       "      <td>그림도 좋고 완성도도 높았지만... 보는 내내 불안하게 만든다</td>\n",
       "      <td>0</td>\n",
       "    </tr>\n",
       "    <tr>\n",
       "      <th>49998</th>\n",
       "      <td>5802125</td>\n",
       "      <td>절대 봐서는 안 될 영화.. 재미도 없고 기분만 잡치고.. 한 세트장에서 다 해먹네</td>\n",
       "      <td>0</td>\n",
       "    </tr>\n",
       "    <tr>\n",
       "      <th>49999</th>\n",
       "      <td>6070594</td>\n",
       "      <td>마무리는 또 왜이래</td>\n",
       "      <td>0</td>\n",
       "    </tr>\n",
       "  </tbody>\n",
       "</table>\n",
       "<p>49997 rows × 3 columns</p>\n",
       "</div>"
      ],
      "text/plain": [
       "            id                                           document  label\n",
       "0      6270596                                                굳 ㅋ      1\n",
       "1      9274899                               GDNTOPCLASSINTHECLUB      0\n",
       "2      8544678             뭐야 이 평점들은.... 나쁘진 않지만 10점 짜리는 더더욱 아니잖아      0\n",
       "3      6825595                   지루하지는 않은데 완전 막장임... 돈주고 보기에는....      0\n",
       "4      6723715  3D만 아니었어도 별 다섯 개 줬을텐데.. 왜 3D로 나와서 제 심기를 불편하게 하죠??      0\n",
       "...        ...                                                ...    ...\n",
       "49995  4608761          오랜만에 평점 로긴했네ㅋㅋ 킹왕짱 쌈뽕한 영화를 만났습니다 강렬하게 육쾌함      1\n",
       "49996  5308387       의지 박약들이나 하는거다 탈영은 일단 주인공 김대희 닮았고 이등병 찐따 OOOO      0\n",
       "49997  9072549                 그림도 좋고 완성도도 높았지만... 보는 내내 불안하게 만든다      0\n",
       "49998  5802125     절대 봐서는 안 될 영화.. 재미도 없고 기분만 잡치고.. 한 세트장에서 다 해먹네      0\n",
       "49999  6070594                                         마무리는 또 왜이래      0\n",
       "\n",
       "[49997 rows x 3 columns]"
      ]
     },
     "execution_count": 5,
     "metadata": {},
     "output_type": "execute_result"
    }
   ],
   "source": [
    "# 결측치 (missing value) 처리\n",
    "na_mask = train_data['document'].isna()\n",
    "na_removed_train = train_data[~na_mask].copy()\n",
    "filtered_train = train_data[~na_mask].copy() # ~은 not & 은 그리고 | 는 또는\n",
    "\n",
    "na_mask = test_data['document'].isna()\n",
    "na_removed_test = test_data[~na_mask].copy() # ~은 not & 은 그리고 | 는 또는\n",
    "filtered_test = test_data[~na_mask].copy()\n",
    "na_removed_test\n"
   ]
  },
  {
   "cell_type": "code",
   "execution_count": 6,
   "metadata": {},
   "outputs": [],
   "source": [
    "import re\n",
    "filtered_train['document'] = na_removed_train['document'].map(lambda v : re.sub(\"[^A-Za-zㄱ-힝]\", ' ', v))\n",
    "filtered_test['document'] = na_removed_test['document'].map(lambda v : re.sub(\"[^A-Za-zㄱ-힝]\", ' ', v))"
   ]
  },
  {
   "cell_type": "code",
   "execution_count": 7,
   "metadata": {},
   "outputs": [
    {
     "name": "stdout",
     "output_type": "stream",
     "text": [
      "['아', '더빙', '진짜', '짜증나네요', '목소리']\n"
     ]
    }
   ],
   "source": [
    "from konlpy.tag import Okt # 한국어 사전 준비 ( 형태소 분할에 사용 )\n",
    "\n",
    "okt = Okt()\n",
    "print(okt.morphs(filtered_train['document'][0]))"
   ]
  },
  {
   "cell_type": "code",
   "execution_count": 1,
   "metadata": {},
   "outputs": [],
   "source": [
    "# ratings_na_removed_train.to_csv(\"data-files/ratings_train2.csv\", index=False)\n",
    "# ratings_na_removed_test.to_csv(\"data-files/ratings_test2.csv\", index=False)"
   ]
  },
  {
   "cell_type": "code",
   "execution_count": 53,
   "metadata": {},
   "outputs": [],
   "source": [
    "#데이터 다시 읽어오기\n",
    "ratings_test2 = pd.read_csv('data/ratings_test2.csv')\n",
    "ratings_train2 = pd.read_csv('data/ratings_train2.csv')"
   ]
  },
  {
   "cell_type": "code",
   "execution_count": 54,
   "metadata": {},
   "outputs": [
    {
     "data": {
      "text/html": [
       "<div>\n",
       "<style scoped>\n",
       "    .dataframe tbody tr th:only-of-type {\n",
       "        vertical-align: middle;\n",
       "    }\n",
       "\n",
       "    .dataframe tbody tr th {\n",
       "        vertical-align: top;\n",
       "    }\n",
       "\n",
       "    .dataframe thead th {\n",
       "        text-align: right;\n",
       "    }\n",
       "</style>\n",
       "<table border=\"1\" class=\"dataframe\">\n",
       "  <thead>\n",
       "    <tr style=\"text-align: right;\">\n",
       "      <th></th>\n",
       "      <th>id</th>\n",
       "      <th>document</th>\n",
       "      <th>label</th>\n",
       "    </tr>\n",
       "  </thead>\n",
       "  <tbody>\n",
       "    <tr>\n",
       "      <th>0</th>\n",
       "      <td>6270596</td>\n",
       "      <td>['굳', 'ㅋ']</td>\n",
       "      <td>1</td>\n",
       "    </tr>\n",
       "    <tr>\n",
       "      <th>1</th>\n",
       "      <td>9274899</td>\n",
       "      <td>['GDNTOPCLASSINTHECLUB']</td>\n",
       "      <td>0</td>\n",
       "    </tr>\n",
       "  </tbody>\n",
       "</table>\n",
       "</div>"
      ],
      "text/plain": [
       "        id                  document  label\n",
       "0  6270596                ['굳', 'ㅋ']      1\n",
       "1  9274899  ['GDNTOPCLASSINTHECLUB']      0"
      ]
     },
     "execution_count": 54,
     "metadata": {},
     "output_type": "execute_result"
    }
   ],
   "source": [
    "# document에 리스트 형식을 그대로 문자열로 저장되있음 -> 리스트로 다시 변경해줘야함\n",
    "ratings_test2.head(2)"
   ]
  },
  {
   "cell_type": "code",
   "execution_count": 55,
   "metadata": {},
   "outputs": [],
   "source": [
    "#documnet column 자료형 변경 : string -> list\n",
    "#print(\"['123', '456']\"[3])\n",
    "#print(['123', '456'][1])\n",
    "#print(eval(\"['123', '456', '789']\")[1])\n",
    "\n",
    "ratings_test2['document'] = ratings_test2['document'].map(eval)\n",
    "ratings_train2['document'] = ratings_train2['document'].map(eval)"
   ]
  },
  {
   "cell_type": "code",
   "execution_count": 56,
   "metadata": {},
   "outputs": [
    {
     "data": {
      "text/plain": [
       "(list, list)"
      ]
     },
     "execution_count": 56,
     "metadata": {},
     "output_type": "execute_result"
    }
   ],
   "source": [
    "type(ratings_test2['document'][0]), type(ratings_train2['document'][0])"
   ]
  },
  {
   "cell_type": "code",
   "execution_count": 57,
   "metadata": {},
   "outputs": [],
   "source": [
    "# 토큰리스트 -> 단일 문자열\n",
    "ratings_train2['document'] = ratings_train2['document'].str.join(' ')\n",
    "ratings_test2['document'] = ratings_test2['document'].str.join(' ')"
   ]
  },
  {
   "cell_type": "code",
   "execution_count": 58,
   "metadata": {},
   "outputs": [
    {
     "data": {
      "text/plain": [
       "'뭐 야 이 평점 들 은 나쁘진 않지만 점 짜 리 는 더 더욱 아니잖아'"
      ]
     },
     "execution_count": 58,
     "metadata": {},
     "output_type": "execute_result"
    }
   ],
   "source": [
    "ratings_test2['document'][2]"
   ]
  },
  {
   "cell_type": "code",
   "execution_count": 59,
   "metadata": {},
   "outputs": [],
   "source": [
    "#전처리 결과 파일에 저장\n",
    "#ratings_test2.to_csv('data/ratings_test3.csv', index=False)\n",
    "#ratings_train2.to_csv('data/ratings_train3.csv', index=False)"
   ]
  },
  {
   "cell_type": "code",
   "execution_count": 72,
   "metadata": {},
   "outputs": [],
   "source": [
    "from sklearn.feature_extraction.text import CountVectorizer, TfidfVectorizer, TfidfTransformer\n",
    "\n",
    "cv = CountVectorizer()\n",
    "cv_train_counts = cv.fit_transform(ratings_train2['document'])\n",
    "cv_test_counts = cv.transform(ratings_test2['document'])\n",
    "\n",
    "tv = TfidfVectorizer()\n",
    "tv_train_counts = tv.fit_transform(ratings_train2['document'])\n",
    "tv_test_counts = tv.transform(ratings_test2['document'])\n",
    "\n",
    "tt = TfidfTransformer()\n",
    "tt_train_counts = tt.fit_transform(cv_train_counts)\n",
    "tt_test_counts = tt.transform(cv_test_counts)"
   ]
  },
  {
   "cell_type": "code",
   "execution_count": 61,
   "metadata": {},
   "outputs": [
    {
     "name": "stdout",
     "output_type": "stream",
     "text": [
      "[0.53689267 0.41640707 0.51987093 ... 0.48321544 0.70766944 0.70654367]\n",
      "[14256 22489 56621 ... 94077 29914 68995]\n",
      "[     0      0      0 ... 391491 391501 391503]\n"
     ]
    }
   ],
   "source": [
    "print(tv_test_counts.data)\n",
    "print(tv_test_counts.indices)\n",
    "print(tv_test_counts.indptr)"
   ]
  },
  {
   "cell_type": "code",
   "execution_count": 79,
   "metadata": {},
   "outputs": [
    {
     "data": {
      "text/plain": [
       "'뭐 야 이 평점 들 은 나쁘진 않지만 점 짜 리 는 더 더욱 아니잖아'"
      ]
     },
     "execution_count": 79,
     "metadata": {},
     "output_type": "execute_result"
    }
   ],
   "source": [
    "ratings_test2['document'][2]"
   ]
  },
  {
   "cell_type": "code",
   "execution_count": 88,
   "metadata": {},
   "outputs": [],
   "source": [
    "idx_to_word = { idx: w for w, idx in cv.vocabulary_.items() }"
   ]
  },
  {
   "cell_type": "code",
   "execution_count": 93,
   "metadata": {},
   "outputs": [
    {
     "data": {
      "text/plain": [
       "('나쁘진', '더욱', '아니잖아', '않지만', '평점')"
      ]
     },
     "execution_count": 93,
     "metadata": {},
     "output_type": "execute_result"
    }
   ],
   "source": [
    "idx_to_word[14256], idx_to_word[22489], idx_to_word[56621], idx_to_word[58688], idx_to_word[90697]"
   ]
  },
  {
   "cell_type": "code",
   "execution_count": 74,
   "metadata": {},
   "outputs": [
    {
     "name": "stdout",
     "output_type": "stream",
     "text": [
      "0\n",
      "35\n",
      "<Compressed Sparse Row sparse matrix of dtype 'int64'\n",
      "\twith 391503 stored elements and shape (49997, 98323)>\n",
      "  Coords\tValues\n",
      "  (2, 14256)\t1\n",
      "  (2, 22489)\t1\n",
      "  (2, 56621)\t1\n",
      "  (2, 58688)\t1\n",
      "  (2, 90697)\t1\n",
      "  (3, 30264)\t1\n",
      "  (3, 41065)\t1\n",
      "  (3, 58632)\t1\n",
      "  (3, 62424)\t1\n",
      "  (3, 65203)\t1\n",
      "  (3, 78757)\t1\n",
      "  (3, 80766)\t1\n",
      "  (4, 14828)\t1\n",
      "  (4, 20433)\t1\n",
      "  (4, 44594)\t1\n",
      "  (4, 54296)\t1\n",
      "  (4, 56570)\t1\n",
      "  (4, 80103)\t1\n",
      "  (4, 92974)\t1\n",
      "  (5, 63674)\t1\n",
      "  (5, 68381)\t2\n",
      "  (5, 78721)\t1\n",
      "  (5, 85531)\t1\n",
      "  (6, 55730)\t1\n",
      "  (6, 81695)\t1\n",
      "  :\t:\n",
      "  (49993, 70734)\t1\n",
      "  (49993, 79101)\t1\n",
      "  (49993, 88270)\t1\n",
      "  (49993, 92331)\t1\n",
      "  (49994, 9947)\t1\n",
      "  (49994, 16586)\t1\n",
      "  (49994, 18575)\t1\n",
      "  (49994, 23030)\t1\n",
      "  (49994, 30585)\t1\n",
      "  (49994, 41221)\t1\n",
      "  (49994, 44484)\t1\n",
      "  (49994, 65187)\t1\n",
      "  (49994, 78108)\t1\n",
      "  (49995, 10833)\t1\n",
      "  (49995, 49246)\t1\n",
      "  (49995, 50437)\t1\n",
      "  (49995, 61839)\t1\n",
      "  (49995, 62493)\t1\n",
      "  (49995, 63674)\t1\n",
      "  (49995, 74225)\t1\n",
      "  (49995, 76372)\t1\n",
      "  (49995, 86132)\t1\n",
      "  (49995, 94077)\t1\n",
      "  (49996, 29914)\t1\n",
      "  (49996, 68995)\t1\n"
     ]
    }
   ],
   "source": [
    "print(cv_test_counts.min())\n",
    "print(cv_test_counts.max())\n",
    "print(cv_test_counts)"
   ]
  },
  {
   "cell_type": "code",
   "execution_count": 68,
   "metadata": {},
   "outputs": [
    {
     "name": "stdout",
     "output_type": "stream",
     "text": [
      "0.9356578552618421\n",
      "0.8369102146128767\n"
     ]
    }
   ],
   "source": [
    "from sklearn.linear_model import LogisticRegression\n",
    "logreg = LogisticRegression(C=10, max_iter= 1000)\n",
    "logreg.fit(tv_train_counts, ratings_train2['label'])\n",
    "print(logreg.score(tv_train_counts, ratings_train2['label']))\n",
    "print(logreg.score(tv_test_counts, ratings_test2['label']))"
   ]
  },
  {
   "cell_type": "code",
   "execution_count": 100,
   "metadata": {},
   "outputs": [
    {
     "data": {
      "text/plain": [
       "'흠 포스터 보고 초딩 영화 줄 오버 연기 조차 가볍지 않구나'"
      ]
     },
     "execution_count": 100,
     "metadata": {},
     "output_type": "execute_result"
    }
   ],
   "source": [
    "ratings_train2['document'][1]"
   ]
  },
  {
   "cell_type": "code",
   "execution_count": 104,
   "metadata": {},
   "outputs": [
    {
     "name": "stdout",
     "output_type": "stream",
     "text": [
      "가볍지 보고 않구나 연기 영화 오버 조차 초딩 포스터\n"
     ]
    }
   ],
   "source": [
    "num_list = [3546,40836,58351,63115,63674,64282,77609,85316,90822]\n",
    "print(' '.join([idx_to_word[num] for num in num_list]))"
   ]
  },
  {
   "cell_type": "code",
   "execution_count": 95,
   "metadata": {},
   "outputs": [
    {
     "name": "stdout",
     "output_type": "stream",
     "text": [
      "0\n",
      "64\n",
      "<Compressed Sparse Row sparse matrix of dtype 'int64'\n",
      "\twith 1225586 stored elements and shape (149995, 98323)>\n",
      "  Coords\tValues\n",
      "  (0, 22467)\t1\n",
      "  (0, 34543)\t1\n",
      "  (0, 81759)\t1\n",
      "  (0, 82398)\t1\n",
      "  (1, 3546)\t1\n",
      "  (1, 40836)\t1\n",
      "  (1, 58351)\t1\n",
      "  (1, 63115)\t1\n",
      "  (1, 63674)\t1\n",
      "  (1, 64282)\t1\n",
      "  (1, 77609)\t1\n",
      "  (1, 85316)\t1\n",
      "  (1, 90822)\t1\n",
      "  (2, 20032)\t1\n",
      "  (2, 28840)\t1\n",
      "  (2, 35573)\t1\n",
      "  (2, 37295)\t1\n",
      "  (2, 41258)\t1\n",
      "  (2, 85789)\t1\n",
      "  (3, 8472)\t1\n",
      "  (3, 8627)\t1\n",
      "  (3, 51139)\t1\n",
      "  (3, 61951)\t1\n",
      "  (3, 69779)\t1\n",
      "  (3, 74225)\t1\n",
      "  :\t:\n",
      "  (149990, 35780)\t1\n",
      "  (149990, 70421)\t1\n",
      "  (149990, 78694)\t1\n",
      "  (149991, 16360)\t1\n",
      "  (149991, 17168)\t1\n",
      "  (149991, 90697)\t1\n",
      "  (149992, 5846)\t1\n",
      "  (149992, 32988)\t1\n",
      "  (149992, 83849)\t1\n",
      "  (149992, 91817)\t1\n",
      "  (149992, 93192)\t1\n",
      "  (149992, 96154)\t1\n",
      "  (149993, 39102)\t1\n",
      "  (149993, 63674)\t1\n",
      "  (149993, 66187)\t1\n",
      "  (149993, 72822)\t1\n",
      "  (149993, 85104)\t1\n",
      "  (149993, 85535)\t1\n",
      "  (149994, 16959)\t1\n",
      "  (149994, 21265)\t1\n",
      "  (149994, 51293)\t1\n",
      "  (149994, 63674)\t2\n",
      "  (149994, 85655)\t1\n",
      "  (149994, 92312)\t1\n",
      "  (149994, 93187)\t1\n"
     ]
    }
   ],
   "source": [
    "print(cv_train_counts.min())\n",
    "print(cv_train_counts.max())\n",
    "print(cv_train_counts)"
   ]
  }
 ],
 "metadata": {
  "kernelspec": {
   "display_name": "human-da-env",
   "language": "python",
   "name": "python3"
  },
  "language_info": {
   "codemirror_mode": {
    "name": "ipython",
    "version": 3
   },
   "file_extension": ".py",
   "mimetype": "text/x-python",
   "name": "python",
   "nbconvert_exporter": "python",
   "pygments_lexer": "ipython3",
   "version": "3.12.7"
  }
 },
 "nbformat": 4,
 "nbformat_minor": 2
}
