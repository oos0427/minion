{
 "cells": [
  {
   "cell_type": "code",
   "execution_count": 1,
   "metadata": {},
   "outputs": [
    {
     "name": "stdout",
     "output_type": "stream",
     "text": [
      "      Name  Age  Salary Age_Group\n",
      "0    Alice   25   50000     Youth\n",
      "1      Bob   30   60000     Adult\n",
      "2  Charlie   35   70000     Adult\n"
     ]
    }
   ],
   "source": [
    "import pandas as pd\n",
    "\n",
    "# 샘플 데이터프레임\n",
    "data = {'Name': ['Alice', 'Bob', 'Charlie'],\n",
    "        'Age': [25, 30, 35],\n",
    "        'Salary': [50000, 60000, 70000]}\n",
    "df = pd.DataFrame(data)\n",
    "\n",
    "# Age를 기준으로 나이대를 새로운 컬럼으로 추가\n",
    "df['Age_Group'] = ['Youth' if age < 30 else 'Adult' for age in df['Age']]\n",
    "\n",
    "print(df)\n"
   ]
  },
  {
   "cell_type": "code",
   "execution_count": 3,
   "metadata": {},
   "outputs": [
    {
     "name": "stdout",
     "output_type": "stream",
     "text": [
      "      Name  Age  Salary Age_Group  New_Salary  Age_Message\n",
      "0    Alice   25   50000     Youth       55000        Young\n",
      "1      Bob   30   60000     Adult       66000  Middle-aged\n",
      "2  Charlie   35   70000     Adult       77000  Experienced\n"
     ]
    }
   ],
   "source": [
    "# Salary를 10% 인상하는 새로운 컬럼 추가\n",
    "df['New_Salary'] = df['Salary'].map(lambda x: x * 1.1)\n",
    "df['New_Salary'] = df['New_Salary'].astype(int)\n",
    "\n",
    "# Age에 따라 맞춤 메시지 생성\n",
    "age_message = {25: \"Young\", 30: \"Middle-aged\", 35: \"Experienced\"}\n",
    "df['Age_Message'] = df['Age'].map(age_message)\n",
    "\n",
    "print(df)\n"
   ]
  }
 ],
 "metadata": {
  "kernelspec": {
   "display_name": "human-da-env",
   "language": "python",
   "name": "python3"
  },
  "language_info": {
   "codemirror_mode": {
    "name": "ipython",
    "version": 3
   },
   "file_extension": ".py",
   "mimetype": "text/x-python",
   "name": "python",
   "nbconvert_exporter": "python",
   "pygments_lexer": "ipython3",
   "version": "3.12.7"
  }
 },
 "nbformat": 4,
 "nbformat_minor": 2
}
